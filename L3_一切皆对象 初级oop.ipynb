{
 "cells": [
  {
   "cell_type": "markdown",
   "metadata": {},
   "source": [
    "# Python OOP 基础"
   ]
  },
  {
   "cell_type": "markdown",
   "metadata": {},
   "source": [
    "<img src=\"pic/oop.png\">"
   ]
  },
  {
   "cell_type": "markdown",
   "metadata": {},
   "source": [
    "## 1. 类和实例对象 经典oop"
   ]
  },
  {
   "cell_type": "markdown",
   "metadata": {},
   "source": [
    "class instance object\n",
    "\n",
    "self代表了谁？代表的是实例本身"
   ]
  },
  {
   "cell_type": "code",
   "execution_count": 22,
   "metadata": {},
   "outputs": [],
   "source": [
    "class Human():\n",
    "    def __init__(self,name,gender):\n",
    "        self.name = name\n",
    "        self.gender = gender\n",
    "    def callme(self):\n",
    "        print(\"I'm {}, I'm a {}\".format(self.name,self.gender))\n",
    "    \n",
    "    def __del__(self):\n",
    "        print('i am die')"
   ]
  },
  {
   "cell_type": "code",
   "execution_count": 12,
   "metadata": {},
   "outputs": [
    {
     "data": {
      "text/plain": [
       "__main__.Human"
      ]
     },
     "execution_count": 12,
     "metadata": {},
     "output_type": "execute_result"
    }
   ],
   "source": [
    "type(A)"
   ]
  },
  {
   "cell_type": "code",
   "execution_count": 20,
   "metadata": {},
   "outputs": [],
   "source": [
    "del A"
   ]
  },
  {
   "cell_type": "code",
   "execution_count": 21,
   "metadata": {},
   "outputs": [
    {
     "name": "stdout",
     "output_type": "stream",
     "text": [
      "i am die\n"
     ]
    }
   ],
   "source": [
    "del B"
   ]
  },
  {
   "cell_type": "code",
   "execution_count": 19,
   "metadata": {},
   "outputs": [],
   "source": [
    "B=A"
   ]
  },
  {
   "cell_type": "code",
   "execution_count": 25,
   "metadata": {
    "scrolled": true
   },
   "outputs": [
    {
     "name": "stdout",
     "output_type": "stream",
     "text": [
      "I'm shit, I'm a null\n"
     ]
    }
   ],
   "source": [
    "A=Human(\"shit\",\"null\")\n",
    "A.callme()"
   ]
  },
  {
   "cell_type": "code",
   "execution_count": 3,
   "metadata": {},
   "outputs": [
    {
     "data": {
      "text/plain": [
       "'shit'"
      ]
     },
     "execution_count": 3,
     "metadata": {},
     "output_type": "execute_result"
    }
   ],
   "source": [
    "A.name"
   ]
  },
  {
   "cell_type": "markdown",
   "metadata": {},
   "source": [
    "这里面\\_\\_init\\_\\_一般被称之为构造方法，对应的还有一个\\_\\_del\\_\\_的叫做析构方法\n",
    "\n",
    "构造方法负责对外实现一个函数，这函数名字叫做类名Human，调用时候执行的就是\\_\\_init\\_\\_方法里面的语句\n",
    "\n",
    "并且构造结束后返回一个实例（\\_\\_init\\_\\_函数里面并没有写return 但是实际上隐含了一句返回return self）"
   ]
  },
  {
   "cell_type": "code",
   "execution_count": 4,
   "metadata": {},
   "outputs": [
    {
     "name": "stdout",
     "output_type": "stream",
     "text": [
      "shit\n"
     ]
    }
   ],
   "source": [
    "print(A.name)"
   ]
  },
  {
   "cell_type": "markdown",
   "metadata": {},
   "source": [
    "经典的面向对象语言要求属性的三种保护级别\n",
    "\n",
    "* public公共级别 谁都能看 python中用name 无下划线开头表示\n",
    "* protected保护级别 最好是子类看 传家宝留给孩子的 python中用_name 单下划线开头表示\n",
    "* private私有级别 谁都不能看就自己实例私有 葛朗台 python中用__name 双下划线开头表示\n",
    "* 还有一类特殊的变量或者函数 例如：`__init__ __name__`之类"
   ]
  },
  {
   "cell_type": "code",
   "execution_count": 4,
   "metadata": {},
   "outputs": [],
   "source": [
    "class Car():\n",
    "    def __init__(self,price,name):\n",
    "        self.__price = price\n",
    "        self._name = name\n",
    "    def checkPrice(self):\n",
    "        print(self.__price)"
   ]
  },
  {
   "cell_type": "code",
   "execution_count": 5,
   "metadata": {},
   "outputs": [],
   "source": [
    "mycar = Car(1999999,'M3')"
   ]
  },
  {
   "cell_type": "code",
   "execution_count": 6,
   "metadata": {},
   "outputs": [
    {
     "ename": "AttributeError",
     "evalue": "'Car' object has no attribute '__price'",
     "output_type": "error",
     "traceback": [
      "\u001b[1;31m---------------------------------------------------------------------------\u001b[0m",
      "\u001b[1;31mAttributeError\u001b[0m                            Traceback (most recent call last)",
      "\u001b[1;32m<ipython-input-6-764db6e17c03>\u001b[0m in \u001b[0;36m<module>\u001b[1;34m\u001b[0m\n\u001b[1;32m----> 1\u001b[1;33m \u001b[0mmycar\u001b[0m\u001b[1;33m.\u001b[0m\u001b[0m__price\u001b[0m\u001b[1;33m\u001b[0m\u001b[1;33m\u001b[0m\u001b[0m\n\u001b[0m",
      "\u001b[1;31mAttributeError\u001b[0m: 'Car' object has no attribute '__price'"
     ]
    }
   ],
   "source": [
    "mycar.__price"
   ]
  },
  {
   "cell_type": "code",
   "execution_count": 17,
   "metadata": {},
   "outputs": [
    {
     "name": "stdout",
     "output_type": "stream",
     "text": [
      "1999999\n"
     ]
    }
   ],
   "source": [
    "mycar.checkPrice()"
   ]
  },
  {
   "cell_type": "code",
   "execution_count": 18,
   "metadata": {},
   "outputs": [
    {
     "ename": "AttributeError",
     "evalue": "'Car' object has no attribute '__price'",
     "output_type": "error",
     "traceback": [
      "\u001b[1;31m---------------------------------------------------------------------------\u001b[0m",
      "\u001b[1;31mAttributeError\u001b[0m                            Traceback (most recent call last)",
      "\u001b[1;32m<ipython-input-18-764db6e17c03>\u001b[0m in \u001b[0;36m<module>\u001b[1;34m\u001b[0m\n\u001b[1;32m----> 1\u001b[1;33m \u001b[0mmycar\u001b[0m\u001b[1;33m.\u001b[0m\u001b[0m__price\u001b[0m\u001b[1;33m\u001b[0m\u001b[1;33m\u001b[0m\u001b[0m\n\u001b[0m",
      "\u001b[1;31mAttributeError\u001b[0m: 'Car' object has no attribute '__price'"
     ]
    }
   ],
   "source": [
    "mycar.__price"
   ]
  },
  {
   "cell_type": "markdown",
   "metadata": {},
   "source": [
    "其实不是真的不能访问，python只是把他改名\n",
    "\n",
    "在其他语言比如java c++里面，私有变量是不可以在本实例self外访问的"
   ]
  },
  {
   "cell_type": "code",
   "execution_count": 7,
   "metadata": {},
   "outputs": [
    {
     "data": {
      "text/plain": [
       "1999999"
      ]
     },
     "execution_count": 7,
     "metadata": {},
     "output_type": "execute_result"
    }
   ],
   "source": [
    "mycar._Car__price"
   ]
  },
  {
   "cell_type": "code",
   "execution_count": 8,
   "metadata": {},
   "outputs": [
    {
     "data": {
      "text/plain": [
       "'M3'"
      ]
     },
     "execution_count": 8,
     "metadata": {},
     "output_type": "execute_result"
    }
   ],
   "source": [
    "mycar._name"
   ]
  },
  {
   "cell_type": "markdown",
   "metadata": {},
   "source": [
    "可不可以给类弄一个属性？对于每个实例化的对象都管用的？\n",
    "\n",
    "直接在class里面写就是类属性\n",
    "* 类属性对于每个实例都管事 \n",
    "* 如果实例写了个相同名字的实例属性 就覆盖了类属性了 小心不要乱起名字"
   ]
  },
  {
   "cell_type": "code",
   "execution_count": 51,
   "metadata": {},
   "outputs": [
    {
     "name": "stdout",
     "output_type": "stream",
     "text": [
      "Tom\n",
      "foo\n"
     ]
    },
    {
     "ename": "AttributeError",
     "evalue": "name",
     "output_type": "error",
     "traceback": [
      "\u001b[1;31m---------------------------------------------------------------------------\u001b[0m",
      "\u001b[1;31mAttributeError\u001b[0m                            Traceback (most recent call last)",
      "\u001b[1;32m<ipython-input-51-30b1e84cdbed>\u001b[0m in \u001b[0;36m<module>\u001b[1;34m\u001b[0m\n\u001b[0;32m      8\u001b[0m \u001b[1;32mdel\u001b[0m \u001b[0mF\u001b[0m\u001b[1;33m.\u001b[0m\u001b[0mname\u001b[0m \u001b[1;31m## 实例化对象属性删掉了\u001b[0m\u001b[1;33m\u001b[0m\u001b[1;33m\u001b[0m\u001b[0m\n\u001b[0;32m      9\u001b[0m \u001b[0mprint\u001b[0m\u001b[1;33m(\u001b[0m\u001b[0mF\u001b[0m\u001b[1;33m.\u001b[0m\u001b[0mname\u001b[0m\u001b[1;33m)\u001b[0m \u001b[1;31m## 暴露出了类的属性\u001b[0m\u001b[1;33m\u001b[0m\u001b[1;33m\u001b[0m\u001b[0m\n\u001b[1;32m---> 10\u001b[1;33m \u001b[1;32mdel\u001b[0m \u001b[0mF\u001b[0m\u001b[1;33m.\u001b[0m\u001b[0mname\u001b[0m \u001b[1;31m##　不允许这么删　报错\u001b[0m\u001b[1;33m\u001b[0m\u001b[1;33m\u001b[0m\u001b[0m\n\u001b[0m\u001b[0;32m     11\u001b[0m \u001b[0mprint\u001b[0m\u001b[1;33m(\u001b[0m\u001b[0mF\u001b[0m\u001b[1;33m.\u001b[0m\u001b[0mname\u001b[0m\u001b[1;33m)\u001b[0m\u001b[1;33m\u001b[0m\u001b[1;33m\u001b[0m\u001b[0m\n",
      "\u001b[1;31mAttributeError\u001b[0m: name"
     ]
    }
   ],
   "source": [
    "class Foo():\n",
    "    name = \"foo\"\n",
    "    def __init__(self,name):\n",
    "        self.name = name\n",
    "\n",
    "F = Foo(\"Tom\")\n",
    "print(F.name) ## 这时候看到了实例化对象的属性\n",
    "del F.name ## 实例化对象属性删掉了\n",
    "print(F.name) ## 暴露出了类的属性\n",
    "del F.name ##　不允许这么删　报错\n",
    "print(F.name)"
   ]
  },
  {
   "cell_type": "markdown",
   "metadata": {},
   "source": [
    "## 类的继承"
   ]
  },
  {
   "cell_type": "code",
   "execution_count": 28,
   "metadata": {},
   "outputs": [],
   "source": [
    "class Animal():\n",
    "    def run(self):\n",
    "        print(\"I'm running\")\n",
    "\n",
    "class Dog(Animal):\n",
    "    pass\n",
    "class Cat(Animal):\n",
    "    pass"
   ]
  },
  {
   "cell_type": "code",
   "execution_count": 4,
   "metadata": {},
   "outputs": [
    {
     "name": "stdout",
     "output_type": "stream",
     "text": [
      "I'm running\n"
     ]
    }
   ],
   "source": [
    "mydog = Dog()\n",
    "mydog.run()"
   ]
  },
  {
   "cell_type": "code",
   "execution_count": 29,
   "metadata": {},
   "outputs": [
    {
     "name": "stdout",
     "output_type": "stream",
     "text": [
      "dog is running\n",
      "I'm running\n"
     ]
    }
   ],
   "source": [
    "class Dog(Animal):\n",
    "    def run(self):\n",
    "        print(\"dog is running\")\n",
    "class Cat(Animal):\n",
    "    pass\n",
    "mydog = Dog()\n",
    "mycat = Cat()\n",
    "mydog.run()\n",
    "mycat.run()"
   ]
  },
  {
   "cell_type": "markdown",
   "metadata": {},
   "source": [
    "有个爹的好处"
   ]
  },
  {
   "cell_type": "code",
   "execution_count": 34,
   "metadata": {},
   "outputs": [
    {
     "name": "stdout",
     "output_type": "stream",
     "text": [
      "dog is running\n",
      "dog is running\n",
      "dog is running\n",
      "dog is running\n"
     ]
    }
   ],
   "source": [
    "def run_n_times(Animal,n):\n",
    "    for i in range(0,n):\n",
    "        Animal.run()\n",
    "        \n",
    "# run_n_times(mydog,1)\n",
    "# run_n_times(mycat,2)\n",
    "# run_n_times(Animal(),3)\n",
    "run_n_times(Dog(),4)"
   ]
  },
  {
   "cell_type": "markdown",
   "metadata": {},
   "source": [
    "所有人必须都有个run方法才可以，Cat没有run方法，但是Animal爹有，也成\n",
    "\n",
    "这叫做对于扩展开放 可以随便让Animal生孩子\n",
    "\n",
    "但是对于修改封闭 不需要修改run_n_times函数"
   ]
  },
  {
   "cell_type": "code",
   "execution_count": 35,
   "metadata": {},
   "outputs": [
    {
     "name": "stdout",
     "output_type": "stream",
     "text": [
      "run you\n",
      "run you\n",
      "run you\n"
     ]
    }
   ],
   "source": [
    "class Bird():\n",
    "    def run(self):\n",
    "        print(\"run you\")\n",
    "        \n",
    "mybird = Bird()\n",
    "run_n_times(mybird,3)"
   ]
  },
  {
   "cell_type": "markdown",
   "metadata": {},
   "source": [
    "为啥不是animal类的孩子也可以用run_n_times这个函数？？？\n",
    "\n",
    "python是动态语言 不会像java一样去严格检查输入参数的类型\n",
    "\n",
    "就看有没有run方法 有就直接执行 管你是谁的儿子\n",
    "\n",
    "长得像鸭子就是鸭子 不会判别DNA\n",
    "\n",
    "参照4.1函数定义 什么都能传进来 但是传进来的实例必须能这么操作才可以"
   ]
  },
  {
   "cell_type": "markdown",
   "metadata": {},
   "source": [
    "## 多重继承"
   ]
  },
  {
   "cell_type": "markdown",
   "metadata": {},
   "source": [
    "父类super"
   ]
  },
  {
   "cell_type": "code",
   "execution_count": 1,
   "metadata": {},
   "outputs": [
    {
     "name": "stdout",
     "output_type": "stream",
     "text": [
      "I'm running\n",
      "dog is running\n",
      "I'm running\n"
     ]
    }
   ],
   "source": [
    "class Animal():\n",
    "    def run(self):\n",
    "        print(\"I'm running\")\n",
    "\n",
    "class Dog(Animal):\n",
    "    def run(self):\n",
    "        super().run()                              #super()  代表了父类实例\n",
    "        print(\"dog is running\")\n",
    "class Cat(Animal):\n",
    "    pass\n",
    "mydog = Dog()\n",
    "mycat = Cat()\n",
    "mydog.run()\n",
    "mycat.run()"
   ]
  },
  {
   "cell_type": "code",
   "execution_count": 2,
   "metadata": {},
   "outputs": [
    {
     "name": "stdout",
     "output_type": "stream",
     "text": [
      "3\n"
     ]
    }
   ],
   "source": [
    "class A:\n",
    "    def add(self, x):\n",
    "        y = x+1\n",
    "        print(y)\n",
    "class B(A):\n",
    "    def add(self, x):\n",
    "        super().add(x)\n",
    "b = B()\n",
    "b.add(2)  # 3"
   ]
  },
  {
   "cell_type": "code",
   "execution_count": 5,
   "metadata": {},
   "outputs": [],
   "source": [
    "class Animal(object):\n",
    "    def __init__(self, name):\n",
    "        self.name = name\n",
    "    def greet(self):\n",
    "        print ('Hello, I am %s.' % self.name)\n",
    "\n",
    "class Dog(Animal):\n",
    "    def greet(self):\n",
    "        super(Dog, self).greet()   # Python3 可使用 super().greet()\n",
    "        print ('WangWang...')"
   ]
  },
  {
   "cell_type": "code",
   "execution_count": 6,
   "metadata": {},
   "outputs": [
    {
     "name": "stdout",
     "output_type": "stream",
     "text": [
      "Hello, I am dog.\n",
      "WangWang...\n"
     ]
    }
   ],
   "source": [
    "dog = Dog('dog')\n",
    "dog.greet()"
   ]
  },
  {
   "cell_type": "markdown",
   "metadata": {},
   "source": [
    "super 的一个最常见用法可以说是在子类中调用父类的初始化方法"
   ]
  },
  {
   "cell_type": "code",
   "execution_count": 7,
   "metadata": {},
   "outputs": [],
   "source": [
    "class Base(object):\n",
    "    def __init__(self, a, b):\n",
    "        self.a = a\n",
    "        self.b = b\n",
    "\n",
    "class A(Base):\n",
    "    def __init__(self, a, b, c):\n",
    "        super(A, self).__init__(a, b)  # Python3 可使用 super().__init__(a, b)\n",
    "        self.c = c"
   ]
  },
  {
   "cell_type": "markdown",
   "metadata": {},
   "source": [
    "深入super 其实super和父类没有必然关联 只是代表了上级"
   ]
  },
  {
   "cell_type": "code",
   "execution_count": 9,
   "metadata": {},
   "outputs": [],
   "source": [
    "class Base(object):\n",
    "    def __init__(self):\n",
    "        print (\"enter Base\")\n",
    "        print (\"leave Base\")\n",
    "\n",
    "class A(Base):\n",
    "    def __init__(self):\n",
    "        print( \"enter A\")\n",
    "        super(A, self).__init__()\n",
    "        print( \"leave A\")\n",
    "\n",
    "class B(Base):\n",
    "    def __init__(self):\n",
    "        print( \"enter B\")\n",
    "        super(B, self).__init__()\n",
    "        print( \"leave B\")\n",
    "\n",
    "class C(A, B):\n",
    "    def __init__(self):\n",
    "        print( \"enter C\")\n",
    "        super(C, self).__init__()\n",
    "        print( \"leave C\")"
   ]
  },
  {
   "cell_type": "markdown",
   "metadata": {},
   "source": [
    "      Base\n",
    "      /  \\\n",
    "     /    \\\n",
    "    A      B\n",
    "     \\    /\n",
    "      \\  /\n",
    "       C"
   ]
  },
  {
   "cell_type": "code",
   "execution_count": 10,
   "metadata": {},
   "outputs": [
    {
     "name": "stdout",
     "output_type": "stream",
     "text": [
      "enter C\n",
      "enter A\n",
      "enter B\n",
      "enter Base\n",
      "leave Base\n",
      "leave B\n",
      "leave A\n",
      "leave C\n"
     ]
    }
   ],
   "source": [
    "c = C()"
   ]
  },
  {
   "cell_type": "markdown",
   "metadata": {},
   "source": [
    "方法解析顺序（Method Resolution Order, MRO）"
   ]
  },
  {
   "cell_type": "code",
   "execution_count": 11,
   "metadata": {},
   "outputs": [
    {
     "data": {
      "text/plain": [
       "[__main__.C, __main__.A, __main__.B, __main__.Base, object]"
      ]
     },
     "execution_count": 11,
     "metadata": {},
     "output_type": "execute_result"
    }
   ],
   "source": [
    "C.mro()   # or C.__mro__ or C().__class__.mro()"
   ]
  },
  {
   "cell_type": "markdown",
   "metadata": {},
   "source": [
    "一个类的 MRO 列表就是合并所有父类的 MRO 列表"
   ]
  },
  {
   "cell_type": "code",
   "execution_count": 12,
   "metadata": {},
   "outputs": [],
   "source": [
    "def super(cls, inst):\n",
    "    mro = inst.__class__.mro()\n",
    "    return mro[mro.index(cls) + 1]"
   ]
  },
  {
   "cell_type": "code",
   "execution_count": 13,
   "metadata": {
    "collapsed": true
   },
   "outputs": [
    {
     "ename": "NameError",
     "evalue": "name 'self' is not defined",
     "output_type": "error",
     "traceback": [
      "\u001b[1;31m---------------------------------------------------------------------------\u001b[0m",
      "\u001b[1;31mNameError\u001b[0m                                 Traceback (most recent call last)",
      "\u001b[1;32m<ipython-input-13-eda3a49e5abe>\u001b[0m in \u001b[0;36m<module>\u001b[1;34m\u001b[0m\n\u001b[1;32m----> 1\u001b[1;33m \u001b[0msuper\u001b[0m\u001b[1;33m(\u001b[0m\u001b[0mC\u001b[0m\u001b[1;33m,\u001b[0m \u001b[0mself\u001b[0m\u001b[1;33m)\u001b[0m\u001b[1;33m.\u001b[0m\u001b[0m__init__\u001b[0m\u001b[1;33m(\u001b[0m\u001b[1;33m)\u001b[0m\u001b[1;33m\u001b[0m\u001b[1;33m\u001b[0m\u001b[0m\n\u001b[0m",
      "\u001b[1;31mNameError\u001b[0m: name 'self' is not defined"
     ]
    }
   ],
   "source": [
    "super(C, self).__init__()"
   ]
  },
  {
   "cell_type": "markdown",
   "metadata": {},
   "source": [
    "## 2. 关于类本身的判断和内省"
   ]
  },
  {
   "cell_type": "markdown",
   "metadata": {},
   "source": [
    "类型判断的两个方法 type和isinstance\n",
    "* type 不会认为子类是一种父类\n",
    "* isinstance 认为子类也是一种父类 会往继承树上游搜索"
   ]
  },
  {
   "cell_type": "code",
   "execution_count": 36,
   "metadata": {},
   "outputs": [
    {
     "data": {
      "text/plain": [
       "int"
      ]
     },
     "execution_count": 36,
     "metadata": {},
     "output_type": "execute_result"
    }
   ],
   "source": [
    "type(1)"
   ]
  },
  {
   "cell_type": "code",
   "execution_count": 2,
   "metadata": {},
   "outputs": [
    {
     "name": "stdout",
     "output_type": "stream",
     "text": [
      "True\n",
      "True\n",
      "False\n"
     ]
    }
   ],
   "source": [
    "class A():\n",
    "    pass\n",
    "class B(A):\n",
    "    pass\n",
    "class C(B):\n",
    "    pass\n",
    "\n",
    "b = B()\n",
    "print(isinstance(b,A))\n",
    "print(isinstance(b,B))\n",
    "print(isinstance(b,C))"
   ]
  },
  {
   "cell_type": "code",
   "execution_count": 7,
   "metadata": {},
   "outputs": [
    {
     "name": "stdout",
     "output_type": "stream",
     "text": [
      "<class '__main__.B'>\n",
      "True\n",
      "False\n"
     ]
    },
    {
     "data": {
      "text/plain": [
       "'B'"
      ]
     },
     "execution_count": 7,
     "metadata": {},
     "output_type": "execute_result"
    }
   ],
   "source": [
    "print(type(b))\n",
    "print(type(b) == B)\n",
    "print(type(b) == A)\n",
    "B.__name__"
   ]
  },
  {
   "cell_type": "markdown",
   "metadata": {},
   "source": [
    "type实际上返回的是一个类型 type"
   ]
  },
  {
   "cell_type": "code",
   "execution_count": 8,
   "metadata": {},
   "outputs": [
    {
     "data": {
      "text/plain": [
       "type"
      ]
     },
     "execution_count": 8,
     "metadata": {},
     "output_type": "execute_result"
    }
   ],
   "source": [
    "type(Animal)"
   ]
  },
  {
   "cell_type": "code",
   "execution_count": 38,
   "metadata": {},
   "outputs": [
    {
     "data": {
      "text/plain": [
       "int"
      ]
     },
     "execution_count": 38,
     "metadata": {},
     "output_type": "execute_result"
    }
   ],
   "source": [
    "type(5)"
   ]
  },
  {
   "cell_type": "code",
   "execution_count": 37,
   "metadata": {},
   "outputs": [
    {
     "data": {
      "text/plain": [
       "type"
      ]
     },
     "execution_count": 37,
     "metadata": {},
     "output_type": "execute_result"
    }
   ],
   "source": [
    "type(int)"
   ]
  },
  {
   "cell_type": "code",
   "execution_count": 9,
   "metadata": {},
   "outputs": [
    {
     "data": {
      "text/plain": [
       "type"
      ]
     },
     "execution_count": 9,
     "metadata": {},
     "output_type": "execute_result"
    }
   ],
   "source": [
    "type(type(5))"
   ]
  },
  {
   "cell_type": "code",
   "execution_count": 10,
   "metadata": {},
   "outputs": [
    {
     "data": {
      "text/plain": [
       "builtin_function_or_method"
      ]
     },
     "execution_count": 10,
     "metadata": {},
     "output_type": "execute_result"
    }
   ],
   "source": [
    "type(abs)"
   ]
  },
  {
   "cell_type": "code",
   "execution_count": 12,
   "metadata": {},
   "outputs": [
    {
     "data": {
      "text/plain": [
       "type"
      ]
     },
     "execution_count": 12,
     "metadata": {},
     "output_type": "execute_result"
    }
   ],
   "source": [
    "type(str)"
   ]
  },
  {
   "cell_type": "code",
   "execution_count": 13,
   "metadata": {},
   "outputs": [
    {
     "data": {
      "text/plain": [
       "True"
      ]
     },
     "execution_count": 13,
     "metadata": {},
     "output_type": "execute_result"
    }
   ],
   "source": [
    "type('dad')==str"
   ]
  },
  {
   "cell_type": "code",
   "execution_count": 14,
   "metadata": {},
   "outputs": [
    {
     "data": {
      "text/plain": [
       "function"
      ]
     },
     "execution_count": 14,
     "metadata": {},
     "output_type": "execute_result"
    }
   ],
   "source": [
    "import types\n",
    "type(Animal.run)"
   ]
  },
  {
   "cell_type": "code",
   "execution_count": 15,
   "metadata": {},
   "outputs": [
    {
     "data": {
      "text/plain": [
       "function"
      ]
     },
     "execution_count": 15,
     "metadata": {},
     "output_type": "execute_result"
    }
   ],
   "source": [
    "type(lambda x: x)"
   ]
  },
  {
   "cell_type": "code",
   "execution_count": 16,
   "metadata": {},
   "outputs": [
    {
     "data": {
      "text/plain": [
       "'function'"
      ]
     },
     "execution_count": 16,
     "metadata": {},
     "output_type": "execute_result"
    }
   ],
   "source": [
    "type(lambda x: x).__name__"
   ]
  },
  {
   "cell_type": "markdown",
   "metadata": {},
   "source": [
    "python常见内置基本类型名字有(只有类型有__name__ 实例是没有名字的)：\n",
    "\n",
    "int，float，bool，complex，str(字符串)，list，dict(字典)，set，tuple"
   ]
  },
  {
   "cell_type": "code",
   "execution_count": 9,
   "metadata": {},
   "outputs": [
    {
     "data": {
      "text/plain": [
       "'int'"
      ]
     },
     "execution_count": 9,
     "metadata": {},
     "output_type": "execute_result"
    }
   ],
   "source": [
    "type(5).__name__"
   ]
  },
  {
   "cell_type": "code",
   "execution_count": 17,
   "metadata": {
    "scrolled": true
   },
   "outputs": [
    {
     "data": {
      "text/plain": [
       "['__annotations__',\n",
       " '__call__',\n",
       " '__class__',\n",
       " '__closure__',\n",
       " '__code__',\n",
       " '__defaults__',\n",
       " '__delattr__',\n",
       " '__dict__',\n",
       " '__dir__',\n",
       " '__doc__',\n",
       " '__eq__',\n",
       " '__format__',\n",
       " '__ge__',\n",
       " '__get__',\n",
       " '__getattribute__',\n",
       " '__globals__',\n",
       " '__gt__',\n",
       " '__hash__',\n",
       " '__init__',\n",
       " '__init_subclass__',\n",
       " '__kwdefaults__',\n",
       " '__le__',\n",
       " '__lt__',\n",
       " '__module__',\n",
       " '__name__',\n",
       " '__ne__',\n",
       " '__new__',\n",
       " '__qualname__',\n",
       " '__reduce__',\n",
       " '__reduce_ex__',\n",
       " '__repr__',\n",
       " '__setattr__',\n",
       " '__sizeof__',\n",
       " '__str__',\n",
       " '__subclasshook__']"
      ]
     },
     "execution_count": 17,
     "metadata": {},
     "output_type": "execute_result"
    }
   ],
   "source": [
    "dir(type(lambda x: x))"
   ]
  },
  {
   "cell_type": "markdown",
   "metadata": {},
   "source": [
    "## 内省"
   ]
  },
  {
   "cell_type": "code",
   "execution_count": 29,
   "metadata": {},
   "outputs": [],
   "source": [
    "class MyObject(object):\n",
    "    '''\n",
    "    d\n",
    "    d\n",
    "    \n",
    "    '''\n",
    "    def __init__(self):\n",
    "        self.x = 9\n",
    "    def power(self):\n",
    "        return self.x * self.x\n",
    "\n",
    "obj = MyObject()"
   ]
  },
  {
   "cell_type": "code",
   "execution_count": 23,
   "metadata": {
    "collapsed": true
   },
   "outputs": [
    {
     "data": {
      "text/plain": [
       "['__class__',\n",
       " '__delattr__',\n",
       " '__dict__',\n",
       " '__dir__',\n",
       " '__doc__',\n",
       " '__eq__',\n",
       " '__format__',\n",
       " '__ge__',\n",
       " '__getattribute__',\n",
       " '__gt__',\n",
       " '__hash__',\n",
       " '__init__',\n",
       " '__init_subclass__',\n",
       " '__le__',\n",
       " '__lt__',\n",
       " '__module__',\n",
       " '__ne__',\n",
       " '__new__',\n",
       " '__reduce__',\n",
       " '__reduce_ex__',\n",
       " '__repr__',\n",
       " '__setattr__',\n",
       " '__sizeof__',\n",
       " '__str__',\n",
       " '__subclasshook__',\n",
       " '__weakref__',\n",
       " 'power',\n",
       " 'x',\n",
       " 'y']"
      ]
     },
     "execution_count": 23,
     "metadata": {},
     "output_type": "execute_result"
    }
   ],
   "source": [
    "dir(obj)"
   ]
  },
  {
   "cell_type": "code",
   "execution_count": 24,
   "metadata": {},
   "outputs": [
    {
     "data": {
      "text/plain": [
       "<method-wrapper '__getattribute__' of MyObject object at 0x7f891c738828>"
      ]
     },
     "execution_count": 24,
     "metadata": {},
     "output_type": "execute_result"
    }
   ],
   "source": [
    "obj.__getattribute__"
   ]
  },
  {
   "cell_type": "code",
   "execution_count": 25,
   "metadata": {},
   "outputs": [
    {
     "data": {
      "text/plain": [
       "9"
      ]
     },
     "execution_count": 25,
     "metadata": {},
     "output_type": "execute_result"
    }
   ],
   "source": [
    "obj.__getattribute__('x')"
   ]
  },
  {
   "cell_type": "code",
   "execution_count": 26,
   "metadata": {},
   "outputs": [
    {
     "data": {
      "text/plain": [
       "['x',\n",
       " 'y',\n",
       " '__module__',\n",
       " '__init__',\n",
       " 'power',\n",
       " '__dict__',\n",
       " '__weakref__',\n",
       " '__doc__',\n",
       " '__repr__',\n",
       " '__hash__',\n",
       " '__str__',\n",
       " '__getattribute__',\n",
       " '__setattr__',\n",
       " '__delattr__',\n",
       " '__lt__',\n",
       " '__le__',\n",
       " '__eq__',\n",
       " '__ne__',\n",
       " '__gt__',\n",
       " '__ge__',\n",
       " '__new__',\n",
       " '__reduce_ex__',\n",
       " '__reduce__',\n",
       " '__subclasshook__',\n",
       " '__init_subclass__',\n",
       " '__format__',\n",
       " '__sizeof__',\n",
       " '__dir__',\n",
       " '__class__']"
      ]
     },
     "execution_count": 26,
     "metadata": {},
     "output_type": "execute_result"
    }
   ],
   "source": [
    "obj.__dir__()"
   ]
  },
  {
   "cell_type": "code",
   "execution_count": 31,
   "metadata": {},
   "outputs": [
    {
     "name": "stdout",
     "output_type": "stream",
     "text": [
      "Help on MyObject in module __main__ object:\n",
      "\n",
      "class MyObject(builtins.object)\n",
      " |  d\n",
      " |  d\n",
      " |  \n",
      " |  Methods defined here:\n",
      " |  \n",
      " |  __init__(self)\n",
      " |      Initialize self.  See help(type(self)) for accurate signature.\n",
      " |  \n",
      " |  power(self)\n",
      " |  \n",
      " |  ----------------------------------------------------------------------\n",
      " |  Data descriptors defined here:\n",
      " |  \n",
      " |  __dict__\n",
      " |      dictionary for instance variables (if defined)\n",
      " |  \n",
      " |  __weakref__\n",
      " |      list of weak references to the object (if defined)\n",
      "\n"
     ]
    }
   ],
   "source": [
    "help(obj)"
   ]
  },
  {
   "cell_type": "code",
   "execution_count": 35,
   "metadata": {},
   "outputs": [
    {
     "data": {
      "text/plain": [
       "'\\n    d\\n    d\\n    \\n    '"
      ]
     },
     "execution_count": 35,
     "metadata": {},
     "output_type": "execute_result"
    }
   ],
   "source": [
    "obj.__doc__"
   ]
  },
  {
   "cell_type": "code",
   "execution_count": 36,
   "metadata": {},
   "outputs": [
    {
     "name": "stdout",
     "output_type": "stream",
     "text": [
      "\n",
      "    d\n",
      "    d\n",
      "    \n",
      "    \n"
     ]
    }
   ],
   "source": [
    "print(obj.__doc__)"
   ]
  },
  {
   "cell_type": "code",
   "execution_count": 38,
   "metadata": {},
   "outputs": [
    {
     "data": {
      "text/plain": [
       "'<__main__.MyObject object at 0x7f891c6ab4e0>'"
      ]
     },
     "execution_count": 38,
     "metadata": {},
     "output_type": "execute_result"
    }
   ],
   "source": [
    "obj.__str__()"
   ]
  },
  {
   "cell_type": "code",
   "execution_count": 40,
   "metadata": {},
   "outputs": [
    {
     "data": {
      "text/plain": [
       "81"
      ]
     },
     "execution_count": 40,
     "metadata": {},
     "output_type": "execute_result"
    }
   ],
   "source": [
    "obj.power()"
   ]
  },
  {
   "cell_type": "code",
   "execution_count": 43,
   "metadata": {},
   "outputs": [
    {
     "data": {
      "text/plain": [
       "'<__main__.MyObject object at 0x7f891c6ab4e0>'"
      ]
     },
     "execution_count": 43,
     "metadata": {},
     "output_type": "execute_result"
    }
   ],
   "source": [
    "repr(obj)"
   ]
  },
  {
   "cell_type": "code",
   "execution_count": 19,
   "metadata": {},
   "outputs": [
    {
     "data": {
      "text/plain": [
       "True"
      ]
     },
     "execution_count": 19,
     "metadata": {},
     "output_type": "execute_result"
    }
   ],
   "source": [
    "hasattr(obj, 'x')"
   ]
  },
  {
   "cell_type": "code",
   "execution_count": 20,
   "metadata": {},
   "outputs": [],
   "source": [
    "setattr(obj, 'y', 19)"
   ]
  },
  {
   "cell_type": "code",
   "execution_count": 21,
   "metadata": {},
   "outputs": [
    {
     "data": {
      "text/plain": [
       "19"
      ]
     },
     "execution_count": 21,
     "metadata": {},
     "output_type": "execute_result"
    }
   ],
   "source": [
    "getattr(obj, 'y')"
   ]
  },
  {
   "cell_type": "code",
   "execution_count": 22,
   "metadata": {},
   "outputs": [
    {
     "data": {
      "text/plain": [
       "19"
      ]
     },
     "execution_count": 22,
     "metadata": {},
     "output_type": "execute_result"
    }
   ],
   "source": [
    "obj.y"
   ]
  },
  {
   "cell_type": "markdown",
   "metadata": {},
   "source": [
    "## 3.  动态添加类和实例的属性和方法"
   ]
  },
  {
   "cell_type": "code",
   "execution_count": 39,
   "metadata": {},
   "outputs": [
    {
     "name": "stdout",
     "output_type": "stream",
     "text": [
      "i am die\n"
     ]
    }
   ],
   "source": [
    "class A():\n",
    "    pass\n",
    "\n",
    "a = A()\n",
    "aa = A()\n",
    "\n"
   ]
  },
  {
   "cell_type": "markdown",
   "metadata": {},
   "source": [
    "### 修改实例"
   ]
  },
  {
   "cell_type": "markdown",
   "metadata": {},
   "source": [
    "* 给实例a动态绑定属性"
   ]
  },
  {
   "cell_type": "code",
   "execution_count": 44,
   "metadata": {},
   "outputs": [
    {
     "name": "stdout",
     "output_type": "stream",
     "text": [
      "Tom\n"
     ]
    }
   ],
   "source": [
    "a.name = \"Tom\"\n",
    "print(a.name)\n",
    "#print(aa.name)"
   ]
  },
  {
   "cell_type": "code",
   "execution_count": 41,
   "metadata": {},
   "outputs": [
    {
     "ename": "AttributeError",
     "evalue": "'A' object has no attribute 'name'",
     "output_type": "error",
     "traceback": [
      "\u001b[1;31m---------------------------------------------------------------------------\u001b[0m",
      "\u001b[1;31mAttributeError\u001b[0m                            Traceback (most recent call last)",
      "\u001b[1;32m<ipython-input-41-9f995c44e605>\u001b[0m in \u001b[0;36m<module>\u001b[1;34m\u001b[0m\n\u001b[1;32m----> 1\u001b[1;33m \u001b[0maa\u001b[0m\u001b[1;33m.\u001b[0m\u001b[0mname\u001b[0m\u001b[1;33m\u001b[0m\u001b[1;33m\u001b[0m\u001b[0m\n\u001b[0m",
      "\u001b[1;31mAttributeError\u001b[0m: 'A' object has no attribute 'name'"
     ]
    }
   ],
   "source": [
    "aa.name"
   ]
  },
  {
   "cell_type": "markdown",
   "metadata": {},
   "source": [
    "* NONONO给实例a动态绑定方法(不常用 所以写法麻烦一些 为啥不开个新的类写继承呢)"
   ]
  },
  {
   "cell_type": "code",
   "execution_count": 45,
   "metadata": {},
   "outputs": [],
   "source": [
    "def set_age(self,age):\n",
    "    self.age = age\n"
   ]
  },
  {
   "cell_type": "code",
   "execution_count": 46,
   "metadata": {},
   "outputs": [
    {
     "ename": "AttributeError",
     "evalue": "'A' object has no attribute 'set_age'",
     "output_type": "error",
     "traceback": [
      "\u001b[1;31m---------------------------------------------------------------------------\u001b[0m",
      "\u001b[1;31mAttributeError\u001b[0m                            Traceback (most recent call last)",
      "\u001b[1;32m<ipython-input-46-7737ea08ba8c>\u001b[0m in \u001b[0;36m<module>\u001b[1;34m\u001b[0m\n\u001b[1;32m----> 1\u001b[1;33m \u001b[0ma\u001b[0m\u001b[1;33m.\u001b[0m\u001b[0mset_age\u001b[0m\u001b[1;33m(\u001b[0m\u001b[1;36m99\u001b[0m\u001b[1;33m)\u001b[0m\u001b[1;33m\u001b[0m\u001b[1;33m\u001b[0m\u001b[0m\n\u001b[0m",
      "\u001b[1;31mAttributeError\u001b[0m: 'A' object has no attribute 'set_age'"
     ]
    }
   ],
   "source": [
    "a.set_age(99)"
   ]
  },
  {
   "cell_type": "code",
   "execution_count": 47,
   "metadata": {},
   "outputs": [
    {
     "name": "stdout",
     "output_type": "stream",
     "text": [
      "99\n"
     ]
    }
   ],
   "source": [
    "def set_age(self,age):\n",
    "    self.age = age\n",
    "\n",
    "from types import MethodType\n",
    "a.set_age = MethodType(set_age, a)   # 强制转化为了MethodType\n",
    "a.set_age(99)\n",
    "print(a.age)\n",
    "#print(aa.set_age())"
   ]
  },
  {
   "cell_type": "markdown",
   "metadata": {},
   "source": [
    "### 修改类型"
   ]
  },
  {
   "cell_type": "markdown",
   "metadata": {},
   "source": [
    "* 给类型A动态绑定属性"
   ]
  },
  {
   "cell_type": "code",
   "execution_count": 46,
   "metadata": {},
   "outputs": [
    {
     "name": "stdout",
     "output_type": "stream",
     "text": [
      "old_Wang\n",
      "old_Wang\n",
      "old_Wang\n"
     ]
    }
   ],
   "source": [
    "A.classname = \"old_Wang\"\n",
    "print(a.classname) #通过实例访问\n",
    "print(aa.classname) #另一个实例访问\n",
    "print(A.classname) #直接从类访问"
   ]
  },
  {
   "cell_type": "markdown",
   "metadata": {},
   "source": [
    "* 给类型A动态绑定方法 （注意比给实例添加来的方便不少 说明这是建议的用法）"
   ]
  },
  {
   "cell_type": "code",
   "execution_count": 49,
   "metadata": {},
   "outputs": [
    {
     "name": "stdout",
     "output_type": "stream",
     "text": [
      "100\n",
      "60\n"
     ]
    }
   ],
   "source": [
    "def set_score(self,score):\n",
    "    self.score = score\n",
    "    \n",
    "A.xxx = set_score\n",
    "a.xxx(100)\n",
    "aa.xxx(60)\n",
    "print(a.score)\n",
    "print(aa.score)"
   ]
  },
  {
   "cell_type": "code",
   "execution_count": 50,
   "metadata": {},
   "outputs": [
    {
     "ename": "TypeError",
     "evalue": "can't set attributes of built-in/extension type 'int'",
     "output_type": "error",
     "traceback": [
      "\u001b[1;31m---------------------------------------------------------------------------\u001b[0m",
      "\u001b[1;31mTypeError\u001b[0m                                 Traceback (most recent call last)",
      "\u001b[1;32m<ipython-input-50-4bca01230810>\u001b[0m in \u001b[0;36m<module>\u001b[1;34m\u001b[0m\n\u001b[1;32m----> 1\u001b[1;33m \u001b[0mint\u001b[0m\u001b[1;33m.\u001b[0m\u001b[0mddd\u001b[0m \u001b[1;33m=\u001b[0m \u001b[1;36m100\u001b[0m\u001b[1;33m\u001b[0m\u001b[1;33m\u001b[0m\u001b[0m\n\u001b[0m",
      "\u001b[1;31mTypeError\u001b[0m: can't set attributes of built-in/extension type 'int'"
     ]
    }
   ],
   "source": [
    "int.ddd = 100"
   ]
  },
  {
   "cell_type": "markdown",
   "metadata": {},
   "source": [
    "扩展：python提供一个\\_\\_slots\\_\\_属性可以规定每个类可以动态添加什么属性和方法 用来限制随意添加"
   ]
  },
  {
   "cell_type": "code",
   "execution_count": null,
   "metadata": {},
   "outputs": [],
   "source": [
    "class Student(object):\n",
    "    __slots__ = ('name', 'age') # 用tuple定义允许绑定的属性名称 元组很合适"
   ]
  },
  {
   "cell_type": "code",
   "execution_count": 49,
   "metadata": {},
   "outputs": [
    {
     "ename": "AttributeError",
     "evalue": "'Student' object has no attribute 'score'",
     "output_type": "error",
     "traceback": [
      "\u001b[0;31m---------------------------------------------------------------------------\u001b[0m",
      "\u001b[0;31mAttributeError\u001b[0m                            Traceback (most recent call last)",
      "\u001b[0;32m<ipython-input-49-2d76ede8cb6c>\u001b[0m in \u001b[0;36m<module>\u001b[0;34m\u001b[0m\n\u001b[1;32m      1\u001b[0m \u001b[0ms\u001b[0m \u001b[0;34m=\u001b[0m \u001b[0mStudent\u001b[0m\u001b[0;34m(\u001b[0m\u001b[0;34m)\u001b[0m\u001b[0;34m\u001b[0m\u001b[0m\n\u001b[0;32m----> 2\u001b[0;31m \u001b[0ms\u001b[0m\u001b[0;34m.\u001b[0m\u001b[0mscore\u001b[0m \u001b[0;34m=\u001b[0m \u001b[0;36m99\u001b[0m\u001b[0;34m\u001b[0m\u001b[0m\n\u001b[0m",
      "\u001b[0;31mAttributeError\u001b[0m: 'Student' object has no attribute 'score'"
     ]
    }
   ],
   "source": [
    "s = Student()\n",
    "s.score = 99"
   ]
  },
  {
   "cell_type": "markdown",
   "metadata": {},
   "source": [
    "继承的子类如果不写slot，就没有继承slot"
   ]
  },
  {
   "cell_type": "code",
   "execution_count": 50,
   "metadata": {},
   "outputs": [],
   "source": [
    "class GraduateStudent(Student):\n",
    "    pass"
   ]
  },
  {
   "cell_type": "code",
   "execution_count": 51,
   "metadata": {},
   "outputs": [],
   "source": [
    "ss = GraduateStudent()\n",
    "ss.score = 99"
   ]
  },
  {
   "cell_type": "markdown",
   "metadata": {},
   "source": [
    "继承的子类如果写了slot，就悄悄继承父类的slot"
   ]
  },
  {
   "cell_type": "code",
   "execution_count": 54,
   "metadata": {},
   "outputs": [],
   "source": [
    "class GraduateStudent1(Student):\n",
    "    __slots__ = ('score', )"
   ]
  },
  {
   "cell_type": "code",
   "execution_count": 55,
   "metadata": {},
   "outputs": [],
   "source": [
    "sss = GraduateStudent1()\n",
    "sss.score = 99"
   ]
  },
  {
   "cell_type": "code",
   "execution_count": 56,
   "metadata": {},
   "outputs": [],
   "source": [
    "sss.name = 'dd'"
   ]
  },
  {
   "cell_type": "markdown",
   "metadata": {},
   "source": [
    "## 4. 属性的完全体"
   ]
  },
  {
   "cell_type": "markdown",
   "metadata": {},
   "source": [
    "使用property方法制造一个可以拥有更复杂行为get set del的属性x（get set del顺序不可变） 例如想通过该方法顺道访问一下数据库"
   ]
  },
  {
   "cell_type": "code",
   "execution_count": 27,
   "metadata": {
    "collapsed": true
   },
   "outputs": [],
   "source": [
    "class C(object):\n",
    "    def __init__(self):\n",
    "        self._x = None\n",
    " \n",
    "    def getx(self):\n",
    "        return self._x\n",
    " \n",
    "    def setx(self, value):\n",
    "        self._x = value\n",
    " \n",
    "    def delx(self):\n",
    "        del self._x\n",
    " \n",
    "    x = property(getx, setx, delx, \"I'm the 'x' property.\")#把三个方法注册一下"
   ]
  },
  {
   "cell_type": "code",
   "execution_count": 25,
   "metadata": {},
   "outputs": [
    {
     "name": "stdout",
     "output_type": "stream",
     "text": [
      "15\n"
     ]
    }
   ],
   "source": [
    "c = C()\n",
    "c.x = 15\n",
    "print(c.x)"
   ]
  },
  {
   "cell_type": "code",
   "execution_count": 26,
   "metadata": {},
   "outputs": [
    {
     "name": "stdout",
     "output_type": "stream",
     "text": [
      "Help on C in module __main__ object:\n",
      "\n",
      "class C(builtins.object)\n",
      " |  Methods defined here:\n",
      " |  \n",
      " |  __init__(self)\n",
      " |      Initialize self.  See help(type(self)) for accurate signature.\n",
      " |  \n",
      " |  delx(self)\n",
      " |  \n",
      " |  getx(self)\n",
      " |  \n",
      " |  setx(self, value)\n",
      " |  \n",
      " |  ----------------------------------------------------------------------\n",
      " |  Data descriptors defined here:\n",
      " |  \n",
      " |  __dict__\n",
      " |      dictionary for instance variables (if defined)\n",
      " |  \n",
      " |  __weakref__\n",
      " |      list of weak references to the object (if defined)\n",
      " |  \n",
      " |  x\n",
      " |      I'm the 'x' property.\n",
      "\n"
     ]
    }
   ],
   "source": [
    "help(c)"
   ]
  },
  {
   "cell_type": "markdown",
   "metadata": {},
   "source": [
    "简化的写法是用装饰器"
   ]
  },
  {
   "cell_type": "code",
   "execution_count": 28,
   "metadata": {
    "collapsed": true
   },
   "outputs": [],
   "source": [
    "class C(object):\n",
    "    def __init__(self):\n",
    "        self._x = None\n",
    " \n",
    "    @property\n",
    "    def x(self):                          # property装饰器对应get方法\n",
    "        \"\"\"I'm the 'x' property.\"\"\"\n",
    "        return self._x\n",
    " \n",
    "    @x.setter                             # x.setter装饰器对应set方法\n",
    "    def x(self, value):\n",
    "        self._x = value\n",
    " \n",
    "    @x.deleter                           # x.deleter装饰器对应del方法\n",
    "    def x(self):\n",
    "        del self._x"
   ]
  },
  {
   "cell_type": "code",
   "execution_count": 29,
   "metadata": {},
   "outputs": [
    {
     "name": "stdout",
     "output_type": "stream",
     "text": [
      "15\n"
     ]
    }
   ],
   "source": [
    "c = C()\n",
    "c.x = 15\n",
    "print(c.x)"
   ]
  },
  {
   "cell_type": "markdown",
   "metadata": {},
   "source": [
    "我们不禁要问：这样用二向箔攻击类方法有个毛用？\n",
    "\n",
    "因为属性太简单了 比如要加一个对于x的判断 光用属性办不到\n",
    "\n",
    "可以做一个判断x是否在我们规定区间内的方法 然后把它坍缩成为属性 开心快乐"
   ]
  },
  {
   "cell_type": "code",
   "execution_count": 59,
   "metadata": {},
   "outputs": [],
   "source": [
    "class C(object):\n",
    "    def __init__(self):\n",
    "        self._x = None\n",
    " \n",
    "    @property\n",
    "    def x(self):                          # property装饰器对应get方法\n",
    "        \"\"\"I'm the 'x' property.\"\"\"\n",
    "        return self._x\n",
    " \n",
    "    @x.setter                             # x.setter装饰器对应set方法\n",
    "    def x(self, value):\n",
    "        if value>0 and value<100:\n",
    "            self._x = value\n",
    "        else:\n",
    "            print(\"you idiot\",value,'out of range')\n",
    " \n",
    "    @x.deleter                           # x.deleter装饰器对应del方法\n",
    "    def x(self):\n",
    "        del self._x"
   ]
  },
  {
   "cell_type": "code",
   "execution_count": 60,
   "metadata": {
    "scrolled": true
   },
   "outputs": [
    {
     "name": "stdout",
     "output_type": "stream",
     "text": [
      "15\n",
      "you idiot 1000 out of range\n"
     ]
    }
   ],
   "source": [
    "c = C()\n",
    "c.x = 15\n",
    "print(c.x)\n",
    "c.x = 1000"
   ]
  },
  {
   "cell_type": "markdown",
   "metadata": {},
   "source": [
    "## 5. 方法的完全体 "
   ]
  },
  {
   "cell_type": "markdown",
   "metadata": {},
   "source": [
    "* 实例方法 普通的方法 用self传参指向实例对象自己——自己的方法\n",
    "* 类方法 属于类本身的方法 用cls传参指向类型——家庭的方法\n",
    "* 静态方法 属于全世界的方法 就放在类里面而已——人类的方法"
   ]
  },
  {
   "cell_type": "code",
   "execution_count": 22,
   "metadata": {
    "collapsed": true
   },
   "outputs": [],
   "source": [
    "worldname = \"earth\"\n",
    "\n",
    "class A():\n",
    "    claname = \"A\"     # 类变量\n",
    "    claage = 19\n",
    "    def __init__(self,name):    # 构造函数\n",
    "        self.name = name\n",
    "    def askname(self):\n",
    "        print(\"my name is: \"+self.name+\". I came from:\"+self.claname)\n",
    "    \n",
    "    @classmethod\n",
    "    def askfrom(cls):\n",
    "        print(cls.claname)\n",
    "    \n",
    "    @staticmethod\n",
    "    def askworld():\n",
    "        print(worldname)"
   ]
  },
  {
   "cell_type": "code",
   "execution_count": 25,
   "metadata": {},
   "outputs": [
    {
     "name": "stdout",
     "output_type": "stream",
     "text": [
      "my name is: Tom. I came from:A\n",
      "A\n",
      "earth\n",
      "A\n",
      "earth\n"
     ]
    }
   ],
   "source": [
    "a = A(\"Tom\")\n",
    "\n",
    "a.askname()   # 实例调用实例方法\n",
    "a.askfrom()   # 实例访问类方法\n",
    "a.askworld()  # 实例访问静态方法  \n",
    "# 实例啥都能干 实例碉堡了\n",
    "\n",
    "A.askfrom()   # 类访问类方法\n",
    "A.askworld()  # 类访问静态方法\n",
    "# 类就菜鸡了一些"
   ]
  },
  {
   "cell_type": "markdown",
   "metadata": {},
   "source": [
    "##  * 魔术方法 不用点出来的方法"
   ]
  },
  {
   "cell_type": "markdown",
   "metadata": {},
   "source": [
    "类和实例的有各类复杂行为 比如创造 销毁 计算长度 打印名称等等\n",
    "\n",
    "这些行为有时候不能使用域访问符.来调用方法实现\n",
    "\n",
    "比如实例化类的时候调用的\\_\\_init\\_\\_ 就没有使用点号来调用\n",
    "\n",
    "魔术方法很多 这里举几个简单的例子"
   ]
  },
  {
   "cell_type": "code",
   "execution_count": 38,
   "metadata": {
    "collapsed": true
   },
   "outputs": [],
   "source": [
    "class Student(object):\n",
    "    def __init__(self, name):  # __init__在实例化时候被默默地调用\n",
    "        self.name = name     \n",
    "    def __str__(self):   # __str__在print时候被默默地调用\n",
    "        return 'Student object {}'.format(self.name)"
   ]
  },
  {
   "cell_type": "code",
   "execution_count": 39,
   "metadata": {},
   "outputs": [
    {
     "name": "stdout",
     "output_type": "stream",
     "text": [
      "Student object oldwang\n"
     ]
    }
   ],
   "source": [
    "oldwang = Student(\"oldwang\")\n",
    "print(oldwang)"
   ]
  },
  {
   "cell_type": "code",
   "execution_count": 57,
   "metadata": {},
   "outputs": [
    {
     "name": "stdout",
     "output_type": "stream",
     "text": [
      "1\n",
      "1\n",
      "2\n",
      "3\n"
     ]
    }
   ],
   "source": [
    "class fibb:\n",
    "    def __init__(self):\n",
    "        self.prev = 0\n",
    "        self.curr = 1\n",
    " \n",
    "    def __iter__(self):   # __iter__在用iter()函数处理fibb实例f的时候 默默地被调用\n",
    "        return self\n",
    " \n",
    "    def __next__(self):  # __next__在用next()处理的fibb实例时候默默的被调用\n",
    "        value = self.curr\n",
    "        self.curr += self.prev\n",
    "        self.prev = value\n",
    "        return value\n",
    "\n",
    "f = fibb()\n",
    "g = iter(f)             # 返回一个迭代器\n",
    "print(next(g))\n",
    "print(next(g))\n",
    "print(next(g))\n",
    "print(next(g))"
   ]
  },
  {
   "cell_type": "code",
   "execution_count": 58,
   "metadata": {},
   "outputs": [
    {
     "name": "stdout",
     "output_type": "stream",
     "text": [
      "My name is TOM\n"
     ]
    }
   ],
   "source": [
    "class A(object):\n",
    "    def __init__(self, name):  \n",
    "        self.name = name  \n",
    "    def __call__(self):  # __call__把实例都做成了方法 可以直接调用实例\n",
    "        print('My name is {}'.format(self.name))\n",
    "\n",
    "a = A(\"TOM\")\n",
    "a()"
   ]
  },
  {
   "cell_type": "markdown",
   "metadata": {},
   "source": [
    "repr和str的区别"
   ]
  },
  {
   "cell_type": "code",
   "execution_count": 2,
   "metadata": {},
   "outputs": [],
   "source": [
    "class A():\n",
    "    def __repr__(self):\n",
    "        return 'repr'       # repr目标是给解释器读取 \n",
    "    def __str__(self): \n",
    "        return 'str'    　 # str的目标是给人类读取\n",
    "    \n",
    "a = A()"
   ]
  },
  {
   "cell_type": "code",
   "execution_count": 3,
   "metadata": {},
   "outputs": [
    {
     "data": {
      "text/plain": [
       "repr"
      ]
     },
     "execution_count": 3,
     "metadata": {},
     "output_type": "execute_result"
    }
   ],
   "source": [
    "a"
   ]
  },
  {
   "cell_type": "code",
   "execution_count": 4,
   "metadata": {},
   "outputs": [
    {
     "name": "stdout",
     "output_type": "stream",
     "text": [
      "str\n"
     ]
    }
   ],
   "source": [
    "print(a)"
   ]
  },
  {
   "cell_type": "markdown",
   "metadata": {},
   "source": [
    "eval的使用思路有点绕   一般在处理其他文本中的数据时特别有效  例如在txt中写入python代码 with read读入之后 使用eval直接逐行执行 后续提供案例"
   ]
  },
  {
   "cell_type": "code",
   "execution_count": 6,
   "metadata": {},
   "outputs": [
    {
     "data": {
      "text/plain": [
       "['a', 'b', 'd', 'c', 'f']"
      ]
     },
     "execution_count": 6,
     "metadata": {},
     "output_type": "execute_result"
    }
   ],
   "source": [
    "s = 'abdcf'\n",
    "eval('['+','.join([repr(i) for i in s])+']')    # 这里for从s中取出的i是一个字符  例如：b  这里repr（i）给该字符加上一层引号 \"b\"  可以直接和其他字符串拼接"
   ]
  },
  {
   "cell_type": "markdown",
   "metadata": {},
   "source": [
    "## 6. 举例 构造一个矩阵类"
   ]
  },
  {
   "cell_type": "code",
   "execution_count": 1,
   "metadata": {},
   "outputs": [],
   "source": [
    "class Matrix:\n",
    "    \n",
    "    def __init__(self, n_rows, m_cols, default_value=0):\n",
    "        assert n_rows > 0\n",
    "        assert m_cols > 0\n",
    "        assert isinstance(default_value, (int, float, complex))\n",
    "        self.rows = [[default_value ] * m_cols for i in range(n_rows)]      \n",
    "    \n",
    "    def dim(self):\n",
    "        '''return tuple -> num of rows, num of cols'''\n",
    "        return (len(self.rows), len(self.rows[0]))\n",
    "    \n",
    "    def __repr__(self):\n",
    "        return 'Matrix: %d rows, %d cols\\n' % self.dim() + str(self.rows[0])\n",
    "   \n",
    "    def __getitem__(self, ij): \n",
    "        '''ij is a tuple (i,j). Allows m[i,j] instead m[i][j]'''\n",
    "        i,j = ij\n",
    "        if isinstance(i, int) and isinstance(j, int):\n",
    "            return self.rows[i][j]\n",
    "        elif isinstance(i, slice) and isinstance(j, slice):\n",
    "            M = Matrix(1,1) # to be overwritten\n",
    "            M.rows = [row[j] for row in self.rows[i]]\n",
    "            return M\n",
    "        else:\n",
    "            return NotImplemented\n",
    "    \n",
    "    def __setitem__(self, ij, val): \n",
    "        '''ij is a tuple (i,j). Allows m[i,j] instead m[i][j]'''\n",
    "        i,j = ij\n",
    "        if isinstance(i,int) and isinstance(j,int):\n",
    "            assert isinstance(val, (int, float, complex))\n",
    "            self.rows[i][j] = val\n",
    "        elif isinstance(i,slice) and isinstance(j,slice):\n",
    "            assert isinstance(val, Matrix)\n",
    "            n,m = val.dim()\n",
    "            s_rows = self.rows[i]\n",
    "            assert len(s_rows) == n and len(s_rows[0][j]) == m\n",
    "            for s_row, v_row in zip(s_rows,val.rows):\n",
    "                s_row[j] = v_row\n",
    "        else:\n",
    "            return NotImplemented\n",
    "\n",
    "    def __eq__(self, other):\n",
    "        assert isinstance(other, Matrix)\n",
    "        if self.dim() != other.dim():\n",
    "            return False\n",
    "        n,m = self.dim()\n",
    "        for i in range(n):\n",
    "            for j in range(m):\n",
    "                if self[i,j] != other[i,j]:\n",
    "                    return False\n",
    "        return True\n",
    "    \n",
    "    def __add__(self, other):\n",
    "        return self._entrywise_op(other, lambda x,y: x + y)\n",
    "    \n",
    "    def __sub__(self, other):\n",
    "        return self._entrywise_op(other, lambda x,y: x - y)\n",
    "    \n",
    "    def __neg__(self):\n",
    "        n,m = self.dim()\n",
    "        return Matrix(n, m, 0) - self\n",
    "    \n",
    "    def _entrywise_op(self, other, op):\n",
    "        '''pros each elements of matrix'''\n",
    "        assert isinstance(other, Matrix)\n",
    "        assert self.dim() == other.dim()\n",
    "        n,m = self.dim()\n",
    "        M = Matrix(n, m)\n",
    "        for i in range(n):\n",
    "            for j in range(m):\n",
    "                M[i,j] = op(self[i,j], other[i,j])\n",
    "        return M\n",
    "    \n",
    "    def __mul__(self, other):\n",
    "        '''multilpy by scalar or another matrix'''\n",
    "        if isinstance(other, (int,float,complex)):\n",
    "            n,m = self.dim()\n",
    "            M = Matrix(n, m, other)\n",
    "            return self._entrywise_op(M, lambda x,y: x * y)\n",
    "        elif isinstance(other, Matrix):\n",
    "            n1,m1 = self.dim()\n",
    "            n2,m2 = other.dim()\n",
    "            assert m1 == n2\n",
    "            M = Matrix(n1,m2)\n",
    "            for i in range(n1):\n",
    "                for j in range(m2):\n",
    "                    M[i,j] = sum([self[i,k] * other[k,j] for k in range(m1)])\n",
    "            return M\n",
    "        else:\n",
    "            return NotImplemented\n",
    "    \n",
    "    __rmul__ = __mul__\n",
    "    \n",
    "    def prettyprint(self):\n",
    "        return str.join('\\n',[str(row) for row in self.rows])\n",
    "    \n",
    "    def save(self, filename):\n",
    "        '''save to file'''\n",
    "        with open(filename, \"w\") as fout:\n",
    "            fout.write(self.prettyprint())\n",
    "    \n",
    "    @staticmethod\n",
    "    def load(filename):\n",
    "        '''load from file'''\n",
    "        rows = []\n",
    "        with open(filename, 'r') as fin:\n",
    "            for line in fin:\n",
    "                line = line.strip()\n",
    "                row = eval(line)\n",
    "                rows.append(row)\n",
    "        M = Matrix(1,1)\n",
    "        M.rows = rows\n",
    "        return M"
   ]
  },
  {
   "cell_type": "code",
   "execution_count": 2,
   "metadata": {},
   "outputs": [
    {
     "name": "stdout",
     "output_type": "stream",
     "text": [
      "[-1.5, -1.5, -1.5]\n",
      "[-1.5, -1.5, -1.5]\n",
      "[-1.5, -1.5, -1.5]\n",
      "True\n"
     ]
    }
   ],
   "source": [
    "A = Matrix(3,3,1)\n",
    "B = Matrix(3,3,1) * 2.5\n",
    "C = A - B\n",
    "D = A + B\n",
    "print(C.prettyprint())\n",
    "D.save(\"tmp\")\n",
    "print(D == Matrix.load(\"tmp\"))"
   ]
  }
 ],
 "metadata": {
  "kernelspec": {
   "display_name": "Python 3",
   "language": "python",
   "name": "python3"
  },
  "language_info": {
   "codemirror_mode": {
    "name": "ipython",
    "version": 3
   },
   "file_extension": ".py",
   "mimetype": "text/x-python",
   "name": "python",
   "nbconvert_exporter": "python",
   "pygments_lexer": "ipython3",
   "version": "3.8.3"
  },
  "toc": {
   "base_numbering": 1,
   "nav_menu": {
    "height": "86px",
    "width": "182px"
   },
   "number_sections": true,
   "sideBar": true,
   "skip_h1_title": false,
   "title_cell": "Table of Contents",
   "title_sidebar": "Contents",
   "toc_cell": false,
   "toc_position": {
    "height": "calc(100% - 180px)",
    "left": "10px",
    "top": "150px",
    "width": "273.182px"
   },
   "toc_section_display": true,
   "toc_window_display": true
  },
  "varInspector": {
   "cols": {
    "lenName": 16,
    "lenType": 16,
    "lenVar": 40
   },
   "kernels_config": {
    "python": {
     "delete_cmd_postfix": "",
     "delete_cmd_prefix": "del ",
     "library": "var_list.py",
     "varRefreshCmd": "print(var_dic_list())"
    },
    "r": {
     "delete_cmd_postfix": ") ",
     "delete_cmd_prefix": "rm(",
     "library": "var_list.r",
     "varRefreshCmd": "cat(var_dic_list()) "
    }
   },
   "position": {
    "height": "321.85px",
    "left": "1002px",
    "right": "20px",
    "top": "120px",
    "width": "344px"
   },
   "types_to_exclude": [
    "module",
    "function",
    "builtin_function_or_method",
    "instance",
    "_Feature"
   ],
   "window_display": false
  }
 },
 "nbformat": 4,
 "nbformat_minor": 2
}
