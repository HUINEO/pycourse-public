{
 "cells": [
  {
   "cell_type": "markdown",
   "metadata": {},
   "source": [
    "# 编码和字节流"
   ]
  },
  {
   "cell_type": "markdown",
   "metadata": {},
   "source": [
    "因为计算机只能处理数字，如果要处理文本，就必须先把文本转换为数字才能处理。最早的计算机在设计时采用8个比特（bit）作为一个字节（byte），所以，一个字节能表示的最大的整数就是255（二进制11111111=十进制255），如果要表示更大的整数，就必须用更多的字节。比如两个字节可以表示的最大整数是65535，4个字节可以表示的最大整数是4294967295。\n",
    "\n",
    "由于计算机是美国人发明的，因此，最早只有127个字符被编码到计算机里，也就是大小写英文字母、数字和一些符号，这个编码表被称为ASCII编码，比如大写字母A的编码是65，小写字母z的编码是122。\n",
    "\n",
    "但是要处理中文显然一个字节是不够的，至少需要两个字节，而且还不能和ASCII编码冲突，所以，中国制定了GB2312编码，用来把中文编进去。"
   ]
  },
  {
   "cell_type": "markdown",
   "metadata": {},
   "source": [
    "![编码](pic/编码.png)"
   ]
  },
  {
   "cell_type": "markdown",
   "metadata": {},
   "source": [
    "## 文本字符str和二进制字节bytes "
   ]
  },
  {
   "cell_type": "markdown",
   "metadata": {},
   "source": [
    "Python3 中 有两类玩意 str和bytes  \n",
    "Python3 源码文件默认使用utf-8编码，所以可以正常解析中文，无需指定 UTF-8 编码  \n",
    "Python2 时代 还需要指定编码 还有各种str和unicode的不同定义 直接忽略Python2 不要受毒害"
   ]
  },
  {
   "cell_type": "markdown",
   "metadata": {},
   "source": [
    "默认在代码中写的字符串 都是被Python认为str格式的文本字符"
   ]
  },
  {
   "cell_type": "code",
   "execution_count": 1,
   "metadata": {},
   "outputs": [
    {
     "name": "stdout",
     "output_type": "stream",
     "text": [
      "<class 'str'>\n"
     ]
    }
   ],
   "source": [
    "a = '我是个Python么？'\n",
    "print(type(a))"
   ]
  },
  {
   "cell_type": "markdown",
   "metadata": {},
   "source": [
    "当然也可以用特殊标记 b 把文本字符搞成别的字符"
   ]
  },
  {
   "cell_type": "code",
   "execution_count": 3,
   "metadata": {},
   "outputs": [
    {
     "name": "stdout",
     "output_type": "stream",
     "text": [
      "<class 'bytes'>\n"
     ]
    }
   ],
   "source": [
    "a = b'Python'\n",
    "print(type(a))"
   ]
  },
  {
   "cell_type": "markdown",
   "metadata": {},
   "source": [
    "为什么没法运行？直接用b写bytes时 必须是ascii编码集 也就是一个字符一个byte 否则就错了"
   ]
  },
  {
   "cell_type": "code",
   "execution_count": 17,
   "metadata": {},
   "outputs": [
    {
     "ename": "SyntaxError",
     "evalue": "bytes can only contain ASCII literal characters. (<ipython-input-17-ef52e5a36ba9>, line 1)",
     "output_type": "error",
     "traceback": [
      "\u001b[1;36m  File \u001b[1;32m\"<ipython-input-17-ef52e5a36ba9>\"\u001b[1;36m, line \u001b[1;32m1\u001b[0m\n\u001b[1;33m    a = b'我是个Python么？'\u001b[0m\n\u001b[1;37m        ^\u001b[0m\n\u001b[1;31mSyntaxError\u001b[0m\u001b[1;31m:\u001b[0m bytes can only contain ASCII literal characters.\n"
     ]
    }
   ],
   "source": [
    "a = b'我是个Python么？'    \n",
    "print(type(a))"
   ]
  },
  {
   "cell_type": "markdown",
   "metadata": {},
   "source": [
    "事实上python提供了有三个标记 u r b  \n",
    "u代表了unicode 万国码  \n",
    "r代表了real 不转义字符  \n",
    "b代表了bytes 字节码 计算机认得是字节码  \n",
    "\n",
    "再加上什么都比写的纯纯的字符串"
   ]
  },
  {
   "cell_type": "code",
   "execution_count": 3,
   "metadata": {},
   "outputs": [
    {
     "name": "stdout",
     "output_type": "stream",
     "text": [
      "<class 'str'>\n"
     ]
    }
   ],
   "source": [
    "a = '我是个Python'   # 这里的str还是str但是unicode的str\n",
    "print(type(a))"
   ]
  },
  {
   "cell_type": "code",
   "execution_count": 4,
   "metadata": {},
   "outputs": [
    {
     "data": {
      "text/plain": [
       "b'\\xe6\\x88\\x91\\xe6\\x98\\xaf\\xe4\\xb8\\xaaPython'"
      ]
     },
     "execution_count": 4,
     "metadata": {},
     "output_type": "execute_result"
    }
   ],
   "source": [
    "a.encode()    # 默认编码为utf8的 bytes字节"
   ]
  },
  {
   "cell_type": "code",
   "execution_count": 9,
   "metadata": {},
   "outputs": [
    {
     "data": {
      "text/plain": [
       "bytes"
      ]
     },
     "execution_count": 9,
     "metadata": {},
     "output_type": "execute_result"
    }
   ],
   "source": [
    "type(a.encode())"
   ]
  },
  {
   "cell_type": "code",
   "execution_count": 11,
   "metadata": {},
   "outputs": [
    {
     "data": {
      "text/plain": [
       "'我是个Python'"
      ]
     },
     "execution_count": 11,
     "metadata": {},
     "output_type": "execute_result"
    }
   ],
   "source": [
    "b = a.encode() \n",
    "b.decode()  # 默认也是utf8的解码 转str很正常"
   ]
  },
  {
   "cell_type": "markdown",
   "metadata": {},
   "source": [
    "哎我有个大胆的想法 那一堆byte能不能手动拆拆？"
   ]
  },
  {
   "cell_type": "code",
   "execution_count": 5,
   "metadata": {
    "scrolled": true
   },
   "outputs": [
    {
     "data": {
      "text/plain": [
       "'我Python'"
      ]
     },
     "execution_count": 5,
     "metadata": {},
     "output_type": "execute_result"
    }
   ],
   "source": [
    "(b'\\xe6\\x88\\x91Python').decode()"
   ]
  },
  {
   "cell_type": "markdown",
   "metadata": {},
   "source": [
    "出现乱码了 因为原来a是个unicode是小端存储 utf8是大端…… 后面讲"
   ]
  },
  {
   "cell_type": "markdown",
   "metadata": {},
   "source": [
    "## 编码种类详解"
   ]
  },
  {
   "cell_type": "markdown",
   "metadata": {},
   "source": [
    "### unicode 万国码  \n",
    "* 内存中使用 无论什么运算进了内存先换成无敌翻译的万国码 万国码是定长的编码 很标准 内存很喜欢"
   ]
  },
  {
   "cell_type": "markdown",
   "metadata": {},
   "source": [
    "在文本文件中，看到的所有字符，包括中文，都需要在计算机中存储，而计算机只能存储0和1这样的二进制位，所以需要一种方法，将字符映射成数字，然后将数字转化为二进制位存储在计算机中。针对字符和数字的映射的问题，产生了unicode编码，unicode将世界上的所有字符映射为唯一的数字。unicode数字并不是直接就可以转化为二进制存储，比如假设中文字符‘中’映射为数字1（00000001），‘国’映射为数字2（00000010），由于汉字很多，单字节并不能表示完所有的汉字，故可能会有汉字的unicode数字为258（00000001 00000010），假设为‘京’，现在在字符串中碰到存储为00000001 00000010的二进制串，不能区分出其实际代表的是“中国”还是“京”。\n",
    "\n",
    "  针对unicode数字和二进制的映射问题，有两种解决方法：一种是每个unicode数字用固定宽度的二进制位表示，比如都用两字节，由此产生了ASCII、GB2312、GBK编码；另一种是存储的二进制位除了表示数字之外，还表示每个unicode数字的长度，由此产生了utf-8编码"
   ]
  },
  {
   "cell_type": "markdown",
   "metadata": {},
   "source": [
    "### ASCII 祖宗码  \n",
    "* 一个字符一个字节byte "
   ]
  },
  {
   "cell_type": "markdown",
   "metadata": {},
   "source": [
    "ASCII编码用单字节表示字符，最高位固定为0，故最多只能表示128个字符，当编程只涉及到英文字符或数字时，不涉及中文字符时，可以使用ASCII编码 "
   ]
  },
  {
   "cell_type": "markdown",
   "metadata": {},
   "source": [
    "### GB 国标码  \n",
    "* 中文编码"
   ]
  },
  {
   "cell_type": "markdown",
   "metadata": {},
   "source": [
    "GB(GuoBiao)为国标，GBK(GuoBiao Kuozhan)表示国标扩展。GB2312兼容ASCII编码，对于ASCII可以表示的字符，如英文字符‘A’、‘B’等，在GB2312中的编码和ASCII编码一致，占一个字节，对于ASCII不能表示的字符，GB2312用两个字节表示，且最高位不为0，以防和ASCII字符冲突。例如：‘A’在GB2312中存储的字节十六进制为41，在ASCII中也是41，中文字符‘中’在GB2312中存储的两个字节十六进制为D6D0，最高位为1不为0。\n",
    "\n",
    "  GB2312只有6763个汉字，而汉字特别多。GBK属于GB2312的扩展，增加了很多汉字，同时兼容GB2312，同样用两个字节表示非ASCII字符。"
   ]
  },
  {
   "cell_type": "markdown",
   "metadata": {},
   "source": [
    "### UTF-8 变长编码  \n",
    "* 变长 其实是为了存储空间更小 用于网络传输和硬盘存储"
   ]
  },
  {
   "cell_type": "markdown",
   "metadata": {},
   "source": [
    "  和GB系列不同，UTF-8可以将全世界所有的unicode数字表示出来。UTF-8兼容ASCII编码，不兼容GB系列编码，因此，若文本中UTF-8和GB系列编码混用，会出现乱码问题。UTF-8对于每个字符的存储，用最高二进制位开始连续1的个数表示字的长度，最高位为0表示单字节，用来兼容ASCII字符，为110表示双字节，非字符首字节的字节都以10开始，如下表格所示。  \n",
    "  例如：   \n",
    "  \n",
    "  字符‘中’的unicode编码为2D4E(00101101 01001110) \n",
    "  \n",
    "  用UTF-8存储的二进制为E4B8AD(11100100 10111000 10101101 )  \n",
    "  \n",
    "  存储在计算机中的首字节为1110开头，表示此字符占三个字节，去掉开始字节表示长度的1110和其余字节开头的10\n",
    "  \n",
    "  可以得到01001110 00101101(4E2D)  \n",
    "  \n",
    "  可以看到和unicode数字刚好相反，是因为是大端存储方式，高字节存储在内存中的低地址端，反过来即为unicode编码"
   ]
  },
  {
   "cell_type": "markdown",
   "metadata": {},
   "source": [
    "![utf8](pic/utf8.png)"
   ]
  },
  {
   "cell_type": "code",
   "execution_count": 8,
   "metadata": {},
   "outputs": [
    {
     "name": "stdout",
     "output_type": "stream",
     "text": [
      "<class 'str'>\n"
     ]
    }
   ],
   "source": [
    "a = 'ioio天地玄黄popop' \n",
    "print(type(a))\n",
    "b1 = a.encode()\n",
    "b2 = a.encode('GBK')"
   ]
  },
  {
   "cell_type": "code",
   "execution_count": 51,
   "metadata": {},
   "outputs": [
    {
     "data": {
      "text/plain": [
       "b'\\xe5\\xa4\\xa9\\xe5\\x9c\\xb0\\xe7\\x8e\\x84\\xe9\\xbb\\x84'"
      ]
     },
     "execution_count": 51,
     "metadata": {},
     "output_type": "execute_result"
    }
   ],
   "source": [
    "b1"
   ]
  },
  {
   "cell_type": "code",
   "execution_count": 52,
   "metadata": {},
   "outputs": [
    {
     "data": {
      "text/plain": [
       "b'\\xcc\\xec\\xb5\\xd8\\xd0\\xfe\\xbb\\xc6'"
      ]
     },
     "execution_count": 52,
     "metadata": {},
     "output_type": "execute_result"
    }
   ],
   "source": [
    "b2"
   ]
  },
  {
   "cell_type": "markdown",
   "metadata": {},
   "source": [
    "瞎解码 出来乱码是好情况 还有可能不认识直接报错"
   ]
  },
  {
   "cell_type": "code",
   "execution_count": 9,
   "metadata": {},
   "outputs": [
    {
     "data": {
      "text/plain": [
       "'ioio澶╁湴鐜勯粍popop'"
      ]
     },
     "execution_count": 9,
     "metadata": {},
     "output_type": "execute_result"
    }
   ],
   "source": [
    "b1.decode('GBK') # utf8的bytes转gbk 就这后果"
   ]
  },
  {
   "cell_type": "code",
   "execution_count": 39,
   "metadata": {},
   "outputs": [
    {
     "data": {
      "text/plain": [
       "'天地玄黄'"
      ]
     },
     "execution_count": 39,
     "metadata": {},
     "output_type": "execute_result"
    }
   ],
   "source": [
    "b1.decode('UTF-8')"
   ]
  },
  {
   "cell_type": "markdown",
   "metadata": {},
   "source": [
    "unicode格式有两种写法：  \n",
    "* u'中文'  直接写字符串\n",
    "* b'\\uFFFF' 用16进制数字表示一个unicode字符 因为一个unicode俩byte"
   ]
  },
  {
   "cell_type": "code",
   "execution_count": 66,
   "metadata": {},
   "outputs": [
    {
     "data": {
      "text/plain": [
       "'哈dd'"
      ]
     },
     "execution_count": 66,
     "metadata": {},
     "output_type": "execute_result"
    }
   ],
   "source": [
    "b'\\u54c8dd'.decode('unicode_escape')  # \\u只管四位十六进制数 后面是当ascii字符认得"
   ]
  },
  {
   "cell_type": "code",
   "execution_count": 67,
   "metadata": {},
   "outputs": [
    {
     "data": {
      "text/plain": [
       "'哈哉'"
      ]
     },
     "execution_count": 67,
     "metadata": {},
     "output_type": "execute_result"
    }
   ],
   "source": [
    "b'\\u54c8\\u54c9'.decode('unicode_escape') # 两个unicode"
   ]
  },
  {
   "cell_type": "markdown",
   "metadata": {},
   "source": [
    "* 两个byte的十六进制数字表示是\\u  \n",
    "* 单个byte的十六进制数字表示是\\x"
   ]
  },
  {
   "cell_type": "code",
   "execution_count": 69,
   "metadata": {},
   "outputs": [
    {
     "data": {
      "text/plain": [
       "'ÿ4\\x98'"
      ]
     },
     "execution_count": 69,
     "metadata": {},
     "output_type": "execute_result"
    }
   ],
   "source": [
    "b'\\xff\\x34\\x98'.decode('unicode_escape')  # unicode 俩byte 所以后面的0x98就管不着了  "
   ]
  },
  {
   "cell_type": "code",
   "execution_count": 74,
   "metadata": {},
   "outputs": [
    {
     "data": {
      "text/plain": [
       "'\\x98'"
      ]
     },
     "execution_count": 74,
     "metadata": {},
     "output_type": "execute_result"
    }
   ],
   "source": [
    "chr(0x98) # \\x98和0x98  一个是字符串 一个是数字"
   ]
  },
  {
   "cell_type": "markdown",
   "metadata": {},
   "source": [
    "观察utf-8的字节流写法 都是\\x 因为他是变长的 不一定是俩byte 有可能一个"
   ]
  },
  {
   "cell_type": "code",
   "execution_count": 76,
   "metadata": {},
   "outputs": [
    {
     "data": {
      "text/plain": [
       "b'\\xe5\\x8d\\x95\\xe4\\xb8\\xaabyte\\xe7\\x9a\\x84\\xe5\\x8d\\x81\\xe5\\x85\\xad\\xe8\\xbf\\x9b\\xe5\\x88\\xb6\\xe6\\x95\\xb0\\xe5\\xad\\x97\\xe8\\xa1\\xa8\\xe7\\xa4\\xba\\xe6\\x98\\xaf\\\\x'"
      ]
     },
     "execution_count": 76,
     "metadata": {},
     "output_type": "execute_result"
    }
   ],
   "source": [
    "r'单个byte的十六进制数字表示是\\x'.encode()"
   ]
  },
  {
   "cell_type": "code",
   "execution_count": 81,
   "metadata": {},
   "outputs": [
    {
     "data": {
      "text/plain": [
       "'单个'"
      ]
     },
     "execution_count": 81,
     "metadata": {},
     "output_type": "execute_result"
    }
   ],
   "source": [
    "b'\\xe5\\x8d\\x95\\xe4\\xb8\\xaa'.decode()"
   ]
  },
  {
   "cell_type": "code",
   "execution_count": 87,
   "metadata": {},
   "outputs": [
    {
     "data": {
      "text/plain": [
       "['\\x00', '¼', 'a', 'N']"
      ]
     },
     "execution_count": 87,
     "metadata": {},
     "output_type": "execute_result"
    }
   ],
   "source": [
    "list(map(chr,bs))"
   ]
  },
  {
   "cell_type": "code",
   "execution_count": 91,
   "metadata": {},
   "outputs": [
    {
     "data": {
      "text/plain": [
       "'0xbc'"
      ]
     },
     "execution_count": 91,
     "metadata": {},
     "output_type": "execute_result"
    }
   ],
   "source": [
    "hex(188)  # 超过128的ascii编码是扩展编码 显示问题而已 无所谓"
   ]
  },
  {
   "cell_type": "markdown",
   "metadata": {},
   "source": [
    "## 补充知识"
   ]
  },
  {
   "cell_type": "markdown",
   "metadata": {},
   "source": [
    "### 补充：数值本身的进制转换"
   ]
  },
  {
   "cell_type": "code",
   "execution_count": 41,
   "metadata": {},
   "outputs": [
    {
     "name": "stdout",
     "output_type": "stream",
     "text": [
      "十进制数为： 12345678\n",
      "转换为二进制为： 0b101111000110000101001110\n",
      "转换为八进制为： 0o57060516\n",
      "转换为十六进制为： 0xbc614e\n"
     ]
    }
   ],
   "source": [
    "dec = 12345678\n",
    "print(\"十进制数为：\", dec)\n",
    "print(\"转换为二进制为：\", bin(dec))  # 0b开头\n",
    "print(\"转换为八进制为：\", oct(dec))  # 0o开头\n",
    "print(\"转换为十六进制为：\", hex(dec)) # 0x开头"
   ]
  },
  {
   "cell_type": "code",
   "execution_count": 1,
   "metadata": {},
   "outputs": [
    {
     "data": {
      "text/plain": [
       "12345678"
      ]
     },
     "execution_count": 1,
     "metadata": {},
     "output_type": "execute_result"
    }
   ],
   "source": [
    "0xbc614e"
   ]
  },
  {
   "cell_type": "code",
   "execution_count": 43,
   "metadata": {},
   "outputs": [
    {
     "data": {
      "text/plain": [
       "12345678"
      ]
     },
     "execution_count": 43,
     "metadata": {},
     "output_type": "execute_result"
    }
   ],
   "source": [
    "int('0xbc614e',16)"
   ]
  },
  {
   "cell_type": "code",
   "execution_count": 47,
   "metadata": {},
   "outputs": [
    {
     "data": {
      "text/plain": [
       "10"
      ]
     },
     "execution_count": 47,
     "metadata": {},
     "output_type": "execute_result"
    }
   ],
   "source": [
    "int('0b1010',2)"
   ]
  },
  {
   "cell_type": "markdown",
   "metadata": {},
   "source": [
    "![进制](pic/进制.png)"
   ]
  },
  {
   "cell_type": "markdown",
   "metadata": {},
   "source": [
    "注意：\n",
    "    1. 这些进制转换函数 返回值都是字符串 是给人看的 如果要继续运算 直接用数值互相运算就可以了 都算完了再转换  \n",
    "    2. python解释器默认是是十进制的 如果想看别的进制 才使用这种转换函数"
   ]
  },
  {
   "cell_type": "code",
   "execution_count": 11,
   "metadata": {},
   "outputs": [
    {
     "data": {
      "text/plain": [
       "str"
      ]
     },
     "execution_count": 11,
     "metadata": {},
     "output_type": "execute_result"
    }
   ],
   "source": [
    "type(hex(1234))"
   ]
  },
  {
   "cell_type": "code",
   "execution_count": 12,
   "metadata": {},
   "outputs": [
    {
     "data": {
      "text/plain": [
       "1523"
      ]
     },
     "execution_count": 12,
     "metadata": {},
     "output_type": "execute_result"
    }
   ],
   "source": [
    "1234+0x121"
   ]
  },
  {
   "cell_type": "markdown",
   "metadata": {},
   "source": [
    "### 补充：按位运算"
   ]
  },
  {
   "cell_type": "code",
   "execution_count": 5,
   "metadata": {},
   "outputs": [
    {
     "data": {
      "text/plain": [
       "'0b10101010'"
      ]
     },
     "execution_count": 5,
     "metadata": {},
     "output_type": "execute_result"
    }
   ],
   "source": [
    "bin(0b10101010 & 0b11111111) # 与运算"
   ]
  },
  {
   "cell_type": "code",
   "execution_count": 7,
   "metadata": {},
   "outputs": [
    {
     "data": {
      "text/plain": [
       "'0b11111111'"
      ]
     },
     "execution_count": 7,
     "metadata": {},
     "output_type": "execute_result"
    }
   ],
   "source": [
    "bin(0b10101010 | 0b11111111) # 或运算"
   ]
  },
  {
   "cell_type": "code",
   "execution_count": 8,
   "metadata": {},
   "outputs": [
    {
     "data": {
      "text/plain": [
       "'0b1010101'"
      ]
     },
     "execution_count": 8,
     "metadata": {},
     "output_type": "execute_result"
    }
   ],
   "source": [
    "bin(0b10101010 ^ 0b11111111) # 异或运算"
   ]
  },
  {
   "cell_type": "code",
   "execution_count": 13,
   "metadata": {},
   "outputs": [
    {
     "data": {
      "text/plain": [
       "-171"
      ]
     },
     "execution_count": 13,
     "metadata": {},
     "output_type": "execute_result"
    }
   ],
   "source": [
    "(~0b10101010) # 取反"
   ]
  },
  {
   "cell_type": "code",
   "execution_count": 15,
   "metadata": {},
   "outputs": [
    {
     "data": {
      "text/plain": [
       "'0b1111'"
      ]
     },
     "execution_count": 15,
     "metadata": {},
     "output_type": "execute_result"
    }
   ],
   "source": [
    "bin(0b1111000 >>3)"
   ]
  },
  {
   "cell_type": "code",
   "execution_count": 16,
   "metadata": {},
   "outputs": [
    {
     "data": {
      "text/plain": [
       "15"
      ]
     },
     "execution_count": 16,
     "metadata": {},
     "output_type": "execute_result"
    }
   ],
   "source": [
    "(0b1111000 >>3)"
   ]
  },
  {
   "cell_type": "markdown",
   "metadata": {},
   "source": [
    "### 补充：字符和数值的转换 ord和chr"
   ]
  },
  {
   "cell_type": "markdown",
   "metadata": {},
   "source": [
    "ascii字符转数值"
   ]
  },
  {
   "cell_type": "code",
   "execution_count": 85,
   "metadata": {},
   "outputs": [
    {
     "data": {
      "text/plain": [
       "65"
      ]
     },
     "execution_count": 85,
     "metadata": {},
     "output_type": "execute_result"
    }
   ],
   "source": [
    "ord('A') "
   ]
  },
  {
   "cell_type": "markdown",
   "metadata": {},
   "source": [
    "数值（0-0x110000）转unicode字符（有ascii的形式 python解释器默认尽量翻译成ascii 实在没有就\\uxxxxxxxx）"
   ]
  },
  {
   "cell_type": "code",
   "execution_count": 53,
   "metadata": {},
   "outputs": [
    {
     "data": {
      "text/plain": [
       "'\\U0010ffff'"
      ]
     },
     "execution_count": 53,
     "metadata": {},
     "output_type": "execute_result"
    }
   ],
   "source": [
    "chr(0x10ffff) "
   ]
  },
  {
   "cell_type": "code",
   "execution_count": 19,
   "metadata": {},
   "outputs": [
    {
     "data": {
      "text/plain": [
       "21704"
      ]
     },
     "execution_count": 19,
     "metadata": {},
     "output_type": "execute_result"
    }
   ],
   "source": [
    "ord('哈') "
   ]
  },
  {
   "cell_type": "code",
   "execution_count": 20,
   "metadata": {},
   "outputs": [
    {
     "data": {
      "text/plain": [
       "'0x54c8'"
      ]
     },
     "execution_count": 20,
     "metadata": {},
     "output_type": "execute_result"
    }
   ],
   "source": [
    "hex(21704)"
   ]
  },
  {
   "cell_type": "code",
   "execution_count": 48,
   "metadata": {},
   "outputs": [
    {
     "data": {
      "text/plain": [
       "'哈'"
      ]
     },
     "execution_count": 48,
     "metadata": {},
     "output_type": "execute_result"
    }
   ],
   "source": [
    "chr(0x54c8)"
   ]
  },
  {
   "cell_type": "markdown",
   "metadata": {},
   "source": [
    "## 数值 向字节流bytes的转换"
   ]
  },
  {
   "cell_type": "markdown",
   "metadata": {},
   "source": [
    "* 例如：想把12345678转为字节流 麻烦在哪？  \n",
    "    这个字节流要几个字节？c语言规定的标准是char一个字节float四个字节 但是python又没这个限制 咋办？"
   ]
  },
  {
   "cell_type": "markdown",
   "metadata": {},
   "source": [
    "### 方法1：手动 chr或bytes强转"
   ]
  },
  {
   "cell_type": "markdown",
   "metadata": {},
   "source": [
    "手动切四个字节 假装是一个4byte的int32"
   ]
  },
  {
   "cell_type": "code",
   "execution_count": 113,
   "metadata": {
    "scrolled": true
   },
   "outputs": [
    {
     "name": "stdout",
     "output_type": "stream",
     "text": [
      "转换为二进制为： 0b101111000110000101001110\n"
     ]
    },
    {
     "data": {
      "text/plain": [
       "b'\\x00\\xbcaN'"
      ]
     },
     "execution_count": 113,
     "metadata": {},
     "output_type": "execute_result"
    }
   ],
   "source": [
    "n = 12345678\n",
    "print(\"转换为二进制为：\", bin(n))\n",
    "b1 = (n & 0xff000000) >> 24\n",
    "b2 = (n & 0xff0000) >> 16\n",
    "b3 = (n & 0xff00) >> 8            # 目的是取出来9到16位 01100001 00000000 移位把0去掉\n",
    "b4 = n & 0xff                     # 和0b1111 1111求与运算 最低8位的二进制取出来\n",
    "bs = bytes([b1, b2, b3, b4])      # 低位放在了高地址 这是大端顺序 后续讲大小端\n",
    "bs"
   ]
  },
  {
   "cell_type": "code",
   "execution_count": 3,
   "metadata": {},
   "outputs": [
    {
     "data": {
      "text/plain": [
       "'0xbc614e'"
      ]
     },
     "execution_count": 3,
     "metadata": {},
     "output_type": "execute_result"
    }
   ],
   "source": [
    "hex(12345678)"
   ]
  },
  {
   "cell_type": "markdown",
   "metadata": {},
   "source": [
    "这里用了bytes方法给一个list强转为字节流 可以看一下帮助文档"
   ]
  },
  {
   "cell_type": "code",
   "execution_count": 33,
   "metadata": {
    "collapsed": true
   },
   "outputs": [
    {
     "name": "stdout",
     "output_type": "stream",
     "text": [
      "Help on class bytes in module builtins:\n",
      "\n",
      "class bytes(object)\n",
      " |  bytes(iterable_of_ints) -> bytes\n",
      " |  bytes(string, encoding[, errors]) -> bytes\n",
      " |  bytes(bytes_or_buffer) -> immutable copy of bytes_or_buffer\n",
      " |  bytes(int) -> bytes object of size given by the parameter initialized with null bytes\n",
      " |  bytes() -> empty bytes object\n",
      " |  \n",
      " |  Construct an immutable array of bytes from:\n",
      " |    - an iterable yielding integers in range(256)\n",
      " |    - a text string encoded using the specified encoding\n",
      " |    - any object implementing the buffer API.\n",
      " |    - an integer\n",
      " |  \n",
      " |  Methods defined here:\n",
      " |  \n",
      " |  __add__(self, value, /)\n",
      " |      Return self+value.\n",
      " |  \n",
      " |  __contains__(self, key, /)\n",
      " |      Return key in self.\n",
      " |  \n",
      " |  __eq__(self, value, /)\n",
      " |      Return self==value.\n",
      " |  \n",
      " |  __ge__(self, value, /)\n",
      " |      Return self>=value.\n",
      " |  \n",
      " |  __getattribute__(self, name, /)\n",
      " |      Return getattr(self, name).\n",
      " |  \n",
      " |  __getitem__(self, key, /)\n",
      " |      Return self[key].\n",
      " |  \n",
      " |  __getnewargs__(...)\n",
      " |  \n",
      " |  __gt__(self, value, /)\n",
      " |      Return self>value.\n",
      " |  \n",
      " |  __hash__(self, /)\n",
      " |      Return hash(self).\n",
      " |  \n",
      " |  __iter__(self, /)\n",
      " |      Implement iter(self).\n",
      " |  \n",
      " |  __le__(self, value, /)\n",
      " |      Return self<=value.\n",
      " |  \n",
      " |  __len__(self, /)\n",
      " |      Return len(self).\n",
      " |  \n",
      " |  __lt__(self, value, /)\n",
      " |      Return self<value.\n",
      " |  \n",
      " |  __mod__(self, value, /)\n",
      " |      Return self%value.\n",
      " |  \n",
      " |  __mul__(self, value, /)\n",
      " |      Return self*value.\n",
      " |  \n",
      " |  __ne__(self, value, /)\n",
      " |      Return self!=value.\n",
      " |  \n",
      " |  __repr__(self, /)\n",
      " |      Return repr(self).\n",
      " |  \n",
      " |  __rmod__(self, value, /)\n",
      " |      Return value%self.\n",
      " |  \n",
      " |  __rmul__(self, value, /)\n",
      " |      Return value*self.\n",
      " |  \n",
      " |  __str__(self, /)\n",
      " |      Return str(self).\n",
      " |  \n",
      " |  capitalize(...)\n",
      " |      B.capitalize() -> copy of B\n",
      " |      \n",
      " |      Return a copy of B with only its first character capitalized (ASCII)\n",
      " |      and the rest lower-cased.\n",
      " |  \n",
      " |  center(self, width, fillchar=b' ', /)\n",
      " |      Return a centered string of length width.\n",
      " |      \n",
      " |      Padding is done using the specified fill character.\n",
      " |  \n",
      " |  count(...)\n",
      " |      B.count(sub[, start[, end]]) -> int\n",
      " |      \n",
      " |      Return the number of non-overlapping occurrences of subsection sub in\n",
      " |      bytes B[start:end].  Optional arguments start and end are interpreted\n",
      " |      as in slice notation.\n",
      " |  \n",
      " |  decode(self, /, encoding='utf-8', errors='strict')\n",
      " |      Decode the bytes using the codec registered for encoding.\n",
      " |      \n",
      " |      encoding\n",
      " |        The encoding with which to decode the bytes.\n",
      " |      errors\n",
      " |        The error handling scheme to use for the handling of decoding errors.\n",
      " |        The default is 'strict' meaning that decoding errors raise a\n",
      " |        UnicodeDecodeError. Other possible values are 'ignore' and 'replace'\n",
      " |        as well as any other name registered with codecs.register_error that\n",
      " |        can handle UnicodeDecodeErrors.\n",
      " |  \n",
      " |  endswith(...)\n",
      " |      B.endswith(suffix[, start[, end]]) -> bool\n",
      " |      \n",
      " |      Return True if B ends with the specified suffix, False otherwise.\n",
      " |      With optional start, test B beginning at that position.\n",
      " |      With optional end, stop comparing B at that position.\n",
      " |      suffix can also be a tuple of bytes to try.\n",
      " |  \n",
      " |  expandtabs(self, /, tabsize=8)\n",
      " |      Return a copy where all tab characters are expanded using spaces.\n",
      " |      \n",
      " |      If tabsize is not given, a tab size of 8 characters is assumed.\n",
      " |  \n",
      " |  find(...)\n",
      " |      B.find(sub[, start[, end]]) -> int\n",
      " |      \n",
      " |      Return the lowest index in B where subsection sub is found,\n",
      " |      such that sub is contained within B[start,end].  Optional\n",
      " |      arguments start and end are interpreted as in slice notation.\n",
      " |      \n",
      " |      Return -1 on failure.\n",
      " |  \n",
      " |  hex(...)\n",
      " |      Create a str of hexadecimal numbers from a bytes object.\n",
      " |      \n",
      " |        sep\n",
      " |          An optional single character or byte to separate hex bytes.\n",
      " |        bytes_per_sep\n",
      " |          How many bytes between separators.  Positive values count from the\n",
      " |          right, negative values count from the left.\n",
      " |      \n",
      " |      Example:\n",
      " |      >>> value = b'\\xb9\\x01\\xef'\n",
      " |      >>> value.hex()\n",
      " |      'b901ef'\n",
      " |      >>> value.hex(':')\n",
      " |      'b9:01:ef'\n",
      " |      >>> value.hex(':', 2)\n",
      " |      'b9:01ef'\n",
      " |      >>> value.hex(':', -2)\n",
      " |      'b901:ef'\n",
      " |  \n",
      " |  index(...)\n",
      " |      B.index(sub[, start[, end]]) -> int\n",
      " |      \n",
      " |      Return the lowest index in B where subsection sub is found,\n",
      " |      such that sub is contained within B[start,end].  Optional\n",
      " |      arguments start and end are interpreted as in slice notation.\n",
      " |      \n",
      " |      Raises ValueError when the subsection is not found.\n",
      " |  \n",
      " |  isalnum(...)\n",
      " |      B.isalnum() -> bool\n",
      " |      \n",
      " |      Return True if all characters in B are alphanumeric\n",
      " |      and there is at least one character in B, False otherwise.\n",
      " |  \n",
      " |  isalpha(...)\n",
      " |      B.isalpha() -> bool\n",
      " |      \n",
      " |      Return True if all characters in B are alphabetic\n",
      " |      and there is at least one character in B, False otherwise.\n",
      " |  \n",
      " |  isascii(...)\n",
      " |      B.isascii() -> bool\n",
      " |      \n",
      " |      Return True if B is empty or all characters in B are ASCII,\n",
      " |      False otherwise.\n",
      " |  \n",
      " |  isdigit(...)\n",
      " |      B.isdigit() -> bool\n",
      " |      \n",
      " |      Return True if all characters in B are digits\n",
      " |      and there is at least one character in B, False otherwise.\n",
      " |  \n",
      " |  islower(...)\n",
      " |      B.islower() -> bool\n",
      " |      \n",
      " |      Return True if all cased characters in B are lowercase and there is\n",
      " |      at least one cased character in B, False otherwise.\n",
      " |  \n",
      " |  isspace(...)\n",
      " |      B.isspace() -> bool\n",
      " |      \n",
      " |      Return True if all characters in B are whitespace\n",
      " |      and there is at least one character in B, False otherwise.\n",
      " |  \n",
      " |  istitle(...)\n",
      " |      B.istitle() -> bool\n",
      " |      \n",
      " |      Return True if B is a titlecased string and there is at least one\n",
      " |      character in B, i.e. uppercase characters may only follow uncased\n",
      " |      characters and lowercase characters only cased ones. Return False\n",
      " |      otherwise.\n",
      " |  \n",
      " |  isupper(...)\n",
      " |      B.isupper() -> bool\n",
      " |      \n",
      " |      Return True if all cased characters in B are uppercase and there is\n",
      " |      at least one cased character in B, False otherwise.\n",
      " |  \n",
      " |  join(self, iterable_of_bytes, /)\n",
      " |      Concatenate any number of bytes objects.\n",
      " |      \n",
      " |      The bytes whose method is called is inserted in between each pair.\n",
      " |      \n",
      " |      The result is returned as a new bytes object.\n",
      " |      \n",
      " |      Example: b'.'.join([b'ab', b'pq', b'rs']) -> b'ab.pq.rs'.\n",
      " |  \n",
      " |  ljust(self, width, fillchar=b' ', /)\n",
      " |      Return a left-justified string of length width.\n",
      " |      \n",
      " |      Padding is done using the specified fill character.\n",
      " |  \n",
      " |  lower(...)\n",
      " |      B.lower() -> copy of B\n",
      " |      \n",
      " |      Return a copy of B with all ASCII characters converted to lowercase.\n",
      " |  \n",
      " |  lstrip(self, bytes=None, /)\n",
      " |      Strip leading bytes contained in the argument.\n",
      " |      \n",
      " |      If the argument is omitted or None, strip leading  ASCII whitespace.\n",
      " |  \n",
      " |  partition(self, sep, /)\n",
      " |      Partition the bytes into three parts using the given separator.\n",
      " |      \n",
      " |      This will search for the separator sep in the bytes. If the separator is found,\n",
      " |      returns a 3-tuple containing the part before the separator, the separator\n",
      " |      itself, and the part after it.\n",
      " |      \n",
      " |      If the separator is not found, returns a 3-tuple containing the original bytes\n",
      " |      object and two empty bytes objects.\n",
      " |  \n",
      " |  replace(self, old, new, count=-1, /)\n",
      " |      Return a copy with all occurrences of substring old replaced by new.\n",
      " |      \n",
      " |        count\n",
      " |          Maximum number of occurrences to replace.\n",
      " |          -1 (the default value) means replace all occurrences.\n",
      " |      \n",
      " |      If the optional argument count is given, only the first count occurrences are\n",
      " |      replaced.\n",
      " |  \n",
      " |  rfind(...)\n",
      " |      B.rfind(sub[, start[, end]]) -> int\n",
      " |      \n",
      " |      Return the highest index in B where subsection sub is found,\n",
      " |      such that sub is contained within B[start,end].  Optional\n",
      " |      arguments start and end are interpreted as in slice notation.\n",
      " |      \n",
      " |      Return -1 on failure.\n",
      " |  \n",
      " |  rindex(...)\n",
      " |      B.rindex(sub[, start[, end]]) -> int\n",
      " |      \n",
      " |      Return the highest index in B where subsection sub is found,\n",
      " |      such that sub is contained within B[start,end].  Optional\n",
      " |      arguments start and end are interpreted as in slice notation.\n",
      " |      \n",
      " |      Raise ValueError when the subsection is not found.\n",
      " |  \n",
      " |  rjust(self, width, fillchar=b' ', /)\n",
      " |      Return a right-justified string of length width.\n",
      " |      \n",
      " |      Padding is done using the specified fill character.\n",
      " |  \n",
      " |  rpartition(self, sep, /)\n",
      " |      Partition the bytes into three parts using the given separator.\n",
      " |      \n",
      " |      This will search for the separator sep in the bytes, starting at the end. If\n",
      " |      the separator is found, returns a 3-tuple containing the part before the\n",
      " |      separator, the separator itself, and the part after it.\n",
      " |      \n",
      " |      If the separator is not found, returns a 3-tuple containing two empty bytes\n",
      " |      objects and the original bytes object.\n",
      " |  \n",
      " |  rsplit(self, /, sep=None, maxsplit=-1)\n",
      " |      Return a list of the sections in the bytes, using sep as the delimiter.\n",
      " |      \n",
      " |        sep\n",
      " |          The delimiter according which to split the bytes.\n",
      " |          None (the default value) means split on ASCII whitespace characters\n",
      " |          (space, tab, return, newline, formfeed, vertical tab).\n",
      " |        maxsplit\n",
      " |          Maximum number of splits to do.\n",
      " |          -1 (the default value) means no limit.\n",
      " |      \n",
      " |      Splitting is done starting at the end of the bytes and working to the front.\n",
      " |  \n",
      " |  rstrip(self, bytes=None, /)\n",
      " |      Strip trailing bytes contained in the argument.\n",
      " |      \n",
      " |      If the argument is omitted or None, strip trailing ASCII whitespace.\n",
      " |  \n",
      " |  split(self, /, sep=None, maxsplit=-1)\n",
      " |      Return a list of the sections in the bytes, using sep as the delimiter.\n",
      " |      \n",
      " |      sep\n",
      " |        The delimiter according which to split the bytes.\n",
      " |        None (the default value) means split on ASCII whitespace characters\n",
      " |        (space, tab, return, newline, formfeed, vertical tab).\n",
      " |      maxsplit\n",
      " |        Maximum number of splits to do.\n",
      " |        -1 (the default value) means no limit.\n",
      " |  \n",
      " |  splitlines(self, /, keepends=False)\n",
      " |      Return a list of the lines in the bytes, breaking at line boundaries.\n",
      " |      \n",
      " |      Line breaks are not included in the resulting list unless keepends is given and\n",
      " |      true.\n",
      " |  \n",
      " |  startswith(...)\n",
      " |      B.startswith(prefix[, start[, end]]) -> bool\n",
      " |      \n",
      " |      Return True if B starts with the specified prefix, False otherwise.\n",
      " |      With optional start, test B beginning at that position.\n",
      " |      With optional end, stop comparing B at that position.\n",
      " |      prefix can also be a tuple of bytes to try.\n",
      " |  \n",
      " |  strip(self, bytes=None, /)\n",
      " |      Strip leading and trailing bytes contained in the argument.\n",
      " |      \n",
      " |      If the argument is omitted or None, strip leading and trailing ASCII whitespace.\n",
      " |  \n",
      " |  swapcase(...)\n",
      " |      B.swapcase() -> copy of B\n",
      " |      \n",
      " |      Return a copy of B with uppercase ASCII characters converted\n",
      " |      to lowercase ASCII and vice versa.\n",
      " |  \n",
      " |  title(...)\n",
      " |      B.title() -> copy of B\n",
      " |      \n",
      " |      Return a titlecased version of B, i.e. ASCII words start with uppercase\n",
      " |      characters, all remaining cased characters have lowercase.\n",
      " |  \n",
      " |  translate(self, table, /, delete=b'')\n",
      " |      Return a copy with each character mapped by the given translation table.\n",
      " |      \n",
      " |        table\n",
      " |          Translation table, which must be a bytes object of length 256.\n",
      " |      \n",
      " |      All characters occurring in the optional argument delete are removed.\n",
      " |      The remaining characters are mapped through the given translation table.\n",
      " |  \n",
      " |  upper(...)\n",
      " |      B.upper() -> copy of B\n",
      " |      \n",
      " |      Return a copy of B with all ASCII characters converted to uppercase.\n",
      " |  \n",
      " |  zfill(self, width, /)\n",
      " |      Pad a numeric string with zeros on the left, to fill a field of the given width.\n",
      " |      \n",
      " |      The original string is never truncated.\n",
      " |  \n",
      " |  ----------------------------------------------------------------------\n",
      " |  Class methods defined here:\n",
      " |  \n",
      " |  fromhex(string, /) from builtins.type\n",
      " |      Create a bytes object from a string of hexadecimal numbers.\n",
      " |      \n",
      " |      Spaces between two numbers are accepted.\n",
      " |      Example: bytes.fromhex('B9 01EF') -> b'\\\\xb9\\\\x01\\\\xef'.\n",
      " |  \n",
      " |  ----------------------------------------------------------------------\n",
      " |  Static methods defined here:\n",
      " |  \n",
      " |  __new__(*args, **kwargs) from builtins.type\n",
      " |      Create and return a new object.  See help(type) for accurate signature.\n",
      " |  \n",
      " |  maketrans(frm, to, /)\n",
      " |      Return a translation table useable for the bytes or bytearray translate method.\n",
      " |      \n",
      " |      The returned table will be one where each byte in frm is mapped to the byte at\n",
      " |      the same position in to.\n",
      " |      \n",
      " |      The bytes objects frm and to must be of the same length.\n",
      "\n"
     ]
    }
   ],
   "source": [
    "help(bytes)"
   ]
  },
  {
   "cell_type": "code",
   "execution_count": 29,
   "metadata": {},
   "outputs": [
    {
     "data": {
      "text/plain": [
       "b'a'"
      ]
     },
     "execution_count": 29,
     "metadata": {},
     "output_type": "execute_result"
    }
   ],
   "source": [
    "bytes([b3])"
   ]
  },
  {
   "cell_type": "code",
   "execution_count": 32,
   "metadata": {},
   "outputs": [
    {
     "data": {
      "text/plain": [
       "b'\\xff'"
      ]
     },
     "execution_count": 32,
     "metadata": {},
     "output_type": "execute_result"
    }
   ],
   "source": [
    "bytes([255])"
   ]
  },
  {
   "cell_type": "code",
   "execution_count": 30,
   "metadata": {},
   "outputs": [
    {
     "data": {
      "text/plain": [
       "97"
      ]
     },
     "execution_count": 30,
     "metadata": {},
     "output_type": "execute_result"
    }
   ],
   "source": [
    "b3"
   ]
  },
  {
   "cell_type": "code",
   "execution_count": 25,
   "metadata": {},
   "outputs": [
    {
     "data": {
      "text/plain": [
       "'0x4e'"
      ]
     },
     "execution_count": 25,
     "metadata": {},
     "output_type": "execute_result"
    }
   ],
   "source": [
    "hex(ord(bytes([0b01001110]).decode('ascii')))"
   ]
  },
  {
   "cell_type": "markdown",
   "metadata": {},
   "source": [
    "当然也可以用上面学的chr方法 逐个字符转换"
   ]
  },
  {
   "cell_type": "code",
   "execution_count": 122,
   "metadata": {
    "scrolled": true
   },
   "outputs": [
    {
     "name": "stdout",
     "output_type": "stream",
     "text": [
      "转换为二进制为： 0b101111000110000101001110\n"
     ]
    },
    {
     "data": {
      "text/plain": [
       "['\\x00', '¼', 'a', 'N']"
      ]
     },
     "execution_count": 122,
     "metadata": {},
     "output_type": "execute_result"
    }
   ],
   "source": [
    "n = 12345678\n",
    "print(\"转换为二进制为：\", bin(n))\n",
    "b1 = (n & 0xff000000) >> 24\n",
    "b2 = (n & 0xff0000) >> 16\n",
    "b3 = (n & 0xff00) >> 8            # 目的是取出来9到16位 01100001 00000000 移位把0去掉\n",
    "b4 = n & 0xff                     # 和0b1111 1111求与运算 最低8位的二进制取出来\n",
    "bs = [chr(b1), chr(b2), chr(b3), chr(b4)]      # 低位放在了高地址 这是大端顺序 后续讲大小端\n",
    "bs"
   ]
  },
  {
   "cell_type": "code",
   "execution_count": 134,
   "metadata": {},
   "outputs": [
    {
     "data": {
      "text/plain": [
       "[0, 188, 97, 78]"
      ]
     },
     "execution_count": 134,
     "metadata": {},
     "output_type": "execute_result"
    }
   ],
   "source": [
    "list(map(ord,bs))  # 给字符list换成 0-255的数字 每个字符都是一个ascii字符而已"
   ]
  },
  {
   "cell_type": "markdown",
   "metadata": {},
   "source": [
    "问题是 int好办 如果是float还手动写 就凶残了 所以用别的办法"
   ]
  },
  {
   "cell_type": "markdown",
   "metadata": {},
   "source": [
    "### 方法2：半自动 to_bytes   from_bytes\n",
    "直接规定大小端 转换为字节"
   ]
  },
  {
   "cell_type": "code",
   "execution_count": 27,
   "metadata": {},
   "outputs": [
    {
     "name": "stdout",
     "output_type": "stream",
     "text": [
      "<class 'bytes'> b'd\\x00\\x00\\x00'\n",
      "<class 'int'> 100\n"
     ]
    }
   ],
   "source": [
    "data = 100\n",
    "data_byte = data.to_bytes(4, byteorder='little', signed=True)\n",
    "print(type(data_byte), data_byte)\n",
    "data_int = int.from_bytes(data_byte, byteorder='little', signed=True)\n",
    "print(type(data_int), data_int)"
   ]
  },
  {
   "cell_type": "markdown",
   "metadata": {},
   "source": [
    "#### 大小端和地址\n",
    "    * 大端\n",
    "        1. 针对同一变量   高位字节存在低位 很反常 就是大端 也称为网络序 \n",
    "        2. 例如：FF AA D1 B9 优先发送了高位数据 FF 对方接到了FF存到了内存低位 继续发送AA 对方接到了存到了内存高位\n",
    "        3. 最后对方内存里长这样：（1）FF---- （2）AA---- （3）D1---- （4）B9----\n",
    "    * 小端\n",
    "        1. 针对同一变量   高位字节存在高位 很合理 就是小端 也称为本地序\n",
    "        2. 例如：FF AA D1 B9 存在内存里或者硬盘里 \n",
    "        3. 内存里长这样（1）B9---- （2）D1---- （3）AA---- （4）FF----\n",
    "\n",
    "    * 地址\n",
    "        1. 地址：地址就是一种字节流的存储顺序  \n",
    "        2. 例如：b'abcd'  这个字节流里a就是低地址 d是高地址  \n",
    "        3. 该字节流存入硬盘或者内存 也是按这个顺序存的 \n",
    "        4. 例如：上面的小端 b'\\xb9\\xd1\\xaa\\xff'"
   ]
  },
  {
   "cell_type": "code",
   "execution_count": 114,
   "metadata": {},
   "outputs": [],
   "source": [
    "n=0xFFAAD1B9"
   ]
  },
  {
   "cell_type": "code",
   "execution_count": 115,
   "metadata": {},
   "outputs": [
    {
     "data": {
      "text/plain": [
       "'0xffaad1b9'"
      ]
     },
     "execution_count": 115,
     "metadata": {},
     "output_type": "execute_result"
    }
   ],
   "source": [
    "hex(n)"
   ]
  },
  {
   "cell_type": "code",
   "execution_count": 120,
   "metadata": {},
   "outputs": [
    {
     "data": {
      "text/plain": [
       "b'\\xb9\\xd1\\xaa\\xff\\x00\\x00\\x00\\x00'"
      ]
     },
     "execution_count": 120,
     "metadata": {},
     "output_type": "execute_result"
    }
   ],
   "source": [
    "n.to_bytes(length=8, byteorder='little', signed=True)   # 这方法有坑 这里用用就得了  \n",
    "#小端顺序 高位在高地址0x00 低位在低地址0xdd （不足8个byte还补了0x00字节）"
   ]
  },
  {
   "cell_type": "code",
   "execution_count": 117,
   "metadata": {},
   "outputs": [
    {
     "data": {
      "text/plain": [
       "b'\\x00\\x00\\x00\\x00\\xff\\xaa\\xd1\\xb9'"
      ]
     },
     "execution_count": 117,
     "metadata": {},
     "output_type": "execute_result"
    }
   ],
   "source": [
    "n.to_bytes(length=8, byteorder='big', signed=True)  \n",
    "# 大端顺序 高位在低地址 低位在高地址"
   ]
  },
  {
   "cell_type": "code",
   "execution_count": 112,
   "metadata": {},
   "outputs": [
    {
     "data": {
      "text/plain": [
       "b'\\x00\\xbcaN'"
      ]
     },
     "execution_count": 112,
     "metadata": {},
     "output_type": "execute_result"
    }
   ],
   "source": [
    "(12345678).to_bytes(length=4, byteorder='big', signed=True)  \n",
    "# 大端顺序 高位在低地址 低位在高地址"
   ]
  },
  {
   "cell_type": "markdown",
   "metadata": {},
   "source": [
    "### 方法3：全自动 struct库 pack unpack"
   ]
  },
  {
   "cell_type": "markdown",
   "metadata": {},
   "source": [
    "pack方法用于将int转化为bytes"
   ]
  },
  {
   "cell_type": "code",
   "execution_count": 98,
   "metadata": {},
   "outputs": [
    {
     "data": {
      "text/plain": [
       "b'\\x00\\xbcaN'"
      ]
     },
     "execution_count": 98,
     "metadata": {},
     "output_type": "execute_result"
    }
   ],
   "source": [
    "import struct\n",
    "struct.pack('>I', 12345678)   # 大端 按四字节unsigned int转换12345678 （结果就是[0, 188, 97, 78]）"
   ]
  },
  {
   "cell_type": "code",
   "execution_count": 96,
   "metadata": {},
   "outputs": [
    {
     "data": {
      "text/plain": [
       "(12345678,)"
      ]
     },
     "execution_count": 96,
     "metadata": {},
     "output_type": "execute_result"
    }
   ],
   "source": [
    "struct.unpack('>I',b'\\x00\\xbcaN')   "
   ]
  },
  {
   "cell_type": "code",
   "execution_count": 99,
   "metadata": {},
   "outputs": [
    {
     "name": "stdout",
     "output_type": "stream",
     "text": [
      "b'\\x00\\xbcaN'\n",
      "b'\\x00\\xbcaN'\n",
      "b'\\x00\\xbcaN'\n"
     ]
    }
   ],
   "source": [
    "print(struct.pack('>i', 12345678) )\n",
    "print(struct.pack('>l', 12345678) )\n",
    "print(struct.pack('>L', 12345678) )"
   ]
  },
  {
   "cell_type": "markdown",
   "metadata": {},
   "source": [
    "![struct](pic/struct.png)"
   ]
  },
  {
   "cell_type": "markdown",
   "metadata": {},
   "source": [
    "其实最终压缩时候 看的是size 所以 i I L l是一码事 这些标识本质是为了可读性"
   ]
  },
  {
   "cell_type": "markdown",
   "metadata": {},
   "source": [
    "## 读取文件"
   ]
  },
  {
   "cell_type": "markdown",
   "metadata": {},
   "source": [
    "### 补充open的文件对象的常用方法\n",
    "\n",
    "1. file.read([size])：size 未指定则返回整个文件，如果文件大小 >2 倍内存则有问题，f.read()读到文件尾时返回\"\"(空字串)。\n",
    "\n",
    "2. file.readline()：返回一行。\n",
    "\n",
    "3. file.readlines([size]) ：返回包含size行的列表, size 未指定则返回全部行。\n",
    "\n",
    "4. for line in f: print line ：通过迭代器访问。\n",
    "\n",
    "5. f.write(\"hello\\n\")：如果要写入字符串以外的数据,先将他转换为字符串。\n",
    "\n",
    "6. f.tell()：返回一个整数,表示当前文件指针的位置(就是到文件头的字节数)。\n",
    "\n",
    "7. f.seek(偏移量,[起始位置])：用来移动文件指针。偏移量: 单位为字节，可正可负，起始位置: 0 - 文件头, 默认值; 1 - 当前位置; 2 - 文件尾\n",
    "\n",
    "8. f.close() 关闭文件"
   ]
  },
  {
   "cell_type": "markdown",
   "metadata": {},
   "source": [
    "### 文件分为两种\n",
    "    1. 二进制文件 图片 数据 bin等等，本身存储的字节流有自己的意义 是一种协议\n",
    "    2. 文本文件 txt log等等，本身是用utf8的字节流存在硬盘里（其实也是二进制的）\n",
    "        可以用rb读进来之后decode\n",
    "        也可以直接用r读进来文本（python替你解码了）\n",
    "        还可以直接用记事本打开（记事本做了解码工作）"
   ]
  },
  {
   "cell_type": "markdown",
   "metadata": {},
   "source": [
    "### 读取bmp文件（二进制文件）"
   ]
  },
  {
   "cell_type": "code",
   "execution_count": 1,
   "metadata": {},
   "outputs": [
    {
     "name": "stdout",
     "output_type": "stream",
     "text": [
      "b'BM\\xbel\\x01\\x00\\x00\\x00\\x00\\x00>\\x00\\x00\\x00(\\x00\\x00\\x00\\x80\\x04\\x00\\x00\\x88\\x02\\x00\\x00\\x01\\x00\\x01\\x00'\n"
     ]
    }
   ],
   "source": [
    "with open('./pic/test.bmp','rb') as fp:\n",
    "    print(fp.read(30))                 # read方法 默认参数是-1 读取全部字节流   59开始往后都是画本身了"
   ]
  },
  {
   "cell_type": "code",
   "execution_count": 16,
   "metadata": {},
   "outputs": [
    {
     "name": "stdout",
     "output_type": "stream",
     "text": [
      "(2.3509885615147286e-38,)\n"
     ]
    },
    {
     "ename": "TypeError",
     "evalue": "ord() expected string of length 1, but float found",
     "output_type": "error",
     "traceback": [
      "\u001b[1;31m---------------------------------------------------------------------------\u001b[0m",
      "\u001b[1;31mTypeError\u001b[0m                                 Traceback (most recent call last)",
      "\u001b[1;32m<ipython-input-16-58041c316c13>\u001b[0m in \u001b[0;36m<module>\u001b[1;34m\u001b[0m\n\u001b[0;32m      6\u001b[0m         \u001b[0mchar\u001b[0m \u001b[1;33m=\u001b[0m \u001b[0mstruct\u001b[0m\u001b[1;33m.\u001b[0m\u001b[0munpack\u001b[0m\u001b[1;33m(\u001b[0m\u001b[1;34m'<f'\u001b[0m\u001b[1;33m,\u001b[0m\u001b[0mb\u001b[0m\u001b[1;33m)\u001b[0m\u001b[1;33m\u001b[0m\u001b[1;33m\u001b[0m\u001b[0m\n\u001b[0;32m      7\u001b[0m         \u001b[0mprint\u001b[0m\u001b[1;33m(\u001b[0m\u001b[0mchar\u001b[0m\u001b[1;33m)\u001b[0m\u001b[1;33m\u001b[0m\u001b[1;33m\u001b[0m\u001b[0m\n\u001b[1;32m----> 8\u001b[1;33m         \u001b[0mprint\u001b[0m\u001b[1;33m(\u001b[0m\u001b[0mord\u001b[0m\u001b[1;33m(\u001b[0m\u001b[0mchar\u001b[0m\u001b[1;33m[\u001b[0m\u001b[1;36m0\u001b[0m\u001b[1;33m]\u001b[0m\u001b[1;33m)\u001b[0m\u001b[1;33m)\u001b[0m\u001b[1;33m\u001b[0m\u001b[1;33m\u001b[0m\u001b[0m\n\u001b[0m",
      "\u001b[1;31mTypeError\u001b[0m: ord() expected string of length 1, but float found"
     ]
    }
   ],
   "source": [
    "import struct\n",
    "with open('./pic/test.bmp','rb') as fp:\n",
    "    fp.read(58)    # 跳过开头的58个\n",
    "    for i in range(5):\n",
    "        b = fp.read(4)\n",
    "        char = struct.unpack('<f',b)\n",
    "        print(char)\n",
    "        print(ord(char[0])) "
   ]
  },
  {
   "cell_type": "code",
   "execution_count": 114,
   "metadata": {},
   "outputs": [
    {
     "name": "stdout",
     "output_type": "stream",
     "text": [
      "b'BM\\xbel\\x01\\x00\\x00\\x00\\x00\\x00>\\x00\\x00\\x00(\\x00\\x00\\x00\\x80\\x04\\x00\\x00\\x88\\x02\\x00\\x00\\x01\\x00\\x01\\x00'\n",
      "(b'B', b'M', 93374, 0, 62, 40, 1152, 648, 1, 1)\n"
     ]
    }
   ],
   "source": [
    "with open('./pic/test.bmp','rb') as fp:\n",
    "    b = fp.read(30)               # 读前30个字节\n",
    "    print(b)\n",
    "    print(struct.unpack('<ccIIIIIIHH',b))    # 可以顺序写待读取的类型 但是最终长度必须等于30 否则会报错"
   ]
  },
  {
   "cell_type": "markdown",
   "metadata": {},
   "source": [
    "两个字节：'BM'表示Windows位图，'BA'表示OS/2位图；一个4字节整数：表示位图大小；一个4字节整数：保留位，始终为0；一个4字节整数：实际图像的偏移量；一个4字节整数：Header的字节数；一个4字节整数：图像宽度；一个4字节整数：图像高度；一个2字节整数：始终为1；一个2字节整数：颜色数。"
   ]
  },
  {
   "cell_type": "markdown",
   "metadata": {},
   "source": [
    "### 读取Python脚本（文本文件）  eval和exec的神奇用法"
   ]
  },
  {
   "cell_type": "code",
   "execution_count": 2,
   "metadata": {},
   "outputs": [
    {
     "name": "stdout",
     "output_type": "stream",
     "text": [
      "b\"print('hello \\xe6\\x8b\\x8d\\xe6\\xa3\\xae')\"\n"
     ]
    },
    {
     "data": {
      "text/plain": [
       "\"print('hello 拍森')\""
      ]
     },
     "execution_count": 2,
     "metadata": {},
     "output_type": "execute_result"
    }
   ],
   "source": [
    "with open('./source/test.py','rb') as fp:\n",
    "    b = fp.read()\n",
    "    print(b) \n",
    "    \n",
    "b.decode()"
   ]
  },
  {
   "cell_type": "markdown",
   "metadata": {},
   "source": [
    "我有个大胆的想法 手动用Python解释Python脚本"
   ]
  },
  {
   "cell_type": "code",
   "execution_count": 141,
   "metadata": {},
   "outputs": [
    {
     "name": "stdout",
     "output_type": "stream",
     "text": [
      "hello 拍森\n"
     ]
    }
   ],
   "source": [
    "eval(b.decode())"
   ]
  },
  {
   "cell_type": "code",
   "execution_count": 3,
   "metadata": {},
   "outputs": [
    {
     "name": "stdout",
     "output_type": "stream",
     "text": [
      "b'for i in range(10):\\r\\n    print(i)\\r\\ninput()'\n"
     ]
    },
    {
     "data": {
      "text/plain": [
       "'for i in range(10):\\r\\n    print(i)\\r\\ninput()'"
      ]
     },
     "execution_count": 3,
     "metadata": {},
     "output_type": "execute_result"
    }
   ],
   "source": [
    "with open('./source/test1.py','rb') as fp:\n",
    "    b = fp.read()\n",
    "    print(b) \n",
    "    \n",
    "b.decode()"
   ]
  },
  {
   "cell_type": "code",
   "execution_count": 20,
   "metadata": {},
   "outputs": [
    {
     "ename": "SyntaxError",
     "evalue": "invalid syntax (<string>, line 1)",
     "output_type": "error",
     "traceback": [
      "Traceback \u001b[1;36m(most recent call last)\u001b[0m:\n",
      "  File \u001b[0;32m\"C:\\pyenv\\Anaconda3\\lib\\site-packages\\IPython\\core\\interactiveshell.py\"\u001b[0m, line \u001b[0;32m3343\u001b[0m, in \u001b[0;35mrun_code\u001b[0m\n    exec(code_obj, self.user_global_ns, self.user_ns)\n",
      "\u001b[1;36m  File \u001b[1;32m\"<ipython-input-20-b3c279cf72e2>\"\u001b[1;36m, line \u001b[1;32m1\u001b[1;36m, in \u001b[1;35m<module>\u001b[1;36m\u001b[0m\n\u001b[1;33m    eval(b.decode())\u001b[0m\n",
      "\u001b[1;36m  File \u001b[1;32m\"<string>\"\u001b[1;36m, line \u001b[1;32m1\u001b[0m\n\u001b[1;33m    for i in range(10):\u001b[0m\n\u001b[1;37m    ^\u001b[0m\n\u001b[1;31mSyntaxError\u001b[0m\u001b[1;31m:\u001b[0m invalid syntax\n"
     ]
    }
   ],
   "source": [
    "eval(b.decode())"
   ]
  },
  {
   "cell_type": "markdown",
   "metadata": {},
   "source": [
    "eval不能处理赋值 只能表达式求值 如果要赋值 必须使用作用域说明的方法来实现"
   ]
  },
  {
   "cell_type": "code",
   "execution_count": 138,
   "metadata": {},
   "outputs": [
    {
     "data": {
      "text/plain": [
       "12"
      ]
     },
     "execution_count": 138,
     "metadata": {},
     "output_type": "execute_result"
    }
   ],
   "source": [
    "x=4\n",
    "eval(\"3*x\")"
   ]
  },
  {
   "cell_type": "code",
   "execution_count": 139,
   "metadata": {},
   "outputs": [
    {
     "data": {
      "text/plain": [
       "5"
      ]
     },
     "execution_count": 139,
     "metadata": {},
     "output_type": "execute_result"
    }
   ],
   "source": [
    "x=10\n",
    "g={'a':4}\n",
    "eval(\"a+1\",g)   # eval 不能强行赋值  必须用字典作为作用于 传递给表达式"
   ]
  },
  {
   "cell_type": "markdown",
   "metadata": {},
   "source": [
    "eval和apply是底层的循环 必须不断地：传入变量 求值 传入变量 求值 。。。"
   ]
  },
  {
   "cell_type": "code",
   "execution_count": 147,
   "metadata": {
    "scrolled": true
   },
   "outputs": [
    {
     "name": "stdout",
     "output_type": "stream",
     "text": [
      "a: 30\n",
      "b: 3\n",
      "c: 4\n",
      "10 20\n",
      "d: None\n"
     ]
    }
   ],
   "source": [
    "x = 10\n",
    "def func():\n",
    "    y = 20   #局部变量y\n",
    "    a = eval(\"x+y\")\n",
    "    print(\"a:\",a)      #x没有就调用全局变量\n",
    "    b = eval(\"x+y\",{\"x\":1,\"y\":2})     #定义局部变量，优先调用\n",
    "    print(\"b:\",b)\n",
    "    c = eval(\"x+y\",{\"x\":1,\"y\":2},{\"y\":3,\"z\":4})  \n",
    "    print(\"c:\",c)  \n",
    "    d = eval(\"print(x,y)\")\n",
    "    print(\"d:\",d)   #对于变量d，因为print()函数不是一个计算表达式，因此没有返回值\n",
    "func()"
   ]
  },
  {
   "cell_type": "markdown",
   "metadata": {},
   "source": [
    "正规套路是exec 执行多行语句 直接运行 相比之下 exec没有返回值 "
   ]
  },
  {
   "cell_type": "code",
   "execution_count": 21,
   "metadata": {},
   "outputs": [
    {
     "name": "stdout",
     "output_type": "stream",
     "text": [
      "b'for i in range(10):\\r\\n    print(i)\\r\\ninput()'\n",
      "0\n",
      "1\n",
      "2\n",
      "3\n",
      "4\n",
      "5\n",
      "6\n",
      "7\n",
      "8\n",
      "9\n",
      "jjj\n"
     ]
    }
   ],
   "source": [
    "with open('./source/test1.py','rb') as fp:\n",
    "    b = fp.read()\n",
    "    print(b) \n",
    "    \n",
    "b.decode()\n",
    "\n",
    "exec(b.decode())"
   ]
  },
  {
   "cell_type": "markdown",
   "metadata": {},
   "source": [
    "这俩玩意的用处一般是读取看似结构化的文件"
   ]
  },
  {
   "cell_type": "code",
   "execution_count": 161,
   "metadata": {},
   "outputs": [
    {
     "name": "stdout",
     "output_type": "stream",
     "text": [
      "[1,2,3,4,5]\n",
      "\n",
      "[6,7,8,9,10]\n",
      "\n",
      "[11,12,13,14,15]\n",
      "\n",
      "[161,171,181,91,110]\n"
     ]
    }
   ],
   "source": [
    "with open('./source/test2.xxx','r') as fp:\n",
    "    index = 0\n",
    "    for line in fp:\n",
    "        print(line)\n",
    "        temp = 'a'+str(index)+'='+line\n",
    "        exec(temp)\n",
    "        index +=1"
   ]
  },
  {
   "cell_type": "code",
   "execution_count": 162,
   "metadata": {},
   "outputs": [
    {
     "name": "stdout",
     "output_type": "stream",
     "text": [
      "[1, 2, 3, 4, 5]\n",
      "[6, 7, 8, 9, 10]\n",
      "[11, 12, 13, 14, 15]\n",
      "[161, 171, 181, 91, 110]\n"
     ]
    }
   ],
   "source": [
    "print(a0)\n",
    "print(a1)\n",
    "print(a2)\n",
    "print(a3)"
   ]
  },
  {
   "cell_type": "markdown",
   "metadata": {},
   "source": [
    "## 小结"
   ]
  },
  {
   "cell_type": "markdown",
   "metadata": {},
   "source": [
    "### * Python 不同进制数字int： 0x 0o 0b  \n",
    "### * Python 字符串str\n",
    "    1. 普通字符串         'yingwen中文都行'     （存下来的时候utf8 读内存里面换unicode的）\n",
    "    2. 不转义字符串        r'\\x\\n\\u2312'\n",
    "    3. unicode字符串       u'yingwen中文都行\\u2312'  \n",
    "### * Python 字节流bytes  \n",
    "    1. 普通ascii字节流        b'dasda1212'\n",
    "    2. 掺入unicode的字节流    b'\\uffaa\\uffaaZ'      (\\uffaa是一个两字节unicode字符 Z是ascii字符)\n",
    "    3. 掺入utf8的字节流       b'\\xe5\\x8d\\x95\\xe4\\xb8\\xaa'\n",
    "    4. 纯十六进制表示的字节流 b'\\xe5'            (也许毫无意义 不符合任何编码 就是个野字节)  \n",
    "### * Python编码格式   \n",
    "    1. 只有字节流才管编码  str和int是python运行时候做的object而已\n",
    "    2. 字节流其实可以描述为数字 0-255 两个十六进制数字 组合就是一个byte （也就是一个ascii字符)\n",
    "    3. 所有编码格式 无非规定几个字节对应一个字符 ascii一个字节一个字符 unicode两个字节一个字符 utf8指不定几个字节一个字符\n",
    "    4. （计算机看的）1111 1111 1111 1111  =>  （给码农看的）FF FF FF FF （数字都一样）=> （字符） 打印在屏幕上不一样 给人看的  \n",
    "### * Python的str和int向字节流的转换\n",
    "    1. str通过encode转为字节流   字节流通过decode转回str\n",
    "    2. int（多种进制）通过chr转为单个字符 单个字符通过ord转回int\n",
    "    3. 多种长度的数据例如float等 需要通过特定的库struct或者内置方法 转换为字节流 转换结果有长度截断和大小端区别\n",
    "    4. 如果高位存在高位 就是小端 如果高位反而存在低位 就是大端  "
   ]
  },
  {
   "cell_type": "markdown",
   "metadata": {},
   "source": [
    "# 正则表达式"
   ]
  },
  {
   "cell_type": "markdown",
   "metadata": {},
   "source": [
    "识别电话号码 xxx-xxx-xxxx"
   ]
  },
  {
   "cell_type": "code",
   "execution_count": 24,
   "metadata": {},
   "outputs": [
    {
     "name": "stdout",
     "output_type": "stream",
     "text": [
      "415-555-4242 is a phone number:\n",
      "True\n",
      "Moshi moshi is a phone number:\n",
      "False\n"
     ]
    }
   ],
   "source": [
    "def isPhoneNumber(text):\n",
    "    if len(text) != 12:\n",
    "        return False\n",
    "    for i in range(0, 3):\n",
    "        if not text[i].isdecimal():\n",
    "            return False\n",
    "    if text[3] != '-':\n",
    "        return False\n",
    "    for i in range(4, 7):\n",
    "        if not text[i].isdecimal():\n",
    "            return False\n",
    "    if text[7] != '-':\n",
    "        return False\n",
    "    for i in range(8, 12):\n",
    "        if not text[i].isdecimal():\n",
    "            return False\n",
    "    return True\n",
    "\n",
    "print('415-555-4242 is a phone number:')\n",
    "print(isPhoneNumber('415-555-4242'))\n",
    "print('Moshi moshi is a phone number:')\n",
    "print(isPhoneNumber('Moshi moshi'))"
   ]
  },
  {
   "cell_type": "markdown",
   "metadata": {},
   "source": [
    "## A. Python正则表达式使用基础方法：  \n",
    "1. re.match\n",
    "2. re.search\n",
    "3. 先制作pattern 然后pattern.match  pattern.search\n",
    "\n",
    "为啥这么麻烦呢？在多次使用某个正则表达式时推荐使用正则对象Pattern 以增加复用性，因为通过 re.compile(pattern) 编译后的模块级函数会被缓存"
   ]
  },
  {
   "cell_type": "markdown",
   "metadata": {},
   "source": [
    "![正则](pic/正则.png)"
   ]
  },
  {
   "cell_type": "code",
   "execution_count": 4,
   "metadata": {},
   "outputs": [],
   "source": [
    "import re"
   ]
  },
  {
   "cell_type": "markdown",
   "metadata": {},
   "source": [
    "### re match"
   ]
  },
  {
   "cell_type": "code",
   "execution_count": 61,
   "metadata": {},
   "outputs": [
    {
     "name": "stdout",
     "output_type": "stream",
     "text": [
      "None\n",
      "<re.Match object; span=(0, 4), match='umji'>\n",
      "umji\n",
      "0\n",
      "4\n",
      "(0, 4)\n",
      "<class 'str'>\n"
     ]
    }
   ],
   "source": [
    "a = 'umji'        # 最简单的正则表达式就是字符串\n",
    "match = re.match(a,'xxxx umji isbest umji inworld')\n",
    "print(match)\n",
    "match = re.match(a,'umji isbest umji inworld')\n",
    "print(match)\n",
    "\n",
    "print(match.group())\n",
    "print(match.start())\n",
    "print(match.end())\n",
    "print(match.span())\n",
    "print(type(match.group()))"
   ]
  },
  {
   "cell_type": "markdown",
   "metadata": {},
   "source": [
    "### re search"
   ]
  },
  {
   "cell_type": "code",
   "execution_count": 62,
   "metadata": {},
   "outputs": [
    {
     "name": "stdout",
     "output_type": "stream",
     "text": [
      "umji\n",
      "5\n",
      "9\n",
      "(5, 9)\n",
      "<class 'str'>\n"
     ]
    }
   ],
   "source": [
    "a = r'umji'        # 最简单的正则表达式就是字符串\n",
    "match = re.search(a,'xxxx umji isbest umji inworld')\n",
    "if match:\n",
    "    print(match.group())  # 匹配内容  还可以groups返回全部 \n",
    "    print(match.start())  # 匹配开始点\n",
    "    print(match.end())    # 匹配结束点\n",
    "    print(match.span())   # 匹配起止点的tuple\n",
    "    print(type(match.group()))"
   ]
  },
  {
   "cell_type": "markdown",
   "metadata": {},
   "source": [
    "match 从头匹配  search 随便匹配"
   ]
  },
  {
   "cell_type": "markdown",
   "metadata": {},
   "source": [
    "###  pattern对象"
   ]
  },
  {
   "cell_type": "markdown",
   "metadata": {},
   "source": [
    "#### 最简单匹配 数字加连字符"
   ]
  },
  {
   "cell_type": "code",
   "execution_count": 27,
   "metadata": {},
   "outputs": [],
   "source": [
    "Reg = re.compile(r'\\d\\d\\d-\\d\\d\\d-\\d\\d\\d\\d')"
   ]
  },
  {
   "cell_type": "code",
   "execution_count": 35,
   "metadata": {},
   "outputs": [],
   "source": [
    "# dir(Reg)"
   ]
  },
  {
   "cell_type": "code",
   "execution_count": 36,
   "metadata": {},
   "outputs": [
    {
     "data": {
      "text/plain": [
       "re.Pattern"
      ]
     },
     "execution_count": 36,
     "metadata": {},
     "output_type": "execute_result"
    }
   ],
   "source": [
    "type(Reg)"
   ]
  },
  {
   "cell_type": "code",
   "execution_count": 28,
   "metadata": {},
   "outputs": [],
   "source": [
    "M = Reg.search('dafdafdsfadsfds 400-200-1111')"
   ]
  },
  {
   "cell_type": "code",
   "execution_count": 31,
   "metadata": {},
   "outputs": [
    {
     "data": {
      "text/plain": [
       "<re.Match object; span=(16, 28), match='400-200-1111'>"
      ]
     },
     "execution_count": 31,
     "metadata": {},
     "output_type": "execute_result"
    }
   ],
   "source": [
    "M"
   ]
  },
  {
   "cell_type": "markdown",
   "metadata": {},
   "source": [
    "group方法"
   ]
  },
  {
   "cell_type": "code",
   "execution_count": 38,
   "metadata": {
    "scrolled": false
   },
   "outputs": [
    {
     "data": {
      "text/plain": [
       "'400-200-1111'"
      ]
     },
     "execution_count": 38,
     "metadata": {},
     "output_type": "execute_result"
    }
   ],
   "source": [
    "M.group()"
   ]
  },
  {
   "cell_type": "code",
   "execution_count": 47,
   "metadata": {},
   "outputs": [
    {
     "data": {
      "text/plain": [
       "()"
      ]
     },
     "execution_count": 47,
     "metadata": {},
     "output_type": "execute_result"
    }
   ],
   "source": [
    "M.groups()"
   ]
  },
  {
   "cell_type": "markdown",
   "metadata": {},
   "source": [
    "#### 分组匹配"
   ]
  },
  {
   "cell_type": "markdown",
   "metadata": {},
   "source": [
    "假定想要将区号从电话号码中分离。添加括号将在正则表达式中创建“分组”"
   ]
  },
  {
   "cell_type": "markdown",
   "metadata": {},
   "source": [
    "分组的意义在于分组返回  \n",
    "(r'(\\d\\d\\d)-(\\d\\d\\d-\\d\\d\\d\\d)'  \n",
    "使用括号给表达式分组"
   ]
  },
  {
   "cell_type": "code",
   "execution_count": 45,
   "metadata": {},
   "outputs": [],
   "source": [
    "phoneNumRegex = re.compile(r'(\\d\\d\\d)-(\\d\\d\\d-\\d\\d\\d\\d)')\n",
    "reg = phoneNumRegex.search('My number is 415-555-4242.')"
   ]
  },
  {
   "cell_type": "code",
   "execution_count": 46,
   "metadata": {},
   "outputs": [
    {
     "data": {
      "text/plain": [
       "'415-555-4242'"
      ]
     },
     "execution_count": 46,
     "metadata": {},
     "output_type": "execute_result"
    }
   ],
   "source": [
    "reg.group()"
   ]
  },
  {
   "cell_type": "code",
   "execution_count": 47,
   "metadata": {},
   "outputs": [
    {
     "data": {
      "text/plain": [
       "'415-555-4242'"
      ]
     },
     "execution_count": 47,
     "metadata": {},
     "output_type": "execute_result"
    }
   ],
   "source": [
    "reg.group(0)"
   ]
  },
  {
   "cell_type": "code",
   "execution_count": 48,
   "metadata": {},
   "outputs": [
    {
     "data": {
      "text/plain": [
       "'415'"
      ]
     },
     "execution_count": 48,
     "metadata": {},
     "output_type": "execute_result"
    }
   ],
   "source": [
    "reg.group(1)"
   ]
  },
  {
   "cell_type": "code",
   "execution_count": 49,
   "metadata": {},
   "outputs": [
    {
     "data": {
      "text/plain": [
       "'555-4242'"
      ]
     },
     "execution_count": 49,
     "metadata": {},
     "output_type": "execute_result"
    }
   ],
   "source": [
    "reg.group(2)"
   ]
  },
  {
   "cell_type": "code",
   "execution_count": 51,
   "metadata": {},
   "outputs": [
    {
     "data": {
      "text/plain": [
       "('415', '555-4242')"
      ]
     },
     "execution_count": 51,
     "metadata": {},
     "output_type": "execute_result"
    }
   ],
   "source": [
    "reg.groups()"
   ]
  },
  {
   "cell_type": "code",
   "execution_count": 52,
   "metadata": {},
   "outputs": [
    {
     "data": {
      "text/plain": [
       "[('415', '555-4242')]"
      ]
     },
     "execution_count": 52,
     "metadata": {},
     "output_type": "execute_result"
    }
   ],
   "source": [
    "phoneNumRegex.findall('My number is 415-555-4242.')"
   ]
  },
  {
   "cell_type": "markdown",
   "metadata": {},
   "source": [
    "## B. pattern的编写 《重点》\n",
    "1. 位置 \n",
    "2. 字符\n",
    "3. 数量\n",
    "4. 逻辑"
   ]
  },
  {
   "cell_type": "markdown",
   "metadata": {},
   "source": [
    "### 1. 位置"
   ]
  },
  {
   "cell_type": "markdown",
   "metadata": {},
   "source": [
    "匹配每一行的开头结尾"
   ]
  },
  {
   "cell_type": "code",
   "execution_count": 152,
   "metadata": {},
   "outputs": [
    {
     "data": {
      "text/plain": [
       "'M'"
      ]
     },
     "execution_count": 152,
     "metadata": {},
     "output_type": "execute_result"
    }
   ],
   "source": [
    "Rex = re.compile(r'^M')\n",
    "reg = Rex.search('My number is 415-555-4242.')\n",
    "reg.group()"
   ]
  },
  {
   "cell_type": "code",
   "execution_count": 151,
   "metadata": {},
   "outputs": [
    {
     "data": {
      "text/plain": [
       "'M'"
      ]
     },
     "execution_count": 151,
     "metadata": {},
     "output_type": "execute_result"
    }
   ],
   "source": [
    "Rex = re.compile(r'^M',re.M)  # 多行模式 后续介绍\n",
    "reg = Rex.search('xx number is 415-555-4242.\\nMy number is 415-555-4242.')\n",
    "reg.group(0)"
   ]
  },
  {
   "cell_type": "code",
   "execution_count": 141,
   "metadata": {
    "scrolled": true
   },
   "outputs": [
    {
     "data": {
      "text/plain": [
       "'M'"
      ]
     },
     "execution_count": 141,
     "metadata": {},
     "output_type": "execute_result"
    }
   ],
   "source": [
    "Rex = re.compile(r'M$')\n",
    "reg = Rex.search('My number is 415-555-4242.M')\n",
    "reg.group()"
   ]
  },
  {
   "cell_type": "markdown",
   "metadata": {},
   "source": [
    "仅匹配字符串开头结尾"
   ]
  },
  {
   "cell_type": "code",
   "execution_count": 154,
   "metadata": {},
   "outputs": [
    {
     "data": {
      "text/plain": [
       "'M'"
      ]
     },
     "execution_count": 154,
     "metadata": {},
     "output_type": "execute_result"
    }
   ],
   "source": [
    "Rex = re.compile(r'\\AM',re.M)  # 多行模式 后续介绍\n",
    "reg = Rex.search('Mxx number is 415-555-4242.\\nMy number is 415-555-4242.')\n",
    "reg.group(0)"
   ]
  },
  {
   "cell_type": "code",
   "execution_count": 159,
   "metadata": {
    "scrolled": true
   },
   "outputs": [
    {
     "data": {
      "text/plain": [
       "'M'"
      ]
     },
     "execution_count": 159,
     "metadata": {},
     "output_type": "execute_result"
    }
   ],
   "source": [
    "Rex = re.compile(r'M\\Z')\n",
    "reg = Rex.search('y number is 415-555-4242.M')\n",
    "reg.group()"
   ]
  },
  {
   "cell_type": "markdown",
   "metadata": {},
   "source": [
    "### 2. 字符"
   ]
  },
  {
   "cell_type": "markdown",
   "metadata": {},
   "source": [
    "一般字符串 严格匹配自己 同时注意转义字符"
   ]
  },
  {
   "cell_type": "code",
   "execution_count": 111,
   "metadata": {},
   "outputs": [
    {
     "data": {
      "text/plain": [
       "'umb'"
      ]
     },
     "execution_count": 111,
     "metadata": {},
     "output_type": "execute_result"
    }
   ],
   "source": [
    "Rex = re.compile(r'umb')\n",
    "reg = Rex.search('My number is 415-555-4242.')\n",
    "reg.group()"
   ]
  },
  {
   "cell_type": "code",
   "execution_count": 5,
   "metadata": {},
   "outputs": [
    {
     "data": {
      "text/plain": [
       "'umb\\\\'"
      ]
     },
     "execution_count": 5,
     "metadata": {},
     "output_type": "execute_result"
    }
   ],
   "source": [
    "Rex = re.compile(r'umb\\\\')\n",
    "reg = Rex.search('My numb\\er is 415-555-4242.')\n",
    "reg.group()"
   ]
  },
  {
   "cell_type": "markdown",
   "metadata": {},
   "source": [
    "单个占位 .    \n",
    "这里一般不能匹配换行符"
   ]
  },
  {
   "cell_type": "code",
   "execution_count": 85,
   "metadata": {},
   "outputs": [
    {
     "data": {
      "text/plain": [
       "'My'"
      ]
     },
     "execution_count": 85,
     "metadata": {},
     "output_type": "execute_result"
    }
   ],
   "source": [
    "Rex = re.compile(r'M.')\n",
    "reg = Rex.search('My number is 415-555-4242.')\n",
    "reg.group()"
   ]
  },
  {
   "cell_type": "code",
   "execution_count": 88,
   "metadata": {},
   "outputs": [
    {
     "data": {
      "text/plain": [
       "'My nu'"
      ]
     },
     "execution_count": 88,
     "metadata": {},
     "output_type": "execute_result"
    }
   ],
   "source": [
    "Rex = re.compile(r'M....')\n",
    "reg = Rex.search('My number is 415-555-4242.')\n",
    "reg.group()"
   ]
  },
  {
   "cell_type": "code",
   "execution_count": 112,
   "metadata": {},
   "outputs": [
    {
     "data": {
      "text/plain": [
       "'My numb'"
      ]
     },
     "execution_count": 112,
     "metadata": {},
     "output_type": "execute_result"
    }
   ],
   "source": [
    "Rex = re.compile(r'M....mb')\n",
    "reg = Rex.search('My number is 415-555-4242.')\n",
    "reg.group()"
   ]
  },
  {
   "cell_type": "markdown",
   "metadata": {},
   "source": [
    "字符集 在同一个位置 匹配好些个字符"
   ]
  },
  {
   "cell_type": "code",
   "execution_count": 169,
   "metadata": {},
   "outputs": [
    {
     "data": {
      "text/plain": [
       "'Mynumb'"
      ]
     },
     "execution_count": 169,
     "metadata": {},
     "output_type": "execute_result"
    }
   ],
   "source": [
    "Rex = re.compile(r'M[h-z]numb')\n",
    "reg = Rex.search('Mynumber is 415-555-4242.')\n",
    "reg.group()"
   ]
  },
  {
   "cell_type": "code",
   "execution_count": 171,
   "metadata": {},
   "outputs": [
    {
     "data": {
      "text/plain": [
       "'Mynumb'"
      ]
     },
     "execution_count": 171,
     "metadata": {},
     "output_type": "execute_result"
    }
   ],
   "source": [
    "Rex = re.compile(r'M[ayz]numb')\n",
    "reg = Rex.search('Mynumber is 415-555-4242.')\n",
    "reg.group()"
   ]
  },
  {
   "cell_type": "code",
   "execution_count": 175,
   "metadata": {},
   "outputs": [
    {
     "data": {
      "text/plain": [
       "'M\\nnumb'"
      ]
     },
     "execution_count": 175,
     "metadata": {},
     "output_type": "execute_result"
    }
   ],
   "source": [
    "Rex = re.compile(r'M[^a-h]numb')  # 除了a到h的其他一切字符\n",
    "reg = Rex.search('M\\nnumber is 415-555-4242.')\n",
    "reg.group()"
   ]
  },
  {
   "cell_type": "markdown",
   "metadata": {},
   "source": [
    "特殊字符"
   ]
  },
  {
   "cell_type": "markdown",
   "metadata": {},
   "source": [
    "数字 \\\\d"
   ]
  },
  {
   "cell_type": "code",
   "execution_count": 176,
   "metadata": {},
   "outputs": [
    {
     "data": {
      "text/plain": [
       "'4'"
      ]
     },
     "execution_count": 176,
     "metadata": {},
     "output_type": "execute_result"
    }
   ],
   "source": [
    "Rex = re.compile(r'\\d') \n",
    "reg = Rex.search('M\\nnumber is 415-555-4242.')\n",
    "reg.group()"
   ]
  },
  {
   "cell_type": "code",
   "execution_count": 177,
   "metadata": {},
   "outputs": [
    {
     "data": {
      "text/plain": [
       "'4'"
      ]
     },
     "execution_count": 177,
     "metadata": {},
     "output_type": "execute_result"
    }
   ],
   "source": [
    "Rex = re.compile(r'[0-9]') \n",
    "reg = Rex.search('M\\nnumber is 415-555-4242.')\n",
    "reg.group()"
   ]
  },
  {
   "cell_type": "code",
   "execution_count": 185,
   "metadata": {},
   "outputs": [
    {
     "data": {
      "text/plain": [
       "'M'"
      ]
     },
     "execution_count": 185,
     "metadata": {},
     "output_type": "execute_result"
    }
   ],
   "source": [
    "Rex = re.compile(r'\\D')  # 非数字\n",
    "reg = Rex.search('M\\nnumber is 415-555-4242.')\n",
    "reg.group()"
   ]
  },
  {
   "cell_type": "code",
   "execution_count": 179,
   "metadata": {},
   "outputs": [
    {
     "data": {
      "text/plain": [
       "'M'"
      ]
     },
     "execution_count": 179,
     "metadata": {},
     "output_type": "execute_result"
    }
   ],
   "source": [
    "Rex = re.compile(r'[^0-9]')  \n",
    "reg = Rex.search('M\\nnumber is 415-555-4242.')\n",
    "reg.group()"
   ]
  },
  {
   "cell_type": "markdown",
   "metadata": {},
   "source": [
    "空白字符 \\\\s"
   ]
  },
  {
   "cell_type": "code",
   "execution_count": 180,
   "metadata": {},
   "outputs": [
    {
     "data": {
      "text/plain": [
       "' is'"
      ]
     },
     "execution_count": 180,
     "metadata": {},
     "output_type": "execute_result"
    }
   ],
   "source": [
    "Rex = re.compile(r'\\sis') \n",
    "reg = Rex.search('M\\nnumber is 415-555-4242.')\n",
    "reg.group()"
   ]
  },
  {
   "cell_type": "code",
   "execution_count": 181,
   "metadata": {},
   "outputs": [
    {
     "data": {
      "text/plain": [
       "'\\nn'"
      ]
     },
     "execution_count": 181,
     "metadata": {},
     "output_type": "execute_result"
    }
   ],
   "source": [
    "Rex = re.compile(r'\\sn') \n",
    "reg = Rex.search('M\\nnumber is 415-555-4242.')\n",
    "reg.group()"
   ]
  },
  {
   "cell_type": "code",
   "execution_count": 182,
   "metadata": {},
   "outputs": [
    {
     "data": {
      "text/plain": [
       "'\\tn'"
      ]
     },
     "execution_count": 182,
     "metadata": {},
     "output_type": "execute_result"
    }
   ],
   "source": [
    "Rex = re.compile(r'\\sn')  \n",
    "reg = Rex.search('M\\tnumber is 415-555-4242.')\n",
    "reg.group()"
   ]
  },
  {
   "cell_type": "code",
   "execution_count": 183,
   "metadata": {},
   "outputs": [
    {
     "data": {
      "text/plain": [
       "'\\t'"
      ]
     },
     "execution_count": 183,
     "metadata": {},
     "output_type": "execute_result"
    }
   ],
   "source": [
    "Rex = re.compile(r'[ \\t\\r\\f\\n\\v]') # 空格 制表 回车 换页 换行 垂直制表\n",
    "reg = Rex.search('M\\tnumber is 415-555-4242.')\n",
    "reg.group()"
   ]
  },
  {
   "cell_type": "code",
   "execution_count": 184,
   "metadata": {},
   "outputs": [
    {
     "data": {
      "text/plain": [
       "' is'"
      ]
     },
     "execution_count": 184,
     "metadata": {},
     "output_type": "execute_result"
    }
   ],
   "source": [
    "Rex = re.compile(r'\\s\\Ss') #非空白字符\n",
    "reg = Rex.search('M\\tnumber is 415-555-4242.')\n",
    "reg.group()"
   ]
  },
  {
   "cell_type": "markdown",
   "metadata": {},
   "source": [
    "单词字符 \\\\w"
   ]
  },
  {
   "cell_type": "code",
   "execution_count": 186,
   "metadata": {},
   "outputs": [
    {
     "data": {
      "text/plain": [
       "'er '"
      ]
     },
     "execution_count": 186,
     "metadata": {},
     "output_type": "execute_result"
    }
   ],
   "source": [
    "Rex = re.compile(r'\\w\\w\\s')\n",
    "reg = Rex.search('M\\tnumber is 415-555-4242.')\n",
    "reg.group()"
   ]
  },
  {
   "cell_type": "code",
   "execution_count": 190,
   "metadata": {},
   "outputs": [
    {
     "data": {
      "text/plain": [
       "'M'"
      ]
     },
     "execution_count": 190,
     "metadata": {},
     "output_type": "execute_result"
    }
   ],
   "source": [
    "Rex = re.compile(r'[A-Za-z0-9]')\n",
    "reg = Rex.search('M\\tnumber is 415-555-4242.')\n",
    "reg.group()"
   ]
  },
  {
   "cell_type": "code",
   "execution_count": 189,
   "metadata": {},
   "outputs": [
    {
     "data": {
      "text/plain": [
       "'\\t'"
      ]
     },
     "execution_count": 189,
     "metadata": {},
     "output_type": "execute_result"
    }
   ],
   "source": [
    "Rex = re.compile(r'\\W') #非单词\n",
    "reg = Rex.search('M\\tnumber is 415-555-4242.')\n",
    "reg.group()"
   ]
  },
  {
   "cell_type": "markdown",
   "metadata": {},
   "source": [
    "中文字符"
   ]
  },
  {
   "cell_type": "code",
   "execution_count": 205,
   "metadata": {},
   "outputs": [
    {
     "data": {
      "text/plain": [
       "'u爆炸m'"
      ]
     },
     "execution_count": 205,
     "metadata": {},
     "output_type": "execute_result"
    }
   ],
   "source": [
    "Rex = re.compile(r'\\w爆炸\\w')\n",
    "reg = Rex.search('M\\tnu爆炸mber is 415-555-4242.')\n",
    "reg.group()"
   ]
  },
  {
   "cell_type": "code",
   "execution_count": 206,
   "metadata": {},
   "outputs": [
    {
     "data": {
      "text/plain": [
       "'爆'"
      ]
     },
     "execution_count": 206,
     "metadata": {},
     "output_type": "execute_result"
    }
   ],
   "source": [
    "Rex = re.compile(r'[\\u4e00-\\u9fa5]')  # 全部中文字符\n",
    "reg = Rex.search('M\\tnu爆炸mber is 415-555-4242.')\n",
    "reg.group()"
   ]
  },
  {
   "cell_type": "markdown",
   "metadata": {},
   "source": [
    "### 3. 数量"
   ]
  },
  {
   "cell_type": "markdown",
   "metadata": {},
   "source": [
    "多次匹配前一个字符  \n",
    "? 0或1  \n",
    "\\+ 1到无限大  \n",
    "\\* 0到无限大"
   ]
  },
  {
   "cell_type": "code",
   "execution_count": 98,
   "metadata": {},
   "outputs": [
    {
     "data": {
      "text/plain": [
       "'MMMM'"
      ]
     },
     "execution_count": 98,
     "metadata": {},
     "output_type": "execute_result"
    }
   ],
   "source": [
    "Rex = re.compile(r'M+') #匹配一个以上的M\n",
    "reg = Rex.search('dafdfdaMMMMfdfds number is 415-555-4242.')\n",
    "reg.group()"
   ]
  },
  {
   "cell_type": "code",
   "execution_count": 113,
   "metadata": {},
   "outputs": [
    {
     "data": {
      "text/plain": [
       "'daMMMM'"
      ]
     },
     "execution_count": 113,
     "metadata": {},
     "output_type": "execute_result"
    }
   ],
   "source": [
    "Rex = re.compile(r'daM+') #匹配一个以上的M\n",
    "reg = Rex.search('dafdfdaMMMMfdfds number is 415-555-4242.')\n",
    "reg.group()"
   ]
  },
  {
   "cell_type": "code",
   "execution_count": 121,
   "metadata": {},
   "outputs": [
    {
     "data": {
      "text/plain": [
       "''"
      ]
     },
     "execution_count": 121,
     "metadata": {},
     "output_type": "execute_result"
    }
   ],
   "source": [
    "Rex = re.compile(r'M?')  # 默认匹配零个 所以匹配了个寂寞\n",
    "reg = Rex.search('dafdfdaMfdfds number is 415-555-4242.')\n",
    "reg.group()"
   ]
  },
  {
   "cell_type": "code",
   "execution_count": 32,
   "metadata": {},
   "outputs": [
    {
     "data": {
      "text/plain": [
       "'daM'"
      ]
     },
     "execution_count": 32,
     "metadata": {},
     "output_type": "execute_result"
    }
   ],
   "source": [
    "Rex = re.compile(r'daM?')  # 默认匹配零个M 所以只剩下了da\n",
    "reg = Rex.search('xxxdaMMs number is 415-555-4242.')\n",
    "reg.group()"
   ]
  },
  {
   "cell_type": "code",
   "execution_count": 33,
   "metadata": {},
   "outputs": [
    {
     "data": {
      "text/plain": [
       "'da'"
      ]
     },
     "execution_count": 33,
     "metadata": {},
     "output_type": "execute_result"
    }
   ],
   "source": [
    "Rex = re.compile(r'daM?')  # 返回了第一个匹配到的da 就停止了\n",
    "reg = Rex.search('dadadaMMs number is 415-555-4242.')\n",
    "reg.group()"
   ]
  },
  {
   "cell_type": "code",
   "execution_count": 119,
   "metadata": {},
   "outputs": [
    {
     "data": {
      "text/plain": [
       "'ABM'"
      ]
     },
     "execution_count": 119,
     "metadata": {},
     "output_type": "execute_result"
    }
   ],
   "source": [
    "Rex = re.compile(r'ABM?')  # 匹配零个或一个M\n",
    "reg = Rex.search('dafdfMABMdafdfds number is 415-555-4242.')\n",
    "reg.group()"
   ]
  },
  {
   "cell_type": "code",
   "execution_count": 110,
   "metadata": {},
   "outputs": [
    {
     "data": {
      "text/plain": [
       "'AB'"
      ]
     },
     "execution_count": 110,
     "metadata": {},
     "output_type": "execute_result"
    }
   ],
   "source": [
    "Rex = re.compile(r'ABM?')  # 匹配零个或一个M\n",
    "reg = Rex.search('dafdfMABxxxdafdfds number is 415-555-4242.')\n",
    "reg.group()"
   ]
  },
  {
   "cell_type": "markdown",
   "metadata": {},
   "source": [
    "匹配规定次数前一个字符"
   ]
  },
  {
   "cell_type": "code",
   "execution_count": 130,
   "metadata": {},
   "outputs": [
    {
     "data": {
      "text/plain": [
       "'daMMMM'"
      ]
     },
     "execution_count": 130,
     "metadata": {},
     "output_type": "execute_result"
    }
   ],
   "source": [
    "Rex = re.compile(r'daM{4}')  # 匹配M4次\n",
    "reg = Rex.search('dadaMMMMdadada  number is 415-555-4242.')\n",
    "reg.group()"
   ]
  },
  {
   "cell_type": "code",
   "execution_count": 192,
   "metadata": {},
   "outputs": [
    {
     "data": {
      "text/plain": [
       "'daMMMM'"
      ]
     },
     "execution_count": 192,
     "metadata": {},
     "output_type": "execute_result"
    }
   ],
   "source": [
    "Rex = re.compile(r'daM{2,4}')  # 匹配M2到4次 默认是贪心匹配更多 \n",
    "reg = Rex.search('dadaMMMMMMdadada  number is 415-555-4242.')\n",
    "reg.group()"
   ]
  },
  {
   "cell_type": "code",
   "execution_count": 193,
   "metadata": {},
   "outputs": [
    {
     "data": {
      "text/plain": [
       "'daMM'"
      ]
     },
     "execution_count": 193,
     "metadata": {},
     "output_type": "execute_result"
    }
   ],
   "source": [
    "Rex = re.compile(r'daM{2,4}?')  # 匹配M2到4次 改为非贪心匹配更少 \n",
    "reg = Rex.search('dadaMMMMMMdadada  number is 415-555-4242.')\n",
    "reg.group()"
   ]
  },
  {
   "cell_type": "markdown",
   "metadata": {},
   "source": [
    "宇宙级别匹配 .*  \n",
    "匹配任意非换行符的零到无数次重复"
   ]
  },
  {
   "cell_type": "code",
   "execution_count": 214,
   "metadata": {},
   "outputs": [
    {
     "data": {
      "text/plain": [
       "'xx number is 415-555-4242.'"
      ]
     },
     "execution_count": 214,
     "metadata": {},
     "output_type": "execute_result"
    }
   ],
   "source": [
    "Rex = re.compile(r'.*') \n",
    "reg = Rex.search('xx number is 415-555-4242.\\nMy number is 415-555-4242.')\n",
    "reg.group()"
   ]
  },
  {
   "cell_type": "markdown",
   "metadata": {},
   "source": [
    "### 4. 逻辑"
   ]
  },
  {
   "cell_type": "markdown",
   "metadata": {},
   "source": [
    "别忘了括号分组 可以整合为一个单元"
   ]
  },
  {
   "cell_type": "code",
   "execution_count": 138,
   "metadata": {},
   "outputs": [
    {
     "data": {
      "text/plain": [
       "'ABMABM'"
      ]
     },
     "execution_count": 138,
     "metadata": {},
     "output_type": "execute_result"
    }
   ],
   "source": [
    "Rex = re.compile(r'(ABM)*')  # 匹配零到无数个ABM\n",
    "reg = Rex.search('ABMABMABxdafdfds number is 415-555-4242.')\n",
    "reg.group()"
   ]
  },
  {
   "cell_type": "markdown",
   "metadata": {},
   "source": [
    "注意：任何零匹配 从头开始的陷阱"
   ]
  },
  {
   "cell_type": "code",
   "execution_count": 140,
   "metadata": {},
   "outputs": [
    {
     "data": {
      "text/plain": [
       "''"
      ]
     },
     "execution_count": 140,
     "metadata": {},
     "output_type": "execute_result"
    }
   ],
   "source": [
    "Rex = re.compile(r'(ABM)*')  # 匹配零到无数个ABM 开始就匹配到了 零个ABM 匹配了个寂寞\n",
    "reg = Rex.search('xxABMABMABxdafdfds number is 415-555-4242.')\n",
    "reg.group()"
   ]
  },
  {
   "cell_type": "markdown",
   "metadata": {},
   "source": [
    "或者"
   ]
  },
  {
   "cell_type": "code",
   "execution_count": 195,
   "metadata": {},
   "outputs": [
    {
     "data": {
      "text/plain": [
       "'BCD'"
      ]
     },
     "execution_count": 195,
     "metadata": {},
     "output_type": "execute_result"
    }
   ],
   "source": [
    "Rex = re.compile(r'(ABM)|(BCD)')  \n",
    "reg = Rex.search('BCDABMABMABxdafdfds number is 415-555-4242.')\n",
    "reg.group()"
   ]
  },
  {
   "cell_type": "code",
   "execution_count": 196,
   "metadata": {},
   "outputs": [
    {
     "data": {
      "text/plain": [
       "'AdeF'"
      ]
     },
     "execution_count": 196,
     "metadata": {},
     "output_type": "execute_result"
    }
   ],
   "source": [
    "Rex = re.compile(r'A(bc|de)F')  \n",
    "reg = Rex.search('AdeFxdafdfds number is 415-555-4242.')\n",
    "reg.group()"
   ]
  },
  {
   "cell_type": "markdown",
   "metadata": {},
   "source": [
    "分组的引用"
   ]
  },
  {
   "cell_type": "code",
   "execution_count": 203,
   "metadata": {},
   "outputs": [
    {
     "data": {
      "text/plain": [
       "'ABMfdsABNABM'"
      ]
     },
     "execution_count": 203,
     "metadata": {},
     "output_type": "execute_result"
    }
   ],
   "source": [
    "Rex = re.compile(r'(ABM)...(ABN)\\1')   # 真的懒成这样么 写这样能好懂么  而且从1计数是想要怎样\n",
    "reg = Rex.search('ABMfdsABNABM number is 415-555-4242.')\n",
    "reg.group()"
   ]
  },
  {
   "cell_type": "code",
   "execution_count": 263,
   "metadata": {},
   "outputs": [
    {
     "data": {
      "text/plain": [
       "'ABMfdsABNABM'"
      ]
     },
     "execution_count": 263,
     "metadata": {},
     "output_type": "execute_result"
    }
   ],
   "source": [
    "Rex = re.compile(r'(?P<name1>ABM)...(ABN)(?P=name1)')   # 别名更是花里胡哨\n",
    "reg = Rex.search('ABMfdsABNABM number is 415-555-4242.')\n",
    "reg.group()"
   ]
  },
  {
   "cell_type": "code",
   "execution_count": 264,
   "metadata": {},
   "outputs": [
    {
     "data": {
      "text/plain": [
       "<re.Match object; span=(0, 12), match='ABMfdsABNABM'>"
      ]
     },
     "execution_count": 264,
     "metadata": {},
     "output_type": "execute_result"
    }
   ],
   "source": [
    "reg"
   ]
  },
  {
   "cell_type": "markdown",
   "metadata": {},
   "source": [
    "## C. re提供的正则方法"
   ]
  },
  {
   "cell_type": "markdown",
   "metadata": {},
   "source": [
    "1. 匹配类（也既是查找一个） match从头匹配 search非从头匹配 fullmatch全文匹配\n",
    "2. 查找类（也既是查找多个） findall返回list  finditer返回迭代器\n",
    "3. 分割类 雷同于str对象的split方法 在大数据量上表现更优\n",
    "4. 替换类 sub和subn"
   ]
  },
  {
   "cell_type": "code",
   "execution_count": 261,
   "metadata": {},
   "outputs": [
    {
     "name": "stdout",
     "output_type": "stream",
     "text": [
      "['1', '2', '3', '4']\n"
     ]
    }
   ],
   "source": [
    "p = re.compile(r'\\d+')\n",
    "print(p.findall('one1two2three3four4'))   # 直接给列表"
   ]
  },
  {
   "cell_type": "code",
   "execution_count": 262,
   "metadata": {},
   "outputs": [
    {
     "name": "stdout",
     "output_type": "stream",
     "text": [
      "1\n",
      "2\n",
      "3\n",
      "4\n"
     ]
    }
   ],
   "source": [
    "p = re.compile(r'\\d+')\n",
    "for m in p.finditer('one1two2three3four4'):     # 迭代器 \n",
    "    print(m.group())"
   ]
  },
  {
   "cell_type": "code",
   "execution_count": 235,
   "metadata": {},
   "outputs": [
    {
     "name": "stdout",
     "output_type": "stream",
     "text": [
      "['one', 'two', 'three', 'four', '']\n"
     ]
    }
   ],
   "source": [
    "p = re.compile(r'\\d+')\n",
    "print(p.split('one1333two2three3four4'))"
   ]
  },
  {
   "cell_type": "code",
   "execution_count": 246,
   "metadata": {},
   "outputs": [
    {
     "name": "stdout",
     "output_type": "stream",
     "text": [
      "['one', 'two', 'three', 'four4']\n"
     ]
    }
   ],
   "source": [
    "p = re.compile(r'\\d+')\n",
    "print(p.split('one1333two2three3four4',3))"
   ]
  },
  {
   "cell_type": "markdown",
   "metadata": {},
   "source": [
    "替换 可以使用编号和命名来制定交换"
   ]
  },
  {
   "cell_type": "code",
   "execution_count": 258,
   "metadata": {},
   "outputs": [
    {
     "name": "stdout",
     "output_type": "stream",
     "text": [
      "say i aha, world hello aha!\n"
     ]
    }
   ],
   "source": [
    "p = re.compile(r'(\\w+) (\\w+)')   # 创建pattern  匹配空格链接的两个单词\n",
    "s = 'i say, hello world!'        # 待处理字符串\n",
    "\n",
    "print(p.sub(r'\\2 \\1 aha', s))        # \\2\\1是用来匹配第二个和第一个括号单元的"
   ]
  },
  {
   "cell_type": "code",
   "execution_count": 257,
   "metadata": {},
   "outputs": [
    {
     "name": "stdout",
     "output_type": "stream",
     "text": [
      "say i, world hello!\n"
     ]
    }
   ],
   "source": [
    "p = re.compile(r'(?P<name1>\\w+) (?P<name2>\\w+)')   # 创建pattern  匹配空格链接的两个单词\n",
    "s = 'i say, hello world!'        # 待处理字符串\n",
    "\n",
    "print(p.sub(r'\\g<name2> \\g<name1>', s))        # 这里用g 代表的是get 区分上面明明的put"
   ]
  },
  {
   "cell_type": "markdown",
   "metadata": {},
   "source": [
    "更神的是可以在这里召唤一等公民函数  \n",
    "函数只能有一个参数 就是匹配到的字符串本身"
   ]
  },
  {
   "cell_type": "code",
   "execution_count": 260,
   "metadata": {},
   "outputs": [
    {
     "name": "stdout",
     "output_type": "stream",
     "text": [
      "I Say, Hello World!\n"
     ]
    }
   ],
   "source": [
    "p = re.compile(r'(?P<name1>\\w+) (?P<name2>\\w+)')  \n",
    "s = 'i say, hello world!'   \n",
    "\n",
    "def func(m):\n",
    "    return m.group(1).title() + ' ' + m.group(2).title()   # 这里 title是str的方法 首字母大写\n",
    " \n",
    "print(p.sub(func, s))"
   ]
  },
  {
   "cell_type": "code",
   "execution_count": 265,
   "metadata": {},
   "outputs": [],
   "source": [
    "p = re.compile(r'(?P<name1>\\w+) (?P<name2>\\w+)')  \n",
    "s = 'i say, hello world!'   \n",
    "reg = p.search(s)"
   ]
  },
  {
   "cell_type": "code",
   "execution_count": 270,
   "metadata": {},
   "outputs": [
    {
     "data": {
      "text/plain": [
       "str"
      ]
     },
     "execution_count": 270,
     "metadata": {},
     "output_type": "execute_result"
    }
   ],
   "source": [
    "type(reg.group(2))"
   ]
  },
  {
   "cell_type": "markdown",
   "metadata": {},
   "source": [
    "subn 功能雷同 只是返回了完成替换的次数"
   ]
  },
  {
   "cell_type": "code",
   "execution_count": 271,
   "metadata": {},
   "outputs": [
    {
     "name": "stdout",
     "output_type": "stream",
     "text": [
      "('say i, world hello!', 2)\n"
     ]
    }
   ],
   "source": [
    "p = re.compile(r'(\\w+) (\\w+)')\n",
    "s = 'i say, hello world!'\n",
    " \n",
    "print(p.subn(r'\\2 \\1', s))"
   ]
  },
  {
   "cell_type": "markdown",
   "metadata": {},
   "source": [
    "## D. 匹配模式设置"
   ]
  },
  {
   "cell_type": "markdown",
   "metadata": {},
   "source": [
    "re.I(re.IGNORECASE): 忽略大小写（括号内是完整写法，下同）  \n",
    "re.M(MULTILINE): 多行模式，改变'^'和'$'的行为（参见上图）  \n",
    "re.S(DOTALL): 点任意匹配模式，改变'.'的行为  \n",
    "re.L(LOCALE): 使预定字符类 \\w \\W \\b \\B \\s \\S 取决于当前区域设定  \n",
    "re.U(UNICODE): 使预定字符类 \\w \\W \\b \\B \\s \\S \\d \\D 取决于unicode定义的字符属性  \n",
    "re.X(VERBOSE): 详细模式。这个模式下正则表达式可以是多行，忽略空白字符，并可以加入注释  "
   ]
  },
  {
   "cell_type": "markdown",
   "metadata": {},
   "source": [
    "其实这些模式标识也是一种对象"
   ]
  },
  {
   "cell_type": "code",
   "execution_count": 223,
   "metadata": {
    "scrolled": true
   },
   "outputs": [
    {
     "data": {
      "text/plain": [
       "['__class__',\n",
       " '__doc__',\n",
       " '__module__',\n",
       " 'as_integer_ratio',\n",
       " 'bit_length',\n",
       " 'conjugate',\n",
       " 'denominator',\n",
       " 'from_bytes',\n",
       " 'imag',\n",
       " 'name',\n",
       " 'numerator',\n",
       " 'real',\n",
       " 'to_bytes',\n",
       " 'value']"
      ]
     },
     "execution_count": 223,
     "metadata": {},
     "output_type": "execute_result"
    }
   ],
   "source": [
    "dir(re.I)"
   ]
  },
  {
   "cell_type": "code",
   "execution_count": 209,
   "metadata": {},
   "outputs": [
    {
     "data": {
      "text/plain": [
       "'my'"
      ]
     },
     "execution_count": 209,
     "metadata": {},
     "output_type": "execute_result"
    }
   ],
   "source": [
    "Rex = re.compile(r'My',re.I)  # 大小写忽略模式\n",
    "reg = Rex.search('my number is 415-555-4242.')\n",
    "reg.group()"
   ]
  },
  {
   "cell_type": "code",
   "execution_count": 213,
   "metadata": {},
   "outputs": [
    {
     "data": {
      "text/plain": [
       "'M'"
      ]
     },
     "execution_count": 213,
     "metadata": {},
     "output_type": "execute_result"
    }
   ],
   "source": [
    "Rex = re.compile(r'^M',re.M)  # 多行模式    请注意这里和verbose模式的区别 待匹配的字符串是多行的\n",
    "reg = Rex.search('''xx number is 415-555-4242.\\nMy number is 415-555-4242.''')\n",
    "reg.group()"
   ]
  },
  {
   "cell_type": "code",
   "execution_count": 216,
   "metadata": {},
   "outputs": [
    {
     "data": {
      "text/plain": [
       "'xx number is 415-555-4242.\\nMy number is 415-555-4242.'"
      ]
     },
     "execution_count": 216,
     "metadata": {},
     "output_type": "execute_result"
    }
   ],
   "source": [
    "Rex = re.compile(r'.*',re.S)     # 点更牛逼模式  点可以匹配换行符了\n",
    "reg = Rex.search('xx number is 415-555-4242.\\nMy number is 415-555-4242.')\n",
    "reg.group()"
   ]
  },
  {
   "cell_type": "markdown",
   "metadata": {},
   "source": [
    "re.L 字符集本地化。这个功能是为了支持多语言版本的字符集使用环境的，比如在转义符\\w，在英文环境下，它代表[a-zA-Z0-9_]，即所以英文字符和数字。如果在一个法语环境下使用，缺省设置下，不能匹配\"é\" 或   \"ç\"。加上这L选项和就可以匹配了。不过这个对于中文环境似乎没有什么用，它仍然不能匹配中文字符。"
   ]
  },
  {
   "cell_type": "code",
   "execution_count": 218,
   "metadata": {},
   "outputs": [],
   "source": [
    "a = re.compile(r\"\"\"\\d +  # the integral part\n",
    "                   \\.    # the decimal point\n",
    "                   \\d *  # some fractional digits\"\"\", re.X)    # verbose模式下 的pattern是多行的\n",
    "b = re.compile(r\"\\d+\\.\\d*\")"
   ]
  },
  {
   "cell_type": "code",
   "execution_count": 219,
   "metadata": {},
   "outputs": [
    {
     "data": {
      "text/plain": [
       "'415.555'"
      ]
     },
     "execution_count": 219,
     "metadata": {},
     "output_type": "execute_result"
    }
   ],
   "source": [
    "reg = a.search('xx number is 415.555-4242.\\nMy number is 415-555-4242.')\n",
    "reg.group()"
   ]
  },
  {
   "cell_type": "code",
   "execution_count": 220,
   "metadata": {},
   "outputs": [
    {
     "data": {
      "text/plain": [
       "'415.555'"
      ]
     },
     "execution_count": 220,
     "metadata": {},
     "output_type": "execute_result"
    }
   ],
   "source": [
    "reg = b.search('xx number is 415.555-4242.\\nMy number is 415-555-4242.')\n",
    "reg.group()"
   ]
  },
  {
   "cell_type": "markdown",
   "metadata": {},
   "source": [
    "其实模式也可以写在pattern里面  \n",
    "诡异的是 标识字符是(?iLmusx)  \n",
    "只有L大写的 不过反正L也不大用 都小写算了"
   ]
  },
  {
   "cell_type": "code",
   "execution_count": 241,
   "metadata": {},
   "outputs": [
    {
     "data": {
      "text/plain": [
       "'my'"
      ]
     },
     "execution_count": 241,
     "metadata": {},
     "output_type": "execute_result"
    }
   ],
   "source": [
    "Rex = re.compile(r'(?i)My')  # 大小写忽略模式\n",
    "reg = Rex.search('my number is 415-555-4242.')\n",
    "reg.group()"
   ]
  },
  {
   "cell_type": "code",
   "execution_count": 244,
   "metadata": {},
   "outputs": [
    {
     "data": {
      "text/plain": [
       "'M'"
      ]
     },
     "execution_count": 244,
     "metadata": {},
     "output_type": "execute_result"
    }
   ],
   "source": [
    "Rex = re.compile(r'(?m)^M')  # 多行模式    请注意这里和verbose模式的区别 待匹配的字符串是多行的\n",
    "reg = Rex.search('''xx number is 415-555-4242.\\nMy number is 415-555-4242.''')\n",
    "reg.group()"
   ]
  },
  {
   "cell_type": "markdown",
   "metadata": {},
   "source": [
    "# 正则表达式的应用\n"
   ]
  },
  {
   "cell_type": "markdown",
   "metadata": {},
   "source": [
    "## 从没有严格结构的文本流中提取数据"
   ]
  },
  {
   "cell_type": "code",
   "execution_count": 4,
   "metadata": {},
   "outputs": [
    {
     "data": {
      "text/plain": [
       "1879"
      ]
     },
     "execution_count": 4,
     "metadata": {},
     "output_type": "execute_result"
    }
   ],
   "source": [
    "import re\n",
    "with open('./source/Epoch Report.txt','r') as fp:\n",
    "    content = fp.read()\n",
    "\n",
    "Rex = re.compile(r'[LWR]\\s{3}\\d+|N[123]\\s{2}\\d+')\n",
    "reg = Rex.findall(content)\n",
    "len(reg)"
   ]
  },
  {
   "cell_type": "markdown",
   "metadata": {},
   "source": [
    "## 修改替换文字"
   ]
  },
  {
   "cell_type": "code",
   "execution_count": 176,
   "metadata": {},
   "outputs": [],
   "source": [
    "import re\n",
    "with open('./source/Epoch Report.txt','r') as fp:\n",
    "    content = fp.read()\n",
    "\n",
    "Rex = re.compile(r'[LWR]\\s{3}\\d+|N[123]\\s{2}\\d+')\n",
    "result = Rex.sub(r'STAGE', content)\n",
    "\n",
    "with open('./source/Epoch Report1.txt','w') as fp:\n",
    "    fp.write(result)"
   ]
  },
  {
   "cell_type": "markdown",
   "metadata": {},
   "source": [
    "## 查找包含特定字符串的文件"
   ]
  },
  {
   "cell_type": "code",
   "execution_count": 172,
   "metadata": {
    "collapsed": true
   },
   "outputs": [
    {
     "ename": "SyntaxError",
     "evalue": "invalid syntax (<ipython-input-172-e76863d12fe5>, line 1)",
     "output_type": "error",
     "traceback": [
      "\u001b[1;36m  File \u001b[1;32m\"<ipython-input-172-e76863d12fe5>\"\u001b[1;36m, line \u001b[1;32m1\u001b[0m\n\u001b[1;33m    grep -r '面向对象' ./*\u001b[0m\n\u001b[1;37m            ^\u001b[0m\n\u001b[1;31mSyntaxError\u001b[0m\u001b[1;31m:\u001b[0m invalid syntax\n"
     ]
    }
   ],
   "source": [
    "grep -r '面向对象' ./*"
   ]
  },
  {
   "cell_type": "markdown",
   "metadata": {},
   "source": [
    "## 监听剪贴板"
   ]
  },
  {
   "cell_type": "code",
   "execution_count": 1,
   "metadata": {},
   "outputs": [],
   "source": [
    "import pyperclip,re"
   ]
  },
  {
   "cell_type": "markdown",
   "metadata": {},
   "source": [
    "pyperclip 模块  \n",
    "\n",
    "copy方法 等同于按下ctrl c  \n",
    "\n",
    "paste方法 等同于按下ctrl v  "
   ]
  },
  {
   "cell_type": "code",
   "execution_count": 2,
   "metadata": {},
   "outputs": [
    {
     "data": {
      "text/plain": [
       "'copy方法 等同于按下ct'"
      ]
     },
     "execution_count": 2,
     "metadata": {},
     "output_type": "execute_result"
    }
   ],
   "source": [
    "pyperclip.paste()"
   ]
  },
  {
   "cell_type": "markdown",
   "metadata": {},
   "source": [
    "电话匹配"
   ]
  },
  {
   "cell_type": "markdown",
   "metadata": {},
   "source": [
    "(212).234-1203     ext.    11030"
   ]
  },
  {
   "cell_type": "code",
   "execution_count": 114,
   "metadata": {},
   "outputs": [
    {
     "name": "stdout",
     "output_type": "stream",
     "text": [
      "(212).234-1203 ext. 11030\n",
      "[('(212).234-1203 ext. 11030', '(212)', '.', '234', '-', '1203', ' ext. 11030', 'ext.', '11030')]\n"
     ]
    }
   ],
   "source": [
    "phoneRegex = re.compile(r'''(\n",
    "                            (\\d{3}|\\(\\d{3}\\))?             # area code  三个数字 或者是转义括号包着三个数字\n",
    "                            (\\s|-|\\.)?                     # separator  分隔符可能是空白 连接符 或者转义句号\n",
    "                            (\\d{3})                        # first 3 digits\n",
    "                            (\\s|-|\\.)                      # separator\n",
    "                            (\\d{4})                        # last 4 digits\n",
    "                            (\\s*(ext|x|ext.)\\s*(\\d{2,5}))? # extension 任意长空格 ext x ext. 任意空格 二到五数字\n",
    "                            )''', re.VERBOSE)\n",
    "print(pyperclip.paste())\n",
    "b = phoneRegex.findall(pyperclip.paste())\n",
    "print(b)"
   ]
  },
  {
   "cell_type": "markdown",
   "metadata": {},
   "source": [
    "这是为什么？ 因为用了括号分组"
   ]
  },
  {
   "cell_type": "code",
   "execution_count": 41,
   "metadata": {},
   "outputs": [
    {
     "data": {
      "text/plain": [
       "'(212).234-1203'"
      ]
     },
     "execution_count": 41,
     "metadata": {},
     "output_type": "execute_result"
    }
   ],
   "source": [
    "phoneRegex = re.compile(r'''(\n",
    "                            (\\d{3}|\\(\\d{3}\\))?             # area code  三个数字 或者是转义括号包着三个数字\n",
    "                            (\\s|-|\\.)?                     # separator  分隔符可能是空白 连接符 或者转义句号\n",
    "                            (\\d{3})                        # first 3 digits\n",
    "                            (\\s|-|\\.)                      # separator\n",
    "                            (\\d{4})                        # last 4 digits\n",
    "                            (\\s*(ext|x|ext.)\\s*(\\d{2,5}))? # extension 任意长空格 ext x ext. 任意空格 二到五数字\n",
    "                            )''', re.VERBOSE)\n",
    "b = phoneRegex.match(pyperclip.paste())\n",
    "b.group()"
   ]
  },
  {
   "cell_type": "markdown",
   "metadata": {},
   "source": [
    "email匹配"
   ]
  },
  {
   "cell_type": "markdown",
   "metadata": {},
   "source": [
    "dafadfdsafaszz@gmail.com"
   ]
  },
  {
   "cell_type": "code",
   "execution_count": 110,
   "metadata": {},
   "outputs": [],
   "source": [
    "emailRegex = re.compile(r'''([a-zA-Z0-9._%+-]+\n",
    "                            @\n",
    "                            [a-zA-Z0-9.-]+\n",
    "                            (\\.[a-zA-Z]{2,4})\n",
    "                            )''', re.VERBOSE)"
   ]
  },
  {
   "cell_type": "code",
   "execution_count": 111,
   "metadata": {},
   "outputs": [
    {
     "data": {
      "text/plain": [
       "[('gx@gmail.com', '.com')]"
      ]
     },
     "execution_count": 111,
     "metadata": {},
     "output_type": "execute_result"
    }
   ],
   "source": [
    "emailRegex.findall('  gx@gmail.com  ')"
   ]
  },
  {
   "cell_type": "code",
   "execution_count": 112,
   "metadata": {},
   "outputs": [],
   "source": [
    "text = str(pyperclip.paste())\n",
    "matches = []\n",
    "\n",
    "for groups in phoneRegex.findall(text):\n",
    "    phoneNum = '-'.join([groups[1], groups[3], groups[5]])\n",
    "    if groups[8] != '':\n",
    "        phoneNum += ' x' + groups[8]\n",
    "    matches.append(phoneNum)\n",
    "    \n",
    "for groups in emailRegex.findall(text):\n",
    "    matches.append(groups[0])"
   ]
  },
  {
   "cell_type": "code",
   "execution_count": 113,
   "metadata": {},
   "outputs": [
    {
     "data": {
      "text/plain": [
       "['(212)-234-1203',\n",
       " '(212)-234-1203',\n",
       " '(212)-234-1203',\n",
       " 'dafadfdsafaszz@gmail.com']"
      ]
     },
     "execution_count": 113,
     "metadata": {},
     "output_type": "execute_result"
    }
   ],
   "source": [
    "matches"
   ]
  },
  {
   "cell_type": "code",
   "execution_count": 115,
   "metadata": {},
   "outputs": [
    {
     "name": "stdout",
     "output_type": "stream",
     "text": [
      "Copied to clipboard:\n",
      "(212)-234-1203\n",
      "(212)-234-1203\n",
      "(212)-234-1203\n",
      "dafadfdsafaszz@gmail.com\n"
     ]
    }
   ],
   "source": [
    "if len(matches) > 0:\n",
    "    pyperclip.copy('\\n'.join(matches))\n",
    "    print('Copied to clipboard:')\n",
    "    print('\\n'.join(matches))\n",
    "else:\n",
    "    print('No phone numbers or email addresses found.')"
   ]
  },
  {
   "cell_type": "markdown",
   "metadata": {},
   "source": [
    "一个拷贝页面 识别各种文本的工具  \n",
    "日期格式模糊匹配 整理为标准格式保存  \n",
    "拷贝之后把密码和身份证等信息用xxxx替代  \n",
    "英文标准化 删除多余空格 把两个以上的空格改为一个 给标点后加空格  "
   ]
  },
  {
   "cell_type": "markdown",
   "metadata": {},
   "source": [
    "# 中文分词库jieba"
   ]
  },
  {
   "cell_type": "markdown",
   "metadata": {},
   "source": [
    "官方github仓库\n",
    "https://github.com/fxsjy/jieba"
   ]
  },
  {
   "cell_type": "markdown",
   "metadata": {},
   "source": [
    "扩展阅读：对Python中文分词模块结巴分词算法过程的理解和分析 https://blog.csdn.net/rav009/article/details/12196623   "
   ]
  },
  {
   "cell_type": "code",
   "execution_count": 5,
   "metadata": {},
   "outputs": [],
   "source": [
    "import jieba \n",
    "import jieba.posseg as pseg  # 词性分析"
   ]
  },
  {
   "cell_type": "markdown",
   "metadata": {},
   "source": [
    "paddle模式 百度的ai框架提供的支持"
   ]
  },
  {
   "cell_type": "markdown",
   "metadata": {},
   "source": [
    "安装paddle的支持 官方github上提到的pip install paddlepaddle-tiny有问题"
   ]
  },
  {
   "cell_type": "code",
   "execution_count": 13,
   "metadata": {
    "collapsed": true
   },
   "outputs": [
    {
     "name": "stdout",
     "output_type": "stream",
     "text": [
      "Requirement already satisfied: paddlepaddle in c:\\pyenv\\anaconda3\\lib\\site-packages (1.8.5)\n",
      "Requirement already satisfied: matplotlib; python_version >= \"3.6\" in c:\\pyenv\\anaconda3\\lib\\site-packages (from paddlepaddle) (3.2.2)\n",
      "Requirement already satisfied: objgraph in c:\\pyenv\\anaconda3\\lib\\site-packages (from paddlepaddle) (3.5.0)\n",
      "Requirement already satisfied: scipy; python_version > \"3.5\" in c:\\pyenv\\anaconda3\\lib\\site-packages (from paddlepaddle) (1.5.0)\n",
      "Requirement already satisfied: opencv-python<=4.2.0.32 in c:\\pyenv\\anaconda3\\lib\\site-packages (from paddlepaddle) (4.2.0.32)\n",
      "Requirement already satisfied: gast==0.3.3 in c:\\pyenv\\anaconda3\\lib\\site-packages (from paddlepaddle) (0.3.3)\n",
      "Requirement already satisfied: prettytable in c:\\pyenv\\anaconda3\\lib\\site-packages (from paddlepaddle) (1.0.1)\n",
      "Requirement already satisfied: decorator in c:\\pyenv\\anaconda3\\lib\\site-packages (from paddlepaddle) (4.4.2)\n",
      "Requirement already satisfied: requests>=2.20.0 in c:\\pyenv\\anaconda3\\lib\\site-packages (from paddlepaddle) (2.24.0)\n",
      "Requirement already satisfied: pathlib in c:\\pyenv\\anaconda3\\lib\\site-packages (from paddlepaddle) (1.0.1)\n",
      "Requirement already satisfied: Pillow in c:\\pyenv\\anaconda3\\lib\\site-packages (from paddlepaddle) (7.2.0)\n",
      "Requirement already satisfied: nltk; python_version >= \"3.5\" in c:\\pyenv\\anaconda3\\lib\\site-packages (from paddlepaddle) (3.5)\n",
      "Requirement already satisfied: graphviz in c:\\pyenv\\anaconda3\\lib\\site-packages (from paddlepaddle) (0.14.2)\n",
      "Requirement already satisfied: rarfile in c:\\pyenv\\anaconda3\\lib\\site-packages (from paddlepaddle) (4.0)\n",
      "Requirement already satisfied: pyyaml in c:\\pyenv\\anaconda3\\lib\\site-packages (from paddlepaddle) (5.3.1)\n",
      "Requirement already satisfied: astor in c:\\pyenv\\anaconda3\\lib\\site-packages (from paddlepaddle) (0.8.1)\n",
      "Requirement already satisfied: numpy>=1.12; python_version >= \"3.5\" in c:\\pyenv\\anaconda3\\lib\\site-packages (from paddlepaddle) (1.18.5)\n",
      "Requirement already satisfied: protobuf>=3.1.0 in c:\\pyenv\\anaconda3\\lib\\site-packages (from paddlepaddle) (3.14.0)\n",
      "Requirement already satisfied: funcsigs in c:\\pyenv\\anaconda3\\lib\\site-packages (from paddlepaddle) (1.0.2)\n",
      "Requirement already satisfied: six in c:\\pyenv\\anaconda3\\lib\\site-packages (from paddlepaddle) (1.15.0)\n",
      "Requirement already satisfied: cycler>=0.10 in c:\\pyenv\\anaconda3\\lib\\site-packages (from matplotlib; python_version >= \"3.6\"->paddlepaddle) (0.10.0)\n",
      "Requirement already satisfied: kiwisolver>=1.0.1 in c:\\pyenv\\anaconda3\\lib\\site-packages (from matplotlib; python_version >= \"3.6\"->paddlepaddle) (1.2.0)\n",
      "Requirement already satisfied: pyparsing!=2.0.4,!=2.1.2,!=2.1.6,>=2.0.1 in c:\\pyenv\\anaconda3\\lib\\site-packages (from matplotlib; python_version >= \"3.6\"->paddlepaddle) (2.4.7)\n",
      "Requirement already satisfied: python-dateutil>=2.1 in c:\\pyenv\\anaconda3\\lib\\site-packages (from matplotlib; python_version >= \"3.6\"->paddlepaddle) (2.8.1)\n",
      "Requirement already satisfied: wcwidth in c:\\pyenv\\anaconda3\\lib\\site-packages (from prettytable->paddlepaddle) (0.2.5)\n",
      "Requirement already satisfied: setuptools in c:\\pyenv\\anaconda3\\lib\\site-packages (from prettytable->paddlepaddle) (49.2.0.post20200714)\n",
      "Requirement already satisfied: idna<3,>=2.5 in c:\\pyenv\\anaconda3\\lib\\site-packages (from requests>=2.20.0->paddlepaddle) (2.10)\n",
      "Requirement already satisfied: certifi>=2017.4.17 in c:\\pyenv\\anaconda3\\lib\\site-packages (from requests>=2.20.0->paddlepaddle) (2020.6.20)\n",
      "Requirement already satisfied: chardet<4,>=3.0.2 in c:\\pyenv\\anaconda3\\lib\\site-packages (from requests>=2.20.0->paddlepaddle) (3.0.4)\n",
      "Requirement already satisfied: urllib3!=1.25.0,!=1.25.1,<1.26,>=1.21.1 in c:\\pyenv\\anaconda3\\lib\\site-packages (from requests>=2.20.0->paddlepaddle) (1.25.9)\n",
      "Requirement already satisfied: regex in c:\\pyenv\\anaconda3\\lib\\site-packages (from nltk; python_version >= \"3.5\"->paddlepaddle) (2020.6.8)\n",
      "Requirement already satisfied: joblib in c:\\pyenv\\anaconda3\\lib\\site-packages (from nltk; python_version >= \"3.5\"->paddlepaddle) (0.16.0)\n",
      "Requirement already satisfied: tqdm in c:\\pyenv\\anaconda3\\lib\\site-packages (from nltk; python_version >= \"3.5\"->paddlepaddle) (4.47.0)\n",
      "Requirement already satisfied: click in c:\\pyenv\\anaconda3\\lib\\site-packages (from nltk; python_version >= \"3.5\"->paddlepaddle) (7.1.2)\n"
     ]
    }
   ],
   "source": [
    "!pip install paddlepaddle  "
   ]
  },
  {
   "cell_type": "code",
   "execution_count": 11,
   "metadata": {
    "scrolled": true
   },
   "outputs": [
    {
     "name": "stderr",
     "output_type": "stream",
     "text": [
      "Paddle enabled successfully......\n"
     ]
    }
   ],
   "source": [
    "jieba.enable_paddle()"
   ]
  },
  {
   "cell_type": "markdown",
   "metadata": {},
   "source": [
    "## 分词"
   ]
  },
  {
   "cell_type": "markdown",
   "metadata": {},
   "source": [
    "* 全模式：所有可能的拆分方式都分出来 出现很多重叠  \n",
    "* 精确模式：精确地拆分句子 不允许重叠"
   ]
  },
  {
   "cell_type": "code",
   "execution_count": 18,
   "metadata": {},
   "outputs": [
    {
     "name": "stdout",
     "output_type": "stream",
     "text": [
      "Paddle Mode: 我/来到/北京清华大学\n",
      "Paddle Mode: 乒乓球/拍卖/完/了\n",
      "Paddle Mode: 中国科学技术大学\n",
      "Full Mode: 我/ 来到/ 北京/ 清华/ 清华大学/ 华大/ 大学\n",
      "Default Mode: 我/ 来到/ 北京/ 清华大学\n",
      "他, 来到, 了, 网易, 杭研, 大厦\n",
      "小明, 硕士, 毕业, 于, 中国, 科学, 学院, 科学院, 中国科学院, 计算, 计算所, ，, 后, 在, 日本, 京都, 大学, 日本京都大学, 深造\n"
     ]
    }
   ],
   "source": [
    "strs=[\"我来到北京清华大学\",\"乒乓球拍卖完了\",\"中国科学技术大学\"]\n",
    "for str1 in strs:\n",
    "    seg_list = jieba.cut(str1,use_paddle=True) # 使用paddle模式\n",
    "    print(\"Paddle Mode: \" + '/'.join(list(seg_list)))\n",
    "\n",
    "seg_list = jieba.cut(\"我来到北京清华大学\", cut_all=True)\n",
    "print(\"Full Mode: \" + \"/ \".join(seg_list))  # 全模式\n",
    "\n",
    "seg_list = jieba.cut(\"我来到北京清华大学\", cut_all=False)\n",
    "print(\"Default Mode: \" + \"/ \".join(seg_list))  # 精确模式\n",
    "\n",
    "seg_list = jieba.cut(\"他来到了网易杭研大厦\")  # 默认是精确模式\n",
    "print(\", \".join(seg_list))\n",
    "\n",
    "seg_list = jieba.cut_for_search(\"小明硕士毕业于中国科学院计算所，后在日本京都大学深造\")  # 搜索引擎模式\n",
    "print(\", \".join(seg_list))"
   ]
  },
  {
   "cell_type": "markdown",
   "metadata": {},
   "source": [
    "## 词性分析"
   ]
  },
  {
   "cell_type": "code",
   "execution_count": 16,
   "metadata": {
    "scrolled": true
   },
   "outputs": [
    {
     "name": "stdout",
     "output_type": "stream",
     "text": [
      "一片 m 寂静 a 之 u 中， nz 只 d 听得 v 蹄声 n 嗒 xc 嗒 xc ， v 车轮 n 在 p 石板 n 上 f 隆隆 PER 滚动 v "
     ]
    }
   ],
   "source": [
    "words = pseg.cut(\"一片寂静之中，只听得蹄声嗒嗒，车轮在石板上隆隆滚动\",use_paddle=True)\n",
    "for word, flag in words:\n",
    "     print('%s %s' % (word, flag),end=' ')"
   ]
  },
  {
   "cell_type": "code",
   "execution_count": 42,
   "metadata": {},
   "outputs": [
    {
     "data": {
      "text/plain": [
       "generator"
      ]
     },
     "execution_count": 42,
     "metadata": {},
     "output_type": "execute_result"
    }
   ],
   "source": [
    "words = pseg.cut(\"一片寂静之中，只听得蹄声嗒嗒，车轮在石板上隆隆滚动\",use_paddle=True)\n",
    "type(words)"
   ]
  },
  {
   "cell_type": "code",
   "execution_count": 43,
   "metadata": {},
   "outputs": [
    {
     "data": {
      "text/plain": [
       "jieba.posseg.pair"
      ]
     },
     "execution_count": 43,
     "metadata": {},
     "output_type": "execute_result"
    }
   ],
   "source": [
    "temp = next(words)\n",
    "type(temp)"
   ]
  },
  {
   "cell_type": "markdown",
   "metadata": {},
   "source": [
    "分词之后是jieba特有的pair对象 赋值类似于元祖 但是没有索引"
   ]
  },
  {
   "cell_type": "code",
   "execution_count": 24,
   "metadata": {},
   "outputs": [
    {
     "data": {
      "text/plain": [
       "pair('一片', 'm')"
      ]
     },
     "execution_count": 24,
     "metadata": {},
     "output_type": "execute_result"
    }
   ],
   "source": [
    "temp"
   ]
  },
  {
   "cell_type": "code",
   "execution_count": 26,
   "metadata": {},
   "outputs": [],
   "source": [
    "a,b = temp"
   ]
  },
  {
   "cell_type": "code",
   "execution_count": 27,
   "metadata": {},
   "outputs": [
    {
     "name": "stdout",
     "output_type": "stream",
     "text": [
      "一片\n",
      "m\n"
     ]
    }
   ],
   "source": [
    "print(a)\n",
    "print(b)"
   ]
  },
  {
   "cell_type": "markdown",
   "metadata": {},
   "source": [
    "<table>\n",
    "<thead>\n",
    "<tr>\n",
    "<th>标签</th>\n",
    "<th>含义</th>\n",
    "<th>标签</th>\n",
    "<th>含义</th>\n",
    "<th>标签</th>\n",
    "<th>含义</th>\n",
    "<th>标签</th>\n",
    "<th>含义</th>\n",
    "</tr>\n",
    "</thead>\n",
    "<tbody>\n",
    "<tr>\n",
    "<td>n</td>\n",
    "<td>普通名词</td>\n",
    "<td>f</td>\n",
    "<td>方位名词</td>\n",
    "<td>s</td>\n",
    "<td>处所名词</td>\n",
    "<td>t</td>\n",
    "<td>时间</td>\n",
    "</tr>\n",
    "<tr>\n",
    "<td>nr</td>\n",
    "<td>人名</td>\n",
    "<td>ns</td>\n",
    "<td>地名</td>\n",
    "<td>nt</td>\n",
    "<td>机构名</td>\n",
    "<td>nw</td>\n",
    "<td>作品名</td>\n",
    "</tr>\n",
    "<tr>\n",
    "<td>nz</td>\n",
    "<td>其他专名</td>\n",
    "<td>v</td>\n",
    "<td>普通动词</td>\n",
    "<td>vd</td>\n",
    "<td>动副词</td>\n",
    "<td>vn</td>\n",
    "<td>名动词</td>\n",
    "</tr>\n",
    "<tr>\n",
    "<td>a</td>\n",
    "<td>形容词</td>\n",
    "<td>ad</td>\n",
    "<td>副形词</td>\n",
    "<td>an</td>\n",
    "<td>名形词</td>\n",
    "<td>d</td>\n",
    "<td>副词</td>\n",
    "</tr>\n",
    "<tr>\n",
    "<td>m</td>\n",
    "<td>数量词</td>\n",
    "<td>q</td>\n",
    "<td>量词</td>\n",
    "<td>r</td>\n",
    "<td>代词</td>\n",
    "<td>p</td>\n",
    "<td>介词</td>\n",
    "</tr>\n",
    "<tr>\n",
    "<td>c</td>\n",
    "<td>连词</td>\n",
    "<td>u</td>\n",
    "<td>助词</td>\n",
    "<td>xc</td>\n",
    "<td>其他虚词</td>\n",
    "<td>w</td>\n",
    "<td>标点符号</td>\n",
    "</tr>\n",
    "<tr>\n",
    "<td>PER</td>\n",
    "<td>人名</td>\n",
    "<td>LOC</td>\n",
    "<td>地名</td>\n",
    "<td>ORG</td>\n",
    "<td>机构名</td>\n",
    "<td>TIME</td>\n",
    "<td>时间</td>\n",
    "</tr>\n",
    "</tbody>\n",
    "</table>"
   ]
  },
  {
   "cell_type": "code",
   "execution_count": 7,
   "metadata": {},
   "outputs": [],
   "source": [
    "# 滤出所有名词\n",
    "def foo(flag):\n",
    "    if flag == 'n':\n",
    "        return True\n",
    "    return False"
   ]
  },
  {
   "cell_type": "code",
   "execution_count": 38,
   "metadata": {},
   "outputs": [
    {
     "name": "stdout",
     "output_type": "stream",
     "text": [
      "蹄声\n",
      "车轮\n",
      "石板\n"
     ]
    }
   ],
   "source": [
    "words = pseg.cut(\"一片寂静之中，只听得蹄声嗒嗒，车轮在石板上隆隆滚动\",use_paddle=True)  # 生成器\n",
    "\n",
    "for word,flag in words:\n",
    "    if foo(flag):\n",
    "        print(word)"
   ]
  },
  {
   "cell_type": "code",
   "execution_count": 39,
   "metadata": {},
   "outputs": [
    {
     "data": {
      "text/plain": [
       "['蹄声', '车轮', '石板']"
      ]
     },
     "execution_count": 39,
     "metadata": {},
     "output_type": "execute_result"
    }
   ],
   "source": [
    "words = pseg.cut(\"一片寂静之中，只听得蹄声嗒嗒，车轮在石板上隆隆滚动\",use_paddle=True)  # 生成器\n",
    "\n",
    "[word for word,flag in words if foo(flag)] "
   ]
  },
  {
   "cell_type": "markdown",
   "metadata": {},
   "source": [
    "## 停用词去除和词云制作"
   ]
  },
  {
   "cell_type": "markdown",
   "metadata": {},
   "source": [
    "读一本金庸小说进来"
   ]
  },
  {
   "cell_type": "code",
   "execution_count": 3,
   "metadata": {},
   "outputs": [
    {
     "data": {
      "text/plain": [
       "1283405"
      ]
     },
     "execution_count": 3,
     "metadata": {},
     "output_type": "execute_result"
    }
   ],
   "source": [
    "with open('./source/jinyong/金庸-天龙八部txt精校版.txt','r') as fp:\n",
    "    strs = fp.read()\n",
    "\n",
    "len(strs)"
   ]
  },
  {
   "cell_type": "code",
   "execution_count": 8,
   "metadata": {},
   "outputs": [],
   "source": [
    "words = pseg.cut(strs[:],use_paddle=True)  # 生成器\n",
    "N = [word for word,flag in words if foo(flag)] "
   ]
  },
  {
   "cell_type": "markdown",
   "metadata": {},
   "source": [
    "停用词处理"
   ]
  },
  {
   "cell_type": "code",
   "execution_count": 9,
   "metadata": {},
   "outputs": [],
   "source": [
    "# 读入停用词 做成list\n",
    "def get_stopwords_list():\n",
    "    #按行制作list 并且去掉行首位的空格\n",
    "    stopwords = [line.strip() for line in open('./source/baidu_stopwords.txt',encoding='UTF-8').readlines()]  \n",
    "    return stopwords"
   ]
  },
  {
   "cell_type": "code",
   "execution_count": 10,
   "metadata": {},
   "outputs": [],
   "source": [
    "# 删除停用词\n",
    "def remove_stopwords(sentence_list, stopwords_list):\n",
    "    # 去停用词\n",
    "    res = []\n",
    "    for word in sentence_list:\n",
    "        if word not in stopwords_list:\n",
    "            word = re.sub(r'[0123456789，。.\\s]+', '', word)  # 去掉数字标点和空格\n",
    "            res.append(word)\n",
    "    return res"
   ]
  },
  {
   "cell_type": "code",
   "execution_count": 11,
   "metadata": {},
   "outputs": [],
   "source": [
    "wordlist = remove_stopwords(N, get_stopwords_list())"
   ]
  },
  {
   "cell_type": "markdown",
   "metadata": {},
   "source": [
    "词云库安装"
   ]
  },
  {
   "cell_type": "code",
   "execution_count": 98,
   "metadata": {
    "collapsed": true
   },
   "outputs": [
    {
     "name": "stdout",
     "output_type": "stream",
     "text": [
      "Requirement already satisfied: wordcloud in c:\\pyenv\\anaconda3\\lib\\site-packages (1.8.1)\n",
      "Requirement already satisfied: numpy>=1.6.1 in c:\\pyenv\\anaconda3\\lib\\site-packages (from wordcloud) (1.18.5)\n",
      "Requirement already satisfied: pillow in c:\\pyenv\\anaconda3\\lib\\site-packages (from wordcloud) (7.2.0)\n",
      "Requirement already satisfied: matplotlib in c:\\pyenv\\anaconda3\\lib\\site-packages (from wordcloud) (3.2.2)\n",
      "Requirement already satisfied: kiwisolver>=1.0.1 in c:\\pyenv\\anaconda3\\lib\\site-packages (from matplotlib->wordcloud) (1.2.0)\n",
      "Requirement already satisfied: cycler>=0.10 in c:\\pyenv\\anaconda3\\lib\\site-packages (from matplotlib->wordcloud) (0.10.0)\n",
      "Requirement already satisfied: pyparsing!=2.0.4,!=2.1.2,!=2.1.6,>=2.0.1 in c:\\pyenv\\anaconda3\\lib\\site-packages (from matplotlib->wordcloud) (2.4.7)\n",
      "Requirement already satisfied: python-dateutil>=2.1 in c:\\pyenv\\anaconda3\\lib\\site-packages (from matplotlib->wordcloud) (2.8.1)\n",
      "Requirement already satisfied: six in c:\\pyenv\\anaconda3\\lib\\site-packages (from cycler>=0.10->matplotlib->wordcloud) (1.15.0)\n"
     ]
    }
   ],
   "source": [
    "!pip install wordcloud"
   ]
  },
  {
   "cell_type": "code",
   "execution_count": 12,
   "metadata": {},
   "outputs": [],
   "source": [
    "import matplotlib.pyplot as plt\n",
    "from wordcloud import WordCloud\n",
    "import numpy as np\n",
    "from PIL import Image"
   ]
  },
  {
   "cell_type": "code",
   "execution_count": 13,
   "metadata": {},
   "outputs": [],
   "source": [
    "# 必须给个符号分隔开分词结果来形成字符串,否则不能绘制词云\n",
    "wordstr = \" \".join(wordlist)"
   ]
  },
  {
   "cell_type": "code",
   "execution_count": 14,
   "metadata": {},
   "outputs": [],
   "source": [
    "wc = WordCloud(\n",
    "        # 设置字体，不指定就会出现乱码\n",
    "        font_path=r'C:\\Windows\\Fonts\\msjh.ttc',\n",
    "        # 设置背景色\n",
    "        background_color='white',\n",
    "        # 最大字体\n",
    "        max_font_size=80,\n",
    "        # 最小字体\n",
    "        min_font_size=20,\n",
    "        mode='RGBA',\n",
    "#         mask=np.array(Image.open( r'./pic/武侠.png'))\n",
    "        #colormap='pink'\n",
    "        )"
   ]
  },
  {
   "cell_type": "code",
   "execution_count": 15,
   "metadata": {},
   "outputs": [
    {
     "data": {
      "text/plain": [
       "<wordcloud.wordcloud.WordCloud at 0x21f175b8d60>"
      ]
     },
     "execution_count": 15,
     "metadata": {},
     "output_type": "execute_result"
    }
   ],
   "source": [
    "wc.generate(wordstr)"
   ]
  },
  {
   "cell_type": "code",
   "execution_count": 16,
   "metadata": {
    "scrolled": true
   },
   "outputs": [
    {
     "data": {
      "image/png": "[encoded data removed]",
      "text/plain": [
       "<Figure size 432x288 with 1 Axes>"
      ]
     },
     "metadata": {
      "needs_background": "light"
     },
     "output_type": "display_data"
    },
    {
     "data": {
      "text/plain": [
       "<wordcloud.wordcloud.WordCloud at 0x21f175b8d60>"
      ]
     },
     "execution_count": 16,
     "metadata": {},
     "output_type": "execute_result"
    }
   ],
   "source": [
    "plt.figure(\"jinyong\")\n",
    "plt.imshow(wc)\n",
    "plt.axis(\"off\")\n",
    "plt.show()\n",
    "\n",
    "\n",
    "wc.to_file(\"./pic/cloud_result.png\")"
   ]
  },
  {
   "cell_type": "markdown",
   "metadata": {},
   "source": [
    "# 文件和操作系统"
   ]
  },
  {
   "cell_type": "code",
   "execution_count": 35,
   "metadata": {},
   "outputs": [],
   "source": [
    "import os"
   ]
  },
  {
   "cell_type": "markdown",
   "metadata": {},
   "source": [
    "## 文件路径"
   ]
  },
  {
   "cell_type": "markdown",
   "metadata": {},
   "source": [
    "### 当前工作路径返回"
   ]
  },
  {
   "cell_type": "code",
   "execution_count": 2,
   "metadata": {},
   "outputs": [
    {
     "data": {
      "text/plain": [
       "'C:\\\\Users\\\\Think\\\\课程\\\\3UB_python基础'"
      ]
     },
     "execution_count": 2,
     "metadata": {},
     "output_type": "execute_result"
    }
   ],
   "source": [
    "os.getcwd()"
   ]
  },
  {
   "cell_type": "markdown",
   "metadata": {},
   "source": [
    "### 路径跳转"
   ]
  },
  {
   "cell_type": "code",
   "execution_count": 3,
   "metadata": {},
   "outputs": [
    {
     "data": {
      "text/plain": [
       "'C:\\\\Windows\\\\System32'"
      ]
     },
     "execution_count": 3,
     "metadata": {},
     "output_type": "execute_result"
    }
   ],
   "source": [
    "os.chdir('C:\\\\Windows\\\\System32')\n",
    "os.getcwd()"
   ]
  },
  {
   "cell_type": "markdown",
   "metadata": {},
   "source": [
    "### 非转义字符串描述windows文件路径"
   ]
  },
  {
   "cell_type": "code",
   "execution_count": 16,
   "metadata": {},
   "outputs": [
    {
     "data": {
      "text/plain": [
       "'D:\\\\myproj\\\\stopwords'"
      ]
     },
     "execution_count": 16,
     "metadata": {},
     "output_type": "execute_result"
    }
   ],
   "source": [
    "os.chdir(r'D:\\\\myproj\\stopwords')\n",
    "os.getcwd()"
   ]
  },
  {
   "cell_type": "markdown",
   "metadata": {},
   "source": [
    "###  相对路径  两个点 ..父目录 一个点 .本目录"
   ]
  },
  {
   "cell_type": "code",
   "execution_count": 17,
   "metadata": {},
   "outputs": [
    {
     "data": {
      "text/plain": [
       "'D:\\\\myproj'"
      ]
     },
     "execution_count": 17,
     "metadata": {},
     "output_type": "execute_result"
    }
   ],
   "source": [
    "os.chdir(r'..')\n",
    "os.getcwd()"
   ]
  },
  {
   "cell_type": "code",
   "execution_count": 18,
   "metadata": {},
   "outputs": [
    {
     "data": {
      "text/plain": [
       "'D:\\\\myproj\\\\stopwords'"
      ]
     },
     "execution_count": 18,
     "metadata": {},
     "output_type": "execute_result"
    }
   ],
   "source": [
    "os.chdir(r'./stopwords')  # 斜杠反斜杠 其实os帮你处理好了 可以一定程度上混用 舒服\n",
    "os.getcwd()"
   ]
  },
  {
   "cell_type": "markdown",
   "metadata": {},
   "source": [
    "###  创建目录"
   ]
  },
  {
   "cell_type": "code",
   "execution_count": 24,
   "metadata": {},
   "outputs": [
    {
     "data": {
      "text/plain": [
       "'C:\\\\Users\\\\Think\\\\课程\\\\3UB_python基础'"
      ]
     },
     "execution_count": 24,
     "metadata": {},
     "output_type": "execute_result"
    }
   ],
   "source": [
    "os.chdir('C:\\\\Users\\\\Think\\\\课程\\\\3UB_python基础')  # 先切换到课程文件根目录\n",
    "os.getcwd()"
   ]
  },
  {
   "cell_type": "code",
   "execution_count": 29,
   "metadata": {},
   "outputs": [],
   "source": [
    "try:\n",
    "    os.makedirs('./dir/dir/dir/dir')\n",
    "except:\n",
    "    pass"
   ]
  },
  {
   "cell_type": "code",
   "execution_count": 30,
   "metadata": {},
   "outputs": [],
   "source": [
    "os.chdir('./dir/dir/dir/dir')"
   ]
  },
  {
   "cell_type": "code",
   "execution_count": 31,
   "metadata": {},
   "outputs": [
    {
     "data": {
      "text/plain": [
       "'C:\\\\Users\\\\Think\\\\课程\\\\3UB_python基础\\\\dir\\\\dir\\\\dir\\\\dir'"
      ]
     },
     "execution_count": 31,
     "metadata": {},
     "output_type": "execute_result"
    }
   ],
   "source": [
    "os.getcwd()"
   ]
  },
  {
   "cell_type": "markdown",
   "metadata": {},
   "source": [
    "### 多重父目录跳到pic图片目录"
   ]
  },
  {
   "cell_type": "code",
   "execution_count": 32,
   "metadata": {},
   "outputs": [],
   "source": [
    "os.chdir('../../../../pic')"
   ]
  },
  {
   "cell_type": "code",
   "execution_count": 33,
   "metadata": {},
   "outputs": [
    {
     "data": {
      "text/plain": [
       "'C:\\\\Users\\\\Think\\\\课程\\\\3UB_python基础\\\\pic'"
      ]
     },
     "execution_count": 33,
     "metadata": {},
     "output_type": "execute_result"
    }
   ],
   "source": [
    "os.getcwd()"
   ]
  },
  {
   "cell_type": "markdown",
   "metadata": {},
   "source": [
    "### 相对路径实在懒得思考了 来个自动方法   目标路径，原路径"
   ]
  },
  {
   "cell_type": "code",
   "execution_count": 36,
   "metadata": {},
   "outputs": [
    {
     "data": {
      "text/plain": [
       "'..\\\\..\\\\..\\\\..\\\\pic'"
      ]
     },
     "execution_count": 36,
     "metadata": {},
     "output_type": "execute_result"
    }
   ],
   "source": [
    "os.path.relpath('C:\\\\Users\\\\Think\\\\课程\\\\3UB_python基础\\\\pic','C:\\\\Users\\\\Think\\\\课程\\\\3UB_python基础\\\\dir\\\\dir\\\\dir\\\\dir')"
   ]
  },
  {
   "cell_type": "markdown",
   "metadata": {},
   "source": [
    "### 路径构造和绝对路径"
   ]
  },
  {
   "cell_type": "code",
   "execution_count": 37,
   "metadata": {},
   "outputs": [
    {
     "data": {
      "text/plain": [
       "'C:\\\\Users\\\\Think\\\\课程\\\\3UB_python基础\\\\pic'"
      ]
     },
     "execution_count": 37,
     "metadata": {},
     "output_type": "execute_result"
    }
   ],
   "source": [
    "os.path.abspath('.')"
   ]
  },
  {
   "cell_type": "markdown",
   "metadata": {},
   "source": [
    "### dirname basename 和 split"
   ]
  },
  {
   "cell_type": "markdown",
   "metadata": {},
   "source": [
    "dirname其实就是针对字符串的简单操作 把最后一个斜杠或者反斜杠或者转义斜杠前面的容返回"
   ]
  },
  {
   "cell_type": "code",
   "execution_count": 39,
   "metadata": {},
   "outputs": [
    {
     "data": {
      "text/plain": [
       "'C:\\\\Users\\\\Think\\\\课程\\\\3UB_python基础'"
      ]
     },
     "execution_count": 39,
     "metadata": {},
     "output_type": "execute_result"
    }
   ],
   "source": [
    "os.path.dirname('C:\\\\Users\\\\Think\\\\课程\\\\3UB_python基础\\\\pic')"
   ]
  },
  {
   "cell_type": "markdown",
   "metadata": {},
   "source": [
    "basename就是最后斜杠后面的内容"
   ]
  },
  {
   "cell_type": "code",
   "execution_count": 40,
   "metadata": {},
   "outputs": [
    {
     "data": {
      "text/plain": [
       "'pic'"
      ]
     },
     "execution_count": 40,
     "metadata": {},
     "output_type": "execute_result"
    }
   ],
   "source": [
    "os.path.basename('C:\\\\Users\\\\Think\\\\课程\\\\3UB_python基础\\\\pic')"
   ]
  },
  {
   "cell_type": "code",
   "execution_count": 41,
   "metadata": {},
   "outputs": [
    {
     "data": {
      "text/plain": [
       "'dfadaxxx8**'"
      ]
     },
     "execution_count": 41,
     "metadata": {},
     "output_type": "execute_result"
    }
   ],
   "source": [
    "os.path.dirname('dfadaxxx8**\\\\pic')"
   ]
  },
  {
   "cell_type": "markdown",
   "metadata": {},
   "source": [
    "split直接返回dirname和basename"
   ]
  },
  {
   "cell_type": "code",
   "execution_count": 42,
   "metadata": {},
   "outputs": [
    {
     "data": {
      "text/plain": [
       "('C:\\\\Users\\\\Think\\\\课程\\\\3UB_python基础', 'pic')"
      ]
     },
     "execution_count": 42,
     "metadata": {},
     "output_type": "execute_result"
    }
   ],
   "source": [
    "os.path.split('C:\\\\Users\\\\Think\\\\课程\\\\3UB_python基础\\\\pic')"
   ]
  },
  {
   "cell_type": "markdown",
   "metadata": {},
   "source": [
    "### 文件大小"
   ]
  },
  {
   "cell_type": "code",
   "execution_count": 49,
   "metadata": {
    "scrolled": true
   },
   "outputs": [
    {
     "data": {
      "text/plain": [
       "185968"
      ]
     },
     "execution_count": 49,
     "metadata": {},
     "output_type": "execute_result"
    }
   ],
   "source": [
    "os.path.getsize('C:\\\\Users\\\\Think\\\\课程\\\\3UB_python基础\\\\L5_编码 正则表达式 文本处理.ipynb')"
   ]
  },
  {
   "cell_type": "markdown",
   "metadata": {},
   "source": [
    "### 目录全部文件名"
   ]
  },
  {
   "cell_type": "code",
   "execution_count": 50,
   "metadata": {},
   "outputs": [
    {
     "data": {
      "text/plain": [
       "['778496-20180713200909560-1043089630.png',\n",
       " 'array.png',\n",
       " 'cloud_result.png',\n",
       " 'generator.png',\n",
       " 'numpytype.png',\n",
       " 'oop.png',\n",
       " 'python.png',\n",
       " 'struct.png',\n",
       " 'test.bmp',\n",
       " 'utf8.png',\n",
       " '正则.png',\n",
       " '武侠.png',\n",
       " '编码.png',\n",
       " '进制.png']"
      ]
     },
     "execution_count": 50,
     "metadata": {},
     "output_type": "execute_result"
    }
   ],
   "source": [
    "os.listdir()  # 默认参数就是当前目录"
   ]
  },
  {
   "cell_type": "markdown",
   "metadata": {},
   "source": [
    "## 示例 获取目录大小\n",
    "    获取目录下裸文件的总大小"
   ]
  },
  {
   "cell_type": "code",
   "execution_count": 55,
   "metadata": {},
   "outputs": [
    {
     "data": {
      "text/plain": [
       "22304455"
      ]
     },
     "execution_count": 55,
     "metadata": {},
     "output_type": "execute_result"
    }
   ],
   "source": [
    "totalSize = 0\n",
    "for filename in os.listdir('C:\\\\Users\\\\Think\\\\课程\\\\3UB_python基础'):\n",
    "    totalSize = totalSize + os.path.getsize(os.path.join('C:\\\\Users\\\\Think\\\\课程\\\\3UB_python基础', filename))\n",
    "totalSize"
   ]
  },
  {
   "cell_type": "markdown",
   "metadata": {},
   "source": [
    "    1. 递归\n",
    "    2. 判断是目录还是文件 文件计算大小 目录进行递归\n",
    "    3. 结束条件就是发现是个文件 计算大小"
   ]
  },
  {
   "cell_type": "code",
   "execution_count": 51,
   "metadata": {
    "collapsed": true
   },
   "outputs": [
    {
     "name": "stdout",
     "output_type": "stream",
     "text": [
      "C:\\Users\\Think\\课程\\3UB_python基础中文件数量为：29\n",
      ".git\n",
      ".ipynb_checkpoints\n",
      "baidu_stopwords.txt\n",
      "content.txt\n",
      "Coroutines.pdf\n",
      "csvexample.csv\n",
      "dir\n",
      "eiffel.bitmap\n",
      "Epoch Report.txt\n",
      "Epoch Report1.txt\n",
      "jinyong\n",
      "L1_python初级数据结构.ipynb\n",
      "L2_函数是一等公民.ipynb\n",
      "L3_一切皆对象 初级oop.ipynb\n",
      "L4_数据结构和迭代深入协议.ipynb\n",
      "L5_编码 正则表达式 文本处理.ipynb\n",
      "L6_实用数据结构 数据可视化 科研相关技能.ipynb\n",
      "L7_图像处理 音频处理.ipynb\n",
      "L8_网络编程 爬虫 数据库 自动化操作.ipynb\n",
      "L9_网络编程 后台编写 云端部署.ipynb\n",
      "numpy-cheat-sheet.pdf\n",
      "output.csv\n",
      "pic\n",
      "README.md\n",
      "ScipyLectures.pdf\n",
      "test.py\n",
      "test1.py\n",
      "test2.xxx\n",
      "tmp\n",
      "\n",
      "\n",
      "文件夹名.git\n",
      "C:\\Users\\Think\\课程\\3UB_python基础\\.git中文件数量为：10\n",
      "COMMIT_EDITMSG\n",
      "config\n",
      "description\n",
      "HEAD\n",
      "hooks\n",
      "index\n",
      "info\n",
      "logs\n",
      "objects\n",
      "refs\n",
      "\n",
      "文件名：COMMIT_EDITMSG,文件大小：7\n",
      "文件名：config,文件大小：360\n",
      "文件名：description,文件大小：73\n",
      "文件名：HEAD,文件大小：21\n",
      "\n",
      "文件夹名hooks\n",
      "C:\\Users\\Think\\课程\\3UB_python基础\\.git\\hooks中文件数量为：12\n",
      "applypatch-msg.sample\n",
      "commit-msg.sample\n",
      "fsmonitor-watchman.sample\n",
      "post-update.sample\n",
      "pre-applypatch.sample\n",
      "pre-commit.sample\n",
      "pre-merge-commit.sample\n",
      "pre-push.sample\n",
      "pre-rebase.sample\n",
      "pre-receive.sample\n",
      "prepare-commit-msg.sample\n",
      "update.sample\n",
      "\n",
      "文件名：applypatch-msg.sample,文件大小：478\n",
      "文件名：commit-msg.sample,文件大小：896\n",
      "文件名：fsmonitor-watchman.sample,文件大小：4655\n",
      "文件名：post-update.sample,文件大小：189\n",
      "文件名：pre-applypatch.sample,文件大小：424\n",
      "文件名：pre-commit.sample,文件大小：1643\n",
      "文件名：pre-merge-commit.sample,文件大小：416\n",
      "文件名：pre-push.sample,文件大小：1348\n",
      "文件名：pre-rebase.sample,文件大小：4898\n",
      "文件名：pre-receive.sample,文件大小：544\n",
      "文件名：prepare-commit-msg.sample,文件大小：1492\n",
      "文件名：update.sample,文件大小：3635\n",
      "文件夹大小为20618\n",
      "\n",
      "文件名：index,文件大小：8652\n",
      "\n",
      "文件夹名info\n",
      "C:\\Users\\Think\\课程\\3UB_python基础\\.git\\info中文件数量为：1\n",
      "exclude\n",
      "\n",
      "文件名：exclude,文件大小：240\n",
      "文件夹大小为240\n",
      "\n",
      "\n",
      "文件夹名logs\n",
      "C:\\Users\\Think\\课程\\3UB_python基础\\.git\\logs中文件数量为：2\n",
      "HEAD\n",
      "refs\n",
      "\n",
      "文件名：HEAD,文件大小：2142\n",
      "\n",
      "文件夹名refs\n",
      "C:\\Users\\Think\\课程\\3UB_python基础\\.git\\logs\\refs中文件数量为：2\n",
      "heads\n",
      "remotes\n",
      "\n",
      "\n",
      "文件夹名heads\n",
      "C:\\Users\\Think\\课程\\3UB_python基础\\.git\\logs\\refs\\heads中文件数量为：1\n",
      "main\n",
      "\n",
      "文件名：main,文件大小：1958\n",
      "文件夹大小为1958\n",
      "\n",
      "\n",
      "文件夹名remotes\n",
      "C:\\Users\\Think\\课程\\3UB_python基础\\.git\\logs\\refs\\remotes中文件数量为：1\n",
      "origin\n",
      "\n",
      "\n",
      "文件夹名origin\n",
      "C:\\Users\\Think\\课程\\3UB_python基础\\.git\\logs\\refs\\remotes\\origin中文件数量为：1\n",
      "main\n",
      "\n",
      "文件名：main,文件大小：1752\n",
      "文件夹大小为1752\n",
      "\n",
      "文件夹大小为1752\n",
      "\n",
      "文件夹大小为3710\n",
      "\n",
      "文件夹大小为5852\n",
      "\n",
      "\n",
      "文件夹名objects\n",
      "C:\\Users\\Think\\课程\\3UB_python基础\\.git\\objects中文件数量为：112\n",
      "02\n",
      "03\n",
      "06\n",
      "08\n",
      "09\n",
      "0b\n",
      "0f\n",
      "11\n",
      "14\n",
      "1b\n",
      "1c\n",
      "1e\n",
      "20\n",
      "24\n",
      "25\n",
      "27\n",
      "28\n",
      "2a\n",
      "2b\n",
      "2e\n",
      "31\n",
      "33\n",
      "34\n",
      "38\n",
      "39\n",
      "3e\n",
      "3f\n",
      "40\n",
      "41\n",
      "42\n",
      "44\n",
      "46\n",
      "4a\n",
      "4d\n",
      "4f\n",
      "51\n",
      "52\n",
      "53\n",
      "55\n",
      "58\n",
      "5b\n",
      "61\n",
      "62\n",
      "63\n",
      "64\n",
      "65\n",
      "66\n",
      "69\n",
      "6a\n",
      "6b\n",
      "6d\n",
      "6f\n",
      "70\n",
      "75\n",
      "78\n",
      "7a\n",
      "7b\n",
      "7d\n",
      "80\n",
      "81\n",
      "82\n",
      "84\n",
      "87\n",
      "89\n",
      "8a\n",
      "8e\n",
      "8f\n",
      "93\n",
      "95\n",
      "96\n",
      "98\n",
      "9a\n",
      "9d\n",
      "9f\n",
      "a3\n",
      "a6\n",
      "a7\n",
      "ab\n",
      "ad\n",
      "af\n",
      "b0\n",
      "b1\n",
      "b2\n",
      "b8\n",
      "bb\n",
      "c1\n",
      "c3\n",
      "c4\n",
      "cc\n",
      "cd\n",
      "ce\n",
      "d0\n",
      "d5\n",
      "d8\n",
      "d9\n",
      "da\n",
      "db\n",
      "dd\n",
      "df\n",
      "e1\n",
      "e3\n",
      "e4\n",
      "e7\n",
      "ea\n",
      "f4\n",
      "f6\n",
      "f7\n",
      "fb\n",
      "fd\n",
      "fe\n",
      "info\n",
      "pack\n",
      "\n",
      "\n",
      "文件夹名02\n",
      "C:\\Users\\Think\\课程\\3UB_python基础\\.git\\objects\\02中文件数量为：1\n",
      "7018d883572cfe2053cbeb296f54425b08d864\n",
      "\n",
      "文件名：7018d883572cfe2053cbeb296f54425b08d864,文件大小：23337\n",
      "文件夹大小为23337\n",
      "\n",
      "\n",
      "文件夹名03\n",
      "C:\\Users\\Think\\课程\\3UB_python基础\\.git\\objects\\03中文件数量为：2\n",
      "698b626a6dce199274629785d630ae191d035e\n",
      "fff507f10dc6ee716865e5679e129afcd0b05e\n",
      "\n",
      "文件名：698b626a6dce199274629785d630ae191d035e,文件大小：15791\n",
      "文件名：fff507f10dc6ee716865e5679e129afcd0b05e,文件大小：17161\n",
      "文件夹大小为32952\n",
      "\n",
      "\n",
      "文件夹名06\n",
      "C:\\Users\\Think\\课程\\3UB_python基础\\.git\\objects\\06中文件数量为：1\n",
      "066c4119e67b784243a8f9863762114be69d79\n",
      "\n",
      "文件名：066c4119e67b784243a8f9863762114be69d79,文件大小：151\n",
      "文件夹大小为151\n",
      "\n",
      "\n",
      "文件夹名08\n",
      "C:\\Users\\Think\\课程\\3UB_python基础\\.git\\objects\\08中文件数量为：1\n",
      "34d0e6ff064e2675316495aaba5421082c3edd\n",
      "\n",
      "文件名：34d0e6ff064e2675316495aaba5421082c3edd,文件大小：948\n",
      "文件夹大小为948\n",
      "\n",
      "\n",
      "文件夹名09\n",
      "C:\\Users\\Think\\课程\\3UB_python基础\\.git\\objects\\09中文件数量为：3\n",
      "01f6cc38adaef320857b9682966e1984122c05\n",
      "0d0f4be7b210559d01bc9fe4db038f8f2facd9\n",
      "b7de7850457e6d6e298985d52463587aa8758b\n",
      "\n",
      "文件名：01f6cc38adaef320857b9682966e1984122c05,文件大小：124\n",
      "文件名：0d0f4be7b210559d01bc9fe4db038f8f2facd9,文件大小：1274\n",
      "文件名：b7de7850457e6d6e298985d52463587aa8758b,文件大小：27\n",
      "文件夹大小为1425\n",
      "\n",
      "\n",
      "文件夹名0b\n",
      "C:\\Users\\Think\\课程\\3UB_python基础\\.git\\objects\\0b中文件数量为：1\n",
      "b8e9f029fa1d597e57b14c04dbb5e12aa4de6a\n",
      "\n",
      "文件名：b8e9f029fa1d597e57b14c04dbb5e12aa4de6a,文件大小：129864\n",
      "文件夹大小为129864\n",
      "\n",
      "\n",
      "文件夹名0f\n",
      "C:\\Users\\Think\\课程\\3UB_python基础\\.git\\objects\\0f中文件数量为：2\n",
      "1eea0181187857746b673c943c409d99fdd656\n",
      "5ea3d6cb0ea1ed961511cbf6a003bbc0fa9426\n",
      "\n",
      "文件名：1eea0181187857746b673c943c409d99fdd656,文件大小：947\n",
      "文件名：5ea3d6cb0ea1ed961511cbf6a003bbc0fa9426,文件大小：180079\n",
      "文件夹大小为181026\n",
      "\n",
      "\n",
      "文件夹名11\n",
      "C:\\Users\\Think\\课程\\3UB_python基础\\.git\\objects\\11中文件数量为：1\n",
      "739d84c345b9232f2efae4092fe6b8c172a8be\n",
      "\n",
      "文件名：739d84c345b9232f2efae4092fe6b8c172a8be,文件大小：20229\n",
      "文件夹大小为20229\n",
      "\n",
      "\n",
      "文件夹名14\n",
      "C:\\Users\\Think\\课程\\3UB_python基础\\.git\\objects\\14中文件数量为：1\n",
      "9c15eb9d679ec8764e9905f4d9271aff8182d9\n",
      "\n",
      "文件名：9c15eb9d679ec8764e9905f4d9271aff8182d9,文件大小：150\n",
      "文件夹大小为150\n",
      "\n",
      "\n",
      "文件夹名1b\n",
      "C:\\Users\\Think\\课程\\3UB_python基础\\.git\\objects\\1b中文件数量为：1\n",
      "0e5dc094c7609d28eb342e6aa9bc19be509ac2\n",
      "\n",
      "文件名：0e5dc094c7609d28eb342e6aa9bc19be509ac2,文件大小：68\n",
      "文件夹大小为68\n",
      "\n",
      "\n",
      "文件夹名1c\n",
      "C:\\Users\\Think\\课程\\3UB_python基础\\.git\\objects\\1c中文件数量为：1\n",
      "6821c2b17fa179a7124dc2d908df3683e9a2d5\n",
      "\n",
      "文件名：6821c2b17fa179a7124dc2d908df3683e9a2d5,文件大小：16838\n",
      "文件夹大小为16838\n",
      "\n",
      "\n",
      "文件夹名1e\n",
      "C:\\Users\\Think\\课程\\3UB_python基础\\.git\\objects\\1e中文件数量为：2\n",
      "4f501a24547201c5dfb733cbb79078f035c16d\n",
      "a09e222f82a0c3d33d3809a973bcb5aa9ddcf4\n",
      "\n",
      "文件名：4f501a24547201c5dfb733cbb79078f035c16d,文件大小：599\n",
      "文件名：a09e222f82a0c3d33d3809a973bcb5aa9ddcf4,文件大小：1126\n",
      "文件夹大小为1725\n",
      "\n",
      "\n",
      "文件夹名20\n",
      "C:\\Users\\Think\\课程\\3UB_python基础\\.git\\objects\\20中文件数量为：1\n",
      "73ed124b15909cf02cc0e2e01c64710ad8d707\n",
      "\n",
      "文件名：73ed124b15909cf02cc0e2e01c64710ad8d707,文件大小：1306\n",
      "文件夹大小为1306\n",
      "\n",
      "\n",
      "文件夹名24\n",
      "C:\\Users\\Think\\课程\\3UB_python基础\\.git\\objects\\24中文件数量为：1\n",
      "390876805d1e221a6e7ca2c4bdff6fe0b39978\n",
      "\n",
      "文件名：390876805d1e221a6e7ca2c4bdff6fe0b39978,文件大小：985\n",
      "文件夹大小为985\n",
      "\n",
      "\n",
      "文件夹名25\n",
      "C:\\Users\\Think\\课程\\3UB_python基础\\.git\\objects\\25中文件数量为：1\n",
      "6461b051ce95cd2ae834f4db68c395896a062b\n",
      "\n",
      "文件名：6461b051ce95cd2ae834f4db68c395896a062b,文件大小：20517\n",
      "文件夹大小为20517\n",
      "\n",
      "\n",
      "文件夹名27\n",
      "C:\\Users\\Think\\课程\\3UB_python基础\\.git\\objects\\27中文件数量为：1\n",
      "27aa491401e8d01efe5d39a990736731863497\n",
      "\n",
      "文件名：27aa491401e8d01efe5d39a990736731863497,文件大小：73009\n",
      "文件夹大小为73009\n",
      "\n",
      "\n",
      "文件夹名28\n",
      "C:\\Users\\Think\\课程\\3UB_python基础\\.git\\objects\\28中文件数量为：1\n",
      "15bd3d957af7e1578788bbc607472fb25c4f87\n",
      "\n",
      "文件名：15bd3d957af7e1578788bbc607472fb25c4f87,文件大小：1000\n",
      "文件夹大小为1000\n",
      "\n",
      "\n",
      "文件夹名2a\n",
      "C:\\Users\\Think\\课程\\3UB_python基础\\.git\\objects\\2a中文件数量为：1\n",
      "c071b6f106ce615b30a71e58811bf1880c6dcc\n",
      "\n",
      "文件名：c071b6f106ce615b30a71e58811bf1880c6dcc,文件大小：35747\n",
      "文件夹大小为35747\n",
      "\n",
      "\n",
      "文件夹名2b\n",
      "C:\\Users\\Think\\课程\\3UB_python基础\\.git\\objects\\2b中文件数量为：1\n",
      "75ce9627b9cb1cdd2d2ce67bbd375555fb3380\n",
      "\n",
      "文件名：75ce9627b9cb1cdd2d2ce67bbd375555fb3380,文件大小：13071\n",
      "文件夹大小为13071\n",
      "\n",
      "\n",
      "文件夹名2e\n",
      "C:\\Users\\Think\\课程\\3UB_python基础\\.git\\objects\\2e中文件数量为：1\n",
      "8a5ab1d3c61b852be6f592229f20fd8280b747\n",
      "\n",
      "文件名：8a5ab1d3c61b852be6f592229f20fd8280b747,文件大小：150\n",
      "文件夹大小为150\n",
      "\n",
      "\n",
      "文件夹名31\n",
      "C:\\Users\\Think\\课程\\3UB_python基础\\.git\\objects\\31中文件数量为：1\n",
      "75410fbc06828c5cc5388f9147f4857f8afede\n",
      "\n",
      "文件名：75410fbc06828c5cc5388f9147f4857f8afede,文件大小：134958\n",
      "文件夹大小为134958\n",
      "\n",
      "\n",
      "文件夹名33\n",
      "C:\\Users\\Think\\课程\\3UB_python基础\\.git\\objects\\33中文件数量为：1\n",
      "27e41377d46a771cd6c7ad429579a957e3b699\n",
      "\n",
      "文件名：27e41377d46a771cd6c7ad429579a957e3b699,文件大小：872\n",
      "文件夹大小为872\n",
      "\n",
      "\n",
      "文件夹名34\n",
      "C:\\Users\\Think\\课程\\3UB_python基础\\.git\\objects\\34中文件数量为：1\n",
      "5736598d90af0456c13966b06b79c449da6389\n",
      "\n",
      "文件名：5736598d90af0456c13966b06b79c449da6389,文件大小：11571\n",
      "文件夹大小为11571\n",
      "\n",
      "\n",
      "文件夹名38\n",
      "C:\\Users\\Think\\课程\\3UB_python基础\\.git\\objects\\38中文件数量为：1\n",
      "1f3c60dfe7864e0a75c4067398b29212eef2ee\n",
      "\n",
      "文件名：1f3c60dfe7864e0a75c4067398b29212eef2ee,文件大小：3004\n",
      "文件夹大小为3004\n",
      "\n",
      "\n",
      "文件夹名39\n",
      "C:\\Users\\Think\\课程\\3UB_python基础\\.git\\objects\\39中文件数量为：1\n",
      "71b3ec2aef8097ad356c3faa9c194fd971cd9e\n",
      "\n",
      "文件名：71b3ec2aef8097ad356c3faa9c194fd971cd9e,文件大小：31252\n",
      "文件夹大小为31252\n",
      "\n",
      "\n",
      "文件夹名3e\n",
      "C:\\Users\\Think\\课程\\3UB_python基础\\.git\\objects\\3e中文件数量为：2\n",
      "4392c92b8d8941dbfd34c50f5d188c5c6c3d0c\n",
      "ade1d96ba6245b681cb420192a93c6a7235d7a\n",
      "\n",
      "文件名：4392c92b8d8941dbfd34c50f5d188c5c6c3d0c,文件大小：437\n",
      "文件名：ade1d96ba6245b681cb420192a93c6a7235d7a,文件大小：1014\n",
      "文件夹大小为1451\n",
      "\n",
      "\n",
      "文件夹名3f\n",
      "C:\\Users\\Think\\课程\\3UB_python基础\\.git\\objects\\3f中文件数量为：2\n",
      "207428047696679c74ebc110427a8ea67f1433\n",
      "e2faa3245544d114258bc42d3176ea1b770c47\n",
      "\n",
      "文件名：207428047696679c74ebc110427a8ea67f1433,文件大小：15386\n",
      "文件名：e2faa3245544d114258bc42d3176ea1b770c47,文件大小：154\n",
      "文件夹大小为15540\n",
      "\n",
      "\n",
      "文件夹名40\n",
      "C:\\Users\\Think\\课程\\3UB_python基础\\.git\\objects\\40中文件数量为：1\n",
      "9742428ca32d72ee5cc39071572859f1876177\n",
      "\n",
      "文件名：9742428ca32d72ee5cc39071572859f1876177,文件大小：61941\n",
      "文件夹大小为61941\n",
      "\n",
      "\n",
      "文件夹名41\n",
      "C:\\Users\\Think\\课程\\3UB_python基础\\.git\\objects\\41中文件数量为：1\n",
      "ce2c49f7f91fa77a97c05ff84fd6b5c556f428\n",
      "\n",
      "文件名：ce2c49f7f91fa77a97c05ff84fd6b5c556f428,文件大小：150\n",
      "文件夹大小为150\n",
      "\n",
      "\n",
      "文件夹名42\n",
      "C:\\Users\\Think\\课程\\3UB_python基础\\.git\\objects\\42中文件数量为：2\n",
      "4bcf3e2c905d7692315c0f776c43d68c8a57eb\n",
      "ad0885112c3538faa10bf8aa660866c6a2a8c2\n",
      "\n",
      "文件名：4bcf3e2c905d7692315c0f776c43d68c8a57eb,文件大小：30\n",
      "文件名：ad0885112c3538faa10bf8aa660866c6a2a8c2,文件大小：3268\n",
      "文件夹大小为3298\n",
      "\n",
      "\n",
      "文件夹名44\n",
      "C:\\Users\\Think\\课程\\3UB_python基础\\.git\\objects\\44中文件数量为：1\n",
      "e614280cdb8e10c2de481876b726608dc89fca\n",
      "\n",
      "文件名：e614280cdb8e10c2de481876b726608dc89fca,文件大小：1304\n",
      "文件夹大小为1304\n",
      "\n",
      "\n",
      "文件夹名46\n",
      "C:\\Users\\Think\\课程\\3UB_python基础\\.git\\objects\\46中文件数量为：1\n",
      "1e4decae9ef36523ed8de86ac28b2ef1cab391\n",
      "\n",
      "文件名：1e4decae9ef36523ed8de86ac28b2ef1cab391,文件大小：35117\n",
      "文件夹大小为35117\n",
      "\n",
      "\n",
      "文件夹名4a\n",
      "C:\\Users\\Think\\课程\\3UB_python基础\\.git\\objects\\4a中文件数量为：2\n",
      "5f70b8d7c65ad12a504e1606b96c5ca703a092\n",
      "774c9dc875cba5411d500aa151bf161517c5e2\n",
      "\n",
      "文件名：5f70b8d7c65ad12a504e1606b96c5ca703a092,文件大小：1395\n",
      "文件名：774c9dc875cba5411d500aa151bf161517c5e2,文件大小：921\n",
      "文件夹大小为2316\n",
      "\n",
      "\n",
      "文件夹名4d\n",
      "C:\\Users\\Think\\课程\\3UB_python基础\\.git\\objects\\4d中文件数量为：1\n",
      "1a26c05e39aa8da491683e7c91ac8194fc101a\n",
      "\n",
      "文件名：1a26c05e39aa8da491683e7c91ac8194fc101a,文件大小：1101\n",
      "文件夹大小为1101\n",
      "\n",
      "\n",
      "文件夹名4f\n",
      "C:\\Users\\Think\\课程\\3UB_python基础\\.git\\objects\\4f中文件数量为：2\n",
      "247f413edd639bcecfb916a7a97235083c9bf8\n",
      "90f4a2216f953605f9d834931a5cb9ba3ea803\n",
      "\n",
      "文件名：247f413edd639bcecfb916a7a97235083c9bf8,文件大小：4187\n",
      "文件名：90f4a2216f953605f9d834931a5cb9ba3ea803,文件大小：495\n",
      "文件夹大小为4682\n",
      "\n",
      "\n",
      "文件夹名51\n",
      "C:\\Users\\Think\\课程\\3UB_python基础\\.git\\objects\\51中文件数量为：1\n",
      "98b29cb784dc5b0c1ca2d602fb346ba32f7b2c\n",
      "\n",
      "文件名：98b29cb784dc5b0c1ca2d602fb346ba32f7b2c,文件大小：1306\n",
      "文件夹大小为1306\n",
      "\n",
      "\n",
      "文件夹名52\n",
      "C:\\Users\\Think\\课程\\3UB_python基础\\.git\\objects\\52中文件数量为：1\n",
      "a2bc4237403bb5c5df2093b2efc5d297fb648c\n",
      "\n",
      "文件名：a2bc4237403bb5c5df2093b2efc5d297fb648c,文件大小：15785\n",
      "文件夹大小为15785\n",
      "\n",
      "\n",
      "文件夹名53\n",
      "C:\\Users\\Think\\课程\\3UB_python基础\\.git\\objects\\53中文件数量为：1\n",
      "31f52d7fd30492ac3b4811dee9029873c22db9\n",
      "\n",
      "文件名：31f52d7fd30492ac3b4811dee9029873c22db9,文件大小：18801077\n",
      "文件夹大小为18801077\n",
      "\n",
      "\n",
      "文件夹名55\n",
      "C:\\Users\\Think\\课程\\3UB_python基础\\.git\\objects\\55中文件数量为：1\n",
      "97d26a5e23445000cda6b15d21d675a41fd2a8\n",
      "\n",
      "文件名：97d26a5e23445000cda6b15d21d675a41fd2a8,文件大小：1013\n",
      "文件夹大小为1013\n",
      "\n",
      "\n",
      "文件夹名58\n",
      "C:\\Users\\Think\\课程\\3UB_python基础\\.git\\objects\\58中文件数量为：1\n",
      "2fb1b3df184fa84bab3256470e12046de84bd0\n",
      "\n",
      "文件名：2fb1b3df184fa84bab3256470e12046de84bd0,文件大小：290\n",
      "文件夹大小为290\n",
      "\n",
      "\n",
      "文件夹名5b\n",
      "C:\\Users\\Think\\课程\\3UB_python基础\\.git\\objects\\5b中文件数量为：1\n",
      "0b57ebe47e5efe9e5e6682f2e511d2ac108e6b\n",
      "\n",
      "文件名：0b57ebe47e5efe9e5e6682f2e511d2ac108e6b,文件大小：60659\n",
      "文件夹大小为60659\n",
      "\n",
      "\n",
      "文件夹名61\n",
      "C:\\Users\\Think\\课程\\3UB_python基础\\.git\\objects\\61中文件数量为：2\n",
      "59f2f20afbe675398badb7d95ae1f644fa0f3b\n",
      "98f7ce78490603b1032d807a8c8597eaa3d1c3\n",
      "\n",
      "文件名：59f2f20afbe675398badb7d95ae1f644fa0f3b,文件大小：324797\n",
      "文件名：98f7ce78490603b1032d807a8c8597eaa3d1c3,文件大小：546274\n",
      "文件夹大小为871071\n",
      "\n",
      "\n",
      "文件夹名62\n",
      "C:\\Users\\Think\\课程\\3UB_python基础\\.git\\objects\\62中文件数量为：1\n",
      "4638e32f0841d3c3aa7f0a98051406ad57f9d9\n",
      "\n",
      "文件名：4638e32f0841d3c3aa7f0a98051406ad57f9d9,文件大小：903\n",
      "文件夹大小为903\n",
      "\n",
      "\n",
      "文件夹名63\n",
      "C:\\Users\\Think\\课程\\3UB_python基础\\.git\\objects\\63中文件数量为：1\n",
      "59020ac30043bbb891b646195dcdd3f4c4f1af\n",
      "\n",
      "文件名：59020ac30043bbb891b646195dcdd3f4c4f1af,文件大小：37\n",
      "文件夹大小为37\n",
      "\n",
      "\n",
      "文件夹名64\n",
      "C:\\Users\\Think\\课程\\3UB_python基础\\.git\\objects\\64中文件数量为：3\n",
      "4ed7bbf1d9abe4afb909cc7c381f417960e7cf\n",
      "657b7794343eb68405b29ef6608d05fa479a0a\n",
      "b8242ff0af3dac64b7313f500d4f5568f07d05\n",
      "\n",
      "文件名：4ed7bbf1d9abe4afb909cc7c381f417960e7cf,文件大小：1367\n",
      "文件名：657b7794343eb68405b29ef6608d05fa479a0a,文件大小：42104\n",
      "文件名：b8242ff0af3dac64b7313f500d4f5568f07d05,文件大小：4032\n",
      "文件夹大小为47503\n",
      "\n",
      "\n",
      "文件夹名65\n",
      "C:\\Users\\Think\\课程\\3UB_python基础\\.git\\objects\\65中文件数量为：1\n",
      "d376c42a8aba323736e0b00e8fbd2c74d87fb9\n",
      "\n",
      "文件名：d376c42a8aba323736e0b00e8fbd2c74d87fb9,文件大小：151\n",
      "文件夹大小为151\n",
      "\n",
      "\n",
      "文件夹名66\n"
     ]
    },
    {
     "name": "stdout",
     "output_type": "stream",
     "text": [
      "C:\\Users\\Think\\课程\\3UB_python基础\\.git\\objects\\66中文件数量为：1\n",
      "e73db05164fe9e61a7e61f7654ec636c2866d9\n",
      "\n",
      "文件名：e73db05164fe9e61a7e61f7654ec636c2866d9,文件大小：137\n",
      "文件夹大小为137\n",
      "\n",
      "\n",
      "文件夹名69\n",
      "C:\\Users\\Think\\课程\\3UB_python基础\\.git\\objects\\69中文件数量为：1\n",
      "73dbfda754ab45e45c32cc6517d1411636b750\n",
      "\n",
      "文件名：73dbfda754ab45e45c32cc6517d1411636b750,文件大小：2396\n",
      "文件夹大小为2396\n",
      "\n",
      "\n",
      "文件夹名6a\n",
      "C:\\Users\\Think\\课程\\3UB_python基础\\.git\\objects\\6a中文件数量为：1\n",
      "9c805383172854ef0c5c02ac1b9fad84ae3395\n",
      "\n",
      "文件名：9c805383172854ef0c5c02ac1b9fad84ae3395,文件大小：1101\n",
      "文件夹大小为1101\n",
      "\n",
      "\n",
      "文件夹名6b\n",
      "C:\\Users\\Think\\课程\\3UB_python基础\\.git\\objects\\6b中文件数量为：3\n",
      "56ef63c884b2986302c0493551f278bf9a36e0\n",
      "b395f2846f665c9d85a37aa708501d90db2019\n",
      "fde92f833feb5fb2d8b03ce4d74911a2255ed1\n",
      "\n",
      "文件名：56ef63c884b2986302c0493551f278bf9a36e0,文件大小：546\n",
      "文件名：b395f2846f665c9d85a37aa708501d90db2019,文件大小：548\n",
      "文件名：fde92f833feb5fb2d8b03ce4d74911a2255ed1,文件大小：1014\n",
      "文件夹大小为2108\n",
      "\n",
      "\n",
      "文件夹名6d\n",
      "C:\\Users\\Think\\课程\\3UB_python基础\\.git\\objects\\6d中文件数量为：2\n",
      "6f08e71aebd8f9f6ae25c03a5aad551880a110\n",
      "c18d29ba0dcb17200b093fc6a8e1132dbdef05\n",
      "\n",
      "文件名：6f08e71aebd8f9f6ae25c03a5aad551880a110,文件大小：180244\n",
      "文件名：c18d29ba0dcb17200b093fc6a8e1132dbdef05,文件大小：1198180\n",
      "文件夹大小为1378424\n",
      "\n",
      "\n",
      "文件夹名6f\n",
      "C:\\Users\\Think\\课程\\3UB_python基础\\.git\\objects\\6f中文件数量为：2\n",
      "19c77d66eccd657199af80d9e19089a36a99ea\n",
      "dda57feca5b13ef03af57f8dbe26e54d2237de\n",
      "\n",
      "文件名：19c77d66eccd657199af80d9e19089a36a99ea,文件大小：894\n",
      "文件名：dda57feca5b13ef03af57f8dbe26e54d2237de,文件大小：12122\n",
      "文件夹大小为13016\n",
      "\n",
      "\n",
      "文件夹名70\n",
      "C:\\Users\\Think\\课程\\3UB_python基础\\.git\\objects\\70中文件数量为：1\n",
      "ec612be2b46c0814bacba54933b16671320031\n",
      "\n",
      "文件名：ec612be2b46c0814bacba54933b16671320031,文件大小：7718\n",
      "文件夹大小为7718\n",
      "\n",
      "\n",
      "文件夹名75\n",
      "C:\\Users\\Think\\课程\\3UB_python基础\\.git\\objects\\75中文件数量为：1\n",
      "a14895a0e3376eed0033fc8fb5ec2d25ed230e\n",
      "\n",
      "文件名：a14895a0e3376eed0033fc8fb5ec2d25ed230e,文件大小：630044\n",
      "文件夹大小为630044\n",
      "\n",
      "\n",
      "文件夹名78\n",
      "C:\\Users\\Think\\课程\\3UB_python基础\\.git\\objects\\78中文件数量为：1\n",
      "4487e38d2209b5132a0c47538857480f0c4dc4\n",
      "\n",
      "文件名：4487e38d2209b5132a0c47538857480f0c4dc4,文件大小：20215\n",
      "文件夹大小为20215\n",
      "\n",
      "\n",
      "文件夹名7a\n",
      "C:\\Users\\Think\\课程\\3UB_python基础\\.git\\objects\\7a中文件数量为：2\n",
      "01a7db38492f05522b5b24eb24b801038c03b1\n",
      "bf1bf4540033f3e0d5da76c2f2ee3df5f5f7ad\n",
      "\n",
      "文件名：01a7db38492f05522b5b24eb24b801038c03b1,文件大小：267049\n",
      "文件名：bf1bf4540033f3e0d5da76c2f2ee3df5f5f7ad,文件大小：1099\n",
      "文件夹大小为268148\n",
      "\n",
      "\n",
      "文件夹名7b\n",
      "C:\\Users\\Think\\课程\\3UB_python基础\\.git\\objects\\7b中文件数量为：1\n",
      "f282df29d4a6a9e1217ec65793a81ec464919f\n",
      "\n",
      "文件名：f282df29d4a6a9e1217ec65793a81ec464919f,文件大小：1100\n",
      "文件夹大小为1100\n",
      "\n",
      "\n",
      "文件夹名7d\n",
      "C:\\Users\\Think\\课程\\3UB_python基础\\.git\\objects\\7d中文件数量为：2\n",
      "80c95fa42e66a424560c656f40819f69d77d2e\n",
      "f732bfb0059cdce63b3f013f3047100365aa60\n",
      "\n",
      "文件名：80c95fa42e66a424560c656f40819f69d77d2e,文件大小：152\n",
      "文件名：f732bfb0059cdce63b3f013f3047100365aa60,文件大小：23781\n",
      "文件夹大小为23933\n",
      "\n",
      "\n",
      "文件夹名80\n",
      "C:\\Users\\Think\\课程\\3UB_python基础\\.git\\objects\\80中文件数量为：1\n",
      "f9d695f366bfe1af57337460d60a21dbb412e8\n",
      "\n",
      "文件名：f9d695f366bfe1af57337460d60a21dbb412e8,文件大小：35314\n",
      "文件夹大小为35314\n",
      "\n",
      "\n",
      "文件夹名81\n",
      "C:\\Users\\Think\\课程\\3UB_python基础\\.git\\objects\\81中文件数量为：1\n",
      "332444de6e47d282dde62c7795c770bd2374eb\n",
      "\n",
      "文件名：332444de6e47d282dde62c7795c770bd2374eb,文件大小：20247\n",
      "文件夹大小为20247\n",
      "\n",
      "\n",
      "文件夹名82\n",
      "C:\\Users\\Think\\课程\\3UB_python基础\\.git\\objects\\82中文件数量为：1\n",
      "a4e214b88ad5d800315f3522354e4603f9ad2f\n",
      "\n",
      "文件名：a4e214b88ad5d800315f3522354e4603f9ad2f,文件大小：540509\n",
      "文件夹大小为540509\n",
      "\n",
      "\n",
      "文件夹名84\n",
      "C:\\Users\\Think\\课程\\3UB_python基础\\.git\\objects\\84中文件数量为：1\n",
      "63ee38bbe140ca216d79592df4062a4c850da4\n",
      "\n",
      "文件名：63ee38bbe140ca216d79592df4062a4c850da4,文件大小：1149107\n",
      "文件夹大小为1149107\n",
      "\n",
      "\n",
      "文件夹名87\n",
      "C:\\Users\\Think\\课程\\3UB_python基础\\.git\\objects\\87中文件数量为：1\n",
      "7fea9f436fbbdb47bc835681ecd4f74d54b726\n",
      "\n",
      "文件名：7fea9f436fbbdb47bc835681ecd4f74d54b726,文件大小：71849\n",
      "文件夹大小为71849\n",
      "\n",
      "\n",
      "文件夹名89\n",
      "C:\\Users\\Think\\课程\\3UB_python基础\\.git\\objects\\89中文件数量为：1\n",
      "322e89fc300f22c1b68447892c17508f4c7671\n",
      "\n",
      "文件名：322e89fc300f22c1b68447892c17508f4c7671,文件大小：25124\n",
      "文件夹大小为25124\n",
      "\n",
      "\n",
      "文件夹名8a\n",
      "C:\\Users\\Think\\课程\\3UB_python基础\\.git\\objects\\8a中文件数量为：1\n",
      "006d976a7e685bd981b6742f97478401adfa1d\n",
      "\n",
      "文件名：006d976a7e685bd981b6742f97478401adfa1d,文件大小：2327\n",
      "文件夹大小为2327\n",
      "\n",
      "\n",
      "文件夹名8e\n",
      "C:\\Users\\Think\\课程\\3UB_python基础\\.git\\objects\\8e中文件数量为：1\n",
      "60d0eae4e397cfc185e262dbd4dd52c5d8c55d\n",
      "\n",
      "文件名：60d0eae4e397cfc185e262dbd4dd52c5d8c55d,文件大小：396\n",
      "文件夹大小为396\n",
      "\n",
      "\n",
      "文件夹名8f\n",
      "C:\\Users\\Think\\课程\\3UB_python基础\\.git\\objects\\8f中文件数量为：3\n",
      "22b8a791485c837147062fae2e23fa2b3ccee8\n",
      "74e4c0f0abb660b5292fbece67ed9890cc04c1\n",
      "a42682be074703e6213106b4266d6bd8312d4f\n",
      "\n",
      "文件名：22b8a791485c837147062fae2e23fa2b3ccee8,文件大小：1195\n",
      "文件名：74e4c0f0abb660b5292fbece67ed9890cc04c1,文件大小：6628\n",
      "文件名：a42682be074703e6213106b4266d6bd8312d4f,文件大小：1012\n",
      "文件夹大小为8835\n",
      "\n",
      "\n",
      "文件夹名93\n",
      "C:\\Users\\Think\\课程\\3UB_python基础\\.git\\objects\\93中文件数量为：1\n",
      "5008de724c394294e940ee5f4002765966d401\n",
      "\n",
      "文件名：5008de724c394294e940ee5f4002765966d401,文件大小：174544\n",
      "文件夹大小为174544\n",
      "\n",
      "\n",
      "文件夹名95\n",
      "C:\\Users\\Think\\课程\\3UB_python基础\\.git\\objects\\95中文件数量为：1\n",
      "d2d02c8840cee59abb035ae83fc200bcafddeb\n",
      "\n",
      "文件名：d2d02c8840cee59abb035ae83fc200bcafddeb,文件大小：1475284\n",
      "文件夹大小为1475284\n",
      "\n",
      "\n",
      "文件夹名96\n",
      "C:\\Users\\Think\\课程\\3UB_python基础\\.git\\objects\\96中文件数量为：1\n",
      "e3e208ab892b6a4b85583f2535e238a63b61c1\n",
      "\n",
      "文件名：e3e208ab892b6a4b85583f2535e238a63b61c1,文件大小：124199\n",
      "文件夹大小为124199\n",
      "\n",
      "\n",
      "文件夹名98\n",
      "C:\\Users\\Think\\课程\\3UB_python基础\\.git\\objects\\98中文件数量为：1\n",
      "aa9e157826fa260c48305fc49f3b75976271c7\n",
      "\n",
      "文件名：aa9e157826fa260c48305fc49f3b75976271c7,文件大小：3804\n",
      "文件夹大小为3804\n",
      "\n",
      "\n",
      "文件夹名9a\n",
      "C:\\Users\\Think\\课程\\3UB_python基础\\.git\\objects\\9a中文件数量为：1\n",
      "2129bacb8eff533925e86bdf80667d5ef03bae\n",
      "\n",
      "文件名：2129bacb8eff533925e86bdf80667d5ef03bae,文件大小：2946\n",
      "文件夹大小为2946\n",
      "\n",
      "\n",
      "文件夹名9d\n",
      "C:\\Users\\Think\\课程\\3UB_python基础\\.git\\objects\\9d中文件数量为：1\n",
      "0a55ec7562b58267f1ab6ec38081c76048c546\n",
      "\n",
      "文件名：0a55ec7562b58267f1ab6ec38081c76048c546,文件大小：21987\n",
      "文件夹大小为21987\n",
      "\n",
      "\n",
      "文件夹名9f\n",
      "C:\\Users\\Think\\课程\\3UB_python基础\\.git\\objects\\9f中文件数量为：1\n",
      "e2cfe52d4c1122786287aa6a5160c5a0c115e5\n",
      "\n",
      "文件名：e2cfe52d4c1122786287aa6a5160c5a0c115e5,文件大小：118889\n",
      "文件夹大小为118889\n",
      "\n",
      "\n",
      "文件夹名a3\n",
      "C:\\Users\\Think\\课程\\3UB_python基础\\.git\\objects\\a3中文件数量为：2\n",
      "af03582309b3a4b7c1a7c8a8f39b61f1d0bcbf\n",
      "fc724ed2e4c3e419cce5e0d147103e840a94bc\n",
      "\n",
      "文件名：af03582309b3a4b7c1a7c8a8f39b61f1d0bcbf,文件大小：1168276\n",
      "文件名：fc724ed2e4c3e419cce5e0d147103e840a94bc,文件大小：152\n",
      "文件夹大小为1168428\n",
      "\n",
      "\n",
      "文件夹名a6\n",
      "C:\\Users\\Think\\课程\\3UB_python基础\\.git\\objects\\a6中文件数量为：1\n",
      "0b687a604dcbf2212a905ebaf901f298ddf5cc\n",
      "\n",
      "文件名：0b687a604dcbf2212a905ebaf901f298ddf5cc,文件大小：78256\n",
      "文件夹大小为78256\n",
      "\n",
      "\n",
      "文件夹名a7\n",
      "C:\\Users\\Think\\课程\\3UB_python基础\\.git\\objects\\a7中文件数量为：1\n",
      "1a5339369df1ec633160aac2dc075df272629f\n",
      "\n",
      "文件名：1a5339369df1ec633160aac2dc075df272629f,文件大小：1056\n",
      "文件夹大小为1056\n",
      "\n",
      "\n",
      "文件夹名ab\n",
      "C:\\Users\\Think\\课程\\3UB_python基础\\.git\\objects\\ab中文件数量为：3\n",
      "3317f58192e2c41682f8c3ea7cbc0260bfafdc\n",
      "b758fd8f46691472c4d68ae1a93696c9451db6\n",
      "d36297eff861374f3d3db951bed3f10db5698f\n",
      "\n",
      "文件名：3317f58192e2c41682f8c3ea7cbc0260bfafdc,文件大小：3499\n",
      "文件名：b758fd8f46691472c4d68ae1a93696c9451db6,文件大小：16776\n",
      "文件名：d36297eff861374f3d3db951bed3f10db5698f,文件大小：15622\n",
      "文件夹大小为35897\n",
      "\n",
      "\n",
      "文件夹名ad\n",
      "C:\\Users\\Think\\课程\\3UB_python基础\\.git\\objects\\ad中文件数量为：1\n",
      "bf8774ca6bae09f0d8bea72ffb49753537e435\n",
      "\n",
      "文件名：bf8774ca6bae09f0d8bea72ffb49753537e435,文件大小：4795\n",
      "文件夹大小为4795\n",
      "\n",
      "\n",
      "文件夹名af\n",
      "C:\\Users\\Think\\课程\\3UB_python基础\\.git\\objects\\af中文件数量为：1\n",
      "145ba249a533a3b2e4608a1ed8d2a403c5008d\n",
      "\n",
      "文件名：145ba249a533a3b2e4608a1ed8d2a403c5008d,文件大小：20006\n",
      "文件夹大小为20006\n",
      "\n",
      "\n",
      "文件夹名b0\n",
      "C:\\Users\\Think\\课程\\3UB_python基础\\.git\\objects\\b0中文件数量为：1\n",
      "2a98110d6933f7dd48bf68491c9f8e68ebbd37\n",
      "\n",
      "文件名：2a98110d6933f7dd48bf68491c9f8e68ebbd37,文件大小：5578\n",
      "文件夹大小为5578\n",
      "\n",
      "\n",
      "文件夹名b1\n",
      "C:\\Users\\Think\\课程\\3UB_python基础\\.git\\objects\\b1中文件数量为：1\n",
      "1e4ab63f370fcdbf1b6d386d6ac88d8ab9508b\n",
      "\n",
      "文件名：1e4ab63f370fcdbf1b6d386d6ac88d8ab9508b,文件大小：865\n",
      "文件夹大小为865\n",
      "\n",
      "\n",
      "文件夹名b2\n",
      "C:\\Users\\Think\\课程\\3UB_python基础\\.git\\objects\\b2中文件数量为：2\n",
      "b993dbbbc8ca191498ca0503b53ca6c966acd7\n",
      "dc74eedb95672adf0d5b1d6515c0d7c8bb6d1b\n",
      "\n",
      "文件名：b993dbbbc8ca191498ca0503b53ca6c966acd7,文件大小：179879\n",
      "文件名：dc74eedb95672adf0d5b1d6515c0d7c8bb6d1b,文件大小：73014\n",
      "文件夹大小为252893\n",
      "\n",
      "\n",
      "文件夹名b8\n",
      "C:\\Users\\Think\\课程\\3UB_python基础\\.git\\objects\\b8中文件数量为：1\n",
      "4bf77bc897a95cbeeeb875e67d44c11a76874a\n",
      "\n",
      "文件名：4bf77bc897a95cbeeeb875e67d44c11a76874a,文件大小：16003\n",
      "文件夹大小为16003\n",
      "\n",
      "\n",
      "文件夹名bb\n",
      "C:\\Users\\Think\\课程\\3UB_python基础\\.git\\objects\\bb中文件数量为：3\n",
      "a7fc68a34ea94e11ef688b0bd72778df0f5253\n",
      "cfde9812c2c394d7319bdc1986e8a5a6294e34\n",
      "e9698280561770680f35d0228c6d46ee8429dc\n",
      "\n",
      "文件名：a7fc68a34ea94e11ef688b0bd72778df0f5253,文件大小：35310\n",
      "文件名：cfde9812c2c394d7319bdc1986e8a5a6294e34,文件大小：2018\n",
      "文件名：e9698280561770680f35d0228c6d46ee8429dc,文件大小：1366\n",
      "文件夹大小为38694\n",
      "\n",
      "\n",
      "文件夹名c1\n",
      "C:\\Users\\Think\\课程\\3UB_python基础\\.git\\objects\\c1中文件数量为：1\n",
      "b71a797a1a3d1f325c9caad31f579155451397\n",
      "\n",
      "文件名：b71a797a1a3d1f325c9caad31f579155451397,文件大小：8079\n",
      "文件夹大小为8079\n",
      "\n",
      "\n",
      "文件夹名c3\n",
      "C:\\Users\\Think\\课程\\3UB_python基础\\.git\\objects\\c3中文件数量为：1\n",
      "f7cadbb472d5d06f7019221c635ae571a03b68\n",
      "\n",
      "文件名：f7cadbb472d5d06f7019221c635ae571a03b68,文件大小：1739\n",
      "文件夹大小为1739\n",
      "\n",
      "\n",
      "文件夹名c4\n",
      "C:\\Users\\Think\\课程\\3UB_python基础\\.git\\objects\\c4中文件数量为：1\n",
      "6d8f2e4581aad307316f3a24d87e30615ae292\n",
      "\n",
      "文件名：6d8f2e4581aad307316f3a24d87e30615ae292,文件大小：1154\n",
      "文件夹大小为1154\n",
      "\n",
      "\n"
     ]
    },
    {
     "name": "stdout",
     "output_type": "stream",
     "text": [
      "文件夹名cc\n",
      "C:\\Users\\Think\\课程\\3UB_python基础\\.git\\objects\\cc中文件数量为：2\n",
      "5c130c85dccc34fc698637af2ff9822c9e1c1d\n",
      "d9ce0ef91792ce601f3a106a8083470f1c050e\n",
      "\n",
      "文件名：5c130c85dccc34fc698637af2ff9822c9e1c1d,文件大小：1412054\n",
      "文件名：d9ce0ef91792ce601f3a106a8083470f1c050e,文件大小：438957\n",
      "文件夹大小为1851011\n",
      "\n",
      "\n",
      "文件夹名cd\n",
      "C:\\Users\\Think\\课程\\3UB_python基础\\.git\\objects\\cd中文件数量为：2\n",
      "b9123f1c5db5c4379b878cd83f6e61fd39ddf8\n",
      "c696829547c404bd7fbf7d36d5823c8143121e\n",
      "\n",
      "文件名：b9123f1c5db5c4379b878cd83f6e61fd39ddf8,文件大小：897773\n",
      "文件名：c696829547c404bd7fbf7d36d5823c8143121e,文件大小：149\n",
      "文件夹大小为897922\n",
      "\n",
      "\n",
      "文件夹名ce\n",
      "C:\\Users\\Think\\课程\\3UB_python基础\\.git\\objects\\ce中文件数量为：1\n",
      "fc7083ddc901c85e5baf55ab9d4e8b4e332994\n",
      "\n",
      "文件名：fc7083ddc901c85e5baf55ab9d4e8b4e332994,文件大小：280844\n",
      "文件夹大小为280844\n",
      "\n",
      "\n",
      "文件夹名d0\n",
      "C:\\Users\\Think\\课程\\3UB_python基础\\.git\\objects\\d0中文件数量为：2\n",
      "1563dd3dccd41977e1116b919ca302f5b9d160\n",
      "f782c6b570c1d96b7f859720c811c26a492e0f\n",
      "\n",
      "文件名：1563dd3dccd41977e1116b919ca302f5b9d160,文件大小：872\n",
      "文件名：f782c6b570c1d96b7f859720c811c26a492e0f,文件大小：15786\n",
      "文件夹大小为16658\n",
      "\n",
      "\n",
      "文件夹名d5\n",
      "C:\\Users\\Think\\课程\\3UB_python基础\\.git\\objects\\d5中文件数量为：2\n",
      "5feeddd6fab50a42fe5c2c233c0519a302d86b\n",
      "8ec7d0663dba04b895238c7ccd6c79730e7d25\n",
      "\n",
      "文件名：5feeddd6fab50a42fe5c2c233c0519a302d86b,文件大小：153\n",
      "文件名：8ec7d0663dba04b895238c7ccd6c79730e7d25,文件大小：5189\n",
      "文件夹大小为5342\n",
      "\n",
      "\n",
      "文件夹名d8\n",
      "C:\\Users\\Think\\课程\\3UB_python基础\\.git\\objects\\d8中文件数量为：1\n",
      "cabab6990ce52978e08391e0c2898249071d8a\n",
      "\n",
      "文件名：cabab6990ce52978e08391e0c2898249071d8a,文件大小：1127\n",
      "文件夹大小为1127\n",
      "\n",
      "\n",
      "文件夹名d9\n",
      "C:\\Users\\Think\\课程\\3UB_python基础\\.git\\objects\\d9中文件数量为：1\n",
      "b1f418d41f982a3902bce160c954949b1b8170\n",
      "\n",
      "文件名：b1f418d41f982a3902bce160c954949b1b8170,文件大小：5049\n",
      "文件夹大小为5049\n",
      "\n",
      "\n",
      "文件夹名da\n",
      "C:\\Users\\Think\\课程\\3UB_python基础\\.git\\objects\\da中文件数量为：1\n",
      "ece7c2b56e2785792dff1fbb90757f08964acd\n",
      "\n",
      "文件名：ece7c2b56e2785792dff1fbb90757f08964acd,文件大小：53709\n",
      "文件夹大小为53709\n",
      "\n",
      "\n",
      "文件夹名db\n",
      "C:\\Users\\Think\\课程\\3UB_python基础\\.git\\objects\\db中文件数量为：3\n",
      "18b08beff0bad49589efe07027640a56e4095c\n",
      "e5bf1fc782355552ba5758ecd713b0125d21f3\n",
      "e7bab24852350eaecd852460b37d05d604ead8\n",
      "\n",
      "文件名：18b08beff0bad49589efe07027640a56e4095c,文件大小：24433\n",
      "文件名：e5bf1fc782355552ba5758ecd713b0125d21f3,文件大小：73018\n",
      "文件名：e7bab24852350eaecd852460b37d05d604ead8,文件大小：78316\n",
      "文件夹大小为175767\n",
      "\n",
      "\n",
      "文件夹名dd\n",
      "C:\\Users\\Think\\课程\\3UB_python基础\\.git\\objects\\dd中文件数量为：3\n",
      "7f89bbde687c632f49d07e43fd2323a7b67ed4\n",
      "8a617555d6bf4dffd012755ce0d4821b2a778c\n",
      "a89bcea9e8246e6895f63d6181494540a2b548\n",
      "\n",
      "文件名：7f89bbde687c632f49d07e43fd2323a7b67ed4,文件大小：1100\n",
      "文件名：8a617555d6bf4dffd012755ce0d4821b2a778c,文件大小：999\n",
      "文件名：a89bcea9e8246e6895f63d6181494540a2b548,文件大小：2404\n",
      "文件夹大小为4503\n",
      "\n",
      "\n",
      "文件夹名df\n",
      "C:\\Users\\Think\\课程\\3UB_python基础\\.git\\objects\\df中文件数量为：1\n",
      "0b932e814c9ca669d545b3e6048f18f4a0e030\n",
      "\n",
      "文件名：0b932e814c9ca669d545b3e6048f18f4a0e030,文件大小：79383\n",
      "文件夹大小为79383\n",
      "\n",
      "\n",
      "文件夹名e1\n",
      "C:\\Users\\Think\\课程\\3UB_python基础\\.git\\objects\\e1中文件数量为：1\n",
      "9f6a11fccd4336d9a97ec50700b44ea470b9e2\n",
      "\n",
      "文件名：9f6a11fccd4336d9a97ec50700b44ea470b9e2,文件大小：5763\n",
      "文件夹大小为5763\n",
      "\n",
      "\n",
      "文件夹名e3\n",
      "C:\\Users\\Think\\课程\\3UB_python基础\\.git\\objects\\e3中文件数量为：1\n",
      "42e5ade89f63391f2e4ae429d4f6b746ab335a\n",
      "\n",
      "文件名：42e5ade89f63391f2e4ae429d4f6b746ab335a,文件大小：938\n",
      "文件夹大小为938\n",
      "\n",
      "\n",
      "文件夹名e4\n",
      "C:\\Users\\Think\\课程\\3UB_python基础\\.git\\objects\\e4中文件数量为：1\n",
      "39335856b35d781d1cdd36e9942660b27c23a4\n",
      "\n",
      "文件名：39335856b35d781d1cdd36e9942660b27c23a4,文件大小：7802\n",
      "文件夹大小为7802\n",
      "\n",
      "\n",
      "文件夹名e7\n",
      "C:\\Users\\Think\\课程\\3UB_python基础\\.git\\objects\\e7中文件数量为：2\n",
      "aed5c15e322f1be03fcc4ff8f69f4c9750f1b2\n",
      "d737f92ef750bddc0a55c8e9095a0179b71b64\n",
      "\n",
      "文件名：aed5c15e322f1be03fcc4ff8f69f4c9750f1b2,文件大小：11298\n",
      "文件名：d737f92ef750bddc0a55c8e9095a0179b71b64,文件大小：53\n",
      "文件夹大小为11351\n",
      "\n",
      "\n",
      "文件夹名ea\n",
      "C:\\Users\\Think\\课程\\3UB_python基础\\.git\\objects\\ea中文件数量为：2\n",
      "55bb25ad6bd34ec248da728b58daff092f04a6\n",
      "64064bb61ace58b71a8caebeb7fa631a2f666d\n",
      "\n",
      "文件名：55bb25ad6bd34ec248da728b58daff092f04a6,文件大小：167728\n",
      "文件名：64064bb61ace58b71a8caebeb7fa631a2f666d,文件大小：453\n",
      "文件夹大小为168181\n",
      "\n",
      "\n",
      "文件夹名f4\n",
      "C:\\Users\\Think\\课程\\3UB_python基础\\.git\\objects\\f4中文件数量为：2\n",
      "bb08e26b73a16b8d66b129dbfd3a5bd0a7c2bf\n",
      "ca9e0c6433e2b4c1731fd6af6061526f4eacc3\n",
      "\n",
      "文件名：bb08e26b73a16b8d66b129dbfd3a5bd0a7c2bf,文件大小：54\n",
      "文件名：ca9e0c6433e2b4c1731fd6af6061526f4eacc3,文件大小：12128\n",
      "文件夹大小为12182\n",
      "\n",
      "\n",
      "文件夹名f6\n",
      "C:\\Users\\Think\\课程\\3UB_python基础\\.git\\objects\\f6中文件数量为：1\n",
      "bbf0174e8890e977ee89b3c565b0ffe9f59f05\n",
      "\n",
      "文件名：bbf0174e8890e977ee89b3c565b0ffe9f59f05,文件大小：1101\n",
      "文件夹大小为1101\n",
      "\n",
      "\n",
      "文件夹名f7\n",
      "C:\\Users\\Think\\课程\\3UB_python基础\\.git\\objects\\f7中文件数量为：1\n",
      "9a1a8905d314fff699c2050fe666b8b5906118\n",
      "\n",
      "文件名：9a1a8905d314fff699c2050fe666b8b5906118,文件大小：150\n",
      "文件夹大小为150\n",
      "\n",
      "\n",
      "文件夹名fb\n",
      "C:\\Users\\Think\\课程\\3UB_python基础\\.git\\objects\\fb中文件数量为：1\n",
      "8bf8251023c26fd8033b534754b95784d37c78\n",
      "\n",
      "文件名：8bf8251023c26fd8033b534754b95784d37c78,文件大小：60569\n",
      "文件夹大小为60569\n",
      "\n",
      "\n",
      "文件夹名fd\n",
      "C:\\Users\\Think\\课程\\3UB_python基础\\.git\\objects\\fd中文件数量为：1\n",
      "542deca36bbf9470485a7d05d5609c82db0189\n",
      "\n",
      "文件名：542deca36bbf9470485a7d05d5609c82db0189,文件大小：12127\n",
      "文件夹大小为12127\n",
      "\n",
      "\n",
      "文件夹名fe\n",
      "C:\\Users\\Think\\课程\\3UB_python基础\\.git\\objects\\fe中文件数量为：1\n",
      "10eaa23b8809943e46e416cb1bdcfef32a1e48\n",
      "\n",
      "文件名：10eaa23b8809943e46e416cb1bdcfef32a1e48,文件大小：1134447\n",
      "文件夹大小为1134447\n",
      "\n",
      "\n",
      "文件夹名info\n",
      "C:\\Users\\Think\\课程\\3UB_python基础\\.git\\objects\\info中文件数量为：0\n",
      "\n",
      "文件夹大小为0\n",
      "\n",
      "\n",
      "文件夹名pack\n",
      "C:\\Users\\Think\\课程\\3UB_python基础\\.git\\objects\\pack中文件数量为：0\n",
      "\n",
      "文件夹大小为0\n",
      "\n",
      "文件夹大小为33205920\n",
      "\n",
      "\n",
      "文件夹名refs\n",
      "C:\\Users\\Think\\课程\\3UB_python基础\\.git\\refs中文件数量为：3\n",
      "heads\n",
      "remotes\n",
      "tags\n",
      "\n",
      "\n",
      "文件夹名heads\n",
      "C:\\Users\\Think\\课程\\3UB_python基础\\.git\\refs\\heads中文件数量为：1\n",
      "main\n",
      "\n",
      "文件名：main,文件大小：41\n",
      "文件夹大小为41\n",
      "\n",
      "\n",
      "文件夹名remotes\n",
      "C:\\Users\\Think\\课程\\3UB_python基础\\.git\\refs\\remotes中文件数量为：1\n",
      "origin\n",
      "\n",
      "\n",
      "文件夹名origin\n",
      "C:\\Users\\Think\\课程\\3UB_python基础\\.git\\refs\\remotes\\origin中文件数量为：1\n",
      "main\n",
      "\n",
      "文件名：main,文件大小：41\n",
      "文件夹大小为41\n",
      "\n",
      "文件夹大小为41\n",
      "\n",
      "\n",
      "文件夹名tags\n",
      "C:\\Users\\Think\\课程\\3UB_python基础\\.git\\refs\\tags中文件数量为：0\n",
      "\n",
      "文件夹大小为0\n",
      "\n",
      "文件夹大小为82\n",
      "\n",
      "文件夹大小为33241825\n",
      "\n",
      "\n",
      "文件夹名.ipynb_checkpoints\n",
      "C:\\Users\\Think\\课程\\3UB_python基础\\.ipynb_checkpoints中文件数量为：29\n",
      "ch1-checkpoint.ipynb\n",
      "ch10-checkpoint.ipynb\n",
      "ch2-checkpoint.ipynb\n",
      "ch3-checkpoint.ipynb\n",
      "ch4-checkpoint.ipynb\n",
      "ch5-checkpoint.ipynb\n",
      "ch6-checkpoint.ipynb\n",
      "ch7-checkpoint.ipynb\n",
      "ch8-checkpoint.ipynb\n",
      "ch9-checkpoint.ipynb\n",
      "L1-checkpoint.ipynb\n",
      "L1_python初级数据结构-checkpoint.ipynb\n",
      "L2-checkpoint.ipynb\n",
      "L2_函数是一等公民-checkpoint.ipynb\n",
      "L2_函数高级生成器初阶-checkpoint.ipynb\n",
      "L3-checkpoint.ipynb\n",
      "L3_一切皆对象 初级oop-checkpoint.ipynb\n",
      "L3_面向对象初级概念总汇-checkpoint.ipynb\n",
      "L4_数据结构和迭代深入协议-checkpoint.ipynb\n",
      "L5_文本和字符 正则 eval 数据处理-checkpoint.ipynb\n",
      "L5_文本和字符 正则 eval 数据操作-checkpoint.ipynb\n",
      "L5_编码 正则表达式 文本处理-checkpoint.ipynb\n",
      "L6_实用数据结构 数据可视化 科研相关技能-checkpoint.ipynb\n",
      "L7_图像处理 音频处理-checkpoint.ipynb\n",
      "L8_网络编程 爬虫 数据库 自动化操作-checkpoint.ipynb\n",
      "L9_网络编程 后台编写 云端部署-checkpoint.ipynb\n",
      "python3-checkpoint.ipynb\n",
      "total_python3太大了打开慢-checkpoint.ipynb\n",
      "Untitled1-checkpoint.ipynb\n",
      "\n",
      "文件名：ch1-checkpoint.ipynb,文件大小：2801\n",
      "文件名：ch10-checkpoint.ipynb,文件大小：5648\n",
      "文件名：ch2-checkpoint.ipynb,文件大小：11126\n",
      "文件名：ch3-checkpoint.ipynb,文件大小：16919\n",
      "文件名：ch4-checkpoint.ipynb,文件大小：11980\n",
      "文件名：ch5-checkpoint.ipynb,文件大小：15639\n",
      "文件名：ch6-checkpoint.ipynb,文件大小：26486\n",
      "文件名：ch7-checkpoint.ipynb,文件大小：6498\n",
      "文件名：ch8-checkpoint.ipynb,文件大小：15290\n",
      "文件名：ch9-checkpoint.ipynb,文件大小：10270\n",
      "文件名：L1-checkpoint.ipynb,文件大小：60025\n",
      "文件名：L1_python初级数据结构-checkpoint.ipynb,文件大小：80047\n",
      "文件名：L2-checkpoint.ipynb,文件大小：139325\n",
      "文件名：L2_函数是一等公民-checkpoint.ipynb,文件大小：190930\n",
      "文件名：L2_函数高级生成器初阶-checkpoint.ipynb,文件大小：183378\n",
      "文件名：L3-checkpoint.ipynb,文件大小：32260\n",
      "文件名：L3_一切皆对象 初级oop-checkpoint.ipynb,文件大小：59403\n",
      "文件名：L3_面向对象初级概念总汇-checkpoint.ipynb,文件大小：53691\n",
      "文件名：L4_数据结构和迭代深入协议-checkpoint.ipynb,文件大小：160446\n",
      "文件名：L5_文本和字符 正则 eval 数据处理-checkpoint.ipynb,文件大小：1954\n",
      "文件名：L5_文本和字符 正则 eval 数据操作-checkpoint.ipynb,文件大小：2077\n",
      "文件名：L5_编码 正则表达式 文本处理-checkpoint.ipynb,文件大小：186014\n",
      "文件名：L6_实用数据结构 数据可视化 科研相关技能-checkpoint.ipynb,文件大小：293555\n",
      "文件名：L7_图像处理 音频处理-checkpoint.ipynb,文件大小：1528\n",
      "文件名：L8_网络编程 爬虫 数据库 自动化操作-checkpoint.ipynb,文件大小：1278\n",
      "文件名：L9_网络编程 后台编写 云端部署-checkpoint.ipynb,文件大小：940\n",
      "文件名：python3-checkpoint.ipynb,文件大小：108599\n",
      "文件名：total_python3太大了打开慢-checkpoint.ipynb,文件大小：213379\n",
      "文件名：Untitled1-checkpoint.ipynb,文件大小：2215\n",
      "文件夹大小为1893701\n",
      "\n",
      "文件名：baidu_stopwords.txt,文件大小：10540\n",
      "文件名：content.txt,文件大小：627\n",
      "文件名：Coroutines.pdf,文件大小：435000\n",
      "文件名：csvexample.csv,文件大小：191\n",
      "\n",
      "文件夹名dir\n",
      "C:\\Users\\Think\\课程\\3UB_python基础\\dir中文件数量为：1\n",
      "dir\n",
      "\n",
      "\n",
      "文件夹名dir\n",
      "C:\\Users\\Think\\课程\\3UB_python基础\\dir\\dir中文件数量为：1\n",
      "dir\n",
      "\n",
      "\n",
      "文件夹名dir\n",
      "C:\\Users\\Think\\课程\\3UB_python基础\\dir\\dir\\dir中文件数量为：1\n",
      "dir\n",
      "\n",
      "\n",
      "文件夹名dir\n",
      "C:\\Users\\Think\\课程\\3UB_python基础\\dir\\dir\\dir\\dir中文件数量为：0\n",
      "\n",
      "文件夹大小为0\n",
      "\n",
      "文件夹大小为0\n",
      "\n",
      "文件夹大小为0\n",
      "\n",
      "文件夹大小为0\n",
      "\n",
      "文件名：eiffel.bitmap,文件大小：653794\n",
      "文件名：Epoch Report.txt,文件大小：156033\n",
      "文件名：Epoch Report1.txt,文件大小：151503\n",
      "\n",
      "文件夹名jinyong\n",
      "C:\\Users\\Think\\课程\\3UB_python基础\\jinyong中文件数量为：15\n",
      "金庸-书剑恩仇录txt精校版.txt\n",
      "金庸-侠客行txt全本精校版.txt\n",
      "金庸-倚天屠龙记txt精校版.txt\n",
      "金庸-天龙八部txt精校版.txt\n",
      "金庸-射雕英雄传txt精校版.txt\n",
      "金庸-白马啸西风txt精校版.txt\n",
      "金庸-碧血剑txt精校版.txt\n",
      "金庸-神雕侠侣txt精校版.txt\n",
      "金庸-笑傲江湖txt精校版.txt\n",
      "金庸-越女剑txt精校版.txt\n",
      "金庸-连城诀txt精校版.txt\n",
      "金庸-雪山飞狐txt精校版.txt\n",
      "金庸-飞狐外传txt精校版.txt\n",
      "金庸-鸳鸯刀txt精校版.txt\n",
      "金庸-鹿鼎记txt精校版.txt\n",
      "\n",
      "文件名：金庸-书剑恩仇录txt精校版.txt,文件大小：1074855\n",
      "文件名：金庸-侠客行txt全本精校版.txt,文件大小：771151\n",
      "文件名：金庸-倚天屠龙记txt精校版.txt,文件大小：2012349\n",
      "文件名：金庸-天龙八部txt精校版.txt,文件大小：2566219\n",
      "文件名：金庸-射雕英雄传txt精校版.txt,文件大小：1952980\n",
      "文件名：金庸-白马啸西风txt精校版.txt,文件大小：141007\n",
      "文件名：金庸-碧血剑txt精校版.txt,文件大小：923651\n",
      "文件名：金庸-神雕侠侣txt精校版.txt,文件大小：2043157\n",
      "文件名：金庸-笑傲江湖txt精校版.txt,文件大小：2034817\n",
      "文件名：金庸-越女剑txt精校版.txt,文件大小：34160\n",
      "文件名：金庸-连城诀txt精校版.txt,文件大小：486894\n",
      "文件名：金庸-雪山飞狐txt精校版.txt,文件大小：285375\n",
      "文件名：金庸-飞狐外传txt精校版.txt,文件大小：936244\n",
      "文件名：金庸-鸳鸯刀txt精校版.txt,文件大小：71902\n",
      "文件名：金庸-鹿鼎记txt精校版.txt,文件大小：2531349\n",
      "文件夹大小为17866110\n",
      "\n",
      "文件名：L1_python初级数据结构.ipynb,文件大小：80047\n",
      "文件名：L2_函数是一等公民.ipynb,文件大小：190930\n",
      "文件名：L3_一切皆对象 初级oop.ipynb,文件大小：59403\n",
      "文件名：L4_数据结构和迭代深入协议.ipynb,文件大小：160446\n",
      "文件名：L5_编码 正则表达式 文本处理.ipynb,文件大小：188384\n",
      "文件名：L6_实用数据结构 数据可视化 科研相关技能.ipynb,文件大小：293555\n",
      "文件名：L7_图像处理 音频处理.ipynb,文件大小：1528\n",
      "文件名：L8_网络编程 爬虫 数据库 自动化操作.ipynb,文件大小：1278\n",
      "文件名：L9_网络编程 后台编写 云端部署.ipynb,文件大小：940\n",
      "文件名：numpy-cheat-sheet.pdf,文件大小：61146\n",
      "文件名：output.csv,文件大小：53\n",
      "\n",
      "文件夹名pic\n",
      "C:\\Users\\Think\\课程\\3UB_python基础\\pic中文件数量为：14\n",
      "778496-20180713200909560-1043089630.png\n",
      "array.png\n",
      "cloud_result.png\n",
      "generator.png\n",
      "numpytype.png\n",
      "oop.png\n",
      "python.png\n",
      "struct.png\n",
      "test.bmp\n",
      "utf8.png\n",
      "正则.png\n",
      "武侠.png\n",
      "编码.png\n",
      "进制.png\n",
      "\n",
      "文件名：778496-20180713200909560-1043089630.png,文件大小：5177\n",
      "文件名：array.png,文件大小：22905\n",
      "文件名：cloud_result.png,文件大小：272785\n",
      "文件名：generator.png,文件大小：31361\n",
      "文件名：numpytype.png,文件大小：41045\n",
      "文件名：oop.png,文件大小：129806\n",
      "文件名：python.png,文件大小：905837\n",
      "文件名：struct.png,文件大小：24368\n",
      "文件名：test.bmp,文件大小：93374\n",
      "文件名：utf8.png,文件大小：9466\n",
      "文件名：正则.png,文件大小：24228\n",
      "文件名：武侠.png,文件大小：137481\n",
      "文件名：编码.png,文件大小：7099\n",
      "文件名：进制.png,文件大小：10064\n",
      "文件夹大小为1714996\n",
      "\n",
      "文件名：README.md,文件大小：15\n",
      "文件名：ScipyLectures.pdf,文件大小：19758816\n",
      "文件名：test.py,文件大小：21\n",
      "文件名：test1.py,文件大小：42\n",
      "文件名：test2.xxx,文件大小：65\n",
      "文件名：tmp,文件大小：49\n",
      "文件夹大小为76921038\n"
     ]
    },
    {
     "data": {
      "text/plain": [
       "76921038"
      ]
     },
     "execution_count": 51,
     "metadata": {},
     "output_type": "execute_result"
    }
   ],
   "source": [
    "path = 'C:\\\\Users\\\\Think\\\\课程\\\\3UB_python基础'\n",
    "# 定义函数\n",
    "def foldersize(path):\n",
    "    # 获取文件夹内所有文件名称\n",
    "    listdirs = os.listdir(path) \n",
    "    # 打印文件夹下文件数量\n",
    "    print(f'{path}中文件数量为：{len(listdirs)}')\n",
    "    # 打印文件夹内所有文件名称\n",
    "    for listdir in listdirs:\n",
    "        print(str(listdir))\n",
    "    print()\n",
    "    \n",
    "    big = 0\n",
    "    for listdir in listdirs:\n",
    "        # 判断是不是文件夹\n",
    "        if not( os.path.isfile(f'{path}\\{listdir}')):\n",
    "            print()\n",
    "            print(f'文件夹名{listdir}')\n",
    "            # 再次调用查看文件夹大小函数并叠加大小\n",
    "            big += foldersize(f'{path}\\\\{listdir}')\n",
    "            print()\n",
    "      \n",
    "        else:\n",
    "            # 获得文件大小\n",
    "            size = os.path.getsize(f'{path}\\{listdir}')\n",
    "            # 打印文件名称和对应的文件大小\n",
    "            print(f'文件名：{listdir},文件大小：{size}')\n",
    "            big += size\n",
    "            \n",
    "    print(f'文件夹大小为{big}')\n",
    "    return big\n",
    "\n",
    "foldersize(path)"
   ]
  },
  {
   "cell_type": "markdown",
   "metadata": {},
   "source": [
    "遍历文件夹 os.walk"
   ]
  },
  {
   "cell_type": "code",
   "execution_count": 56,
   "metadata": {
    "collapsed": true
   },
   "outputs": [
    {
     "name": "stdout",
     "output_type": "stream",
     "text": [
      "The current folder is .\n",
      "SUBFOLDER OF .: .git\n",
      "SUBFOLDER OF .: .ipynb_checkpoints\n",
      "SUBFOLDER OF .: dir\n",
      "SUBFOLDER OF .: jinyong\n",
      "SUBFOLDER OF .: pic\n",
      "FILE INSIDE .: baidu_stopwords.txt\n",
      "FILE INSIDE .: content.txt\n",
      "FILE INSIDE .: Coroutines.pdf\n",
      "FILE INSIDE .: csvexample.csv\n",
      "FILE INSIDE .: eiffel.bitmap\n",
      "FILE INSIDE .: Epoch Report.txt\n",
      "FILE INSIDE .: Epoch Report1.txt\n",
      "FILE INSIDE .: L1_python初级数据结构.ipynb\n",
      "FILE INSIDE .: L2_函数是一等公民.ipynb\n",
      "FILE INSIDE .: L3_一切皆对象 初级oop.ipynb\n",
      "FILE INSIDE .: L4_数据结构和迭代深入协议.ipynb\n",
      "FILE INSIDE .: L5_编码 正则表达式 文本处理.ipynb\n",
      "FILE INSIDE .: L6_实用数据结构 数据可视化 科研相关技能.ipynb\n",
      "FILE INSIDE .: L7_图像处理 音频处理.ipynb\n",
      "FILE INSIDE .: L8_网络编程 爬虫 数据库 自动化操作.ipynb\n",
      "FILE INSIDE .: L9_网络编程 后台编写 云端部署.ipynb\n",
      "FILE INSIDE .: numpy-cheat-sheet.pdf\n",
      "FILE INSIDE .: output.csv\n",
      "FILE INSIDE .: README.md\n",
      "FILE INSIDE .: ScipyLectures.pdf\n",
      "FILE INSIDE .: sheve.txt.bak\n",
      "FILE INSIDE .: sheve.txt.dat\n",
      "FILE INSIDE .: sheve.txt.dir\n",
      "FILE INSIDE .: test.py\n",
      "FILE INSIDE .: test1.py\n",
      "FILE INSIDE .: test2.xxx\n",
      "FILE INSIDE .: tmp\n",
      "FILE INSIDE .: tmp.pk\n",
      "The current folder is .\\.git\n",
      "SUBFOLDER OF .\\.git: hooks\n",
      "SUBFOLDER OF .\\.git: info\n",
      "SUBFOLDER OF .\\.git: logs\n",
      "SUBFOLDER OF .\\.git: objects\n",
      "SUBFOLDER OF .\\.git: refs\n",
      "FILE INSIDE .\\.git: COMMIT_EDITMSG\n",
      "FILE INSIDE .\\.git: config\n",
      "FILE INSIDE .\\.git: description\n",
      "FILE INSIDE .\\.git: HEAD\n",
      "FILE INSIDE .\\.git: index\n",
      "The current folder is .\\.git\\hooks\n",
      "FILE INSIDE .\\.git\\hooks: applypatch-msg.sample\n",
      "FILE INSIDE .\\.git\\hooks: commit-msg.sample\n",
      "FILE INSIDE .\\.git\\hooks: fsmonitor-watchman.sample\n",
      "FILE INSIDE .\\.git\\hooks: post-update.sample\n",
      "FILE INSIDE .\\.git\\hooks: pre-applypatch.sample\n",
      "FILE INSIDE .\\.git\\hooks: pre-commit.sample\n",
      "FILE INSIDE .\\.git\\hooks: pre-merge-commit.sample\n",
      "FILE INSIDE .\\.git\\hooks: pre-push.sample\n",
      "FILE INSIDE .\\.git\\hooks: pre-rebase.sample\n",
      "FILE INSIDE .\\.git\\hooks: pre-receive.sample\n",
      "FILE INSIDE .\\.git\\hooks: prepare-commit-msg.sample\n",
      "FILE INSIDE .\\.git\\hooks: update.sample\n",
      "The current folder is .\\.git\\info\n",
      "FILE INSIDE .\\.git\\info: exclude\n",
      "The current folder is .\\.git\\logs\n",
      "SUBFOLDER OF .\\.git\\logs: refs\n",
      "FILE INSIDE .\\.git\\logs: HEAD\n",
      "The current folder is .\\.git\\logs\\refs\n",
      "SUBFOLDER OF .\\.git\\logs\\refs: heads\n",
      "SUBFOLDER OF .\\.git\\logs\\refs: remotes\n",
      "The current folder is .\\.git\\logs\\refs\\heads\n",
      "FILE INSIDE .\\.git\\logs\\refs\\heads: main\n",
      "The current folder is .\\.git\\logs\\refs\\remotes\n",
      "SUBFOLDER OF .\\.git\\logs\\refs\\remotes: origin\n",
      "The current folder is .\\.git\\logs\\refs\\remotes\\origin\n",
      "FILE INSIDE .\\.git\\logs\\refs\\remotes\\origin: main\n",
      "The current folder is .\\.git\\objects\n",
      "SUBFOLDER OF .\\.git\\objects: 02\n",
      "SUBFOLDER OF .\\.git\\objects: 03\n",
      "SUBFOLDER OF .\\.git\\objects: 06\n",
      "SUBFOLDER OF .\\.git\\objects: 08\n",
      "SUBFOLDER OF .\\.git\\objects: 09\n",
      "SUBFOLDER OF .\\.git\\objects: 0b\n",
      "SUBFOLDER OF .\\.git\\objects: 0f\n",
      "SUBFOLDER OF .\\.git\\objects: 11\n",
      "SUBFOLDER OF .\\.git\\objects: 14\n",
      "SUBFOLDER OF .\\.git\\objects: 1b\n",
      "SUBFOLDER OF .\\.git\\objects: 1c\n",
      "SUBFOLDER OF .\\.git\\objects: 1e\n",
      "SUBFOLDER OF .\\.git\\objects: 20\n",
      "SUBFOLDER OF .\\.git\\objects: 24\n",
      "SUBFOLDER OF .\\.git\\objects: 25\n",
      "SUBFOLDER OF .\\.git\\objects: 27\n",
      "SUBFOLDER OF .\\.git\\objects: 28\n",
      "SUBFOLDER OF .\\.git\\objects: 2a\n",
      "SUBFOLDER OF .\\.git\\objects: 2b\n",
      "SUBFOLDER OF .\\.git\\objects: 2e\n",
      "SUBFOLDER OF .\\.git\\objects: 31\n",
      "SUBFOLDER OF .\\.git\\objects: 33\n",
      "SUBFOLDER OF .\\.git\\objects: 34\n",
      "SUBFOLDER OF .\\.git\\objects: 38\n",
      "SUBFOLDER OF .\\.git\\objects: 39\n",
      "SUBFOLDER OF .\\.git\\objects: 3e\n",
      "SUBFOLDER OF .\\.git\\objects: 3f\n",
      "SUBFOLDER OF .\\.git\\objects: 40\n",
      "SUBFOLDER OF .\\.git\\objects: 41\n",
      "SUBFOLDER OF .\\.git\\objects: 42\n",
      "SUBFOLDER OF .\\.git\\objects: 44\n",
      "SUBFOLDER OF .\\.git\\objects: 46\n",
      "SUBFOLDER OF .\\.git\\objects: 4a\n",
      "SUBFOLDER OF .\\.git\\objects: 4d\n",
      "SUBFOLDER OF .\\.git\\objects: 4f\n",
      "SUBFOLDER OF .\\.git\\objects: 51\n",
      "SUBFOLDER OF .\\.git\\objects: 52\n",
      "SUBFOLDER OF .\\.git\\objects: 53\n",
      "SUBFOLDER OF .\\.git\\objects: 55\n",
      "SUBFOLDER OF .\\.git\\objects: 58\n",
      "SUBFOLDER OF .\\.git\\objects: 5b\n",
      "SUBFOLDER OF .\\.git\\objects: 61\n",
      "SUBFOLDER OF .\\.git\\objects: 62\n",
      "SUBFOLDER OF .\\.git\\objects: 63\n",
      "SUBFOLDER OF .\\.git\\objects: 64\n",
      "SUBFOLDER OF .\\.git\\objects: 65\n",
      "SUBFOLDER OF .\\.git\\objects: 66\n",
      "SUBFOLDER OF .\\.git\\objects: 69\n",
      "SUBFOLDER OF .\\.git\\objects: 6a\n",
      "SUBFOLDER OF .\\.git\\objects: 6b\n",
      "SUBFOLDER OF .\\.git\\objects: 6d\n",
      "SUBFOLDER OF .\\.git\\objects: 6f\n",
      "SUBFOLDER OF .\\.git\\objects: 70\n",
      "SUBFOLDER OF .\\.git\\objects: 74\n",
      "SUBFOLDER OF .\\.git\\objects: 75\n",
      "SUBFOLDER OF .\\.git\\objects: 78\n",
      "SUBFOLDER OF .\\.git\\objects: 7a\n",
      "SUBFOLDER OF .\\.git\\objects: 7b\n",
      "SUBFOLDER OF .\\.git\\objects: 7d\n",
      "SUBFOLDER OF .\\.git\\objects: 80\n",
      "SUBFOLDER OF .\\.git\\objects: 81\n",
      "SUBFOLDER OF .\\.git\\objects: 82\n",
      "SUBFOLDER OF .\\.git\\objects: 84\n",
      "SUBFOLDER OF .\\.git\\objects: 87\n",
      "SUBFOLDER OF .\\.git\\objects: 89\n",
      "SUBFOLDER OF .\\.git\\objects: 8a\n",
      "SUBFOLDER OF .\\.git\\objects: 8e\n",
      "SUBFOLDER OF .\\.git\\objects: 8f\n",
      "SUBFOLDER OF .\\.git\\objects: 93\n",
      "SUBFOLDER OF .\\.git\\objects: 95\n",
      "SUBFOLDER OF .\\.git\\objects: 96\n",
      "SUBFOLDER OF .\\.git\\objects: 98\n",
      "SUBFOLDER OF .\\.git\\objects: 9a\n",
      "SUBFOLDER OF .\\.git\\objects: 9d\n",
      "SUBFOLDER OF .\\.git\\objects: 9f\n",
      "SUBFOLDER OF .\\.git\\objects: a3\n",
      "SUBFOLDER OF .\\.git\\objects: a6\n",
      "SUBFOLDER OF .\\.git\\objects: a7\n",
      "SUBFOLDER OF .\\.git\\objects: ab\n",
      "SUBFOLDER OF .\\.git\\objects: ad\n",
      "SUBFOLDER OF .\\.git\\objects: af\n",
      "SUBFOLDER OF .\\.git\\objects: b0\n",
      "SUBFOLDER OF .\\.git\\objects: b1\n",
      "SUBFOLDER OF .\\.git\\objects: b2\n",
      "SUBFOLDER OF .\\.git\\objects: b8\n",
      "SUBFOLDER OF .\\.git\\objects: bb\n",
      "SUBFOLDER OF .\\.git\\objects: c1\n",
      "SUBFOLDER OF .\\.git\\objects: c3\n",
      "SUBFOLDER OF .\\.git\\objects: c4\n",
      "SUBFOLDER OF .\\.git\\objects: cc\n",
      "SUBFOLDER OF .\\.git\\objects: cd\n",
      "SUBFOLDER OF .\\.git\\objects: ce\n",
      "SUBFOLDER OF .\\.git\\objects: d0\n",
      "SUBFOLDER OF .\\.git\\objects: d5\n",
      "SUBFOLDER OF .\\.git\\objects: d8\n",
      "SUBFOLDER OF .\\.git\\objects: d9\n",
      "SUBFOLDER OF .\\.git\\objects: da\n",
      "SUBFOLDER OF .\\.git\\objects: db\n",
      "SUBFOLDER OF .\\.git\\objects: dd\n",
      "SUBFOLDER OF .\\.git\\objects: df\n",
      "SUBFOLDER OF .\\.git\\objects: e1\n",
      "SUBFOLDER OF .\\.git\\objects: e3\n",
      "SUBFOLDER OF .\\.git\\objects: e4\n",
      "SUBFOLDER OF .\\.git\\objects: e7\n",
      "SUBFOLDER OF .\\.git\\objects: ea\n",
      "SUBFOLDER OF .\\.git\\objects: f4\n",
      "SUBFOLDER OF .\\.git\\objects: f6\n",
      "SUBFOLDER OF .\\.git\\objects: f7\n",
      "SUBFOLDER OF .\\.git\\objects: fb\n",
      "SUBFOLDER OF .\\.git\\objects: fd\n",
      "SUBFOLDER OF .\\.git\\objects: fe\n",
      "SUBFOLDER OF .\\.git\\objects: info\n",
      "SUBFOLDER OF .\\.git\\objects: pack\n",
      "The current folder is .\\.git\\objects\\02\n",
      "FILE INSIDE .\\.git\\objects\\02: 7018d883572cfe2053cbeb296f54425b08d864\n",
      "The current folder is .\\.git\\objects\\03\n",
      "FILE INSIDE .\\.git\\objects\\03: 698b626a6dce199274629785d630ae191d035e\n",
      "FILE INSIDE .\\.git\\objects\\03: fff507f10dc6ee716865e5679e129afcd0b05e\n",
      "The current folder is .\\.git\\objects\\06\n",
      "FILE INSIDE .\\.git\\objects\\06: 066c4119e67b784243a8f9863762114be69d79\n",
      "The current folder is .\\.git\\objects\\08\n",
      "FILE INSIDE .\\.git\\objects\\08: 34d0e6ff064e2675316495aaba5421082c3edd\n",
      "The current folder is .\\.git\\objects\\09\n",
      "FILE INSIDE .\\.git\\objects\\09: 01f6cc38adaef320857b9682966e1984122c05\n",
      "FILE INSIDE .\\.git\\objects\\09: 0d0f4be7b210559d01bc9fe4db038f8f2facd9\n",
      "FILE INSIDE .\\.git\\objects\\09: b7de7850457e6d6e298985d52463587aa8758b\n",
      "The current folder is .\\.git\\objects\\0b\n",
      "FILE INSIDE .\\.git\\objects\\0b: b8e9f029fa1d597e57b14c04dbb5e12aa4de6a\n",
      "The current folder is .\\.git\\objects\\0f\n",
      "FILE INSIDE .\\.git\\objects\\0f: 1eea0181187857746b673c943c409d99fdd656\n",
      "FILE INSIDE .\\.git\\objects\\0f: 5ea3d6cb0ea1ed961511cbf6a003bbc0fa9426\n",
      "The current folder is .\\.git\\objects\\11\n",
      "FILE INSIDE .\\.git\\objects\\11: 739d84c345b9232f2efae4092fe6b8c172a8be\n",
      "The current folder is .\\.git\\objects\\14\n",
      "FILE INSIDE .\\.git\\objects\\14: 9c15eb9d679ec8764e9905f4d9271aff8182d9\n",
      "The current folder is .\\.git\\objects\\1b\n",
      "FILE INSIDE .\\.git\\objects\\1b: 0e5dc094c7609d28eb342e6aa9bc19be509ac2\n",
      "The current folder is .\\.git\\objects\\1c\n",
      "FILE INSIDE .\\.git\\objects\\1c: 6821c2b17fa179a7124dc2d908df3683e9a2d5\n",
      "The current folder is .\\.git\\objects\\1e\n",
      "FILE INSIDE .\\.git\\objects\\1e: 4f501a24547201c5dfb733cbb79078f035c16d\n",
      "FILE INSIDE .\\.git\\objects\\1e: a09e222f82a0c3d33d3809a973bcb5aa9ddcf4\n",
      "The current folder is .\\.git\\objects\\20\n",
      "FILE INSIDE .\\.git\\objects\\20: 73ed124b15909cf02cc0e2e01c64710ad8d707\n",
      "The current folder is .\\.git\\objects\\24\n",
      "FILE INSIDE .\\.git\\objects\\24: 390876805d1e221a6e7ca2c4bdff6fe0b39978\n",
      "The current folder is .\\.git\\objects\\25\n",
      "FILE INSIDE .\\.git\\objects\\25: 6461b051ce95cd2ae834f4db68c395896a062b\n",
      "The current folder is .\\.git\\objects\\27\n",
      "FILE INSIDE .\\.git\\objects\\27: 27aa491401e8d01efe5d39a990736731863497\n",
      "The current folder is .\\.git\\objects\\28\n",
      "FILE INSIDE .\\.git\\objects\\28: 15bd3d957af7e1578788bbc607472fb25c4f87\n",
      "The current folder is .\\.git\\objects\\2a\n",
      "FILE INSIDE .\\.git\\objects\\2a: c071b6f106ce615b30a71e58811bf1880c6dcc\n",
      "The current folder is .\\.git\\objects\\2b\n",
      "FILE INSIDE .\\.git\\objects\\2b: 75ce9627b9cb1cdd2d2ce67bbd375555fb3380\n",
      "The current folder is .\\.git\\objects\\2e\n",
      "FILE INSIDE .\\.git\\objects\\2e: 8a5ab1d3c61b852be6f592229f20fd8280b747\n",
      "The current folder is .\\.git\\objects\\31\n",
      "FILE INSIDE .\\.git\\objects\\31: 75410fbc06828c5cc5388f9147f4857f8afede\n",
      "The current folder is .\\.git\\objects\\33\n",
      "FILE INSIDE .\\.git\\objects\\33: 27e41377d46a771cd6c7ad429579a957e3b699\n",
      "The current folder is .\\.git\\objects\\34\n",
      "FILE INSIDE .\\.git\\objects\\34: 5736598d90af0456c13966b06b79c449da6389\n",
      "The current folder is .\\.git\\objects\\38\n",
      "FILE INSIDE .\\.git\\objects\\38: 1f3c60dfe7864e0a75c4067398b29212eef2ee\n",
      "The current folder is .\\.git\\objects\\39\n",
      "FILE INSIDE .\\.git\\objects\\39: 71b3ec2aef8097ad356c3faa9c194fd971cd9e\n",
      "The current folder is .\\.git\\objects\\3e\n",
      "FILE INSIDE .\\.git\\objects\\3e: 4392c92b8d8941dbfd34c50f5d188c5c6c3d0c\n",
      "FILE INSIDE .\\.git\\objects\\3e: ade1d96ba6245b681cb420192a93c6a7235d7a\n",
      "The current folder is .\\.git\\objects\\3f\n",
      "FILE INSIDE .\\.git\\objects\\3f: 207428047696679c74ebc110427a8ea67f1433\n",
      "FILE INSIDE .\\.git\\objects\\3f: e2faa3245544d114258bc42d3176ea1b770c47\n",
      "The current folder is .\\.git\\objects\\40\n",
      "FILE INSIDE .\\.git\\objects\\40: 9742428ca32d72ee5cc39071572859f1876177\n",
      "The current folder is .\\.git\\objects\\41\n",
      "FILE INSIDE .\\.git\\objects\\41: ce2c49f7f91fa77a97c05ff84fd6b5c556f428\n",
      "The current folder is .\\.git\\objects\\42\n",
      "FILE INSIDE .\\.git\\objects\\42: 4bcf3e2c905d7692315c0f776c43d68c8a57eb\n",
      "FILE INSIDE .\\.git\\objects\\42: ad0885112c3538faa10bf8aa660866c6a2a8c2\n",
      "FILE INSIDE .\\.git\\objects\\42: b6f4b5cc5866f0ae2420c1a8a786f7120a7606\n",
      "The current folder is .\\.git\\objects\\44\n",
      "FILE INSIDE .\\.git\\objects\\44: e614280cdb8e10c2de481876b726608dc89fca\n",
      "The current folder is .\\.git\\objects\\46\n",
      "FILE INSIDE .\\.git\\objects\\46: 1e4decae9ef36523ed8de86ac28b2ef1cab391\n",
      "The current folder is .\\.git\\objects\\4a\n",
      "FILE INSIDE .\\.git\\objects\\4a: 5f70b8d7c65ad12a504e1606b96c5ca703a092\n",
      "FILE INSIDE .\\.git\\objects\\4a: 774c9dc875cba5411d500aa151bf161517c5e2\n",
      "The current folder is .\\.git\\objects\\4d\n",
      "FILE INSIDE .\\.git\\objects\\4d: 1a26c05e39aa8da491683e7c91ac8194fc101a\n",
      "The current folder is .\\.git\\objects\\4f\n",
      "FILE INSIDE .\\.git\\objects\\4f: 247f413edd639bcecfb916a7a97235083c9bf8\n",
      "FILE INSIDE .\\.git\\objects\\4f: 90f4a2216f953605f9d834931a5cb9ba3ea803\n",
      "The current folder is .\\.git\\objects\\51\n",
      "FILE INSIDE .\\.git\\objects\\51: 98b29cb784dc5b0c1ca2d602fb346ba32f7b2c\n",
      "The current folder is .\\.git\\objects\\52\n",
      "FILE INSIDE .\\.git\\objects\\52: a2bc4237403bb5c5df2093b2efc5d297fb648c\n",
      "The current folder is .\\.git\\objects\\53\n",
      "FILE INSIDE .\\.git\\objects\\53: 31f52d7fd30492ac3b4811dee9029873c22db9\n",
      "The current folder is .\\.git\\objects\\55\n",
      "FILE INSIDE .\\.git\\objects\\55: 97d26a5e23445000cda6b15d21d675a41fd2a8\n",
      "The current folder is .\\.git\\objects\\58\n",
      "FILE INSIDE .\\.git\\objects\\58: 2fb1b3df184fa84bab3256470e12046de84bd0\n",
      "The current folder is .\\.git\\objects\\5b\n",
      "FILE INSIDE .\\.git\\objects\\5b: 0b57ebe47e5efe9e5e6682f2e511d2ac108e6b\n",
      "The current folder is .\\.git\\objects\\61\n",
      "FILE INSIDE .\\.git\\objects\\61: 59f2f20afbe675398badb7d95ae1f644fa0f3b\n",
      "FILE INSIDE .\\.git\\objects\\61: 98f7ce78490603b1032d807a8c8597eaa3d1c3\n",
      "The current folder is .\\.git\\objects\\62\n",
      "FILE INSIDE .\\.git\\objects\\62: 4638e32f0841d3c3aa7f0a98051406ad57f9d9\n",
      "The current folder is .\\.git\\objects\\63\n",
      "FILE INSIDE .\\.git\\objects\\63: 59020ac30043bbb891b646195dcdd3f4c4f1af\n",
      "The current folder is .\\.git\\objects\\64\n",
      "FILE INSIDE .\\.git\\objects\\64: 4ed7bbf1d9abe4afb909cc7c381f417960e7cf\n",
      "FILE INSIDE .\\.git\\objects\\64: 657b7794343eb68405b29ef6608d05fa479a0a\n",
      "FILE INSIDE .\\.git\\objects\\64: b8242ff0af3dac64b7313f500d4f5568f07d05\n",
      "FILE INSIDE .\\.git\\objects\\64: c998edeab9aefbf300997b542f45c3f47ff8f7\n",
      "The current folder is .\\.git\\objects\\65\n",
      "FILE INSIDE .\\.git\\objects\\65: d376c42a8aba323736e0b00e8fbd2c74d87fb9\n",
      "The current folder is .\\.git\\objects\\66\n",
      "FILE INSIDE .\\.git\\objects\\66: e73db05164fe9e61a7e61f7654ec636c2866d9\n",
      "The current folder is .\\.git\\objects\\69\n",
      "FILE INSIDE .\\.git\\objects\\69: 73dbfda754ab45e45c32cc6517d1411636b750\n",
      "The current folder is .\\.git\\objects\\6a\n",
      "FILE INSIDE .\\.git\\objects\\6a: 9c805383172854ef0c5c02ac1b9fad84ae3395\n",
      "The current folder is .\\.git\\objects\\6b\n",
      "FILE INSIDE .\\.git\\objects\\6b: 56ef63c884b2986302c0493551f278bf9a36e0\n",
      "FILE INSIDE .\\.git\\objects\\6b: b395f2846f665c9d85a37aa708501d90db2019\n",
      "FILE INSIDE .\\.git\\objects\\6b: fde92f833feb5fb2d8b03ce4d74911a2255ed1\n",
      "The current folder is .\\.git\\objects\\6d\n",
      "FILE INSIDE .\\.git\\objects\\6d: 6f08e71aebd8f9f6ae25c03a5aad551880a110\n",
      "FILE INSIDE .\\.git\\objects\\6d: c18d29ba0dcb17200b093fc6a8e1132dbdef05\n",
      "The current folder is .\\.git\\objects\\6f\n",
      "FILE INSIDE .\\.git\\objects\\6f: 19c77d66eccd657199af80d9e19089a36a99ea\n",
      "FILE INSIDE .\\.git\\objects\\6f: dda57feca5b13ef03af57f8dbe26e54d2237de\n",
      "The current folder is .\\.git\\objects\\70\n",
      "FILE INSIDE .\\.git\\objects\\70: ec612be2b46c0814bacba54933b16671320031\n",
      "The current folder is .\\.git\\objects\\74\n",
      "FILE INSIDE .\\.git\\objects\\74: b87a1f5ce1d491caa968ffefac69ca8574068b\n",
      "The current folder is .\\.git\\objects\\75\n",
      "FILE INSIDE .\\.git\\objects\\75: a14895a0e3376eed0033fc8fb5ec2d25ed230e\n",
      "The current folder is .\\.git\\objects\\78\n",
      "FILE INSIDE .\\.git\\objects\\78: 4487e38d2209b5132a0c47538857480f0c4dc4\n",
      "The current folder is .\\.git\\objects\\7a\n",
      "FILE INSIDE .\\.git\\objects\\7a: 01a7db38492f05522b5b24eb24b801038c03b1\n",
      "FILE INSIDE .\\.git\\objects\\7a: bf1bf4540033f3e0d5da76c2f2ee3df5f5f7ad\n",
      "The current folder is .\\.git\\objects\\7b\n",
      "FILE INSIDE .\\.git\\objects\\7b: f282df29d4a6a9e1217ec65793a81ec464919f\n",
      "The current folder is .\\.git\\objects\\7d\n",
      "FILE INSIDE .\\.git\\objects\\7d: 80c95fa42e66a424560c656f40819f69d77d2e\n",
      "FILE INSIDE .\\.git\\objects\\7d: f732bfb0059cdce63b3f013f3047100365aa60\n",
      "The current folder is .\\.git\\objects\\80\n",
      "FILE INSIDE .\\.git\\objects\\80: f9d695f366bfe1af57337460d60a21dbb412e8\n",
      "The current folder is .\\.git\\objects\\81\n",
      "FILE INSIDE .\\.git\\objects\\81: 332444de6e47d282dde62c7795c770bd2374eb\n",
      "The current folder is .\\.git\\objects\\82\n",
      "FILE INSIDE .\\.git\\objects\\82: a4e214b88ad5d800315f3522354e4603f9ad2f\n",
      "The current folder is .\\.git\\objects\\84\n",
      "FILE INSIDE .\\.git\\objects\\84: 63ee38bbe140ca216d79592df4062a4c850da4\n",
      "The current folder is .\\.git\\objects\\87\n",
      "FILE INSIDE .\\.git\\objects\\87: 7fea9f436fbbdb47bc835681ecd4f74d54b726\n",
      "The current folder is .\\.git\\objects\\89\n",
      "FILE INSIDE .\\.git\\objects\\89: 322e89fc300f22c1b68447892c17508f4c7671\n",
      "The current folder is .\\.git\\objects\\8a\n",
      "FILE INSIDE .\\.git\\objects\\8a: 006d976a7e685bd981b6742f97478401adfa1d\n",
      "The current folder is .\\.git\\objects\\8e\n",
      "FILE INSIDE .\\.git\\objects\\8e: 60d0eae4e397cfc185e262dbd4dd52c5d8c55d\n",
      "The current folder is .\\.git\\objects\\8f\n",
      "FILE INSIDE .\\.git\\objects\\8f: 22b8a791485c837147062fae2e23fa2b3ccee8\n",
      "FILE INSIDE .\\.git\\objects\\8f: 74e4c0f0abb660b5292fbece67ed9890cc04c1\n",
      "FILE INSIDE .\\.git\\objects\\8f: a42682be074703e6213106b4266d6bd8312d4f\n",
      "The current folder is .\\.git\\objects\\93\n",
      "FILE INSIDE .\\.git\\objects\\93: 5008de724c394294e940ee5f4002765966d401\n",
      "The current folder is .\\.git\\objects\\95\n",
      "FILE INSIDE .\\.git\\objects\\95: d2d02c8840cee59abb035ae83fc200bcafddeb\n",
      "The current folder is .\\.git\\objects\\96\n",
      "FILE INSIDE .\\.git\\objects\\96: e3e208ab892b6a4b85583f2535e238a63b61c1\n",
      "The current folder is .\\.git\\objects\\98\n",
      "FILE INSIDE .\\.git\\objects\\98: aa9e157826fa260c48305fc49f3b75976271c7\n",
      "The current folder is .\\.git\\objects\\9a\n",
      "FILE INSIDE .\\.git\\objects\\9a: 2129bacb8eff533925e86bdf80667d5ef03bae\n",
      "The current folder is .\\.git\\objects\\9d\n",
      "FILE INSIDE .\\.git\\objects\\9d: 0a55ec7562b58267f1ab6ec38081c76048c546\n",
      "The current folder is .\\.git\\objects\\9f\n",
      "FILE INSIDE .\\.git\\objects\\9f: e2cfe52d4c1122786287aa6a5160c5a0c115e5\n",
      "The current folder is .\\.git\\objects\\a3\n",
      "FILE INSIDE .\\.git\\objects\\a3: af03582309b3a4b7c1a7c8a8f39b61f1d0bcbf\n",
      "FILE INSIDE .\\.git\\objects\\a3: fc724ed2e4c3e419cce5e0d147103e840a94bc\n",
      "The current folder is .\\.git\\objects\\a6\n",
      "FILE INSIDE .\\.git\\objects\\a6: 0b687a604dcbf2212a905ebaf901f298ddf5cc\n",
      "The current folder is .\\.git\\objects\\a7\n",
      "FILE INSIDE .\\.git\\objects\\a7: 1a5339369df1ec633160aac2dc075df272629f\n",
      "The current folder is .\\.git\\objects\\ab\n",
      "FILE INSIDE .\\.git\\objects\\ab: 3317f58192e2c41682f8c3ea7cbc0260bfafdc\n",
      "FILE INSIDE .\\.git\\objects\\ab: b758fd8f46691472c4d68ae1a93696c9451db6\n",
      "FILE INSIDE .\\.git\\objects\\ab: d36297eff861374f3d3db951bed3f10db5698f\n",
      "The current folder is .\\.git\\objects\\ad\n",
      "FILE INSIDE .\\.git\\objects\\ad: bf8774ca6bae09f0d8bea72ffb49753537e435\n",
      "The current folder is .\\.git\\objects\\af\n",
      "FILE INSIDE .\\.git\\objects\\af: 145ba249a533a3b2e4608a1ed8d2a403c5008d\n",
      "The current folder is .\\.git\\objects\\b0\n",
      "FILE INSIDE .\\.git\\objects\\b0: 2a98110d6933f7dd48bf68491c9f8e68ebbd37\n",
      "The current folder is .\\.git\\objects\\b1\n",
      "FILE INSIDE .\\.git\\objects\\b1: 1e4ab63f370fcdbf1b6d386d6ac88d8ab9508b\n",
      "The current folder is .\\.git\\objects\\b2\n",
      "FILE INSIDE .\\.git\\objects\\b2: b993dbbbc8ca191498ca0503b53ca6c966acd7\n",
      "FILE INSIDE .\\.git\\objects\\b2: dc74eedb95672adf0d5b1d6515c0d7c8bb6d1b\n",
      "The current folder is .\\.git\\objects\\b8\n",
      "FILE INSIDE .\\.git\\objects\\b8: 4bf77bc897a95cbeeeb875e67d44c11a76874a\n",
      "The current folder is .\\.git\\objects\\bb\n",
      "FILE INSIDE .\\.git\\objects\\bb: a7fc68a34ea94e11ef688b0bd72778df0f5253\n",
      "FILE INSIDE .\\.git\\objects\\bb: cfde9812c2c394d7319bdc1986e8a5a6294e34\n",
      "FILE INSIDE .\\.git\\objects\\bb: e9698280561770680f35d0228c6d46ee8429dc\n",
      "The current folder is .\\.git\\objects\\c1\n",
      "FILE INSIDE .\\.git\\objects\\c1: b71a797a1a3d1f325c9caad31f579155451397\n",
      "The current folder is .\\.git\\objects\\c3\n",
      "FILE INSIDE .\\.git\\objects\\c3: f7cadbb472d5d06f7019221c635ae571a03b68\n",
      "The current folder is .\\.git\\objects\\c4\n",
      "FILE INSIDE .\\.git\\objects\\c4: 6d8f2e4581aad307316f3a24d87e30615ae292\n",
      "The current folder is .\\.git\\objects\\cc\n",
      "FILE INSIDE .\\.git\\objects\\cc: 5c130c85dccc34fc698637af2ff9822c9e1c1d\n",
      "FILE INSIDE .\\.git\\objects\\cc: d9ce0ef91792ce601f3a106a8083470f1c050e\n",
      "The current folder is .\\.git\\objects\\cd\n",
      "FILE INSIDE .\\.git\\objects\\cd: b9123f1c5db5c4379b878cd83f6e61fd39ddf8\n",
      "FILE INSIDE .\\.git\\objects\\cd: c696829547c404bd7fbf7d36d5823c8143121e\n",
      "The current folder is .\\.git\\objects\\ce\n",
      "FILE INSIDE .\\.git\\objects\\ce: fc7083ddc901c85e5baf55ab9d4e8b4e332994\n",
      "The current folder is .\\.git\\objects\\d0\n",
      "FILE INSIDE .\\.git\\objects\\d0: 1563dd3dccd41977e1116b919ca302f5b9d160\n",
      "FILE INSIDE .\\.git\\objects\\d0: f782c6b570c1d96b7f859720c811c26a492e0f\n",
      "The current folder is .\\.git\\objects\\d5\n",
      "FILE INSIDE .\\.git\\objects\\d5: 5feeddd6fab50a42fe5c2c233c0519a302d86b\n",
      "FILE INSIDE .\\.git\\objects\\d5: 8ec7d0663dba04b895238c7ccd6c79730e7d25\n",
      "The current folder is .\\.git\\objects\\d8\n",
      "FILE INSIDE .\\.git\\objects\\d8: cabab6990ce52978e08391e0c2898249071d8a\n",
      "The current folder is .\\.git\\objects\\d9\n",
      "FILE INSIDE .\\.git\\objects\\d9: b1f418d41f982a3902bce160c954949b1b8170\n",
      "The current folder is .\\.git\\objects\\da\n",
      "FILE INSIDE .\\.git\\objects\\da: 8dffb3c3ec98385b675ce139414b95f387fd65\n",
      "FILE INSIDE .\\.git\\objects\\da: ece7c2b56e2785792dff1fbb90757f08964acd\n",
      "The current folder is .\\.git\\objects\\db\n",
      "FILE INSIDE .\\.git\\objects\\db: 18b08beff0bad49589efe07027640a56e4095c\n",
      "FILE INSIDE .\\.git\\objects\\db: e5bf1fc782355552ba5758ecd713b0125d21f3\n",
      "FILE INSIDE .\\.git\\objects\\db: e7bab24852350eaecd852460b37d05d604ead8\n",
      "The current folder is .\\.git\\objects\\dd\n",
      "FILE INSIDE .\\.git\\objects\\dd: 7f89bbde687c632f49d07e43fd2323a7b67ed4\n",
      "FILE INSIDE .\\.git\\objects\\dd: 8a617555d6bf4dffd012755ce0d4821b2a778c\n",
      "FILE INSIDE .\\.git\\objects\\dd: a89bcea9e8246e6895f63d6181494540a2b548\n",
      "The current folder is .\\.git\\objects\\df\n",
      "FILE INSIDE .\\.git\\objects\\df: 0b932e814c9ca669d545b3e6048f18f4a0e030\n",
      "The current folder is .\\.git\\objects\\e1\n",
      "FILE INSIDE .\\.git\\objects\\e1: 9f6a11fccd4336d9a97ec50700b44ea470b9e2\n",
      "The current folder is .\\.git\\objects\\e3\n",
      "FILE INSIDE .\\.git\\objects\\e3: 42e5ade89f63391f2e4ae429d4f6b746ab335a\n",
      "The current folder is .\\.git\\objects\\e4\n",
      "FILE INSIDE .\\.git\\objects\\e4: 39335856b35d781d1cdd36e9942660b27c23a4\n",
      "The current folder is .\\.git\\objects\\e7\n",
      "FILE INSIDE .\\.git\\objects\\e7: aed5c15e322f1be03fcc4ff8f69f4c9750f1b2\n",
      "FILE INSIDE .\\.git\\objects\\e7: d737f92ef750bddc0a55c8e9095a0179b71b64\n",
      "The current folder is .\\.git\\objects\\ea\n",
      "FILE INSIDE .\\.git\\objects\\ea: 55bb25ad6bd34ec248da728b58daff092f04a6\n",
      "FILE INSIDE .\\.git\\objects\\ea: 64064bb61ace58b71a8caebeb7fa631a2f666d\n",
      "The current folder is .\\.git\\objects\\f4\n",
      "FILE INSIDE .\\.git\\objects\\f4: bb08e26b73a16b8d66b129dbfd3a5bd0a7c2bf\n",
      "FILE INSIDE .\\.git\\objects\\f4: ca9e0c6433e2b4c1731fd6af6061526f4eacc3\n",
      "The current folder is .\\.git\\objects\\f6\n",
      "FILE INSIDE .\\.git\\objects\\f6: bbf0174e8890e977ee89b3c565b0ffe9f59f05\n",
      "The current folder is .\\.git\\objects\\f7\n",
      "FILE INSIDE .\\.git\\objects\\f7: 9a1a8905d314fff699c2050fe666b8b5906118\n",
      "The current folder is .\\.git\\objects\\fb\n",
      "FILE INSIDE .\\.git\\objects\\fb: 8bf8251023c26fd8033b534754b95784d37c78\n",
      "The current folder is .\\.git\\objects\\fd\n",
      "FILE INSIDE .\\.git\\objects\\fd: 542deca36bbf9470485a7d05d5609c82db0189\n",
      "The current folder is .\\.git\\objects\\fe\n",
      "FILE INSIDE .\\.git\\objects\\fe: 10eaa23b8809943e46e416cb1bdcfef32a1e48\n",
      "The current folder is .\\.git\\objects\\info\n",
      "The current folder is .\\.git\\objects\\pack\n",
      "The current folder is .\\.git\\refs\n",
      "SUBFOLDER OF .\\.git\\refs: heads\n",
      "SUBFOLDER OF .\\.git\\refs: remotes\n",
      "SUBFOLDER OF .\\.git\\refs: tags\n",
      "The current folder is .\\.git\\refs\\heads\n",
      "FILE INSIDE .\\.git\\refs\\heads: main\n",
      "The current folder is .\\.git\\refs\\remotes\n",
      "SUBFOLDER OF .\\.git\\refs\\remotes: origin\n",
      "The current folder is .\\.git\\refs\\remotes\\origin\n",
      "FILE INSIDE .\\.git\\refs\\remotes\\origin: main\n",
      "The current folder is .\\.git\\refs\\tags\n",
      "The current folder is .\\.ipynb_checkpoints\n",
      "FILE INSIDE .\\.ipynb_checkpoints: ch1-checkpoint.ipynb\n",
      "FILE INSIDE .\\.ipynb_checkpoints: ch10-checkpoint.ipynb\n",
      "FILE INSIDE .\\.ipynb_checkpoints: ch2-checkpoint.ipynb\n",
      "FILE INSIDE .\\.ipynb_checkpoints: ch3-checkpoint.ipynb\n",
      "FILE INSIDE .\\.ipynb_checkpoints: ch4-checkpoint.ipynb\n",
      "FILE INSIDE .\\.ipynb_checkpoints: ch5-checkpoint.ipynb\n",
      "FILE INSIDE .\\.ipynb_checkpoints: ch6-checkpoint.ipynb\n",
      "FILE INSIDE .\\.ipynb_checkpoints: ch7-checkpoint.ipynb\n",
      "FILE INSIDE .\\.ipynb_checkpoints: ch8-checkpoint.ipynb\n",
      "FILE INSIDE .\\.ipynb_checkpoints: ch9-checkpoint.ipynb\n",
      "FILE INSIDE .\\.ipynb_checkpoints: L1-checkpoint.ipynb\n",
      "FILE INSIDE .\\.ipynb_checkpoints: L1_python初级数据结构-checkpoint.ipynb\n",
      "FILE INSIDE .\\.ipynb_checkpoints: L2-checkpoint.ipynb\n",
      "FILE INSIDE .\\.ipynb_checkpoints: L2_函数是一等公民-checkpoint.ipynb\n",
      "FILE INSIDE .\\.ipynb_checkpoints: L2_函数高级生成器初阶-checkpoint.ipynb\n",
      "FILE INSIDE .\\.ipynb_checkpoints: L3-checkpoint.ipynb\n",
      "FILE INSIDE .\\.ipynb_checkpoints: L3_一切皆对象 初级oop-checkpoint.ipynb\n",
      "FILE INSIDE .\\.ipynb_checkpoints: L3_面向对象初级概念总汇-checkpoint.ipynb\n",
      "FILE INSIDE .\\.ipynb_checkpoints: L4_数据结构和迭代深入协议-checkpoint.ipynb\n",
      "FILE INSIDE .\\.ipynb_checkpoints: L5_文本和字符 正则 eval 数据处理-checkpoint.ipynb\n",
      "FILE INSIDE .\\.ipynb_checkpoints: L5_文本和字符 正则 eval 数据操作-checkpoint.ipynb\n",
      "FILE INSIDE .\\.ipynb_checkpoints: L5_编码 正则表达式 文本处理-checkpoint.ipynb\n",
      "FILE INSIDE .\\.ipynb_checkpoints: L6_实用数据结构 数据可视化 科研相关技能-checkpoint.ipynb\n",
      "FILE INSIDE .\\.ipynb_checkpoints: L7_图像处理 音频处理-checkpoint.ipynb\n",
      "FILE INSIDE .\\.ipynb_checkpoints: L8_网络编程 爬虫 数据库 自动化操作-checkpoint.ipynb\n",
      "FILE INSIDE .\\.ipynb_checkpoints: L9_网络编程 后台编写 云端部署-checkpoint.ipynb\n",
      "FILE INSIDE .\\.ipynb_checkpoints: python3-checkpoint.ipynb\n",
      "FILE INSIDE .\\.ipynb_checkpoints: total_python3太大了打开慢-checkpoint.ipynb\n",
      "FILE INSIDE .\\.ipynb_checkpoints: Untitled1-checkpoint.ipynb\n",
      "The current folder is .\\dir\n",
      "SUBFOLDER OF .\\dir: dir\n",
      "The current folder is .\\dir\\dir\n",
      "SUBFOLDER OF .\\dir\\dir: dir\n",
      "The current folder is .\\dir\\dir\\dir\n",
      "SUBFOLDER OF .\\dir\\dir\\dir: dir\n",
      "The current folder is .\\dir\\dir\\dir\\dir\n",
      "The current folder is .\\jinyong\n",
      "FILE INSIDE .\\jinyong: 金庸-书剑恩仇录txt精校版.txt\n",
      "FILE INSIDE .\\jinyong: 金庸-侠客行txt全本精校版.txt\n",
      "FILE INSIDE .\\jinyong: 金庸-倚天屠龙记txt精校版.txt\n",
      "FILE INSIDE .\\jinyong: 金庸-天龙八部txt精校版.txt\n",
      "FILE INSIDE .\\jinyong: 金庸-射雕英雄传txt精校版.txt\n",
      "FILE INSIDE .\\jinyong: 金庸-白马啸西风txt精校版.txt\n",
      "FILE INSIDE .\\jinyong: 金庸-碧血剑txt精校版.txt\n",
      "FILE INSIDE .\\jinyong: 金庸-神雕侠侣txt精校版.txt\n",
      "FILE INSIDE .\\jinyong: 金庸-笑傲江湖txt精校版.txt\n",
      "FILE INSIDE .\\jinyong: 金庸-越女剑txt精校版.txt\n",
      "FILE INSIDE .\\jinyong: 金庸-连城诀txt精校版.txt\n",
      "FILE INSIDE .\\jinyong: 金庸-雪山飞狐txt精校版.txt\n",
      "FILE INSIDE .\\jinyong: 金庸-飞狐外传txt精校版.txt\n",
      "FILE INSIDE .\\jinyong: 金庸-鸳鸯刀txt精校版.txt\n",
      "FILE INSIDE .\\jinyong: 金庸-鹿鼎记txt精校版.txt\n",
      "The current folder is .\\pic\n",
      "FILE INSIDE .\\pic: 778496-20180713200909560-1043089630.png\n",
      "FILE INSIDE .\\pic: array.png\n",
      "FILE INSIDE .\\pic: cloud_result.png\n",
      "FILE INSIDE .\\pic: generator.png\n",
      "FILE INSIDE .\\pic: numpytype.png\n",
      "FILE INSIDE .\\pic: oop.png\n",
      "FILE INSIDE .\\pic: python.png\n",
      "FILE INSIDE .\\pic: struct.png\n",
      "FILE INSIDE .\\pic: test.bmp\n",
      "FILE INSIDE .\\pic: utf8.png\n",
      "FILE INSIDE .\\pic: 正则.png\n",
      "FILE INSIDE .\\pic: 武侠.png\n",
      "FILE INSIDE .\\pic: 编码.png\n",
      "FILE INSIDE .\\pic: 进制.png\n"
     ]
    }
   ],
   "source": [
    "for folderName, subfolders, filenames in os.walk('.'):\n",
    "    print('The current folder is ' + folderName)\n",
    "    for subfolder in subfolders:\n",
    "        print('SUBFOLDER OF ' + folderName + ': ' + subfolder)\n",
    "    for filename in filenames:\n",
    "        print('FILE INSIDE ' + folderName + ': '+ filename)"
   ]
  },
  {
   "cell_type": "markdown",
   "metadata": {},
   "source": [
    "## 在python中执行cmd或者shell命令"
   ]
  },
  {
   "cell_type": "code",
   "execution_count": 18,
   "metadata": {},
   "outputs": [],
   "source": [
    "import os"
   ]
  },
  {
   "cell_type": "code",
   "execution_count": 19,
   "metadata": {},
   "outputs": [
    {
     "data": {
      "text/plain": [
       "'C:\\\\Users\\\\Think\\\\课程\\\\3UB_python基础'"
      ]
     },
     "execution_count": 19,
     "metadata": {},
     "output_type": "execute_result"
    }
   ],
   "source": [
    "os.system(\"cd D:\\\\myproj\\stopwords\")\n",
    "os.getcwd()"
   ]
  },
  {
   "cell_type": "markdown",
   "metadata": {},
   "source": [
    "注意： 每一条system函数执行时，其会创建一个子进程在系统上执行命令行，子进程的执行结果无法影响主进程"
   ]
  },
  {
   "cell_type": "markdown",
   "metadata": {},
   "source": [
    "## 处理文件shutil"
   ]
  },
  {
   "cell_type": "code",
   "execution_count": 48,
   "metadata": {},
   "outputs": [],
   "source": [
    "import shutil"
   ]
  },
  {
   "cell_type": "code",
   "execution_count": 55,
   "metadata": {},
   "outputs": [
    {
     "data": {
      "text/plain": [
       "'D:\\\\python\\\\test.py'"
      ]
     },
     "execution_count": 55,
     "metadata": {},
     "output_type": "execute_result"
    }
   ],
   "source": [
    "shutil.copy('./source/test.py', 'D:\\\\python')  # 不重命名"
   ]
  },
  {
   "cell_type": "code",
   "execution_count": 54,
   "metadata": {},
   "outputs": [
    {
     "data": {
      "text/plain": [
       "'D:\\\\\\\\python\\\\fdsa.py'"
      ]
     },
     "execution_count": 54,
     "metadata": {},
     "output_type": "execute_result"
    }
   ],
   "source": [
    "shutil.copy('./source/test.py', r'D:\\\\python\\fdsa.py')   # 另外命名"
   ]
  },
  {
   "cell_type": "markdown",
   "metadata": {},
   "source": [
    "1. shutil.copytree 拷贝文件夹\n",
    "2. shutil.move 移动文件夹 其实也是改名\n",
    "3. shutil.rmtree 删除文件夹全部内容 "
   ]
  },
  {
   "cell_type": "markdown",
   "metadata": {},
   "source": [
    "1. os.unlink 删文件内容\n",
    "2. os.rmdir 删空目录 不能删里面的文件"
   ]
  },
  {
   "cell_type": "markdown",
   "metadata": {},
   "source": [
    "安全删除到回收站 send2trash库（需要pip install send2trash）"
   ]
  },
  {
   "cell_type": "markdown",
   "metadata": {},
   "source": [
    "# pickle和shelve python自己的持久化"
   ]
  },
  {
   "cell_type": "markdown",
   "metadata": {},
   "source": [
    "## pickle腌菜 包括四类基本方法 类似于json\n",
    "    1. dumps loads 返回的是字节流 加载的是字节流\n",
    "    2. dump load 将字节流存入文件 从文件加载出字节流\n",
    "    3. 其实是为了处理python的对象而存在的"
   ]
  },
  {
   "cell_type": "code",
   "execution_count": 1,
   "metadata": {},
   "outputs": [],
   "source": [
    "import pickle"
   ]
  },
  {
   "cell_type": "code",
   "execution_count": 20,
   "metadata": {},
   "outputs": [],
   "source": [
    "class Foo():\n",
    "    pass\n",
    "\n",
    "bar = Foo()\n",
    "\n",
    "data = ['aa', 'bb', 'cc', bar]\n",
    "data2 = ['aa', 'bb', 'cc', bar,bar]"
   ]
  },
  {
   "cell_type": "code",
   "execution_count": 5,
   "metadata": {},
   "outputs": [],
   "source": [
    "pick = pickle.dumps(data)"
   ]
  },
  {
   "cell_type": "code",
   "execution_count": 6,
   "metadata": {},
   "outputs": [
    {
     "data": {
      "text/plain": [
       "b'\\x80\\x04\\x95*\\x00\\x00\\x00\\x00\\x00\\x00\\x00]\\x94(\\x8c\\x02aa\\x94\\x8c\\x02bb\\x94\\x8c\\x02cc\\x94\\x8c\\x08__main__\\x94\\x8c\\x03Foo\\x94\\x93\\x94)\\x81\\x94e.'"
      ]
     },
     "execution_count": 6,
     "metadata": {},
     "output_type": "execute_result"
    }
   ],
   "source": [
    "pick"
   ]
  },
  {
   "cell_type": "code",
   "execution_count": 7,
   "metadata": {},
   "outputs": [],
   "source": [
    "res = pickle.loads(pick)"
   ]
  },
  {
   "cell_type": "code",
   "execution_count": 8,
   "metadata": {},
   "outputs": [
    {
     "data": {
      "text/plain": [
       "['aa', 'bb', 'cc', <__main__.Foo at 0x1ecb2940430>]"
      ]
     },
     "execution_count": 8,
     "metadata": {},
     "output_type": "execute_result"
    }
   ],
   "source": [
    "res"
   ]
  },
  {
   "cell_type": "code",
   "execution_count": 21,
   "metadata": {},
   "outputs": [],
   "source": [
    "with open('./source/tmp.pk', 'wb') as fp:\n",
    "    pickle.dump(data, fp, protocol=pickle.HIGHEST_PROTOCOL)\n",
    "    pickle.dump(data2, fp, protocol=pickle.HIGHEST_PROTOCOL)"
   ]
  },
  {
   "cell_type": "code",
   "execution_count": 22,
   "metadata": {},
   "outputs": [],
   "source": [
    "with open('./source/tmp.pk', 'rb') as fp:\n",
    "    res1 = pickle.load(fp)\n",
    "    res2 = pickle.load(fp)"
   ]
  },
  {
   "cell_type": "code",
   "execution_count": 23,
   "metadata": {},
   "outputs": [
    {
     "data": {
      "text/plain": [
       "['aa', 'bb', 'cc', <__main__.Foo at 0x1ecb2959370>]"
      ]
     },
     "execution_count": 23,
     "metadata": {},
     "output_type": "execute_result"
    }
   ],
   "source": [
    "res1"
   ]
  },
  {
   "cell_type": "code",
   "execution_count": 24,
   "metadata": {},
   "outputs": [
    {
     "data": {
      "text/plain": [
       "['aa',\n",
       " 'bb',\n",
       " 'cc',\n",
       " <__main__.Foo at 0x1ecb29591c0>,\n",
       " <__main__.Foo at 0x1ecb29591c0>]"
      ]
     },
     "execution_count": 24,
     "metadata": {},
     "output_type": "execute_result"
    }
   ],
   "source": [
    "res2"
   ]
  },
  {
   "cell_type": "markdown",
   "metadata": {},
   "source": [
    "## shelve架子\n",
    "    1. 基于pickle做的更方便的库\n",
    "    2. 只需要当字典来使用\n",
    "    3. 表现为三个二进制文件：sheve.txt.bak    sheve.txt.dat     sheve.txt.dir 不用多管 会用就行"
   ]
  },
  {
   "cell_type": "code",
   "execution_count": 5,
   "metadata": {},
   "outputs": [],
   "source": [
    "import shelve    "
   ]
  },
  {
   "cell_type": "code",
   "execution_count": 6,
   "metadata": {},
   "outputs": [
    {
     "name": "stdout",
     "output_type": "stream",
     "text": [
      "['piao', 'smoking', 'drinking']\n"
     ]
    }
   ],
   "source": [
    "with shelve.open(r'./source/sheve.txt') as f:\n",
    "    f['stu1_info']={'name':'egon','age':18,'hobby':['piao','smoking','drinking']}  \n",
    "    f['stu2_info']={'name':'gangdan','age':53}\n",
    "    f['school_info']={'website':'http://www.pypy.org','city':'beijing'}\n",
    "    print(f['stu1_info']['hobby'])"
   ]
  },
  {
   "cell_type": "code",
   "execution_count": 7,
   "metadata": {},
   "outputs": [
    {
     "name": "stdout",
     "output_type": "stream",
     "text": [
      "['piao', 'smoking', 'drinking']\n"
     ]
    }
   ],
   "source": [
    "with shelve.open(r'./source/sheve.txt') as f:        \n",
    "    print(f['stu1_info']['hobby'])                         "
   ]
  },
  {
   "cell_type": "markdown",
   "metadata": {},
   "source": [
    "# 压缩相关"
   ]
  },
  {
   "cell_type": "code",
   "execution_count": 9,
   "metadata": {},
   "outputs": [],
   "source": [
    "import zipfile"
   ]
  },
  {
   "cell_type": "code",
   "execution_count": 11,
   "metadata": {},
   "outputs": [
    {
     "name": "stdout",
     "output_type": "stream",
     "text": [
      "['ScipyLectures.pdf', 'Coroutines.pdf', 'numpy-cheat-sheet.pdf']\n",
      "<ZipInfo filename='Coroutines.pdf' compress_type=deflate external_attr=0x20 file_size=435000 compress_size=316697>\n"
     ]
    }
   ],
   "source": [
    "with zipfile.ZipFile('./source/3UB_python基础.zip') as exampleZip:\n",
    "    print(exampleZip.namelist())\n",
    "    print(exampleZip.getinfo('Coroutines.pdf'))\n",
    "    exampleZip.extractall()"
   ]
  },
  {
   "cell_type": "markdown",
   "metadata": {},
   "source": [
    "# word和pdf"
   ]
  },
  {
   "cell_type": "code",
   "execution_count": 68,
   "metadata": {},
   "outputs": [],
   "source": [
    "import PyPDF2   \n",
    "import docx  # pip install python-docx"
   ]
  },
  {
   "cell_type": "markdown",
   "metadata": {},
   "source": [
    "读取全部文本"
   ]
  },
  {
   "cell_type": "code",
   "execution_count": 69,
   "metadata": {},
   "outputs": [],
   "source": [
    "def getText(filename):\n",
    "    doc = docx.Document(filename)\n",
    "    fullText = []\n",
    "    for para in doc.paragraphs:\n",
    "        fullText.append(para.text)\n",
    "    return '\\n'.join(fullText)"
   ]
  },
  {
   "cell_type": "code",
   "execution_count": 72,
   "metadata": {},
   "outputs": [
    {
     "name": "stdout",
     "output_type": "stream",
     "text": [
      "而二期额大师傅打发发大厦前后如何推进亚特也 \n",
      "3413443214 \n",
      "Czvczvzvdszfdzdzsfdzs fdsaf feaf\n"
     ]
    }
   ],
   "source": [
    "print(getText('./source/test.docx'))"
   ]
  },
  {
   "cell_type": "code",
   "execution_count": 82,
   "metadata": {},
   "outputs": [
    {
     "name": "stdout",
     "output_type": "stream",
     "text": [
      "521\n",
      "ItÕs important to note that git diff by itself doesnÕt show all changes made since your last\n",
      "commit!Ñ!only changes that are still unstaged. If youÕve staged all of your changes, git diff willgive you no output.For another example, if you stage the \n",
      "CONTRIBUTING.md file and then edit it, you can use git diff tosee the changes in the file that are staged and the changes that are unstaged. If our environmentlooks like this:\n",
      "$ git add CONTRIBUTING.md$ echo '# test line' >> CONTRIBUTING.md$ git statusOn branch masterYour branch is up-to-date with 'origin/master'.Changes to be committed:Ê (use \"git reset HEAD <file>...\" to unstage)Ê   modified:   CONTRIBUTING.mdChanges not staged for commit:Ê (use \"git add <file>...\" to update what will be committed)Ê (use \"git checkout -- <file>...\" to discard changes in working directory)Ê   modified:   CONTRIBUTING.mdNow you can use git diff to see what is still unstaged:$ git diffdiff --git a/CONTRIBUTING.md b/CONTRIBUTING.mdindex 643e24f..87f08c8 100644--- a/CONTRIBUTING.md+++ b/CONTRIBUTING.md@@ -119,3 +119,4 @@ at theÊ## Starter ProjectsÊSee our [projectslist](https://github.com/libgit2/libgit2/blob/development/PROJECTS.md).+# test lineand git diff --cached to see what youÕve staged so far (--staged and --cached are synonyms):\n",
      "34\n"
     ]
    }
   ],
   "source": [
    "with open('./source/progit.pdf', 'rb') as fp:\n",
    "    pdfReader = PyPDF2.PdfFileReader(fp)\n",
    "    print(pdfReader.numPages)\n",
    "    page = pdfReader.getPage(39)\n",
    "    print(page.extractText())   # 时灵时不灵的extractText pdf里面是一锅粥"
   ]
  }
 ],
 "metadata": {
  "kernelspec": {
   "display_name": "Python 3",
   "language": "python",
   "name": "python3"
  },
  "language_info": {
   "codemirror_mode": {
    "name": "ipython",
    "version": 3
   },
   "file_extension": ".py",
   "mimetype": "text/x-python",
   "name": "python",
   "nbconvert_exporter": "python",
   "pygments_lexer": "ipython3",
   "version": "3.8.3"
  },
  "toc": {
   "base_numbering": 1,
   "nav_menu": {},
   "number_sections": true,
   "sideBar": true,
   "skip_h1_title": false,
   "title_cell": "Table of Contents",
   "title_sidebar": "Contents",
   "toc_cell": false,
   "toc_position": {
    "height": "calc(100% - 180px)",
    "left": "10px",
    "top": "150px",
    "width": "313px"
   },
   "toc_section_display": true,
   "toc_window_display": true
  },
  "varInspector": {
   "cols": {
    "lenName": 16,
    "lenType": 16,
    "lenVar": 40
   },
   "kernels_config": {
    "python": {
     "delete_cmd_postfix": "",
     "delete_cmd_prefix": "del ",
     "library": "var_list.py",
     "varRefreshCmd": "print(var_dic_list())"
    },
    "r": {
     "delete_cmd_postfix": ") ",
     "delete_cmd_prefix": "rm(",
     "library": "var_list.r",
     "varRefreshCmd": "cat(var_dic_list()) "
    }
   },
   "types_to_exclude": [
    "module",
    "function",
    "builtin_function_or_method",
    "instance",
    "_Feature"
   ],
   "window_display": false
  }
 },
 "nbformat": 4,
 "nbformat_minor": 1
}
