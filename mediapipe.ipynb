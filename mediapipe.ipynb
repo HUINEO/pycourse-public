{
 "cells": [
  {
   "cell_type": "code",
   "execution_count": 5,
   "metadata": {},
   "outputs": [],
   "source": [
    "import cv2\n",
    "import mediapipe as mp\n",
    "mp_drawing = mp.solutions.drawing_utils\n",
    "mp_drawing_styles = mp.solutions.drawing_styles\n",
    "mp_hands = mp.solutions.hands\n",
    "import numpy as np"
   ]
  },
  {
   "cell_type": "code",
   "execution_count": 4,
   "metadata": {},
   "outputs": [],
   "source": [
    "class MA():\n",
    "    def __init__(self,win_N,isMid=False):\n",
    "        self.win = [np.zeros(63) for i in range(win_N)]\n",
    "        self.win_N = win_N\n",
    "        self.isMid = isMid\n",
    "    def __call__(self,x):\n",
    "        self.win += [x]\n",
    "        self.win.pop(0)\n",
    "        if not self.isMid:\n",
    "            return np.mean(np.array(self.win),0)\n",
    "        else:\n",
    "            return np.median(np.array(self.win),0)"
   ]
  },
  {
   "cell_type": "code",
   "execution_count": 23,
   "metadata": {},
   "outputs": [],
   "source": [
    "trace = []\n",
    "ma = MA(10)\n",
    "\n",
    "\n",
    "\n",
    "\n",
    "cap = cv2.VideoCapture(0)\n",
    "with mp_hands.Hands(model_complexity=0,\n",
    "                    min_detection_confidence=0.5,\n",
    "                    min_tracking_confidence=0.5) as hands:\n",
    "    while cap.isOpened():\n",
    "        success, image = cap.read()\n",
    "        if not success:\n",
    "            print(\"Ignoring empty camera frame.\")\n",
    "            # If loading a video, use 'break' instead of 'continue'.\n",
    "            continue\n",
    "\n",
    "        # To improve performance, optionally mark the image as not writeable to\n",
    "        # pass by reference.\n",
    "        image.flags.writeable = False\n",
    "        image = cv2.cvtColor(image, cv2.COLOR_BGR2RGB)\n",
    "        results = hands.process(image)\n",
    "\n",
    "        # Draw the hand annotations on the image.\n",
    "        image.flags.writeable = True\n",
    "        image = cv2.cvtColor(image, cv2.COLOR_RGB2BGR)\n",
    "        if results.multi_hand_landmarks:\n",
    "            for hand_landmarks in results.multi_hand_landmarks:\n",
    "#                 print(distance(hand_landmarks))\n",
    "                mp_drawing.draw_landmarks(\n",
    "                    image,\n",
    "                    hand_landmarks,\n",
    "                    mp_hands.HAND_CONNECTIONS,\n",
    "                    mp_drawing_styles.get_default_hand_landmarks_style(),\n",
    "                    mp_drawing_styles.get_default_hand_connections_style())\n",
    "        # Flip the image horizontally for a selfie-view display.\n",
    "        image = cv2.flip(image, 1)\n",
    "        try:\n",
    "            dist = round(distance(hand_landmarks),2)\n",
    "#             dist = ma(dist)\n",
    "            if dist<42:\n",
    "                center_p = center_point(hand_landmarks)\n",
    "                trace.append(center_p)\n",
    "            else:\n",
    "                trace = []\n",
    "            image = draw_trace(image,trace)\n",
    "#             image = cv2.putText(image,'hello world',(50, 355),\n",
    "#                                 cv2.FONT_HERSHEY_SIMPLEX,\n",
    "#                                 1, (0, 0, 255), 1)\n",
    "#             image = cv2.putText(image,'dist'+str(round(center_p[0],2)),(50, 355), cv2.FONT_HERSHEY_SIMPLEX, 1, (0, 255, 0), 1)\n",
    "#             image = cv2.putText(image,'dist'+str(round(center_p[1],2)),(50, 385), cv2.FONT_HERSHEY_SIMPLEX, 1, (0, 255, 0), 1)\n",
    "\n",
    "#             image = cv2.putText(image,'dist'+str(dist),(50, 255), cv2.FONT_HERSHEY_SIMPLEX, 2, (0, 255, 0), 2)\n",
    "        except:\n",
    "            pass\n",
    "        image = cv2.putText(image,\n",
    "                            'dist:'+str(round(distance(hand_landmarks),2)),\n",
    "                            (50, 385), \n",
    "                            cv2.FONT_HERSHEY_SIMPLEX, \n",
    "                            1, (0, 255, 0), 1)\n",
    "\n",
    "        cv2.imshow('MediaPipe Hands', image)\n",
    "        if cv2.waitKey(1) & 0xFF == ord('q'): # 一帧显示一毫秒，通过上面的while循环不断地显示下一帧，从而形成动态的视频；按q键退出循环，关闭视频。\n",
    "            break\n",
    "cap.release()\n",
    "cv2.destroyAllWindows()"
   ]
  },
  {
   "cell_type": "code",
   "execution_count": 21,
   "metadata": {
    "scrolled": true
   },
   "outputs": [
    {
     "data": {
      "text/plain": [
       "0.30809515714645386"
      ]
     },
     "execution_count": 21,
     "metadata": {},
     "output_type": "execute_result"
    }
   ],
   "source": [
    "hand_landmarks.landmark[0].x"
   ]
  },
  {
   "cell_type": "code",
   "execution_count": 22,
   "metadata": {},
   "outputs": [],
   "source": [
    "def distance(hand_landmarks):\n",
    "    import math\n",
    "    x4 = hand_landmarks.landmark[4].x\n",
    "    y4 = hand_landmarks.landmark[4].y\n",
    "    x8 = hand_landmarks.landmark[8].x\n",
    "    y8 = hand_landmarks.landmark[8].y\n",
    "    try:\n",
    "        res = math.sqrt((640*(x4-x8))**2+(480*(y4-y8))**2)\n",
    "    except:\n",
    "        res = 1000\n",
    "    return res"
   ]
  },
  {
   "cell_type": "code",
   "execution_count": 8,
   "metadata": {},
   "outputs": [],
   "source": [
    "def center_point(hand_landmarks):\n",
    "    x4 = hand_landmarks.landmark[4].x\n",
    "    y4 = hand_landmarks.landmark[4].y\n",
    "    x8 = hand_landmarks.landmark[8].x\n",
    "    y8 = hand_landmarks.landmark[8].y\n",
    "    point = (1-x4+1-x8)/2*640,(y4+y8)/2*480\n",
    "#     point = (1-x4)*640,y4*480\n",
    "    return point"
   ]
  },
  {
   "cell_type": "code",
   "execution_count": 9,
   "metadata": {},
   "outputs": [],
   "source": [
    "def draw_trace(img,trace):\n",
    "    points_n = len(trace)\n",
    "    for idx in range(points_n-1):\n",
    "        img = cv2.line(img,\n",
    "                       (int(trace[idx][0]),int(trace[idx][1])),\n",
    "                       (int(trace[idx+1][0]),int(trace[idx+1][1])), (255, 0, 0), thickness=3)\n",
    "    return img"
   ]
  },
  {
   "cell_type": "code",
   "execution_count": 38,
   "metadata": {},
   "outputs": [
    {
     "data": {
      "text/plain": [
       "(480, 640, 3)"
      ]
     },
     "execution_count": 38,
     "metadata": {},
     "output_type": "execute_result"
    }
   ],
   "source": [
    "image.shape"
   ]
  }
 ],
 "metadata": {
  "kernelspec": {
   "display_name": "Python 3",
   "language": "python",
   "name": "python3"
  },
  "language_info": {
   "codemirror_mode": {
    "name": "ipython",
    "version": 3
   },
   "file_extension": ".py",
   "mimetype": "text/x-python",
   "name": "python",
   "nbconvert_exporter": "python",
   "pygments_lexer": "ipython3",
   "version": "3.8.3"
  },
  "toc": {
   "base_numbering": 1,
   "nav_menu": {},
   "number_sections": true,
   "sideBar": true,
   "skip_h1_title": false,
   "title_cell": "Table of Contents",
   "title_sidebar": "Contents",
   "toc_cell": false,
   "toc_position": {},
   "toc_section_display": true,
   "toc_window_display": false
  }
 },
 "nbformat": 4,
 "nbformat_minor": 4
}
