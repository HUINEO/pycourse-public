{
 "cells": [
  {
   "cell_type": "markdown",
   "metadata": {},
   "source": [
    "# python和数据结构\n",
    "\n",
    "Python's:\n",
    "\n",
    "- `list`\n",
    "- `dict`\n",
    "- `string`\n",
    "- `tuple`\n",
    "- `set`\n",
    "\n",
    "Course implementations:\n",
    "\n",
    "- `tree`\n",
    "- `matrix`\n",
    "- `hashtable`\n",
    "- **`linked list`**\n",
    "\n",
    "## 1. Linked list 链表\n",
    "\n",
    "A dynamic structure, location in memory is not consecutive. \n",
    "\n",
    "Some operations become $O(1)$, on the expence of others (especially access).\n",
    "\n",
    "[![Linked List view](http://greenteapress.com/thinkpython/html/illustrations/link2.png)](http://greenteapress.com/thinkpython/html/chap17.html)"
   ]
  },
  {
   "cell_type": "code",
   "execution_count": 3,
   "metadata": {},
   "outputs": [],
   "source": [
    "class Node:\n",
    "    def __init__(self, val):\n",
    "        self.value = val\n",
    "        self.next = None\n",
    "        \n",
    "    def __repr__(self):\n",
    "        return str(self.value)"
   ]
  },
  {
   "cell_type": "code",
   "execution_count": 4,
   "metadata": {},
   "outputs": [],
   "source": [
    "node1 = Node(1)\n",
    "node2 = Node(2)\n",
    "node1.next = node2\n",
    "node3 = Node(3)\n",
    "node2.next = node3"
   ]
  },
  {
   "cell_type": "code",
   "execution_count": 1,
   "metadata": {},
   "outputs": [],
   "source": [
    "class LinkedList:\n",
    "    def __init__(self):\n",
    "        self.first = None\n",
    "\n",
    "    def __repr__(self):\n",
    "        out = \"[\"\n",
    "        curr = self.first\n",
    "        while curr:\n",
    "            out += str(curr) + \", \"\n",
    "            curr = curr.next\n",
    "        return out[:-2] + \"]\""
   ]
  },
  {
   "cell_type": "code",
   "execution_count": 6,
   "metadata": {},
   "outputs": [
    {
     "data": {
      "text/plain": [
       "[1, 2, 3]"
      ]
     },
     "execution_count": 6,
     "metadata": {},
     "output_type": "execute_result"
    }
   ],
   "source": [
    "lst = LinkedList()\n",
    "lst.first = node1\n",
    "lst"
   ]
  },
  {
   "cell_type": "markdown",
   "metadata": {},
   "source": [
    "Iterating the list, as done is `__repr__`, can be done by advancing the current node to the next untill reaching a `None`:\n",
    "\n",
    "![Iterating a linked list](http://greenteapress.com/thinkpython/html/illustrations/link3.png)\n",
    "\n",
    "Now we will implement some more methods:"
   ]
  },
  {
   "cell_type": "code",
   "execution_count": 7,
   "metadata": {},
   "outputs": [],
   "source": [
    "class LinkedList:\n",
    "    def __init__(self):\n",
    "        self.first = None\n",
    "\n",
    "    def __repr__(self):\n",
    "        out = \"[\"\n",
    "        curr = self.first\n",
    "        while curr:\n",
    "            out += str(curr) + \", \"\n",
    "            curr = curr.next\n",
    "        return out[:-2] + \"]\"\n",
    "        \n",
    "    def length(self):\n",
    "        curr = self.first\n",
    "        i = 0\n",
    "        while curr:\n",
    "            i += 1\n",
    "            curr = curr.next\n",
    "        return i\n",
    "            \n",
    "    def prepend(self, value):\n",
    "        node = Node(value)\n",
    "        if not self.first:\n",
    "            self.first = node\n",
    "        else:\n",
    "            self.first, node.next = node, self.first\n",
    "    \n",
    "    def append(self, value):\n",
    "        node = Node(value)\n",
    "        curr = self.first\n",
    "        if not curr:\n",
    "            self.first = node\n",
    "        else:\n",
    "            while curr.next:\n",
    "                curr = curr.next\n",
    "            curr.next = node\n",
    "\n",
    "    def insert(self, index, value):\n",
    "        curr = self.first\n",
    "        for i in range(index - 1):\n",
    "            if not curr or not curr.next:\n",
    "                raise IndexError()\n",
    "            curr = curr.next\n",
    "        node = Node(value)\n",
    "        curr.next, node.next = node, curr.next\n",
    "\n",
    "    def remove(self, index):\n",
    "        curr = self.first\n",
    "        # iterate to the one before the one to be removed\n",
    "        for i in range(index - 1):\n",
    "            if not curr or not curr.next:\n",
    "                raise IndexError\n",
    "            curr = curr.next\n",
    "        curr.next = curr.next.next\n",
    "            \n",
    "    def get(self, index):\n",
    "        curr = self.first\n",
    "        for i in range(index):\n",
    "            if not curr or not curr.next:\n",
    "                raise IndexError\n",
    "            curr = curr.next\n",
    "        return curr.value\n",
    "            \n",
    "    def index(self, value):\n",
    "        curr = self.first\n",
    "        i = 0\n",
    "        while curr:\n",
    "            if curr.value == value:\n",
    "                return i\n",
    "            curr = curr.next\n",
    "            i += 1\n",
    "        raise ValueError()"
   ]
  },
  {
   "cell_type": "code",
   "execution_count": 8,
   "metadata": {},
   "outputs": [
    {
     "name": "stdout",
     "output_type": "stream",
     "text": [
      "[1, 2, 3]\n",
      "3\n",
      "[0, 1, 2, 3]\n",
      "[0, 1, 2, 3, 4]\n",
      "[0, 1, 1.5, 2, 3, 4]\n",
      "[0, 1, 2, 3, 4]\n",
      "2\n",
      "2\n"
     ]
    }
   ],
   "source": [
    "node1 = Node(1)\n",
    "node2 = Node(2)\n",
    "node1.next = node2\n",
    "node3 = Node(3)\n",
    "node2.next = node3\n",
    "lst = LinkedList()\n",
    "lst.first = node1\n",
    "\n",
    "print(lst)\n",
    "print(lst.length())\n",
    "lst.prepend(0)\n",
    "print(lst)\n",
    "lst.append(4)\n",
    "print(lst)\n",
    "lst.insert(2, 1.5)\n",
    "print(lst)\n",
    "lst.remove(2)\n",
    "print(lst)\n",
    "print(lst.get(2))\n",
    "print(lst.index(2))"
   ]
  },
  {
   "cell_type": "markdown",
   "metadata": {},
   "source": [
    "### Reverse\n",
    "\n",
    "We want to reverse a linked list. We implement this as a mehtod just so we don't copy-paste the entire code from above - this can and should be a method."
   ]
  },
  {
   "cell_type": "code",
   "execution_count": 9,
   "metadata": {},
   "outputs": [],
   "source": [
    "def reverse(lst):\n",
    "    prev = None\n",
    "    curr = lst.first\n",
    "    while curr:\n",
    "        curr.next, prev, curr = prev, curr, curr.next\n",
    "    lst.first = prev"
   ]
  },
  {
   "cell_type": "code",
   "execution_count": 10,
   "metadata": {},
   "outputs": [
    {
     "name": "stdout",
     "output_type": "stream",
     "text": [
      "[0, 1, 2, 3, 4]\n",
      "[4, 3, 2, 1, 0]\n"
     ]
    }
   ],
   "source": [
    "print(lst)\n",
    "reverse(lst)\n",
    "print(lst)"
   ]
  },
  {
   "cell_type": "markdown",
   "metadata": {},
   "source": [
    "https://blog.csdn.net/qq_42351880/article/details/88637387"
   ]
  },
  {
   "cell_type": "markdown",
   "metadata": {},
   "source": [
    "## 2. Queue 队列\n",
    "\n",
    "We want to have a first-in-first-out (FIFO) data structure so that we can:\n",
    "\n",
    "-\tpush/enqueue: insert an element to the top of the queue\n",
    "-\tpop/dequeue: remove an element from the bottom of the queue\n",
    "\n",
    "How do our current ordered data structure deal with these tasks?\n",
    "\n",
    "- hashtable\n",
    "- list\n",
    "- linked list\n",
    "\n",
    "Lets try it. \n",
    "\n",
    "With a `list` implementation `push` and `pop` must be $O(1)$ and $O(n)$ or vice versa, as `append` and `pop()` are $O(1)$ but `insert(0)` and `pop(0)` are $O(n)$.\n",
    "\n",
    "We will implement it so that `push` is cheap:"
   ]
  },
  {
   "cell_type": "code",
   "execution_count": 11,
   "metadata": {},
   "outputs": [
    {
     "name": "stdout",
     "output_type": "stream",
     "text": [
      "1\n"
     ]
    },
    {
     "data": {
      "text/plain": [
       "[2, 3]"
      ]
     },
     "execution_count": 11,
     "metadata": {},
     "output_type": "execute_result"
    }
   ],
   "source": [
    "class QueueList:\n",
    "    def __init__(self):\n",
    "        self.lst = []\n",
    "    \n",
    "    def __repr__(self):\n",
    "        return self.lst.__repr__()\n",
    "\n",
    "    def push(self, value):\n",
    "        self.lst.append(Node(value))\n",
    "\n",
    "    def pop(self):\n",
    "        return self.lst.pop(0)\n",
    "\n",
    "q1 = QueueList()\n",
    "q1.push(1)\n",
    "q1.push(2)\n",
    "q1.push(3)\n",
    "print(q1.pop())\n",
    "q1"
   ]
  },
  {
   "cell_type": "markdown",
   "metadata": {},
   "source": [
    "With a linked list it's the other way around - `prepend` and `remove(0)` are $O(1)$ but `append` and `remove(-1)` are $O(n)$. We will push to the head so that we get a cheap push:"
   ]
  },
  {
   "cell_type": "code",
   "execution_count": 12,
   "metadata": {},
   "outputs": [
    {
     "name": "stdout",
     "output_type": "stream",
     "text": [
      "1\n"
     ]
    },
    {
     "data": {
      "text/plain": [
       "[3, 2]"
      ]
     },
     "execution_count": 12,
     "metadata": {},
     "output_type": "execute_result"
    }
   ],
   "source": [
    "class QueueLinkedList: \n",
    "    def __init__(self): \n",
    "        self.head = None \n",
    "\n",
    "    def __repr__(self):\n",
    "        out = \"[\"\n",
    "        curr = self.head\n",
    "        while curr:\n",
    "            out += str(curr) + \", \"\n",
    "            curr = curr.next\n",
    "        return out[:-2] + \"]\"\n",
    "\n",
    "    def push(self, value): \n",
    "        node = Node(value)\n",
    "        if self.head == None:\n",
    "            self.head = node\n",
    "        else:\n",
    "            self.head, node.next = node, self.head\n",
    "  \n",
    "    def pop(self):\n",
    "        if self.head != None:\n",
    "            curr, prev = self.head, None\n",
    "            while curr.next:\n",
    "                curr, prev = curr.next, curr\n",
    "            prev.next = None\n",
    "            return curr.value\n",
    "\n",
    "q2 = QueueLinkedList()\n",
    "q2.push(1)\n",
    "q2.push(2)\n",
    "q2.push(3)\n",
    "print(q2.pop())\n",
    "q2"
   ]
  },
  {
   "cell_type": "markdown",
   "metadata": {},
   "source": [
    "Lets check performence:"
   ]
  },
  {
   "cell_type": "code",
   "execution_count": 13,
   "metadata": {},
   "outputs": [],
   "source": [
    "q1 = QueueList()\n",
    "q2 = QueueLinkedList()\n",
    "for i in range(10**5): \n",
    "    q1.push(1)\n",
    "    q2.push(1)"
   ]
  },
  {
   "cell_type": "code",
   "execution_count": 20,
   "metadata": {},
   "outputs": [
    {
     "name": "stdout",
     "output_type": "stream",
     "text": [
      "100 loops, best of 3: 1.12 us per loop\n",
      "100 loops, best of 3: 1.37 us per loop\n"
     ]
    }
   ],
   "source": [
    "%timeit -n 100 q1.push(1)\n",
    "%timeit -n 100 q2.push(1)"
   ]
  },
  {
   "cell_type": "code",
   "execution_count": 21,
   "metadata": {},
   "outputs": [
    {
     "name": "stdout",
     "output_type": "stream",
     "text": [
      "100 loops, best of 3: 68.3 us per loop\n",
      "100 loops, best of 3: 23.1 ms per loop\n"
     ]
    }
   ],
   "source": [
    "%timeit -n 100 q1.pop()\n",
    "%timeit -n 100 q2.pop()"
   ]
  },
  {
   "cell_type": "markdown",
   "metadata": {},
   "source": [
    "So indeed `push` is cheap and `pop` is expensive, much more so in the linked list because `list` is implemented in C."
   ]
  },
  {
   "cell_type": "markdown",
   "metadata": {},
   "source": [
    "We want a data structure where both `push` and `pop` are $O(1)$.\n",
    "\n",
    "- linked list with tail reference!\n",
    "\n",
    "We will keep track of the `head` and the `tail` and so both `push` and `pop` can be $O(1)$:"
   ]
  },
  {
   "cell_type": "code",
   "execution_count": 14,
   "metadata": {},
   "outputs": [
    {
     "name": "stdout",
     "output_type": "stream",
     "text": [
      "1\n"
     ]
    },
    {
     "data": {
      "text/plain": [
       "[2, 3]"
      ]
     },
     "execution_count": 14,
     "metadata": {},
     "output_type": "execute_result"
    }
   ],
   "source": [
    "class TailedQueueLinkedList: \n",
    "    def __init__(self): \n",
    "        self.head   = None \n",
    "        self.tail   = None \n",
    "\n",
    "    def __repr__(self):\n",
    "        out = \"[\"\n",
    "        curr = self.head\n",
    "        while curr:\n",
    "            out += str(curr) + \", \"\n",
    "            curr = curr.next\n",
    "        if len(out) > 2:\n",
    "            out = out[:-2]\n",
    "        return out + \"]\"\n",
    "\n",
    "    def push(self, value): \n",
    "        node = Node(value)\n",
    "        if self.head == None:\n",
    "            # empty queue\n",
    "            self.head, self.tail = node, node\n",
    "        else:\n",
    "            # push to the tail. can you think of a way to push from the head? where will you pop from?\n",
    "            self.tail.next, self.tail = node, node\n",
    "\n",
    "    def pop(self):\n",
    "        # pop from the head\n",
    "        if self.head != None:\n",
    "            node = self.head\n",
    "            self.head = self.head.next    \n",
    "            return node.value\n",
    "\n",
    "q3 = TailedQueueLinkedList()\n",
    "q3.push(1)\n",
    "q3.push(2)\n",
    "q3.push(3)\n",
    "print(q3.pop())\n",
    "q3"
   ]
  },
  {
   "cell_type": "code",
   "execution_count": 41,
   "metadata": {},
   "outputs": [],
   "source": [
    "q1 = QueueList()\n",
    "q2 = QueueLinkedList()\n",
    "q3 = TailedQueueLinkedList()\n",
    "for i in range(10**5): \n",
    "    q1.push(1)\n",
    "    q2.push(1)\n",
    "    q3.push(1)"
   ]
  },
  {
   "cell_type": "code",
   "execution_count": 42,
   "metadata": {},
   "outputs": [
    {
     "name": "stdout",
     "output_type": "stream",
     "text": [
      "100 loops, best of 3: 1.13 us per loop\n",
      "100 loops, best of 3: 1.38 us per loop\n",
      "100 loops, best of 3: 1.37 us per loop\n"
     ]
    }
   ],
   "source": [
    "%timeit -n 100 q1.push(1)\n",
    "%timeit -n 100 q2.push(1)\n",
    "%timeit -n 100 q3.push(1)"
   ]
  },
  {
   "cell_type": "code",
   "execution_count": 43,
   "metadata": {
    "scrolled": true
   },
   "outputs": [
    {
     "name": "stdout",
     "output_type": "stream",
     "text": [
      "100 loops, best of 3: 68.5 us per loop\n",
      "100 loops, best of 3: 24.9 ms per loop\n",
      "100 loops, best of 3: 1.04 us per loop\n"
     ]
    }
   ],
   "source": [
    "%timeit -n 100 q1.pop()\n",
    "%timeit -n 100 q2.pop()\n",
    "%timeit -n 100 q3.pop()"
   ]
  },
  {
   "cell_type": "markdown",
   "metadata": {},
   "source": [
    "And indeed the tailed linked list keeps a low time for both `push` and `pop`."
   ]
  },
  {
   "cell_type": "markdown",
   "metadata": {},
   "source": [
    "## 树和迷宫"
   ]
  },
  {
   "cell_type": "markdown",
   "metadata": {},
   "source": [
    "https://blog.csdn.net/Eyizoha/article/details/89407054"
   ]
  },
  {
   "cell_type": "markdown",
   "metadata": {},
   "source": [
    "https://www.jianshu.com/p/9503238394df"
   ]
  },
  {
   "cell_type": "markdown",
   "metadata": {},
   "source": [
    "# Iterators 迭代器\n",
    "\n",
    "We want to be able to do:\n",
    "\n",
    "    for element in seq:\n",
    "        ...\n",
    "\n",
    "`seq` must be iterable -> must have a method named `__iter__`."
   ]
  },
  {
   "cell_type": "code",
   "execution_count": 2,
   "metadata": {},
   "outputs": [],
   "source": [
    "class A:\n",
    "    def __init__(self):\n",
    "        self.values = [1,2,3,4]\n",
    "\n",
    "    def __repr__(self):\n",
    "        return str(self.values)"
   ]
  },
  {
   "cell_type": "code",
   "execution_count": 3,
   "metadata": {},
   "outputs": [
    {
     "data": {
      "text/plain": [
       "[1, 2, 3, 4]"
      ]
     },
     "execution_count": 3,
     "metadata": {},
     "output_type": "execute_result"
    }
   ],
   "source": [
    "a = A()\n",
    "a"
   ]
  },
  {
   "cell_type": "code",
   "execution_count": 15,
   "metadata": {},
   "outputs": [
    {
     "ename": "TypeError",
     "evalue": "'A' object is not iterable",
     "output_type": "error",
     "traceback": [
      "\u001b[0;31m---------------------------------------------------------------------------\u001b[0m",
      "\u001b[0;31mTypeError\u001b[0m                                 Traceback (most recent call last)",
      "\u001b[0;32m<ipython-input-15-fd4a5f4cdab6>\u001b[0m in \u001b[0;36m<module>\u001b[0;34m\u001b[0m\n\u001b[0;32m----> 1\u001b[0;31m \u001b[0;32mfor\u001b[0m \u001b[0mx\u001b[0m \u001b[0;32min\u001b[0m \u001b[0ma\u001b[0m\u001b[0;34m:\u001b[0m\u001b[0;34m\u001b[0m\u001b[0m\n\u001b[0m\u001b[1;32m      2\u001b[0m     \u001b[0mprint\u001b[0m\u001b[0;34m(\u001b[0m\u001b[0mx\u001b[0m\u001b[0;34m)\u001b[0m\u001b[0;34m\u001b[0m\u001b[0m\n",
      "\u001b[0;31mTypeError\u001b[0m: 'A' object is not iterable"
     ]
    }
   ],
   "source": [
    "for x in a:\n",
    "    print(x)"
   ]
  },
  {
   "cell_type": "markdown",
   "metadata": {},
   "source": [
    "###  可迭代 iterable 包含iter"
   ]
  },
  {
   "cell_type": "code",
   "execution_count": 23,
   "metadata": {},
   "outputs": [],
   "source": [
    "class A:\n",
    "    ''' using the built-in iterator of list '''\n",
    "    def __init__(self):\n",
    "        self.values = [1,2,3,4]\n",
    "\n",
    "    def __repr__(self):\n",
    "        return str(self.values)\n",
    "\n",
    "    def __iter__(self): #now A is iterable\n",
    "        return iter(self.values) \t#returns the iterator class of a list"
   ]
  },
  {
   "cell_type": "markdown",
   "metadata": {},
   "source": [
    "可以for迭代"
   ]
  },
  {
   "cell_type": "code",
   "execution_count": 24,
   "metadata": {},
   "outputs": [
    {
     "name": "stdout",
     "output_type": "stream",
     "text": [
      "1\n",
      "2\n",
      "3\n",
      "4\n"
     ]
    }
   ],
   "source": [
    "a = A()\n",
    "for x in a:\n",
    "    print(x)"
   ]
  },
  {
   "cell_type": "markdown",
   "metadata": {},
   "source": [
    "也可以强转列表"
   ]
  },
  {
   "cell_type": "code",
   "execution_count": 25,
   "metadata": {},
   "outputs": [
    {
     "data": {
      "text/plain": [
       "[1, 2, 3, 4]"
      ]
     },
     "execution_count": 25,
     "metadata": {},
     "output_type": "execute_result"
    }
   ],
   "source": [
    "list(iter(a))"
   ]
  },
  {
   "cell_type": "markdown",
   "metadata": {},
   "source": [
    "但是还不可以用next迭代"
   ]
  },
  {
   "cell_type": "code",
   "execution_count": 22,
   "metadata": {},
   "outputs": [
    {
     "ename": "TypeError",
     "evalue": "'A' object is not an iterator",
     "output_type": "error",
     "traceback": [
      "\u001b[0;31m---------------------------------------------------------------------------\u001b[0m",
      "\u001b[0;31mTypeError\u001b[0m                                 Traceback (most recent call last)",
      "\u001b[0;32m<ipython-input-22-15841f3f11d4>\u001b[0m in \u001b[0;36m<module>\u001b[0;34m\u001b[0m\n\u001b[0;32m----> 1\u001b[0;31m \u001b[0mnext\u001b[0m\u001b[0;34m(\u001b[0m\u001b[0ma\u001b[0m\u001b[0;34m)\u001b[0m\u001b[0;34m\u001b[0m\u001b[0m\n\u001b[0m",
      "\u001b[0;31mTypeError\u001b[0m: 'A' object is not an iterator"
     ]
    }
   ],
   "source": [
    "next(a)"
   ]
  },
  {
   "cell_type": "markdown",
   "metadata": {},
   "source": [
    "### 迭代器 iterator 包含iter和next"
   ]
  },
  {
   "cell_type": "code",
   "execution_count": 4,
   "metadata": {},
   "outputs": [],
   "source": [
    "class B:\n",
    "    ''' using our own iterator class: BIterator '''\n",
    "    def __init__(self):\n",
    "        self.values = [1,2,3,4]\n",
    "        self.counts = [3,4,0,1]\n",
    "\n",
    "    def __repr__(self):\n",
    "        return str(self.values) + \"\\n\" + str(self.count)\n",
    "    \n",
    "    def __iter__(self):\n",
    "        return BIterator(self.values, self.counts)\n",
    "\n",
    "class BIterator():\n",
    "    ''' iterator of B, must have __next__ '''\n",
    "    def __init__(self, values, counts):\n",
    "        self.index = 0\n",
    "        self.lst = [values[i] for i in range(len(values)) for j in range(counts[i])]\n",
    "        \n",
    "    def __next__(self):\n",
    "        if self.index < len(self.lst):\n",
    "            res = self.lst[self.index]\n",
    "            self.index += 1\n",
    "            return res\n",
    "        raise StopIteration"
   ]
  },
  {
   "cell_type": "code",
   "execution_count": 7,
   "metadata": {},
   "outputs": [
    {
     "name": "stdout",
     "output_type": "stream",
     "text": [
      "1, 1, 1, 2, 2, 2, 2, 4, "
     ]
    }
   ],
   "source": [
    "b = B()\n",
    "for x in b:\n",
    "    print(x, end=\", \")"
   ]
  },
  {
   "cell_type": "markdown",
   "metadata": {},
   "source": [
    "斐波那契迭代器"
   ]
  },
  {
   "cell_type": "code",
   "execution_count": 41,
   "metadata": {
    "collapsed": true
   },
   "outputs": [],
   "source": [
    "class fibb:\n",
    "    def __init__(self):\n",
    "        self.prev = 0\n",
    "        self.curr = 1\n",
    " \n",
    "    def __iter__(self):\n",
    "        return self\n",
    " \n",
    "    def __next__(self):\n",
    "        value = self.curr\n",
    "        self.curr += self.prev\n",
    "        self.prev = value\n",
    "        return value"
   ]
  },
  {
   "cell_type": "code",
   "execution_count": 42,
   "metadata": {},
   "outputs": [
    {
     "name": "stdout",
     "output_type": "stream",
     "text": [
      "1 1 2 3 5 8 13 21 34 55 89 144 233 377 610 987 "
     ]
    }
   ],
   "source": [
    "f = fibb()\n",
    "for i in f:\n",
    "    if i>1000:\n",
    "        break\n",
    "    else:\n",
    "        print(i,end = \" \")"
   ]
  },
  {
   "cell_type": "markdown",
   "metadata": {},
   "source": [
    "### 内置iter函数  将容器变为迭代器"
   ]
  },
  {
   "cell_type": "code",
   "execution_count": 13,
   "metadata": {},
   "outputs": [],
   "source": [
    "a = [1,2,3,4,5]\n",
    "b = iter(a)"
   ]
  },
  {
   "cell_type": "code",
   "execution_count": 19,
   "metadata": {},
   "outputs": [
    {
     "ename": "StopIteration",
     "evalue": "",
     "output_type": "error",
     "traceback": [
      "\u001b[1;31m---------------------------------------------------------------------------\u001b[0m",
      "\u001b[1;31mStopIteration\u001b[0m                             Traceback (most recent call last)",
      "\u001b[1;32m<ipython-input-19-adb3e17b0219>\u001b[0m in \u001b[0;36m<module>\u001b[1;34m\u001b[0m\n\u001b[1;32m----> 1\u001b[1;33m \u001b[0mnext\u001b[0m\u001b[1;33m(\u001b[0m\u001b[0mb\u001b[0m\u001b[1;33m)\u001b[0m\u001b[1;33m\u001b[0m\u001b[1;33m\u001b[0m\u001b[0m\n\u001b[0m",
      "\u001b[1;31mStopIteration\u001b[0m: "
     ]
    }
   ],
   "source": [
    "next(b)"
   ]
  },
  {
   "cell_type": "code",
   "execution_count": 32,
   "metadata": {},
   "outputs": [
    {
     "name": "stdout",
     "output_type": "stream",
     "text": [
      "1\n",
      "2\n",
      "3\n",
      "4\n",
      "5\n"
     ]
    }
   ],
   "source": [
    "for i in b:\n",
    "    print(i)"
   ]
  },
  {
   "cell_type": "code",
   "execution_count": 35,
   "metadata": {},
   "outputs": [
    {
     "data": {
      "text/plain": [
       "1"
      ]
     },
     "execution_count": 35,
     "metadata": {},
     "output_type": "execute_result"
    }
   ],
   "source": [
    "next(b)"
   ]
  },
  {
   "cell_type": "code",
   "execution_count": 53,
   "metadata": {},
   "outputs": [
    {
     "name": "stdout",
     "output_type": "stream",
     "text": [
      "1\n",
      "2\n",
      "3\n",
      "4\n"
     ]
    }
   ],
   "source": [
    "c = iter(a)\n",
    "print(next(c))\n",
    "print(next(c))\n",
    "print(next(c))\n",
    "print(next(c))"
   ]
  },
  {
   "cell_type": "markdown",
   "metadata": {},
   "source": [
    "range 不是迭代器 他是惰性可迭代对象"
   ]
  },
  {
   "cell_type": "code",
   "execution_count": 11,
   "metadata": {
    "collapsed": true
   },
   "outputs": [
    {
     "data": {
      "text/plain": [
       "['__class__',\n",
       " '__delattr__',\n",
       " '__dict__',\n",
       " '__dir__',\n",
       " '__doc__',\n",
       " '__eq__',\n",
       " '__format__',\n",
       " '__ge__',\n",
       " '__getattribute__',\n",
       " '__gt__',\n",
       " '__hash__',\n",
       " '__init__',\n",
       " '__init_subclass__',\n",
       " '__le__',\n",
       " '__lt__',\n",
       " '__module__',\n",
       " '__ne__',\n",
       " '__new__',\n",
       " '__next__',\n",
       " '__reduce__',\n",
       " '__reduce_ex__',\n",
       " '__repr__',\n",
       " '__setattr__',\n",
       " '__sizeof__',\n",
       " '__str__',\n",
       " '__subclasshook__',\n",
       " '__weakref__']"
      ]
     },
     "execution_count": 11,
     "metadata": {},
     "output_type": "execute_result"
    }
   ],
   "source": [
    "dir(BIterator)"
   ]
  },
  {
   "cell_type": "code",
   "execution_count": 2,
   "metadata": {},
   "outputs": [
    {
     "data": {
      "text/plain": [
       "range"
      ]
     },
     "execution_count": 2,
     "metadata": {},
     "output_type": "execute_result"
    }
   ],
   "source": [
    "type(range(5))"
   ]
  },
  {
   "cell_type": "code",
   "execution_count": 3,
   "metadata": {},
   "outputs": [
    {
     "data": {
      "text/plain": [
       "['__bool__',\n",
       " '__class__',\n",
       " '__contains__',\n",
       " '__delattr__',\n",
       " '__dir__',\n",
       " '__doc__',\n",
       " '__eq__',\n",
       " '__format__',\n",
       " '__ge__',\n",
       " '__getattribute__',\n",
       " '__getitem__',\n",
       " '__gt__',\n",
       " '__hash__',\n",
       " '__init__',\n",
       " '__init_subclass__',\n",
       " '__iter__',\n",
       " '__le__',\n",
       " '__len__',\n",
       " '__lt__',\n",
       " '__ne__',\n",
       " '__new__',\n",
       " '__reduce__',\n",
       " '__reduce_ex__',\n",
       " '__repr__',\n",
       " '__reversed__',\n",
       " '__setattr__',\n",
       " '__sizeof__',\n",
       " '__str__',\n",
       " '__subclasshook__',\n",
       " 'count',\n",
       " 'index',\n",
       " 'start',\n",
       " 'step',\n",
       " 'stop']"
      ]
     },
     "execution_count": 3,
     "metadata": {},
     "output_type": "execute_result"
    }
   ],
   "source": [
    "dir(range)"
   ]
  },
  {
   "cell_type": "markdown",
   "metadata": {},
   "source": [
    "## 4. Generators 生成器\n",
    "\n",
    "Instead a separate class for the iterator, `__iter__` can use `yield`.\n",
    "\n",
    "This is called a **generator** (as it generates an iterator):"
   ]
  },
  {
   "cell_type": "code",
   "execution_count": 76,
   "metadata": {},
   "outputs": [],
   "source": [
    "class C:\n",
    "    ''' a generator example using yield '''\n",
    "    \n",
    "    def __init__(self):\n",
    "        self.values = [1,2,3,4]\n",
    "        self.counts = [3,4,0,1]\n",
    "\n",
    "    def __repr__(self):\n",
    "        return str(self.values) + \"\\n\" + str(self.count)\n",
    "    \n",
    "    def __iter__(self):\n",
    "        for i in range(len(self.values)):\n",
    "            for j in range(self.counts[i]):\n",
    "                yield self.values[i]"
   ]
  },
  {
   "cell_type": "code",
   "execution_count": 78,
   "metadata": {},
   "outputs": [
    {
     "name": "stdout",
     "output_type": "stream",
     "text": [
      "1, 1, 1, 2, 2, 2, 2, 4, "
     ]
    }
   ],
   "source": [
    "c = C()\n",
    "for x in c:\n",
    "    print(x, end=\", \")"
   ]
  },
  {
   "cell_type": "markdown",
   "metadata": {},
   "source": [
    "Generators involve lazy evaluation – one element is created at a time.\n",
    "\n",
    "`range` is a generator we already know. Lets compare `range` with `list(range)`:"
   ]
  },
  {
   "cell_type": "code",
   "execution_count": 3,
   "metadata": {},
   "outputs": [],
   "source": [
    "for i in list(range(10**8)):\n",
    "    pass"
   ]
  },
  {
   "cell_type": "code",
   "execution_count": 4,
   "metadata": {},
   "outputs": [],
   "source": [
    "for i in range(10**8):\n",
    "    pass"
   ]
  },
  {
   "cell_type": "markdown",
   "metadata": {},
   "source": [
    "![List vs Generator](https://raw.github.com/yoavram/CS1001.py/master/list_vs_generator.png)\n",
    "\n",
    "If you want to try this at home, you need to run this while having a process monitor tool open (Windows: Task Manager, Linux: top):"
   ]
  },
  {
   "cell_type": "markdown",
   "metadata": {},
   "source": [
    "You can also use generators to run an \"infinite\" for loop.\n",
    "\n",
    "Suppose you want to iterate the natural numbers:"
   ]
  },
  {
   "cell_type": "code",
   "execution_count": 6,
   "metadata": {},
   "outputs": [],
   "source": [
    "def natural_numbers():\n",
    "    n = 0\n",
    "    while True:\n",
    "        n += 1\n",
    "        yield n"
   ]
  },
  {
   "cell_type": "code",
   "execution_count": 9,
   "metadata": {},
   "outputs": [
    {
     "name": "stdout",
     "output_type": "stream",
     "text": [
      "510922\n"
     ]
    }
   ],
   "source": [
    "for n in natural_numbers():\n",
    "    if n % 667 == 0 and n**2 % 766 == 0:\n",
    "        break\n",
    "print(n)"
   ]
  },
  {
   "cell_type": "markdown",
   "metadata": {},
   "source": [
    "You can also use \"generator compehension\" instead of \"list comprehension\" to save memory and to perform lazy init to save runtime because you know you won't use all of them:"
   ]
  },
  {
   "cell_type": "code",
   "execution_count": 21,
   "metadata": {},
   "outputs": [
    {
     "name": "stdout",
     "output_type": "stream",
     "text": [
      "3 loops, best of 3: 637 ms per loop\n"
     ]
    }
   ],
   "source": [
    "evens_less_than_1e6_list = [x for x in range(1, 10**6) if x % 2 == 0]\n",
    "%timeit -n 3 [x for x in range(1, 10**6) if x % 2 == 0]"
   ]
  },
  {
   "cell_type": "code",
   "execution_count": 22,
   "metadata": {},
   "outputs": [
    {
     "name": "stdout",
     "output_type": "stream",
     "text": [
      "3 loops, best of 3: 6.64 us per loop\n"
     ]
    }
   ],
   "source": [
    "evens_less_than_1e6_generator = (x for x in range(1, 10**6) if x % 2 == 0)\n",
    "%timeit -n 3 (x for x in range(1, 10**6) if x % 2 == 0)"
   ]
  },
  {
   "cell_type": "code",
   "execution_count": 32,
   "metadata": {},
   "outputs": [
    {
     "data": {
      "text/plain": [
       "(4290016, 72)"
      ]
     },
     "execution_count": 32,
     "metadata": {},
     "output_type": "execute_result"
    }
   ],
   "source": [
    "import sys\n",
    "sys.getsizeof(evens_less_than_1e6_list), sys.getsizeof(evens_less_than_1e6_generator)"
   ]
  },
  {
   "cell_type": "code",
   "execution_count": null,
   "metadata": {},
   "outputs": [],
   "source": []
  },
  {
   "cell_type": "markdown",
   "metadata": {},
   "source": [
    "## 生成器表达式\n",
    "\n",
    "**建议多使用生成式**"
   ]
  },
  {
   "cell_type": "code",
   "execution_count": 20,
   "metadata": {},
   "outputs": [],
   "source": [
    "def isP(x):\n",
    "    for i in range(x-1,1,-1):\n",
    "        if x%i == 0:\n",
    "            return False\n",
    "    return True\n",
    "\n",
    "g = (i for i in range(2,101) if isP(i))"
   ]
  },
  {
   "cell_type": "code",
   "execution_count": 37,
   "metadata": {
    "collapsed": true
   },
   "outputs": [],
   "source": [
    "#sum(g)"
   ]
  },
  {
   "cell_type": "code",
   "execution_count": 21,
   "metadata": {},
   "outputs": [
    {
     "name": "stdout",
     "output_type": "stream",
     "text": [
      "2 3 5 7 11 13 17 19 23 29 31 37 41 43 47 53 59 61 67 71 73 79 83 89 97 "
     ]
    }
   ],
   "source": [
    "for i in g:\n",
    "    print(i,end = \" \")"
   ]
  },
  {
   "cell_type": "code",
   "execution_count": 22,
   "metadata": {},
   "outputs": [
    {
     "data": {
      "text/plain": [
       "0"
      ]
     },
     "execution_count": 22,
     "metadata": {},
     "output_type": "execute_result"
    }
   ],
   "source": [
    "sum(g)"
   ]
  },
  {
   "cell_type": "markdown",
   "metadata": {},
   "source": [
    "第二次求g的sum时 g已经生成完毕 火箭发射完毕抛弃壳子了 啥都没了 所以求和不会得到结果"
   ]
  },
  {
   "cell_type": "markdown",
   "metadata": {},
   "source": [
    "## 生成器函数"
   ]
  },
  {
   "cell_type": "markdown",
   "metadata": {},
   "source": [
    "有限生成器 返回一个1到100的平方序列生成器"
   ]
  },
  {
   "cell_type": "code",
   "execution_count": 1,
   "metadata": {},
   "outputs": [],
   "source": [
    "def ss():\n",
    "    for i in range(1,101):\n",
    "        yield i*i"
   ]
  },
  {
   "cell_type": "code",
   "execution_count": 4,
   "metadata": {},
   "outputs": [
    {
     "name": "stdout",
     "output_type": "stream",
     "text": [
      "<generator object ss at 0x7efc34dddf10>\n"
     ]
    }
   ],
   "source": [
    "print(ss())"
   ]
  },
  {
   "cell_type": "code",
   "execution_count": 6,
   "metadata": {},
   "outputs": [
    {
     "name": "stdout",
     "output_type": "stream",
     "text": [
      "1 4 9 16 25 36 49 64 81 100 121 144 169 196 225 256 289 324 361 400 441 484 529 576 625 676 729 784 841 900 961 1024 1089 1156 1225 1296 1369 1444 1521 1600 1681 1764 1849 1936 2025 2116 2209 2304 2401 2500 2601 2704 2809 2916 3025 3136 3249 3364 3481 3600 3721 3844 3969 4096 4225 4356 4489 4624 4761 4900 5041 5184 5329 5476 5625 5776 5929 6084 6241 6400 6561 6724 6889 7056 7225 7396 7569 7744 7921 8100 8281 8464 8649 8836 9025 9216 9409 9604 9801 10000 "
     ]
    }
   ],
   "source": [
    "s = ss()\n",
    "for i in s:\n",
    "    print(i,end=\" \")"
   ]
  },
  {
   "cell_type": "markdown",
   "metadata": {},
   "source": [
    "无限生成器  返回一个斐波那契数列生成器"
   ]
  },
  {
   "cell_type": "code",
   "execution_count": 47,
   "metadata": {
    "collapsed": true
   },
   "outputs": [],
   "source": [
    "def fibb():\n",
    "    p,c = 0,1\n",
    "    while True:\n",
    "        yield c\n",
    "        p,c = c,p+c"
   ]
  },
  {
   "cell_type": "code",
   "execution_count": 48,
   "metadata": {
    "scrolled": true
   },
   "outputs": [
    {
     "name": "stdout",
     "output_type": "stream",
     "text": [
      "1 1 2 3 5 8 13 21 34 55 89 144 233 377 610 987 "
     ]
    }
   ],
   "source": [
    "f = fibb()\n",
    "for i in f:\n",
    "    if i>1000:\n",
    "        break\n",
    "    else:\n",
    "        print(i,end = \" \")"
   ]
  },
  {
   "cell_type": "code",
   "execution_count": null,
   "metadata": {},
   "outputs": [],
   "source": [
    "def fib_yield_while(max):\n",
    "    '''斐波那契数列生成器'''\n",
    "  \ta, b = 0, 1\n",
    "  \twhile max > 0:\n",
    "    \ta, b = b, a+b\n",
    "    \tmax -= 1\n",
    "    \tyield a\n",
    "        \n",
    "def fib_yield_for(n):\n",
    "    a, b = 0, 1\n",
    "    for _ in range(n):\n",
    "        a, b = b, a + b\n",
    "        yield a\n",
    "\n",
    "for i in fib_yield_for(10):\n",
    "    print(i, end=' ')"
   ]
  },
  {
   "cell_type": "code",
   "execution_count": null,
   "metadata": {},
   "outputs": [],
   "source": [
    "class Fibonacci(object):\n",
    "    \"\"\"斐波那契数列迭代器\"\"\"\n",
    "\n",
    "    def __init__(self, n):\n",
    "        \"\"\"\n",
    "        :param n:int 指 生成数列的个数\n",
    "        \"\"\"\n",
    "        self.n = n\n",
    "        # 保存当前生成到的数据列的第几个数据，生成器中性质，记录位置，下一个位置的数据\n",
    "        self.current = 0\n",
    "        # 两个初始值\n",
    "        self.a = 0\n",
    "        self.b = 1\n",
    "\n",
    "    def __next__(self):\n",
    "        \"\"\"当使用next()函数调用时，就会获取下一个数\"\"\"\n",
    "        if self.current < self.n:\n",
    "            self.a, self.b = self.b, self.a + self.b\n",
    "            self.current += 1\n",
    "            return self.a\n",
    "        else:\n",
    "            raise StopIteration\n",
    "\n",
    "    def __iter__(self):\n",
    "        \"\"\"迭代器的__iter__ 返回自身即可\"\"\"\n",
    "        return self\n",
    "\n",
    "\n",
    "if __name__ == '__main__':\n",
    "    fib = Fibonacci(15)\n",
    "    for num in fib:\n",
    "        print(num)"
   ]
  },
  {
   "attachments": {
    "image.png": {
     "image/png": "[encoded data removed]"
    }
   },
   "cell_type": "markdown",
   "metadata": {},
   "source": [
    "![image.png](attachment:image.png)"
   ]
  },
  {
   "cell_type": "code",
   "execution_count": 2,
   "metadata": {
    "collapsed": true
   },
   "outputs": [
    {
     "name": "stdout",
     "output_type": "stream",
     "text": [
      "1\n",
      "1\n",
      "2\n",
      "3\n",
      "5\n",
      "8\n",
      "13\n",
      "21\n",
      "34\n",
      "55\n",
      "89\n",
      "144\n",
      "233\n",
      "377\n",
      "610\n",
      "987\n",
      "1597\n",
      "2584\n",
      "4181\n",
      "6765\n",
      "10946\n",
      "17711\n",
      "28657\n",
      "46368\n",
      "75025\n",
      "121393\n",
      "196418\n",
      "317811\n",
      "514229\n",
      "832040\n",
      "1346269\n",
      "2178309\n",
      "3524578\n",
      "5702887\n",
      "9227465\n",
      "14930352\n",
      "24157817\n",
      "39088169\n",
      "63245986\n",
      "102334155\n",
      "165580141\n",
      "267914296\n",
      "433494437\n",
      "701408733\n",
      "1134903170\n",
      "1836311903\n",
      "2971215073\n",
      "4807526976\n",
      "7778742049\n",
      "12586269025\n"
     ]
    },
    {
     "data": {
      "text/plain": [
       "[1,\n",
       " 1,\n",
       " 2,\n",
       " 3,\n",
       " 5,\n",
       " 8,\n",
       " 13,\n",
       " 21,\n",
       " 34,\n",
       " 55,\n",
       " 89,\n",
       " 144,\n",
       " 233,\n",
       " 377,\n",
       " 610,\n",
       " 987,\n",
       " 1597,\n",
       " 2584,\n",
       " 4181,\n",
       " 6765,\n",
       " 10946,\n",
       " 17711,\n",
       " 28657,\n",
       " 46368,\n",
       " 75025,\n",
       " 121393,\n",
       " 196418,\n",
       " 317811,\n",
       " 514229,\n",
       " 832040,\n",
       " 1346269,\n",
       " 2178309,\n",
       " 3524578,\n",
       " 5702887,\n",
       " 9227465,\n",
       " 14930352,\n",
       " 24157817,\n",
       " 39088169,\n",
       " 63245986,\n",
       " 102334155,\n",
       " 165580141,\n",
       " 267914296,\n",
       " 433494437,\n",
       " 701408733,\n",
       " 1134903170,\n",
       " 1836311903,\n",
       " 2971215073,\n",
       " 4807526976,\n",
       " 7778742049,\n",
       " 12586269025]"
      ]
     },
     "execution_count": 2,
     "metadata": {},
     "output_type": "execute_result"
    }
   ],
   "source": [
    "import numpy as np\n",
    "\n",
    "### 1\n",
    "def fib_matrix(n):\n",
    "    for i in range(n):\n",
    "        res = pow((np.matrix([[1, 1], [1, 0]], dtype='int64')), i) * np.matrix([[1], [0]])\n",
    "        print(int(res[0][0]))\n",
    "\n",
    "\n",
    "# 调用\n",
    "fib_matrix(50)\n",
    "\n",
    "### 2\n",
    "# 使用矩阵计算斐波那契数列\n",
    "def Fibonacci_Matrix_tool(n):\n",
    "    Matrix = np.matrix(\"1 1;1 0\", dtype='int64')\n",
    "    # 返回是matrix类型\n",
    "    return np.linalg.matrix_power(Matrix, n)\n",
    "\n",
    "def Fibonacci_Matrix(n):\n",
    "    result_list = []\n",
    "    for i in range(0, n):\n",
    "        result_list.append(np.array(Fibonacci_Matrix_tool(i))[0][0])\n",
    "    return result_list\n",
    "\n",
    "# 调用\n",
    "Fibonacci_Matrix(50)\n",
    "\n",
    "### pow 速度 比 双**号快, np.linalg.matrix_power也是一种方法"
   ]
  },
  {
   "cell_type": "markdown",
   "metadata": {},
   "source": [
    "生成一个自然数的无限生成器"
   ]
  },
  {
   "cell_type": "code",
   "execution_count": 49,
   "metadata": {
    "collapsed": true
   },
   "outputs": [],
   "source": [
    "def natural_numbers():\n",
    "    n = 0\n",
    "    while True:\n",
    "        n += 1\n",
    "        yield n"
   ]
  },
  {
   "cell_type": "markdown",
   "metadata": {},
   "source": [
    "找到5673和987的最小公倍数"
   ]
  },
  {
   "cell_type": "code",
   "execution_count": 50,
   "metadata": {},
   "outputs": [
    {
     "name": "stdout",
     "output_type": "stream",
     "text": [
      "1866417\n"
     ]
    }
   ],
   "source": [
    "for i in natural_numbers():\n",
    "    if i%5673 == 0 and i%987 == 0:\n",
    "        print(i)\n",
    "        break"
   ]
  },
  {
   "cell_type": "code",
   "execution_count": 1,
   "metadata": {},
   "outputs": [
    {
     "name": "stdout",
     "output_type": "stream",
     "text": [
      "2\n",
      "3\n",
      "add filter for all multiples of 3\n",
      "check if 5 is divisible by 3 result:  False\n",
      "5\n",
      "add filter for all multiples of 5\n",
      "check if 7 is divisible by 3 result:  False\n",
      "check if 7 is divisible by 5 result:  False\n",
      "7\n",
      "add filter for all multiples of 7\n",
      "check if 9 is divisible by 3 result:  True\n",
      "check if 11 is divisible by 3 result:  False\n",
      "check if 11 is divisible by 5 result:  False\n",
      "check if 11 is divisible by 7 result:  False\n",
      "11\n",
      "add filter for all multiples of 11\n",
      "check if 13 is divisible by 3 result:  False\n",
      "check if 13 is divisible by 5 result:  False\n",
      "check if 13 is divisible by 7 result:  False\n",
      "check if 13 is divisible by 11 result:  False\n",
      "13\n",
      "add filter for all multiples of 13\n",
      "check if 15 is divisible by 3 result:  True\n",
      "check if 17 is divisible by 3 result:  False\n",
      "check if 17 is divisible by 5 result:  False\n",
      "check if 17 is divisible by 7 result:  False\n",
      "check if 17 is divisible by 11 result:  False\n",
      "check if 17 is divisible by 13 result:  False\n",
      "17\n",
      "add filter for all multiples of 17\n",
      "check if 19 is divisible by 3 result:  False\n",
      "check if 19 is divisible by 5 result:  False\n",
      "check if 19 is divisible by 7 result:  False\n",
      "check if 19 is divisible by 11 result:  False\n",
      "check if 19 is divisible by 13 result:  False\n",
      "check if 19 is divisible by 17 result:  False\n",
      "19\n",
      "add filter for all multiples of 19\n",
      "check if 21 is divisible by 3 result:  True\n",
      "check if 23 is divisible by 3 result:  False\n",
      "check if 23 is divisible by 5 result:  False\n",
      "check if 23 is divisible by 7 result:  False\n",
      "check if 23 is divisible by 11 result:  False\n",
      "check if 23 is divisible by 13 result:  False\n",
      "check if 23 is divisible by 17 result:  False\n",
      "check if 23 is divisible by 19 result:  False\n"
     ]
    }
   ],
   "source": [
    "def _odd_iter():\n",
    "    n = 1\n",
    "    while True:\n",
    "        n = n + 2\n",
    "        yield n\n",
    "\n",
    "def _not_divisible(n):\n",
    "    print('add filter for all multiples of', n)\n",
    "    return lambda x: print('check if', x, 'is divisible by', n, 'result: ', not (x % n > 0)) or x % n > 0\n",
    "\n",
    "def primes():\n",
    "    yield 2\n",
    "    it = _odd_iter()\n",
    "    while True:\n",
    "        n = next(it)\n",
    "        yield n\n",
    "        it = filter(_not_divisible(n), it)\n",
    "\n",
    "for n in primes():\n",
    "    if n < 20:\n",
    "        print(n)\n",
    "    else:\n",
    "        break"
   ]
  },
  {
   "cell_type": "markdown",
   "metadata": {},
   "source": [
    "## itertools"
   ]
  },
  {
   "cell_type": "markdown",
   "metadata": {},
   "source": [
    "count  \n",
    "cycle  \n",
    "repeat  \n",
    "groupby  \n",
    "chain"
   ]
  },
  {
   "cell_type": "code",
   "execution_count": null,
   "metadata": {},
   "outputs": [],
   "source": []
  },
  {
   "cell_type": "markdown",
   "metadata": {},
   "source": [
    "# 概念区分"
   ]
  },
  {
   "attachments": {
    "image.png": {
     "image/png": "[encoded data removed]"
    }
   },
   "cell_type": "markdown",
   "metadata": {},
   "source": [
    "![image.png](attachment:image.png)"
   ]
  },
  {
   "cell_type": "markdown",
   "metadata": {},
   "source": [
    "* 列表解析式　　　列表理解式 列表推导式  同一码事啦  都是container comprehension"
   ]
  },
  {
   "cell_type": "markdown",
   "metadata": {},
   "source": [
    "* 容器　　　　　　一般都是可以迭代的 a container typically is an iterable item     特例是bloomfilter只能看在不在 不能访问"
   ]
  },
  {
   "cell_type": "markdown",
   "metadata": {},
   "source": [
    "* 生成器　　　　　生成器函数（generator function）和 生成器表达式（generator expression）  都可以得到一个 generator 生成器  "
   ]
  },
  {
   "cell_type": "markdown",
   "metadata": {},
   "source": [
    "* 迭代器　　　　　使用iter()方法，才可以调用返回一个迭代对象（切记这里和iter方法和__ iter __方法的区别），然后使用next()方法实现迭代 迭代器类似一次性指针 用过即抛"
   ]
  },
  {
   "cell_type": "markdown",
   "metadata": {},
   "source": [
    "## 5. for循环迭代的本质 可迭代协议"
   ]
  },
  {
   "cell_type": "code",
   "execution_count": null,
   "metadata": {},
   "outputs": [],
   "source": [
    "for x in [1, 2, 3, 4, 5]:\n",
    "    pass"
   ]
  },
  {
   "cell_type": "code",
   "execution_count": null,
   "metadata": {},
   "outputs": [],
   "source": [
    "# 首先获取可迭代对象\n",
    "it = iter([1, 2, 3, 4, 5])\n",
    "while True:\n",
    "    try:\n",
    "        next(it)\n",
    "    except StopIteration:\n",
    "        # 遇到StopIteration就跳出循环, 且自动频闭StopIteration异常\n",
    "        break"
   ]
  },
  {
   "cell_type": "markdown",
   "metadata": {},
   "source": [
    "## 6. 上下文协议"
   ]
  },
  {
   "cell_type": "markdown",
   "metadata": {},
   "source": [
    "__enter__ 和 __exit__"
   ]
  },
  {
   "cell_type": "code",
   "execution_count": 14,
   "metadata": {},
   "outputs": [
    {
     "data": {
      "text/plain": [
       "['.ipynb_checkpoints',\n",
       " '2016 Python3 推荐教材编程：从入门到实践.pdf',\n",
       " '2016 Python编程快速上手  让繁琐工作自动化.pdf',\n",
       " '2017 Python极客项目编程.pdf',\n",
       " '778496-20180713200909560-1043089630.png',\n",
       " 'Advance_Python.ipynb',\n",
       " 'Application_Python.ipynb',\n",
       " 'backup',\n",
       " 'content.txt.txt',\n",
       " 'Coroutines.pdf',\n",
       " 'eiffel.bitmap',\n",
       " 'generator.png',\n",
       " 'L1_python初级数据结构.ipynb',\n",
       " 'L2_函数是一等公民.ipynb',\n",
       " 'L3_一切皆对象 初级oop.ipynb',\n",
       " 'L4_数据结构和迭代深入协议.ipynb',\n",
       " 'L5_并发并行进程线程协程 回调地狱.ipynb',\n",
       " 'L6_文本和字符 正则 eval 数据操作.ipynb',\n",
       " 'oop.png',\n",
       " 'python.png',\n",
       " 'test.py',\n",
       " 'tmp',\n",
       " 'total_python3太大了打开慢 - 副本.ipynb',\n",
       " 'UB_python基础.rar',\n",
       " 'Untitled.ipynb',\n",
       " '提纲.txt',\n",
       " '课程进度记录.xlsx',\n",
       " '面向对象参考.ipynb']"
      ]
     },
     "execution_count": 14,
     "metadata": {},
     "output_type": "execute_result"
    }
   ],
   "source": [
    "import os\n",
    "os.listdir()"
   ]
  },
  {
   "cell_type": "code",
   "execution_count": 18,
   "metadata": {},
   "outputs": [
    {
     "name": "stdout",
     "output_type": "stream",
     "text": [
      ".\n",
      "\n"
     ]
    }
   ],
   "source": [
    "print('.\\n')"
   ]
  },
  {
   "cell_type": "code",
   "execution_count": 19,
   "metadata": {},
   "outputs": [
    {
     "name": "stdout",
     "output_type": "stream",
     "text": [
      ".\\n\n"
     ]
    }
   ],
   "source": [
    "print(r'.\\n')"
   ]
  },
  {
   "cell_type": "code",
   "execution_count": 20,
   "metadata": {},
   "outputs": [
    {
     "name": "stdout",
     "output_type": "stream",
     "text": [
      ".\\n\n"
     ]
    }
   ],
   "source": [
    "print('.\\\\n')"
   ]
  },
  {
   "cell_type": "code",
   "execution_count": 24,
   "metadata": {},
   "outputs": [
    {
     "data": {
      "text/plain": [
       "{'cells': [{'cell_type': 'markdown',\n",
       "   'metadata': {},\n",
       "   'source': ['<img src=\"python.png\">']},\n",
       "  {'cell_type': 'code',\n",
       "   'execution_count': 1,\n",
       "   'metadata': {},\n",
       "   'outputs': [{'data': {'text/plain': ['int']},\n",
       "     'execution_count': 1,\n",
       "     'metadata': {},\n",
       "     'output_type': 'execute_result'}],\n",
       "   'source': ['type(5)']},\n",
       "  {'cell_type': 'code',\n",
       "   'execution_count': 3,\n",
       "   'metadata': {'collapsed': True},\n",
       "   'outputs': [],\n",
       "   'source': ['a=10000\\n', 'b=a']},\n",
       "  {'cell_type': 'code',\n",
       "   'execution_count': 4,\n",
       "   'metadata': {},\n",
       "   'outputs': [{'data': {'text/plain': ['140659982493648']},\n",
       "     'execution_count': 4,\n",
       "     'metadata': {},\n",
       "     'output_type': 'execute_result'}],\n",
       "   'source': ['id(a)']},\n",
       "  {'cell_type': 'code',\n",
       "   'execution_count': 5,\n",
       "   'metadata': {},\n",
       "   'outputs': [{'data': {'text/plain': ['140659982493648']},\n",
       "     'execution_count': 5,\n",
       "     'metadata': {},\n",
       "     'output_type': 'execute_result'}],\n",
       "   'source': ['id(b)']},\n",
       "  {'cell_type': 'code',\n",
       "   'execution_count': 6,\n",
       "   'metadata': {'collapsed': True},\n",
       "   'outputs': [],\n",
       "   'source': ['del a,b']},\n",
       "  {'cell_type': 'code',\n",
       "   'execution_count': 7,\n",
       "   'metadata': {},\n",
       "   'outputs': [{'data': {'text/plain': ['140659982494032']},\n",
       "     'execution_count': 7,\n",
       "     'metadata': {},\n",
       "     'output_type': 'execute_result'}],\n",
       "   'source': ['id(10000)']},\n",
       "  {'cell_type': 'code',\n",
       "   'execution_count': 2,\n",
       "   'metadata': {'collapsed': True},\n",
       "   'outputs': [{'data': {'text/plain': [\"['__abs__',\\n\",\n",
       "       \" '__add__',\\n\",\n",
       "       \" '__and__',\\n\",\n",
       "       \" '__bool__',\\n\",\n",
       "       \" '__ceil__',\\n\",\n",
       "       \" '__class__',\\n\",\n",
       "       \" '__delattr__',\\n\",\n",
       "       \" '__dir__',\\n\",\n",
       "       \" '__divmod__',\\n\",\n",
       "       \" '__doc__',\\n\",\n",
       "       \" '__eq__',\\n\",\n",
       "       \" '__float__',\\n\",\n",
       "       \" '__floor__',\\n\",\n",
       "       \" '__floordiv__',\\n\",\n",
       "       \" '__format__',\\n\",\n",
       "       \" '__ge__',\\n\",\n",
       "       \" '__getattribute__',\\n\",\n",
       "       \" '__getnewargs__',\\n\",\n",
       "       \" '__gt__',\\n\",\n",
       "       \" '__hash__',\\n\",\n",
       "       \" '__index__',\\n\",\n",
       "       \" '__init__',\\n\",\n",
       "       \" '__init_subclass__',\\n\",\n",
       "       \" '__int__',\\n\",\n",
       "       \" '__invert__',\\n\",\n",
       "       \" '__le__',\\n\",\n",
       "       \" '__lshift__',\\n\",\n",
       "       \" '__lt__',\\n\",\n",
       "       \" '__mod__',\\n\",\n",
       "       \" '__mul__',\\n\",\n",
       "       \" '__ne__',\\n\",\n",
       "       \" '__neg__',\\n\",\n",
       "       \" '__new__',\\n\",\n",
       "       \" '__or__',\\n\",\n",
       "       \" '__pos__',\\n\",\n",
       "       \" '__pow__',\\n\",\n",
       "       \" '__radd__',\\n\",\n",
       "       \" '__rand__',\\n\",\n",
       "       \" '__rdivmod__',\\n\",\n",
       "       \" '__reduce__',\\n\",\n",
       "       \" '__reduce_ex__',\\n\",\n",
       "       \" '__repr__',\\n\",\n",
       "       \" '__rfloordiv__',\\n\",\n",
       "       \" '__rlshift__',\\n\",\n",
       "       \" '__rmod__',\\n\",\n",
       "       \" '__rmul__',\\n\",\n",
       "       \" '__ror__',\\n\",\n",
       "       \" '__round__',\\n\",\n",
       "       \" '__rpow__',\\n\",\n",
       "       \" '__rrshift__',\\n\",\n",
       "       \" '__rshift__',\\n\",\n",
       "       \" '__rsub__',\\n\",\n",
       "       \" '__rtruediv__',\\n\",\n",
       "       \" '__rxor__',\\n\",\n",
       "       \" '__setattr__',\\n\",\n",
       "       \" '__sizeof__',\\n\",\n",
       "       \" '__str__',\\n\",\n",
       "       \" '__sub__',\\n\",\n",
       "       \" '__subclasshook__',\\n\",\n",
       "       \" '__truediv__',\\n\",\n",
       "       \" '__trunc__',\\n\",\n",
       "       \" '__xor__',\\n\",\n",
       "       \" 'bit_length',\\n\",\n",
       "       \" 'conjugate',\\n\",\n",
       "       \" 'denominator',\\n\",\n",
       "       \" 'from_bytes',\\n\",\n",
       "       \" 'imag',\\n\",\n",
       "       \" 'numerator',\\n\",\n",
       "       \" 'real',\\n\",\n",
       "       \" 'to_bytes']\"]},\n",
       "     'execution_count': 2,\n",
       "     'metadata': {},\n",
       "     'output_type': 'execute_result'}],\n",
       "   'source': ['dir(int)']},\n",
       "  {'cell_type': 'markdown',\n",
       "   'metadata': {},\n",
       "   'source': ['# python表达式 控制流 基础数据结构 基础中的基础']},\n",
       "  {'cell_type': 'code',\n",
       "   'execution_count': 3,\n",
       "   'metadata': {'collapsed': True},\n",
       "   'outputs': [{'ename': 'SyntaxError',\n",
       "     'evalue': 'invalid syntax (<ipython-input-3-ef00915c79f5>, line 1)',\n",
       "     'output_type': 'error',\n",
       "     'traceback': ['\\x1b[1;36m  File \\x1b[1;32m\"<ipython-input-3-ef00915c79f5>\"\\x1b[1;36m, line \\x1b[1;32m1\\x1b[0m\\n\\x1b[1;33m    True False None\\x1b[0m\\n\\x1b[1;37m             ^\\x1b[0m\\n\\x1b[1;31mSyntaxError\\x1b[0m\\x1b[1;31m:\\x1b[0m invalid syntax\\n']}],\n",
       "   'source': ['True False None\\n',\n",
       "    '\\n',\n",
       "    'and or not \\n',\n",
       "    '\\n',\n",
       "    'in is  # 成员  引用同一id\\n',\n",
       "    '\\n',\n",
       "    'break continue \\n',\n",
       "    '\\n',\n",
       "    'if elif else for while\\n',\n",
       "    '\\n',\n",
       "    'with as  #\\u3000上下文管理器\\n',\n",
       "    '\\n',\n",
       "    'class def from import lambda return pass\\u3000# 类 函数 模块 匿名 \\n',\n",
       "    '\\n',\n",
       "    'assert try except finally raise # 异常处理\\n',\n",
       "    '\\n',\n",
       "    'await async yield # 并发编程\\n',\n",
       "    '\\n',\n",
       "    'global nonlocal  # 全局和局部变量']},\n",
       "  {'cell_type': 'code',\n",
       "   'execution_count': 6,\n",
       "   'metadata': {'collapsed': True},\n",
       "   'outputs': [],\n",
       "   'source': ['def foo():\\n', '    pass']},\n",
       "  {'cell_type': 'code',\n",
       "   'execution_count': 3,\n",
       "   'metadata': {'collapsed': True},\n",
       "   'outputs': [{'data': {'text/plain': [\"['__abs__',\\n\",\n",
       "       \" '__add__',\\n\",\n",
       "       \" '__and__',\\n\",\n",
       "       \" '__bool__',\\n\",\n",
       "       \" '__ceil__',\\n\",\n",
       "       \" '__class__',\\n\",\n",
       "       \" '__delattr__',\\n\",\n",
       "       \" '__dir__',\\n\",\n",
       "       \" '__divmod__',\\n\",\n",
       "       \" '__doc__',\\n\",\n",
       "       \" '__eq__',\\n\",\n",
       "       \" '__float__',\\n\",\n",
       "       \" '__floor__',\\n\",\n",
       "       \" '__floordiv__',\\n\",\n",
       "       \" '__format__',\\n\",\n",
       "       \" '__ge__',\\n\",\n",
       "       \" '__getattribute__',\\n\",\n",
       "       \" '__getnewargs__',\\n\",\n",
       "       \" '__gt__',\\n\",\n",
       "       \" '__hash__',\\n\",\n",
       "       \" '__index__',\\n\",\n",
       "       \" '__init__',\\n\",\n",
       "       \" '__init_subclass__',\\n\",\n",
       "       \" '__int__',\\n\",\n",
       "       \" '__invert__',\\n\",\n",
       "       \" '__le__',\\n\",\n",
       "       \" '__lshift__',\\n\",\n",
       "       \" '__lt__',\\n\",\n",
       "       \" '__mod__',\\n\",\n",
       "       \" '__mul__',\\n\",\n",
       "       \" '__ne__',\\n\",\n",
       "       \" '__neg__',\\n\",\n",
       "       \" '__new__',\\n\",\n",
       "       \" '__or__',\\n\",\n",
       "       \" '__pos__',\\n\",\n",
       "       \" '__pow__',\\n\",\n",
       "       \" '__radd__',\\n\",\n",
       "       \" '__rand__',\\n\",\n",
       "       \" '__rdivmod__',\\n\",\n",
       "       \" '__reduce__',\\n\",\n",
       "       \" '__reduce_ex__',\\n\",\n",
       "       \" '__repr__',\\n\",\n",
       "       \" '__rfloordiv__',\\n\",\n",
       "       \" '__rlshift__',\\n\",\n",
       "       \" '__rmod__',\\n\",\n",
       "       \" '__rmul__',\\n\",\n",
       "       \" '__ror__',\\n\",\n",
       "       \" '__round__',\\n\",\n",
       "       \" '__rpow__',\\n\",\n",
       "       \" '__rrshift__',\\n\",\n",
       "       \" '__rshift__',\\n\",\n",
       "       \" '__rsub__',\\n\",\n",
       "       \" '__rtruediv__',\\n\",\n",
       "       \" '__rxor__',\\n\",\n",
       "       \" '__setattr__',\\n\",\n",
       "       \" '__sizeof__',\\n\",\n",
       "       \" '__str__',\\n\",\n",
       "       \" '__sub__',\\n\",\n",
       "       \" '__subclasshook__',\\n\",\n",
       "       \" '__truediv__',\\n\",\n",
       "       \" '__trunc__',\\n\",\n",
       "       \" '__xor__',\\n\",\n",
       "       \" 'bit_length',\\n\",\n",
       "       \" 'conjugate',\\n\",\n",
       "       \" 'denominator',\\n\",\n",
       "       \" 'from_bytes',\\n\",\n",
       "       \" 'imag',\\n\",\n",
       "       \" 'numerator',\\n\",\n",
       "       \" 'real',\\n\",\n",
       "       \" 'to_bytes']\"]},\n",
       "     'execution_count': 3,\n",
       "     'metadata': {},\n",
       "     'output_type': 'execute_result'}],\n",
       "   'source': ['dir(int)']},\n",
       "  {'cell_type': 'code',\n",
       "   'execution_count': 3,\n",
       "   'metadata': {},\n",
       "   'outputs': [{'name': 'stdout',\n",
       "     'output_type': 'stream',\n",
       "     'text': ['93948069948384\\n', '93948069948384\\n']}],\n",
       "   'source': ['a = 10\\n', 'b =a \\n', 'print(id(a))\\n', 'print(id(b))']},\n",
       "  {'cell_type': 'markdown', 'metadata': {}, 'source': ['## 表达式 对象引用模型']},\n",
       "  {'cell_type': 'markdown',\n",
       "   'metadata': {},\n",
       "   'source': ['和c的区别是先制造对象 后冠以名称\\n',\n",
       "    '\\n',\n",
       "    '可以不冠以名称也能存在 因为常驻\\n',\n",
       "    '\\n',\n",
       "    '名字可以随便改变引用\\n',\n",
       "    '\\n',\n",
       "    '传值和传引用 其实python就是个弱弱的指针']},\n",
       "  {'cell_type': 'markdown',\n",
       "   'metadata': {},\n",
       "   'source': ['* 一切皆是对象 type和id观察\\n',\n",
       "    '* 小对象常驻原理\\n',\n",
       "    '* 可变对象不可变对象\\n',\n",
       "    '* 函数也是个对象']},\n",
       "  {'cell_type': 'markdown', 'metadata': {}, 'source': ['## 变量']},\n",
       "  {'cell_type': 'markdown',\n",
       "   'metadata': {},\n",
       "   'source': ['c语言的 声明 定义 赋值\\n',\n",
       "    '\\n',\n",
       "    'python的 自动开辟 自动回收 随时贴牌\\n',\n",
       "    '\\n',\n",
       "    '数值变量  int  float complex\\n',\n",
       "    '\\n',\n",
       "    '指定编码 type id\\n',\n",
       "    '\\n',\n",
       "    '下划线和双下 单侧双下']},\n",
       "  {'cell_type': 'markdown',\n",
       "   'metadata': {},\n",
       "   'source': ['_ 符号代表了上次的**表达式**求值结果 或者连字符']},\n",
       "  {'cell_type': 'code',\n",
       "   'execution_count': 35,\n",
       "   'metadata': {},\n",
       "   'outputs': [{'data': {'text/plain': ['10999']},\n",
       "     'execution_count': 35,\n",
       "     'metadata': {},\n",
       "     'output_type': 'execute_result'}],\n",
       "   'source': ['10_999']},\n",
       "  {'cell_type': 'code',\n",
       "   'execution_count': 5,\n",
       "   'metadata': {'scrolled': True},\n",
       "   'outputs': [{'data': {'text/plain': ['141246703213942603683520966701614733366889617518454111681368808585711816984270751255808912631671152637335603208431366082764203838069979338335971185726639923431051777851865399011877999645131707069373498212631323752553111215372844035950900535954860733418453405575566736801565587405464699640499050849699472357900905617571376618228216434213181520991556677126498651782204174061830939239176861341383294018240225838692725596147005144243281075275629495339093813198966735633606329691023842454125835888656873133981287240980008838073668221804264432910894030789020219440578198488267339768238872279902157420307247570510423845868872596735891805818727796435753018518086641356012851302546726823009250218328018251907340245449863183265637987862198511046362985461949587281119139907228004385942880953958816554567625296086916885774828934449941362416588675326940332561103664556982622206834474219811081872404929503481991376740379825998791411879802717583885498575115299471743469241117070230398103378615232793710290992656444842895511830355733152020804157920090041811951880456705515468349446182731742327685989277607620709525878318766488368348965015474997864119765441433356928012344111765735336393557879214937004347568208665958717764059293592887514292843557047089164876483116615691886203812997555690171892169733755224469032475078797830901321579940127337210694377283439922280274060798234786740434893458120198341101033812506720046609891160700284002100980452964039788704335302619337597862052192280371481132164147186514169090917191909376']},\n",
       "     'execution_count': 5,\n",
       "     'metadata': {},\n",
       "     'output_type': 'execute_result'}],\n",
       "   'source': ['2**5000']},\n",
       "  {'cell_type': 'code',\n",
       "   'execution_count': 9,\n",
       "   'metadata': {},\n",
       "   'outputs': [{'data': {'text/plain': ['str']},\n",
       "     'execution_count': 9,\n",
       "     'metadata': {},\n",
       "     'output_type': 'execute_result'}],\n",
       "   'source': ['type(\"sfdjkafkdsa\")']},\n",
       "  {'cell_type': 'code',\n",
       "   'execution_count': 11,\n",
       "   'metadata': {},\n",
       "   'outputs': [{'data': {'text/plain': [\"'dadsasadadas'\"]},\n",
       "     'execution_count': 11,\n",
       "     'metadata': {},\n",
       "     'output_type': 'execute_result'}],\n",
       "   'source': ['\"dadsasa\"+\"dadas\"']},\n",
       "  {'cell_type': 'code',\n",
       "   'execution_count': 36,\n",
       "   'metadata': {'collapsed': True},\n",
       "   'outputs': [{'name': 'stdout', 'output_type': 'stream', 'text': ['2\\n']}],\n",
       "   'source': ['a=10\\n', 'print(_)']},\n",
       "  {'cell_type': 'code',\n",
       "   'execution_count': 15,\n",
       "   'metadata': {},\n",
       "   'outputs': [{'name': 'stdout',\n",
       "     'output_type': 'stream',\n",
       "     'text': ['0\\n',\n",
       "      '1\\n',\n",
       "      '2\\n',\n",
       "      '3\\n',\n",
       "      '4\\n',\n",
       "      '5\\n',\n",
       "      '6\\n',\n",
       "      '7\\n',\n",
       "      '8\\n',\n",
       "      '9\\n']}],\n",
       "   'source': ['for _ in range(10):\\n', '    print(_)']},\n",
       "  {'cell_type': 'code',\n",
       "   'execution_count': 15,\n",
       "   'metadata': {'scrolled': True},\n",
       "   'outputs': [{'ename': 'SyntaxError',\n",
       "     'evalue': 'invalid syntax (<ipython-input-15-fe19b17fd0ca>, line 3)',\n",
       "     'output_type': 'error',\n",
       "     'traceback': ['\\x1b[0;36m  File \\x1b[0;32m\"<ipython-input-15-fe19b17fd0ca>\"\\x1b[0;36m, line \\x1b[0;32m3\\x1b[0m\\n\\x1b[0;31m    elif:\\x1b[0m\\n\\x1b[0m        ^\\x1b[0m\\n\\x1b[0;31mSyntaxError\\x1b[0m\\x1b[0;31m:\\x1b[0m invalid syntax\\n']}],\n",
       "   'source': ['if True:\\n', '    print(\"true\")\\n', 'elif:\\n', '    pass']},\n",
       "  {'cell_type': 'code',\n",
       "   'execution_count': 6,\n",
       "   'metadata': {},\n",
       "   'outputs': [],\n",
       "   'source': ['a = [1,2,3,45]']},\n",
       "  {'cell_type': 'code',\n",
       "   'execution_count': 11,\n",
       "   'metadata': {},\n",
       "   'outputs': [],\n",
       "   'source': ['a[1] = 100000']},\n",
       "  {'cell_type': 'code',\n",
       "   'execution_count': 12,\n",
       "   'metadata': {},\n",
       "   'outputs': [{'data': {'text/plain': ['[2, 100000, 45]']},\n",
       "     'execution_count': 12,\n",
       "     'metadata': {},\n",
       "     'output_type': 'execute_result'}],\n",
       "   'source': ['a']},\n",
       "  {'cell_type': 'code',\n",
       "   'execution_count': 13,\n",
       "   'metadata': {},\n",
       "   'outputs': [{'name': 'stdout',\n",
       "     'output_type': 'stream',\n",
       "     'text': ['[2, 100000, 45, 2, 100000, 45]\\n']}],\n",
       "   'source': ['a = a+a\\n', 'print(a)']},\n",
       "  {'cell_type': 'code',\n",
       "   'execution_count': 17,\n",
       "   'metadata': {},\n",
       "   'outputs': [{'data': {'text/plain': ['-1']},\n",
       "     'execution_count': 17,\n",
       "     'metadata': {},\n",
       "     'output_type': 'execute_result'}],\n",
       "   'source': ['a.pop()']},\n",
       "  {'cell_type': 'code',\n",
       "   'execution_count': 18,\n",
       "   'metadata': {'scrolled': True},\n",
       "   'outputs': [{'data': {'text/plain': ['[2, 100000, 45, 2, 100000, 45]']},\n",
       "     'execution_count': 18,\n",
       "     'metadata': {},\n",
       "     'output_type': 'execute_result'}],\n",
       "   'source': ['a']},\n",
       "  {'cell_type': 'code',\n",
       "   'execution_count': 38,\n",
       "   'metadata': {},\n",
       "   'outputs': [],\n",
       "   'source': ['def foo():\\n', '    print(\"dadsa\")']},\n",
       "  {'cell_type': 'code',\n",
       "   'execution_count': 29,\n",
       "   'metadata': {},\n",
       "   'outputs': [],\n",
       "   'source': ['a=[1,2,3]']},\n",
       "  {'cell_type': 'code',\n",
       "   'execution_count': 40,\n",
       "   'metadata': {},\n",
       "   'outputs': [],\n",
       "   'source': ['b=[a,a,foo,foo]']},\n",
       "  {'cell_type': 'code',\n",
       "   'execution_count': 44,\n",
       "   'metadata': {},\n",
       "   'outputs': [{'data': {'text/plain': ['[[1, -1, 3], [1, -1, 3], <function __main__.foo()>, <function __main__.foo()>]']},\n",
       "     'execution_count': 44,\n",
       "     'metadata': {},\n",
       "     'output_type': 'execute_result'}],\n",
       "   'source': ['b']},\n",
       "  {'cell_type': 'code',\n",
       "   'execution_count': 43,\n",
       "   'metadata': {},\n",
       "   'outputs': [],\n",
       "   'source': ['b[0][1]=-1']},\n",
       "  {'cell_type': 'markdown', 'metadata': {}, 'source': ['## 按值传递还是按引用传递']},\n",
       "  {'cell_type': 'markdown', 'metadata': {}, 'source': ['对可变对象是按引用']},\n",
       "  {'cell_type': 'code',\n",
       "   'execution_count': 3,\n",
       "   'metadata': {},\n",
       "   'outputs': [{'name': 'stdout',\n",
       "     'output_type': 'stream',\n",
       "     'text': ['[[15], [15]]\\n']}],\n",
       "   'source': ['a=[10]\\n', 'c=[a,a]\\n', 'a[0]=15\\n', 'print(c)']},\n",
       "  {'cell_type': 'markdown',\n",
       "   'metadata': {},\n",
       "   'source': ['对不可变对象是按值 相当于直接生成新的 ']},\n",
       "  {'cell_type': 'code',\n",
       "   'execution_count': 4,\n",
       "   'metadata': {},\n",
       "   'outputs': [{'name': 'stdout',\n",
       "     'output_type': 'stream',\n",
       "     'text': ['[10, 10]\\n']}],\n",
       "   'source': ['a=10\\n', 'c=[a,a]\\n', 'a=15\\n', 'print(c)']},\n",
       "  {'cell_type': 'code',\n",
       "   'execution_count': 5,\n",
       "   'metadata': {},\n",
       "   'outputs': [{'name': 'stdout',\n",
       "     'output_type': 'stream',\n",
       "     'text': ['[(10,), (10,)]\\n']}],\n",
       "   'source': ['a=(10,)\\n', 'c=[a,a]\\n', 'a=(15,)\\n', 'print(c)']},\n",
       "  {'cell_type': 'markdown', 'metadata': {}, 'source': ['默认还是按着引用传递']},\n",
       "  {'cell_type': 'code',\n",
       "   'execution_count': 6,\n",
       "   'metadata': {},\n",
       "   'outputs': [{'name': 'stdout',\n",
       "     'output_type': 'stream',\n",
       "     'text': [\"[['bbb', 'xxx'], ['bbb', 'xxx']]\\n\"]}],\n",
       "   'source': [\"a=['aaa','xxx']\\n\", 'c=[a,a]\\n', \"a[0]='bbb'\\n\", 'print(c)']},\n",
       "  {'cell_type': 'code',\n",
       "   'execution_count': 7,\n",
       "   'metadata': {},\n",
       "   'outputs': [{'name': 'stdout',\n",
       "     'output_type': 'stream',\n",
       "     'text': [\"[([1, 2000, 3], 'sss'), ([1, 2000, 3], 'sss')]\\n\"]}],\n",
       "   'source': [\"a=([1,2,3],'sss')\\n\",\n",
       "    'c=[a,a]\\n',\n",
       "    'a[0][1]=2000\\n',\n",
       "    'print(c)']},\n",
       "  {'cell_type': 'markdown', 'metadata': {}, 'source': ['## 控制流 if else']},\n",
       "  {'cell_type': 'markdown',\n",
       "   'metadata': {},\n",
       "   'source': ['for while的else 尽量别用\\n',\n",
       "    '\\n',\n",
       "    '冒号缩进 块识别\\n',\n",
       "    '\\n',\n",
       "    '\\\\多行语句 括号中换行不需要\\n',\n",
       "    '\\n',\n",
       "    '可以加分号 一行\\n',\n",
       "    '\\n',\n",
       "    'input(\"dadsadsd\")\\n',\n",
       "    'print(\"dsada\",end=\"\")']},\n",
       "  {'cell_type': 'code',\n",
       "   'execution_count': 17,\n",
       "   'metadata': {'collapsed': True},\n",
       "   'outputs': [],\n",
       "   'source': ['if True \\\\\\n', '    and False:\\n', '    pass']},\n",
       "  {'cell_type': 'code',\n",
       "   'execution_count': 18,\n",
       "   'metadata': {'collapsed': True},\n",
       "   'outputs': [],\n",
       "   'source': ['a=5;b=4']},\n",
       "  {'cell_type': 'markdown',\n",
       "   'metadata': {},\n",
       "   'source': ['## 图灵完备 停机问题 BF语言Brainfuck\\n',\n",
       "    '\\n',\n",
       "    '图灵机  Computation Theory\\n',\n",
       "    '\\n',\n",
       "    'tape无限长纸带 无线顺序内存\\n',\n",
       "    '\\n',\n",
       "    'alphabet字符表 字符集\\n',\n",
       "    '\\n',\n",
       "    'head读写头 CDUR 增删改查 前后移动\\n',\n",
       "    '\\n',\n",
       "    'state register状态寄存器 有限状态机\\n',\n",
       "    '\\n',\n",
       "    'instructions table 指令集 程序']},\n",
       "  {'cell_type': 'code',\n",
       "   'execution_count': 2,\n",
       "   'metadata': {},\n",
       "   'outputs': [{'ename': 'SyntaxError',\n",
       "     'evalue': 'invalid syntax (<ipython-input-2-ff7d360af77f>, line 8)',\n",
       "     'output_type': 'error',\n",
       "     'traceback': ['\\x1b[1;36m  File \\x1b[1;32m\"<ipython-input-2-ff7d360af77f>\"\\x1b[1;36m, line \\x1b[1;32m8\\x1b[0m\\n\\x1b[1;33m    +++++[>+++++++++<]>.\\x1b[0m\\n\\x1b[1;37m          ^\\x1b[0m\\n\\x1b[1;31mSyntaxError\\x1b[0m\\x1b[1;31m:\\x1b[0m invalid syntax\\n']}],\n",
       "   'source': ['# brainfuck\\n',\n",
       "    'i=5\\n',\n",
       "    'while(i>0):\\n',\n",
       "    '    x+=9\\n',\n",
       "    '    i-=1\\n',\n",
       "    'print(x)\\n',\n",
       "    '    \\n',\n",
       "    '+++++[>+++++++++<]>.']},\n",
       "  {'cell_type': 'markdown', 'metadata': {}, 'source': ['## 简单函数']},\n",
       "  {'cell_type': 'code',\n",
       "   'execution_count': 16,\n",
       "   'metadata': {'collapsed': True},\n",
       "   'outputs': [],\n",
       "   'source': ['def foo():\\n',\n",
       "    '    pass\\n',\n",
       "    '\\n',\n",
       "    'def foo():\\n',\n",
       "    '    def bar():\\n',\n",
       "    '        pass\\n',\n",
       "    '    pass']},\n",
       "  {'cell_type': 'markdown', 'metadata': {}, 'source': ['## 全局变量 局部变量']},\n",
       "  {'cell_type': 'markdown',\n",
       "   'metadata': {},\n",
       "   'source': ['global关键字 三个目的： 为了修改 为了修改 为了修改']},\n",
       "  {'cell_type': 'code',\n",
       "   'execution_count': 11,\n",
       "   'metadata': {},\n",
       "   'outputs': [{'data': {'text/plain': [\"{'__name__': '__main__',\\n\",\n",
       "       \" '__doc__': 'Automatically created module for IPython interactive environment',\\n\",\n",
       "       \" '__package__': None,\\n\",\n",
       "       \" '__loader__': None,\\n\",\n",
       "       \" '__spec__': None,\\n\",\n",
       "       \" '__builtin__': <module 'builtins' (built-in)>,\\n\",\n",
       "       \" '__builtins__': <module 'builtins' (built-in)>,\\n\",\n",
       "       \" '_ih': ['',\\n\",\n",
       "       \"  'a=10\\\\nc=[a]\\\\na=15\\\\nprint(c)',\\n\",\n",
       "       \"  'a=10\\\\nc=[a,a]\\\\na=15\\\\nprint(c)',\\n\",\n",
       "       \"  'a=[10]\\\\nc=[a,a]\\\\na[0]=15\\\\nprint(c)',\\n\",\n",
       "       \"  'a=10\\\\nc=[a,a]\\\\na=15\\\\nprint(c)',\\n\",\n",
       "       \"  'a=(10,)\\\\nc=[a,a]\\\\na=(15,)\\\\nprint(c)',\\n\",\n",
       "       '  \"a=[\\'aaa\\',\\'xxx\\']\\\\nc=[a,a]\\\\na[0]=\\'bbb\\'\\\\nprint(c)\",\\n',\n",
       "       '  \"a=([1,2,3],\\'sss\\')\\\\nc=[a,a]\\\\na[0][1]=2000\\\\nprint(c)\",\\n',\n",
       "       \"  'global()',\\n\",\n",
       "       \"  'global',\\n\",\n",
       "       \"  'global()',\\n\",\n",
       "       \"  'globals()'],\\n\",\n",
       "       \" '_oh': {},\\n\",\n",
       "       \" '_dh': ['C:\\\\\\\\Users\\\\\\\\Administrator\\\\\\\\课程\\\\\\\\3UB_python基础'],\\n\",\n",
       "       \" 'In': ['',\\n\",\n",
       "       \"  'a=10\\\\nc=[a]\\\\na=15\\\\nprint(c)',\\n\",\n",
       "       \"  'a=10\\\\nc=[a,a]\\\\na=15\\\\nprint(c)',\\n\",\n",
       "       \"  'a=[10]\\\\nc=[a,a]\\\\na[0]=15\\\\nprint(c)',\\n\",\n",
       "       \"  'a=10\\\\nc=[a,a]\\\\na=15\\\\nprint(c)',\\n\",\n",
       "       \"  'a=(10,)\\\\nc=[a,a]\\\\na=(15,)\\\\nprint(c)',\\n\",\n",
       "       '  \"a=[\\'aaa\\',\\'xxx\\']\\\\nc=[a,a]\\\\na[0]=\\'bbb\\'\\\\nprint(c)\",\\n',\n",
       "       '  \"a=([1,2,3],\\'sss\\')\\\\nc=[a,a]\\\\na[0][1]=2000\\\\nprint(c)\",\\n',\n",
       "       \"  'global()',\\n\",\n",
       "       \"  'global',\\n\",\n",
       "       \"  'global()',\\n\",\n",
       "       \"  'globals()'],\\n\",\n",
       "       \" 'Out': {},\\n\",\n",
       "       \" 'get_ipython': <function IPython.core.getipython.get_ipython()>,\\n\",\n",
       "       \" 'exit': <IPython.core.autocall.ZMQExitAutocall at 0x4ed0be0>,\\n\",\n",
       "       \" 'quit': <IPython.core.autocall.ZMQExitAutocall at 0x4ed0be0>,\\n\",\n",
       "       \" '_': '',\\n\",\n",
       "       \" '__': '',\\n\",\n",
       "       \" '___': '',\\n\",\n",
       "       \" 'json': <module 'json' from 'C:\\\\\\\\PythonEnv\\\\\\\\anaconda3\\\\\\\\lib\\\\\\\\json\\\\\\\\__init__.py'>,\\n\",\n",
       "       \" 'yapf_reformat': <function __main__.yapf_reformat(cell_text)>,\\n\",\n",
       "       \" 'autopep8': <module 'autopep8' from 'C:\\\\\\\\PythonEnv\\\\\\\\anaconda3\\\\\\\\lib\\\\\\\\site-packages\\\\\\\\autopep8.py'>,\\n\",\n",
       "       \" 'getsizeof': <function sys.getsizeof>,\\n\",\n",
       "       \" 'NamespaceMagics': IPython.core.magics.namespace.NamespaceMagics,\\n\",\n",
       "       \" '_nms': <IPython.core.magics.namespace.NamespaceMagics at 0x5a3ab70>,\\n\",\n",
       "       \" '_Jupyter': <ipykernel.zmqshell.ZMQInteractiveShell at 0x4ea84e0>,\\n\",\n",
       "       \" 'np': <module 'numpy' from 'C:\\\\\\\\PythonEnv\\\\\\\\anaconda3\\\\\\\\lib\\\\\\\\site-packages\\\\\\\\numpy\\\\\\\\__init__.py'>,\\n\",\n",
       "       \" '_getsizeof': <function __main__._getsizeof(x)>,\\n\",\n",
       "       \" '_getshapeof': <function __main__._getshapeof(x)>,\\n\",\n",
       "       \" 'var_dic_list': <function __main__.var_dic_list()>,\\n\",\n",
       "       \" '_i': 'global()',\\n\",\n",
       "       \" '_ii': 'global',\\n\",\n",
       "       \" '_iii': 'global()',\\n\",\n",
       "       \" '_i1': 'a=10\\\\nc=[a]\\\\na=15\\\\nprint(c)',\\n\",\n",
       "       \" 'a': ([1, 2000, 3], 'sss'),\\n\",\n",
       "       \" 'c': [([1, 2000, 3], 'sss'), ([1, 2000, 3], 'sss')],\\n\",\n",
       "       \" '_i2': 'a=10\\\\nc=[a,a]\\\\na=15\\\\nprint(c)',\\n\",\n",
       "       \" '_i3': 'a=[10]\\\\nc=[a,a]\\\\na[0]=15\\\\nprint(c)',\\n\",\n",
       "       \" '_i4': 'a=10\\\\nc=[a,a]\\\\na=15\\\\nprint(c)',\\n\",\n",
       "       \" '_i5': 'a=(10,)\\\\nc=[a,a]\\\\na=(15,)\\\\nprint(c)',\\n\",\n",
       "       ' \\'_i6\\': \"a=[\\'aaa\\',\\'xxx\\']\\\\nc=[a,a]\\\\na[0]=\\'bbb\\'\\\\nprint(c)\",\\n',\n",
       "       ' \\'_i7\\': \"a=([1,2,3],\\'sss\\')\\\\nc=[a,a]\\\\na[0][1]=2000\\\\nprint(c)\",\\n',\n",
       "       \" '_i8': 'global()',\\n\",\n",
       "       \" '_i9': 'global',\\n\",\n",
       "       \" '_i10': 'global()',\\n\",\n",
       "       \" '_i11': 'globals()'}\"]},\n",
       "     'execution_count': 11,\n",
       "     'metadata': {},\n",
       "     'output_type': 'execute_result'}],\n",
       "   'source': ['globals()']},\n",
       "  {'cell_type': 'code',\n",
       "   'execution_count': 4,\n",
       "   'metadata': {'collapsed': True},\n",
       "   'outputs': [{'ename': 'UnboundLocalError',\n",
       "     'evalue': \"local variable 'count' referenced before assignment\",\n",
       "     'output_type': 'error',\n",
       "     'traceback': ['\\x1b[1;31m---------------------------------------------------------------------------\\x1b[0m',\n",
       "      '\\x1b[1;31mUnboundLocalError\\x1b[0m                         Traceback (most recent call last)',\n",
       "      '\\x1b[1;32m<ipython-input-4-7d15d31988ca>\\x1b[0m in \\x1b[0;36m<module>\\x1b[1;34m\\x1b[0m\\n\\x1b[0;32m      3\\x1b[0m     \\x1b[0mcount\\x1b[0m \\x1b[1;33m+=\\x1b[0m \\x1b[1;36m1\\x1b[0m\\x1b[1;33m\\x1b[0m\\x1b[1;33m\\x1b[0m\\x1b[0m\\n\\x1b[0;32m      4\\x1b[0m     \\x1b[0mprint\\x1b[0m\\x1b[1;33m(\\x1b[0m\\x1b[0mcount\\x1b[0m\\x1b[1;33m)\\x1b[0m\\x1b[1;33m\\x1b[0m\\x1b[1;33m\\x1b[0m\\x1b[0m\\n\\x1b[1;32m----> 5\\x1b[1;33m \\x1b[0mglobal_test\\x1b[0m\\x1b[1;33m(\\x1b[0m\\x1b[1;33m)\\x1b[0m\\x1b[1;33m\\x1b[0m\\x1b[1;33m\\x1b[0m\\x1b[0m\\n\\x1b[0m',\n",
       "      '\\x1b[1;32m<ipython-input-4-7d15d31988ca>\\x1b[0m in \\x1b[0;36mglobal_test\\x1b[1;34m()\\x1b[0m\\n\\x1b[0;32m      1\\x1b[0m \\x1b[0mcount\\x1b[0m \\x1b[1;33m=\\x1b[0m \\x1b[1;36m0\\x1b[0m\\x1b[1;33m\\x1b[0m\\x1b[1;33m\\x1b[0m\\x1b[0m\\n\\x1b[0;32m      2\\x1b[0m \\x1b[1;32mdef\\x1b[0m \\x1b[0mglobal_test\\x1b[0m\\x1b[1;33m(\\x1b[0m\\x1b[1;33m)\\x1b[0m\\x1b[1;33m:\\x1b[0m\\x1b[1;33m\\x1b[0m\\x1b[1;33m\\x1b[0m\\x1b[0m\\n\\x1b[1;32m----> 3\\x1b[1;33m     \\x1b[0mcount\\x1b[0m \\x1b[1;33m+=\\x1b[0m \\x1b[1;36m1\\x1b[0m\\x1b[1;33m\\x1b[0m\\x1b[1;33m\\x1b[0m\\x1b[0m\\n\\x1b[0m\\x1b[0;32m      4\\x1b[0m     \\x1b[0mprint\\x1b[0m\\x1b[1;33m(\\x1b[0m\\x1b[0mcount\\x1b[0m\\x1b[1;33m)\\x1b[0m\\x1b[1;33m\\x1b[0m\\x1b[1;33m\\x1b[0m\\x1b[0m\\n\\x1b[0;32m      5\\x1b[0m \\x1b[0mglobal_test\\x1b[0m\\x1b[1;33m(\\x1b[0m\\x1b[1;33m)\\x1b[0m\\x1b[1;33m\\x1b[0m\\x1b[1;33m\\x1b[0m\\x1b[0m\\n',\n",
       "      \"\\x1b[1;31mUnboundLocalError\\x1b[0m: local variable 'count' referenced before assignment\"]}],\n",
       "   'source': ['count = 0\\n',\n",
       "    'def global_test():\\n',\n",
       "    '    count += 1\\n',\n",
       "    '    print(count)\\n',\n",
       "    'global_test()']},\n",
       "  {'cell_type': 'code',\n",
       "   'execution_count': 6,\n",
       "   'metadata': {},\n",
       "   'outputs': [{'name': 'stdout',\n",
       "     'output_type': 'stream',\n",
       "     'text': ['1\\n', '1\\n']}],\n",
       "   'source': ['count = 0\\n',\n",
       "    'def global_test():\\n',\n",
       "    '    global count\\n',\n",
       "    '    count += 1\\n',\n",
       "    '    print(count)\\n',\n",
       "    'global_test()\\n',\n",
       "    '\\n',\n",
       "    'print(count)']},\n",
       "  {'cell_type': 'markdown',\n",
       "   'metadata': {},\n",
       "   'source': ['如果只是要调用全局变量 根本不用global']},\n",
       "  {'cell_type': 'code',\n",
       "   'execution_count': 7,\n",
       "   'metadata': {},\n",
       "   'outputs': [{'name': 'stdout', 'output_type': 'stream', 'text': ['0\\n']}],\n",
       "   'source': ['count = 0\\n',\n",
       "    'def global_test():\\n',\n",
       "    '    print(count)\\n',\n",
       "    'global_test()']},\n",
       "  {'cell_type': 'markdown',\n",
       "   'metadata': {},\n",
       "   'source': ['nonlocal关键字 三个目的 为了修改为了修改为了修改 修改的是上级函数的局部变量']},\n",
       "  {'cell_type': 'code',\n",
       "   'execution_count': 8,\n",
       "   'metadata': {},\n",
       "   'outputs': [{'name': 'stdout',\n",
       "     'output_type': 'stream',\n",
       "     'text': ['1\\n', '2\\n', '3\\n']}],\n",
       "   'source': ['def nonlocal_test():\\n',\n",
       "    '    count = 0\\n',\n",
       "    '    def test2():\\n',\n",
       "    '        nonlocal count\\n',\n",
       "    '        count += 1\\n',\n",
       "    '        return count\\n',\n",
       "    '    return test2\\n',\n",
       "    ' \\n',\n",
       "    'val = nonlocal_test()\\n',\n",
       "    'print(val())\\n',\n",
       "    'print(val())\\n',\n",
       "    'print(val())']},\n",
       "  {'cell_type': 'markdown', 'metadata': {}, 'source': ['## 列表 元组 字典 集合']},\n",
       "  {'cell_type': 'code',\n",
       "   'execution_count': 22,\n",
       "   'metadata': {'collapsed': True},\n",
       "   'outputs': [],\n",
       "   'source': ['a=[1,2,3,4,5]\\n', 'b = [a,a,a,a,a]']},\n",
       "  {'cell_type': 'code',\n",
       "   'execution_count': 24,\n",
       "   'metadata': {'collapsed': True},\n",
       "   'outputs': [],\n",
       "   'source': ['def foo():\\n', '    pass']},\n",
       "  {'cell_type': 'code',\n",
       "   'execution_count': 25,\n",
       "   'metadata': {'collapsed': True},\n",
       "   'outputs': [],\n",
       "   'source': ['c=[b,foo]']},\n",
       "  {'cell_type': 'code',\n",
       "   'execution_count': 26,\n",
       "   'metadata': {},\n",
       "   'outputs': [{'data': {'text/plain': ['[[[1, 2, 3, 4, 5],\\n',\n",
       "       '  [1, 2, 3, 4, 5],\\n',\n",
       "       '  [1, 2, 3, 4, 5],\\n',\n",
       "       '  [1, 2, 3, 4, 5],\\n',\n",
       "       '  [1, 2, 3, 4, 5]],\\n',\n",
       "       ' <function __main__.foo>]']},\n",
       "     'execution_count': 26,\n",
       "     'metadata': {},\n",
       "     'output_type': 'execute_result'}],\n",
       "   'source': ['c']},\n",
       "  {'cell_type': 'code',\n",
       "   'execution_count': 31,\n",
       "   'metadata': {'collapsed': True},\n",
       "   'outputs': [],\n",
       "   'source': ['c[0][2][2] = 300']},\n",
       "  {'cell_type': 'code',\n",
       "   'execution_count': 33,\n",
       "   'metadata': {'collapsed': True},\n",
       "   'outputs': [],\n",
       "   'source': ['import numpy as np']},\n",
       "  {'cell_type': 'code',\n",
       "   'execution_count': 36,\n",
       "   'metadata': {'collapsed': True},\n",
       "   'outputs': [],\n",
       "   'source': ['a = np.array([[1,2,3,4],2,3,4])']},\n",
       "  {'cell_type': 'code',\n",
       "   'execution_count': 37,\n",
       "   'metadata': {},\n",
       "   'outputs': [{'data': {'text/plain': ['array([list([1, 2, 3, 4]), 2, 3, 4], dtype=object)']},\n",
       "     'execution_count': 37,\n",
       "     'metadata': {},\n",
       "     'output_type': 'execute_result'}],\n",
       "   'source': ['a']},\n",
       "  {'cell_type': 'code',\n",
       "   'execution_count': 32,\n",
       "   'metadata': {},\n",
       "   'outputs': [{'data': {'text/plain': ['[[[1, 2, 300, 4, 5],\\n',\n",
       "       '  [1, 2, 300, 4, 5],\\n',\n",
       "       '  [1, 2, 300, 4, 5],\\n',\n",
       "       '  [1, 2, 300, 4, 5],\\n',\n",
       "       '  [1, 2, 300, 4, 5]],\\n',\n",
       "       ' <function __main__.foo>]']},\n",
       "     'execution_count': 32,\n",
       "     'metadata': {},\n",
       "     'output_type': 'execute_result'}],\n",
       "   'source': ['c']},\n",
       "  {'cell_type': 'code',\n",
       "   'execution_count': 29,\n",
       "   'metadata': {},\n",
       "   'outputs': [{'name': 'stdout',\n",
       "     'output_type': 'stream',\n",
       "     'text': ['None\\n']}],\n",
       "   'source': ['print(c[1]())']},\n",
       "  {'cell_type': 'code',\n",
       "   'execution_count': 38,\n",
       "   'metadata': {'scrolled': True},\n",
       "   'outputs': [{'data': {'text/plain': [\"['__add__',\\n\",\n",
       "       \" '__class__',\\n\",\n",
       "       \" '__contains__',\\n\",\n",
       "       \" '__delattr__',\\n\",\n",
       "       \" '__delitem__',\\n\",\n",
       "       \" '__dir__',\\n\",\n",
       "       \" '__doc__',\\n\",\n",
       "       \" '__eq__',\\n\",\n",
       "       \" '__format__',\\n\",\n",
       "       \" '__ge__',\\n\",\n",
       "       \" '__getattribute__',\\n\",\n",
       "       \" '__getitem__',\\n\",\n",
       "       \" '__gt__',\\n\",\n",
       "       \" '__hash__',\\n\",\n",
       "       \" '__iadd__',\\n\",\n",
       "       \" '__imul__',\\n\",\n",
       "       \" '__init__',\\n\",\n",
       "       \" '__init_subclass__',\\n\",\n",
       "       \" '__iter__',\\n\",\n",
       "       \" '__le__',\\n\",\n",
       "       \" '__len__',\\n\",\n",
       "       \" '__lt__',\\n\",\n",
       "       \" '__mul__',\\n\",\n",
       "       \" '__ne__',\\n\",\n",
       "       \" '__new__',\\n\",\n",
       "       \" '__reduce__',\\n\",\n",
       "       \" '__reduce_ex__',\\n\",\n",
       "       \" '__repr__',\\n\",\n",
       "       \" '__reversed__',\\n\",\n",
       "       \" '__rmul__',\\n\",\n",
       "       \" '__setattr__',\\n\",\n",
       "       \" '__setitem__',\\n\",\n",
       "       \" '__sizeof__',\\n\",\n",
       "       \" '__str__',\\n\",\n",
       "       \" '__subclasshook__',\\n\",\n",
       "       \" 'append',\\n\",\n",
       "       \" 'clear',\\n\",\n",
       "       \" 'copy',\\n\",\n",
       "       \" 'count',\\n\",\n",
       "       \" 'extend',\\n\",\n",
       "       \" 'index',\\n\",\n",
       "       \" 'insert',\\n\",\n",
       "       \" 'pop',\\n\",\n",
       "       \" 'remove',\\n\",\n",
       "       \" 'reverse',\\n\",\n",
       "       \" 'sort']\"]},\n",
       "     'execution_count': 38,\n",
       "     'metadata': {},\n",
       "     'output_type': 'execute_result'}],\n",
       "   'source': ['dir(list)']},\n",
       "  {'cell_type': 'code',\n",
       "   'execution_count': 41,\n",
       "   'metadata': {},\n",
       "   'outputs': [{'name': 'stdout',\n",
       "     'output_type': 'stream',\n",
       "     'text': [\"['d', 'd', 'd', 'd']\\n\"]}],\n",
       "   'source': ['a=[]\\n',\n",
       "    'a.append(\"d\")\\n',\n",
       "    'a.append(\"d\")\\n',\n",
       "    'a.append(\"d\")\\n',\n",
       "    'a.append(\"d\")\\n',\n",
       "    'print(a)']},\n",
       "  {'cell_type': 'code',\n",
       "   'execution_count': 42,\n",
       "   'metadata': {},\n",
       "   'outputs': [{'data': {'text/plain': [\"'dddd'\"]},\n",
       "     'execution_count': 42,\n",
       "     'metadata': {},\n",
       "     'output_type': 'execute_result'}],\n",
       "   'source': [\"''.join(a)\"]},\n",
       "  {'cell_type': 'code',\n",
       "   'execution_count': 44,\n",
       "   'metadata': {'scrolled': True},\n",
       "   'outputs': [{'name': 'stdout',\n",
       "     'output_type': 'stream',\n",
       "     'text': ['[1, 3, 4, 5, 21]\\n',\n",
       "      '[21, 3, 4, 1, 5]\\n',\n",
       "      'None\\n',\n",
       "      '[1, 3, 4, 5, 21]\\n']}],\n",
       "   'source': ['a=[21,3,4,1,5]\\n',\n",
       "    'print(sorted(a))\\n',\n",
       "    'print(a)\\n',\n",
       "    '\\n',\n",
       "    'print(a.sort())\\n',\n",
       "    'print(a)']},\n",
       "  {'cell_type': 'code',\n",
       "   'execution_count': 45,\n",
       "   'metadata': {},\n",
       "   'outputs': [{'data': {'text/plain': ['[1, 3, 4, 5, 21]']},\n",
       "     'execution_count': 45,\n",
       "     'metadata': {},\n",
       "     'output_type': 'execute_result'}],\n",
       "   'source': ['a']},\n",
       "  {'cell_type': 'code',\n",
       "   'execution_count': 51,\n",
       "   'metadata': {},\n",
       "   'outputs': [{'name': 'stdout',\n",
       "     'output_type': 'stream',\n",
       "     'text': ['[3, 4, 5]\\n']}],\n",
       "   'source': ['b = a[1:-1]\\n', 'print(b)']},\n",
       "  {'cell_type': 'code',\n",
       "   'execution_count': 56,\n",
       "   'metadata': {},\n",
       "   'outputs': [{'name': 'stdout',\n",
       "     'output_type': 'stream',\n",
       "     'text': ['([1, 10000, 3], 1, 2)\\n']}],\n",
       "   'source': ['# a=(1,2,3)\\n',\n",
       "    'b=[1,2,3]\\n',\n",
       "    'c=(b,1,2)\\n',\n",
       "    '\\n',\n",
       "    'c[0][1]=10000\\n',\n",
       "    'print(c)']},\n",
       "  {'cell_type': 'code',\n",
       "   'execution_count': 58,\n",
       "   'metadata': {'collapsed': True},\n",
       "   'outputs': [],\n",
       "   'source': ['def foo(a,b):\\n', '    return b,a']},\n",
       "  {'cell_type': 'code',\n",
       "   'execution_count': 61,\n",
       "   'metadata': {},\n",
       "   'outputs': [{'name': 'stdout',\n",
       "     'output_type': 'stream',\n",
       "     'text': ['(500, 100)\\n']}],\n",
       "   'source': ['print(foo(100,500))']},\n",
       "  {'cell_type': 'markdown', 'metadata': {}, 'source': ['索引（字符串索引） 切片 for迭代']},\n",
       "  {'cell_type': 'code',\n",
       "   'execution_count': 23,\n",
       "   'metadata': {},\n",
       "   'outputs': [{'name': 'stdout',\n",
       "     'output_type': 'stream',\n",
       "     'text': ['4 3\\n', '3 4\\n']}],\n",
       "   'source': ['a=4\\n', 'b=3\\n', 'print(a,b)\\n', 'a,b=b,a\\n', 'print(a,b)']},\n",
       "  {'cell_type': 'code',\n",
       "   'execution_count': 29,\n",
       "   'metadata': {'scrolled': True},\n",
       "   'outputs': [{'name': 'stdout',\n",
       "     'output_type': 'stream',\n",
       "     'text': ['1\\n', '2\\n', '(4, 3)\\n']}],\n",
       "   'source': ['def foo(a,b):\\n',\n",
       "    '    return b,a\\n',\n",
       "    '\\n',\n",
       "    '_,temp = foo(1,2)\\n',\n",
       "    '\\n',\n",
       "    '3+100\\n',\n",
       "    'print(temp)\\n',\n",
       "    'print(_)        \\n',\n",
       "    '\\n',\n",
       "    'print(foo(3,4))']},\n",
       "  {'cell_type': 'code',\n",
       "   'execution_count': 57,\n",
       "   'metadata': {},\n",
       "   'outputs': [],\n",
       "   'source': ['a = 4\\n', 'b = 5\\n', 'a,b = b,a']},\n",
       "  {'cell_type': 'code',\n",
       "   'execution_count': 58,\n",
       "   'metadata': {},\n",
       "   'outputs': [{'name': 'stdout', 'output_type': 'stream', 'text': ['5 4\\n']}],\n",
       "   'source': ['print(a,b)']},\n",
       "  {'cell_type': 'code',\n",
       "   'execution_count': 63,\n",
       "   'metadata': {},\n",
       "   'outputs': [{'name': 'stdout',\n",
       "     'output_type': 'stream',\n",
       "     'text': ['[1, 3]\\n']}],\n",
       "   'source': ['a=[1,2,3]\\n', 'del a[1:2]\\n', 'print(a)']},\n",
       "  {'cell_type': 'code',\n",
       "   'execution_count': 37,\n",
       "   'metadata': {},\n",
       "   'outputs': [{'data': {'text/plain': ['103']},\n",
       "     'execution_count': 37,\n",
       "     'metadata': {},\n",
       "     'output_type': 'execute_result'}],\n",
       "   'source': ['3+100']},\n",
       "  {'cell_type': 'code',\n",
       "   'execution_count': 38,\n",
       "   'metadata': {},\n",
       "   'outputs': [{'data': {'text/plain': ['2']},\n",
       "     'execution_count': 38,\n",
       "     'metadata': {},\n",
       "     'output_type': 'execute_result'}],\n",
       "   'source': ['_']},\n",
       "  {'cell_type': 'code',\n",
       "   'execution_count': 59,\n",
       "   'metadata': {},\n",
       "   'outputs': [],\n",
       "   'source': [\"a = {'name':'dict','age':9}\"]},\n",
       "  {'cell_type': 'code',\n",
       "   'execution_count': 64,\n",
       "   'metadata': {},\n",
       "   'outputs': [],\n",
       "   'source': [\"a['d'] = 1000\"]},\n",
       "  {'cell_type': 'code',\n",
       "   'execution_count': 67,\n",
       "   'metadata': {},\n",
       "   'outputs': [{'data': {'text/plain': ['dict_values([1000, 9, 1000])']},\n",
       "     'execution_count': 67,\n",
       "     'metadata': {},\n",
       "     'output_type': 'execute_result'}],\n",
       "   'source': ['a.values()']},\n",
       "  {'cell_type': 'code',\n",
       "   'execution_count': 68,\n",
       "   'metadata': {},\n",
       "   'outputs': [],\n",
       "   'source': ['a=[1,2,2,2,2,2,2,2]']},\n",
       "  {'cell_type': 'code',\n",
       "   'execution_count': 70,\n",
       "   'metadata': {},\n",
       "   'outputs': [{'data': {'text/plain': ['[1, 2]']},\n",
       "     'execution_count': 70,\n",
       "     'metadata': {},\n",
       "     'output_type': 'execute_result'}],\n",
       "   'source': ['list(set(a))']},\n",
       "  {'cell_type': 'code',\n",
       "   'execution_count': 2,\n",
       "   'metadata': {},\n",
       "   'outputs': [{'data': {'text/plain': ['False']},\n",
       "     'execution_count': 2,\n",
       "     'metadata': {},\n",
       "     'output_type': 'execute_result'}],\n",
       "   'source': ['# Set与list类似，但不存储重复的元素\\n',\n",
       "    'empty_set = set()\\n',\n",
       "    'some_set = set([1, 2, 2, 3, 4])   # some_set is now set([1, 2, 3, 4])\\n',\n",
       "    '\\n',\n",
       "    '# 与字典类型一样，Set 里的元素也必须是不可修改的\\n',\n",
       "    \"# invalid_set = {[1], 1}  # => Raises a TypeError: unhashable type: 'list'\\n\",\n",
       "    'valid_set = {(1,), 1}\\n',\n",
       "    '\\n',\n",
       "    '# Set也是无序的，尽管有时看上去像有序的\\n',\n",
       "    'another_set = set([4, 3, 2, 2, 1])  # another_set is now set([1, 2, 3, 4])\\n',\n",
       "    '# 从Python 2.7开妈, {}可以用来声明一个Set\\n',\n",
       "    'filled_set={1,2,2,3,4} #=>{1,2,3,4}\\n',\n",
       "    '# Can set new variables to a set\\n',\n",
       "    'filled_set = some_set\\n',\n",
       "    '# 向Set中添加元素\\n',\n",
       "    'filled_set.add(5)   # filled_set is now {1, 2, 3, 4, 5}\\n',\n",
       "    '# 用 & 求 Set的交集\\n',\n",
       "    'other_set = {3, 4, 5, 6}\\n',\n",
       "    'filled_set & other_set # =>{3,4,5}\\n',\n",
       "    '# 用 | 求 Set的合集\\n',\n",
       "    'filled_set | other_set # =>{1,2,3,4,5,6}\\n',\n",
       "    '# Do set difference with - \\n',\n",
       "    '{1,2,3,4}-{2,3,5} # => {1,4}\\n',\n",
       "    '# Do set symmetric difference with ^ \\n',\n",
       "    '{1,2,3,4}^{2,3,5} #=>{1,4,5}\\n',\n",
       "    '# 检查右边是否是左边的子集\\n',\n",
       "    '{1, 2} >= {1, 2, 3} # => False\\n',\n",
       "    '# 检查左边是否是右边的子集\\n',\n",
       "    '{1, 2} <= {1, 2, 3} # => True\\n',\n",
       "    '# 检查元素是否在集合中\\n',\n",
       "    '2 in filled_set   # => True\\n',\n",
       "    '10 in filled_set   # => False']},\n",
       "  {'cell_type': 'markdown', 'metadata': {}, 'source': ['# Python字符串操作']},\n",
       "  {'cell_type': 'markdown', 'metadata': {}, 'source': ['## 格式化字符串的几种姿势']},\n",
       "  {'cell_type': 'markdown',\n",
       "   'metadata': {},\n",
       "   'source': ['建议使用字符串的format方法实现格式化字符串  \\n',\n",
       "    '虽然也可以用类似c语言的%s  \\n',\n",
       "    'be pythonic!']},\n",
       "  {'cell_type': 'code',\n",
       "   'execution_count': 1,\n",
       "   'metadata': {'collapsed': True},\n",
       "   'outputs': [],\n",
       "   'source': ['\"\"\"\\n',\n",
       "    '\\n',\n",
       "    'myUser = \"superman\"\\n',\n",
       "    'myKey = 4567890\\n',\n",
       "    '\"\"\"']},\n",
       "  {'cell_type': 'code',\n",
       "   'execution_count': 74,\n",
       "   'metadata': {'scrolled': True},\n",
       "   'outputs': [{'data': {'text/plain': [\"['__add__',\\n\",\n",
       "       \" '__class__',\\n\",\n",
       "       \" '__contains__',\\n\",\n",
       "       \" '__delattr__',\\n\",\n",
       "       \" '__dir__',\\n\",\n",
       "       \" '__doc__',\\n\",\n",
       "       \" '__eq__',\\n\",\n",
       "       \" '__format__',\\n\",\n",
       "       \" '__ge__',\\n\",\n",
       "       \" '__getattribute__',\\n\",\n",
       "       \" '__getitem__',\\n\",\n",
       "       \" '__getnewargs__',\\n\",\n",
       "       \" '__gt__',\\n\",\n",
       "       \" '__hash__',\\n\",\n",
       "       \" '__init__',\\n\",\n",
       "       \" '__init_subclass__',\\n\",\n",
       "       \" '__iter__',\\n\",\n",
       "       \" '__le__',\\n\",\n",
       "       \" '__len__',\\n\",\n",
       "       \" '__lt__',\\n\",\n",
       "       \" '__mod__',\\n\",\n",
       "       \" '__mul__',\\n\",\n",
       "       \" '__ne__',\\n\",\n",
       "       \" '__new__',\\n\",\n",
       "       \" '__reduce__',\\n\",\n",
       "       \" '__reduce_ex__',\\n\",\n",
       "       \" '__repr__',\\n\",\n",
       "       \" '__rmod__',\\n\",\n",
       "       \" '__rmul__',\\n\",\n",
       "       \" '__setattr__',\\n\",\n",
       "       \" '__sizeof__',\\n\",\n",
       "       \" '__str__',\\n\",\n",
       "       \" '__subclasshook__',\\n\",\n",
       "       \" 'capitalize',\\n\",\n",
       "       \" 'casefold',\\n\",\n",
       "       \" 'center',\\n\",\n",
       "       \" 'count',\\n\",\n",
       "       \" 'encode',\\n\",\n",
       "       \" 'endswith',\\n\",\n",
       "       \" 'expandtabs',\\n\",\n",
       "       \" 'find',\\n\",\n",
       "       \" 'format',\\n\",\n",
       "       \" 'format_map',\\n\",\n",
       "       \" 'index',\\n\",\n",
       "       \" 'isalnum',\\n\",\n",
       "       \" 'isalpha',\\n\",\n",
       "       \" 'isdecimal',\\n\",\n",
       "       \" 'isdigit',\\n\",\n",
       "       \" 'isidentifier',\\n\",\n",
       "       \" 'islower',\\n\",\n",
       "       \" 'isnumeric',\\n\",\n",
       "       \" 'isprintable',\\n\",\n",
       "       \" 'isspace',\\n\",\n",
       "       \" 'istitle',\\n\",\n",
       "       \" 'isupper',\\n\",\n",
       "       \" 'join',\\n\",\n",
       "       \" 'ljust',\\n\",\n",
       "       \" 'lower',\\n\",\n",
       "       \" 'lstrip',\\n\",\n",
       "       \" 'maketrans',\\n\",\n",
       "       \" 'partition',\\n\",\n",
       "       \" 'replace',\\n\",\n",
       "       \" 'rfind',\\n\",\n",
       "       \" 'rindex',\\n\",\n",
       "       \" 'rjust',\\n\",\n",
       "       \" 'rpartition',\\n\",\n",
       "       \" 'rsplit',\\n\",\n",
       "       \" 'rstrip',\\n\",\n",
       "       \" 'split',\\n\",\n",
       "       \" 'splitlines',\\n\",\n",
       "       \" 'startswith',\\n\",\n",
       "       \" 'strip',\\n\",\n",
       "       \" 'swapcase',\\n\",\n",
       "       \" 'title',\\n\",\n",
       "       \" 'translate',\\n\",\n",
       "       \" 'upper',\\n\",\n",
       "       \" 'zfill']\"]},\n",
       "     'execution_count': 74,\n",
       "     'metadata': {},\n",
       "     'output_type': 'execute_result'}],\n",
       "   'source': ['dir(str)']},\n",
       "  {'cell_type': 'markdown', 'metadata': {}, 'source': ['空花括号占位符']},\n",
       "  {'cell_type': 'code',\n",
       "   'execution_count': 73,\n",
       "   'metadata': {},\n",
       "   'outputs': [{'data': {'text/plain': ['\"I\\'m AA, my key is BB\"']},\n",
       "     'execution_count': 73,\n",
       "     'metadata': {},\n",
       "     'output_type': 'execute_result'}],\n",
       "   'source': ['\"I\\'m {}, my key is {}\".format(\\'AA\\',\\'BB\\')']},\n",
       "  {'cell_type': 'code',\n",
       "   'execution_count': 4,\n",
       "   'metadata': {'collapsed': True},\n",
       "   'outputs': [],\n",
       "   'source': ['myUser = \"superman\"\\n', 'myKey = 4567890']},\n",
       "  {'cell_type': 'code',\n",
       "   'execution_count': 10,\n",
       "   'metadata': {},\n",
       "   'outputs': [{'data': {'text/plain': ['\"I\\'m superman, my key is 4567890\"']},\n",
       "     'execution_count': 10,\n",
       "     'metadata': {},\n",
       "     'output_type': 'execute_result'}],\n",
       "   'source': ['def loginIn(user, key):\\n',\n",
       "    '    return \"I\\'m {}, my key is {}\".format(user,key)\\n',\n",
       "    '\\n',\n",
       "    'loginIn(myUser,myKey)']},\n",
       "  {'cell_type': 'markdown', 'metadata': {}, 'source': ['花括号编号占位符']},\n",
       "  {'cell_type': 'code',\n",
       "   'execution_count': 6,\n",
       "   'metadata': {},\n",
       "   'outputs': [{'data': {'text/plain': ['\"I\\'m superman, my key is 4567890\"']},\n",
       "     'execution_count': 6,\n",
       "     'metadata': {},\n",
       "     'output_type': 'execute_result'}],\n",
       "   'source': ['loginIn(myUser,myKey)']},\n",
       "  {'cell_type': 'code',\n",
       "   'execution_count': 8,\n",
       "   'metadata': {},\n",
       "   'outputs': [{'name': 'stdout',\n",
       "     'output_type': 'stream',\n",
       "     'text': [\"I'm superman4567890superman, my key is 4567890\\n\"]}],\n",
       "   'source': ['def repe(user, key):\\n',\n",
       "    '    return \"I\\'m {0}{1}{0}, my key is {1}\".format(user,key)\\n',\n",
       "    'print(repe(myUser,myKey))']},\n",
       "  {'cell_type': 'markdown', 'metadata': {}, 'source': ['关键字占位符']},\n",
       "  {'cell_type': 'code',\n",
       "   'execution_count': 13,\n",
       "   'metadata': {},\n",
       "   'outputs': [{'data': {'text/plain': ['\"I\\'m superman, my key is 4567890superman\"']},\n",
       "     'execution_count': 13,\n",
       "     'metadata': {},\n",
       "     'output_type': 'execute_result'}],\n",
       "   'source': ['def loginIn2(a,b):\\n',\n",
       "    '    return \"I\\'m {user}, my key is {key}{user}\".format(key = b, user = a)\\n',\n",
       "    'loginIn2(myUser,myKey)']},\n",
       "  {'cell_type': 'code',\n",
       "   'execution_count': 14,\n",
       "   'metadata': {},\n",
       "   'outputs': [{'data': {'text/plain': ['\"I\\'m gx, my key is 12345gx\"']},\n",
       "     'execution_count': 14,\n",
       "     'metadata': {},\n",
       "     'output_type': 'execute_result'}],\n",
       "   'source': ['\"I\\'m {user}, my key is {key}{user}\".format(key = 12345, user = \"gx\")']},\n",
       "  {'cell_type': 'markdown', 'metadata': {}, 'source': ['%s 方法']},\n",
       "  {'cell_type': 'code',\n",
       "   'execution_count': 7,\n",
       "   'metadata': {},\n",
       "   'outputs': [{'data': {'text/plain': ['\"I\\'m 4567890, my key is 4567890\"']},\n",
       "     'execution_count': 7,\n",
       "     'metadata': {},\n",
       "     'output_type': 'execute_result'}],\n",
       "   'source': ['loginIn2(myUser,myKey)']},\n",
       "  {'cell_type': 'code',\n",
       "   'execution_count': 8,\n",
       "   'metadata': {},\n",
       "   'outputs': [{'name': 'stdout',\n",
       "     'output_type': 'stream',\n",
       "     'text': [\"I'm superman. 99 is my key\\n\"]}],\n",
       "   'source': ['print( \"I\\'m %s. %d is my key\" % (\\'superman\\', 99)  )']},\n",
       "  {'cell_type': 'markdown',\n",
       "   'metadata': {},\n",
       "   'source': ['对齐和填充  { : + 填充 + 对齐方式 + 总长 }']},\n",
       "  {'cell_type': 'code',\n",
       "   'execution_count': 15,\n",
       "   'metadata': {},\n",
       "   'outputs': [{'name': 'stdout',\n",
       "     'output_type': 'stream',\n",
       "     'text': ['  superman\\n']}],\n",
       "   'source': ['print(\"{:>10}\".format(myUser))']},\n",
       "  {'cell_type': 'code',\n",
       "   'execution_count': 10,\n",
       "   'metadata': {},\n",
       "   'outputs': [{'name': 'stdout',\n",
       "     'output_type': 'stream',\n",
       "     'text': [\"I'm 00superman\\n\"]}],\n",
       "   'source': ['print(\"I\\'m {:0>10}\".format(myUser))']},\n",
       "  {'cell_type': 'code',\n",
       "   'execution_count': 18,\n",
       "   'metadata': {'scrolled': True},\n",
       "   'outputs': [{'name': 'stdout',\n",
       "     'output_type': 'stream',\n",
       "     'text': [\"I'm 000000superman000000\\n\"]}],\n",
       "   'source': ['print(\"I\\'m {a:0^20}\".format(a=myUser))']},\n",
       "  {'cell_type': 'code',\n",
       "   'execution_count': 32,\n",
       "   'metadata': {},\n",
       "   'outputs': [{'name': 'stdout',\n",
       "     'output_type': 'stream',\n",
       "     'text': ['000000haha\\n']}],\n",
       "   'source': ['print(\"{:0>10}\".format(\\'haha\\'))']},\n",
       "  {'cell_type': 'code',\n",
       "   'execution_count': 39,\n",
       "   'metadata': {},\n",
       "   'outputs': [{'name': 'stdout',\n",
       "     'output_type': 'stream',\n",
       "     'text': ['0000000000000000haha\\n']}],\n",
       "   'source': ['i = 20\\n',\n",
       "    'start = \"print(\\\\\\'{:0>\"\\n',\n",
       "    'end = \"}\\\\\\'.format(\\\\\\'haha\\\\\\'))\"\\n',\n",
       "    'total = start + str(i) + end\\n',\n",
       "    'eval(total)']},\n",
       "  {'cell_type': 'markdown', 'metadata': {}, 'source': ['## 字符串拼接拆分']},\n",
       "  {'cell_type': 'code',\n",
       "   'execution_count': 77,\n",
       "   'metadata': {},\n",
       "   'outputs': [{'data': {'text/plain': [\"'laozhang :2'\"]},\n",
       "     'execution_count': 77,\n",
       "     'metadata': {},\n",
       "     'output_type': 'execute_result'}],\n",
       "   'source': ['a = \\'laozhang\\'+\" :\"+str(2)\\n', 'a']},\n",
       "  {'cell_type': 'markdown', 'metadata': {}, 'source': ['join方法（属于字符串的方法）']},\n",
       "  {'cell_type': 'code',\n",
       "   'execution_count': 79,\n",
       "   'metadata': {},\n",
       "   'outputs': [],\n",
       "   'source': [\"a = ['laowang','laoli','laozhang','laoxiang']\"]},\n",
       "  {'cell_type': 'code',\n",
       "   'execution_count': 83,\n",
       "   'metadata': {},\n",
       "   'outputs': [{'data': {'text/plain': [\"'laowang--->laoli--->laozhang--->laoxiang'\"]},\n",
       "     'execution_count': 83,\n",
       "     'metadata': {},\n",
       "     'output_type': 'execute_result'}],\n",
       "   'source': ['\"--->\".join(a)']},\n",
       "  {'cell_type': 'code',\n",
       "   'execution_count': 25,\n",
       "   'metadata': {},\n",
       "   'outputs': [{'name': 'stdout',\n",
       "     'output_type': 'stream',\n",
       "     'text': ['laowang\\n', 'laoli\\n', 'laozhang\\n', 'laoxiang\\n']}],\n",
       "   'source': ['print(\"\\\\n\".join(a))']},\n",
       "  {'cell_type': 'code',\n",
       "   'execution_count': 27,\n",
       "   'metadata': {},\n",
       "   'outputs': [{'name': 'stdout',\n",
       "     'output_type': 'stream',\n",
       "     'text': ['h e l l o \\n', '   w o r l d\\n']}],\n",
       "   'source': ['print(\" \".join(\"hello\\\\n world\"))']},\n",
       "  {'cell_type': 'code',\n",
       "   'execution_count': 12,\n",
       "   'metadata': {},\n",
       "   'outputs': [{'name': 'stdout',\n",
       "     'output_type': 'stream',\n",
       "     'text': ['12345\\n',\n",
       "      '1&&2&&3&&4&&5\\n',\n",
       "      'h**e**l**l**o**w**o**r**d\\n',\n",
       "      '3101041010510106\\n']}],\n",
       "   'source': ['print(      \"\".join([\\'1\\',\\'2\\',\\'3\\',\\'4\\',\\'5\\'])        )\\n',\n",
       "    'print(      \"&&\".join([\\'1\\',\\'2\\',\\'3\\',\\'4\\',\\'5\\'])      )\\n',\n",
       "    'print(      \"**\".join(\"helloword\")                )\\n',\n",
       "    'print(      \"1010\".join((\\'3\\',\\'4\\',\\'5\\',\\'6\\'))        )']},\n",
       "  {'cell_type': 'code',\n",
       "   'execution_count': 13,\n",
       "   'metadata': {},\n",
       "   'outputs': [{'name': 'stdout',\n",
       "     'output_type': 'stream',\n",
       "     'text': ['name\\n', 'score\\n', 'A\\n', 'B\\n']}],\n",
       "   'source': ['d = {\"name\":\"idit\", \"score\":99, \"A\":99, \"B\":100}\\n',\n",
       "    'print( \"\\\\n\".join(d)   )']},\n",
       "  {'cell_type': 'markdown',\n",
       "   'metadata': {},\n",
       "   'source': ['split方法（属于字符串的方法）\\n',\n",
       "    '\\n',\n",
       "    '语法结构：str.split(str=\"\",num=string.count(str))\\\\[n\\\\]    \\n',\n",
       "    '\\n',\n",
       "    '**str** 分割标 \\n',\n",
       "    '\\n',\n",
       "    '**num** 分割次数 \\n',\n",
       "    '\\n',\n",
       "    '**n**分割后数组索引']},\n",
       "  {'cell_type': 'code',\n",
       "   'execution_count': 84,\n",
       "   'metadata': {},\n",
       "   'outputs': [],\n",
       "   'source': ['url = \"www.ultrabear.com.cn  dafa\"']},\n",
       "  {'cell_type': 'code',\n",
       "   'execution_count': 33,\n",
       "   'metadata': {},\n",
       "   'outputs': [{'name': 'stdout',\n",
       "     'output_type': 'stream',\n",
       "     'text': [\"['www', 'ultrabear', 'com', 'cn  dafa']\\n\", 'com\\n']}],\n",
       "   'source': ['print(url.split(\".\"))\\n', \"print(url.split('.')[2])\"]},\n",
       "  {'cell_type': 'code',\n",
       "   'execution_count': 34,\n",
       "   'metadata': {'scrolled': True},\n",
       "   'outputs': [{'name': 'stdout',\n",
       "     'output_type': 'stream',\n",
       "     'text': ['www ultrabear com cn  dafa\\n']}],\n",
       "   'source': [\"print(' '.join(url.split('.')))\"]},\n",
       "  {'cell_type': 'code',\n",
       "   'execution_count': 35,\n",
       "   'metadata': {},\n",
       "   'outputs': [{'name': 'stdout',\n",
       "     'output_type': 'stream',\n",
       "     'text': [\"['www.ultrabear.com.cn', 'dafa']\\n\"]}],\n",
       "   'source': ['print(url.split())']},\n",
       "  {'cell_type': 'code',\n",
       "   'execution_count': 40,\n",
       "   'metadata': {},\n",
       "   'outputs': [{'name': 'stdout',\n",
       "     'output_type': 'stream',\n",
       "     'text': [\"['www', 'ultrabear', 'com.cn  dafa']\\n\"]}],\n",
       "   'source': ['print(url.split(\".\",2))']},\n",
       "  {'cell_type': 'code',\n",
       "   'execution_count': 4,\n",
       "   'metadata': {},\n",
       "   'outputs': [{'name': 'stdout',\n",
       "     'output_type': 'stream',\n",
       "     'text': [\"['www.ultrabear.com.cn', '', 'dafa']\\n\"]}],\n",
       "   'source': ['print(url.split(\" \"))']},\n",
       "  {'cell_type': 'code',\n",
       "   'execution_count': None,\n",
       "   'metadata': {'collapsed': True},\n",
       "   'outputs': [],\n",
       "   'source': []},\n",
       "  {'cell_type': 'markdown', 'metadata': {}, 'source': ['# Python列表补充 ']},\n",
       "  {'cell_type': 'markdown', 'metadata': {}, 'source': ['## 列表操作 增删改查']},\n",
       "  {'cell_type': 'markdown',\n",
       "   'metadata': {},\n",
       "   'source': ['list.append(obj)-------------------向列表中添加一个对象obj\\n',\n",
       "    '\\n',\n",
       "    'list.count(obj)---------------------返回一个对象obj在列表中出现的次数\\n',\n",
       "    '\\n',\n",
       "    'list.extend(seq)--------------------把序列seq的内容添加到列表中\\n',\n",
       "    '\\n',\n",
       "    'list.index(obj,i=0,j=len(list))------返回list\\\\[k\\\\]==obj的k值，并且k的范围在 i<=k<J；否则引发ValueError异常。\\n',\n",
       "    '\\n',\n",
       "    'list.insert(index,obj)---------------在索引量为index的位置插入对象obj。\\n',\n",
       "    '\\n',\n",
       "    'list.pop(index=-1)-----------------删除并返回指定位置的对象，默认是最后一个对象\\n',\n",
       "    '\\n',\n",
       "    'list.remove(obj)-------------------从列表中删除对象obj\\n',\n",
       "    '\\n',\n",
       "    'list.reverse()-----------------------对列表进行倒序\\n',\n",
       "    '\\n',\n",
       "    'list.sort(func=None,key=None,reverse=False)--------以指定的方式排序列表中的成员，如果func和key参数指定，则按照指定的方式比较各个元素，如果reverser标志被设置为True，则列表以反序排列。\\n',\n",
       "    '\\n',\n",
       "    'sorted()\\n',\n",
       "    '\\n',\n",
       "    '+ * ']},\n",
       "  {'cell_type': 'code',\n",
       "   'execution_count': 41,\n",
       "   'metadata': {'collapsed': True},\n",
       "   'outputs': [],\n",
       "   'source': [\"a = [100,2,'da',' ','superman',[1,2,3],(4,5,6)]\"]},\n",
       "  {'cell_type': 'markdown', 'metadata': {}, 'source': ['获得元素索引']},\n",
       "  {'cell_type': 'code',\n",
       "   'execution_count': 19,\n",
       "   'metadata': {},\n",
       "   'outputs': [{'name': 'stdout', 'output_type': 'stream', 'text': ['3\\n']}],\n",
       "   'source': [\"print(a.index(' '))\"]},\n",
       "  {'cell_type': 'markdown', 'metadata': {}, 'source': ['反转']},\n",
       "  {'cell_type': 'code',\n",
       "   'execution_count': 20,\n",
       "   'metadata': {},\n",
       "   'outputs': [{'name': 'stdout',\n",
       "     'output_type': 'stream',\n",
       "     'text': [\"[(4, 5, 6), [1, 2, 3], 'superman', ' ', 'da', 2, 100]\\n\"]}],\n",
       "   'source': ['a.reverse()\\n', 'print(a)']},\n",
       "  {'cell_type': 'markdown', 'metadata': {}, 'source': ['排序']},\n",
       "  {'cell_type': 'code',\n",
       "   'execution_count': 42,\n",
       "   'metadata': {},\n",
       "   'outputs': [{'name': 'stdout',\n",
       "     'output_type': 'stream',\n",
       "     'text': ['[2, 3, 4, 5, 6, 7, 9]\\n']}],\n",
       "   'source': ['b = [2,5,3,9,7,4,6]\\n', 'c = sorted(b)\\n', 'print(c)']},\n",
       "  {'cell_type': 'code',\n",
       "   'execution_count': 43,\n",
       "   'metadata': {},\n",
       "   'outputs': [{'data': {'text/plain': ['[2, 5, 3, 9, 7, 4, 6]']},\n",
       "     'execution_count': 43,\n",
       "     'metadata': {},\n",
       "     'output_type': 'execute_result'}],\n",
       "   'source': ['b']},\n",
       "  {'cell_type': 'code',\n",
       "   'execution_count': 44,\n",
       "   'metadata': {},\n",
       "   'outputs': [{'name': 'stdout',\n",
       "     'output_type': 'stream',\n",
       "     'text': ['[2, 3, 4, 5, 6, 7, 9]\\n']}],\n",
       "   'source': ['b.sort()\\n', 'print(b)']},\n",
       "  {'cell_type': 'markdown', 'metadata': {}, 'source': ['插入']},\n",
       "  {'cell_type': 'code',\n",
       "   'execution_count': 24,\n",
       "   'metadata': {},\n",
       "   'outputs': [{'data': {'text/plain': [\"[2, 3, 4, 5, 6, 'world', 7, 9]\"]},\n",
       "     'execution_count': 24,\n",
       "     'metadata': {},\n",
       "     'output_type': 'execute_result'}],\n",
       "   'source': ['b.insert(5,\"world\")\\n', 'b']},\n",
       "  {'cell_type': 'markdown', 'metadata': {}, 'source': ['枚举']},\n",
       "  {'cell_type': 'code',\n",
       "   'execution_count': None,\n",
       "   'metadata': {'collapsed': True},\n",
       "   'outputs': [],\n",
       "   'source': ['for i in range(0,len(b)):\\n',\n",
       "    '    print(b[i])\\n',\n",
       "    '    print(i)']},\n",
       "  {'cell_type': 'code',\n",
       "   'execution_count': 25,\n",
       "   'metadata': {},\n",
       "   'outputs': [{'name': 'stdout',\n",
       "     'output_type': 'stream',\n",
       "     'text': ['0 2\\n',\n",
       "      '1 3\\n',\n",
       "      '2 4\\n',\n",
       "      '3 5\\n',\n",
       "      '4 6\\n',\n",
       "      '5 world\\n',\n",
       "      '6 7\\n',\n",
       "      '7 9\\n']}],\n",
       "   'source': ['for i,v in enumerate(b):\\n', '    print(i,v)']},\n",
       "  {'cell_type': 'code',\n",
       "   'execution_count': 40,\n",
       "   'metadata': {},\n",
       "   'outputs': [{'name': 'stdout',\n",
       "     'output_type': 'stream',\n",
       "     'text': ['1\\n',\n",
       "      '[1, 2]\\n',\n",
       "      '[3, 4]\\n',\n",
       "      '[3, 4]\\n',\n",
       "      '[]\\n',\n",
       "      '[1, 2, 3, 5]\\n']}],\n",
       "   'source': ['a = [1,2,3,4]\\n',\n",
       "    'print(a[0])\\n',\n",
       "    '\\n',\n",
       "    'b = a[:2]\\n',\n",
       "    'print(b)\\n',\n",
       "    '\\n',\n",
       "    'c = a[2:]\\n',\n",
       "    'print(c)\\n',\n",
       "    '\\n',\n",
       "    'd = a[-2:]\\n',\n",
       "    'print(d)\\n',\n",
       "    '\\n',\n",
       "    'e = a[2:2]\\n',\n",
       "    'print(e)\\n',\n",
       "    '\\n',\n",
       "    'a[3] = 5\\n',\n",
       "    'print(a)']},\n",
       "  {'cell_type': 'markdown', 'metadata': {}, 'source': ['列表函数']},\n",
       "  {'cell_type': 'code',\n",
       "   'execution_count': 43,\n",
       "   'metadata': {},\n",
       "   'outputs': [{'name': 'stdout',\n",
       "     'output_type': 'stream',\n",
       "     'text': ['4\\n', '5\\n', '1\\n', '[3, 4]\\n']}],\n",
       "   'source': ['print(len(a))\\n',\n",
       "    'print(max(a))\\n',\n",
       "    'print(min(b))\\n',\n",
       "    'print(list((3,4)))']},\n",
       "  {'cell_type': 'markdown', 'metadata': {}, 'source': ['列表方法']},\n",
       "  {'cell_type': 'markdown', 'metadata': {}, 'source': ['扩充列表']},\n",
       "  {'cell_type': 'code',\n",
       "   'execution_count': 53,\n",
       "   'metadata': {},\n",
       "   'outputs': [{'name': 'stdout',\n",
       "     'output_type': 'stream',\n",
       "     'text': ['[1, 1, 1, 1, 2, 2, 2, 4, 3]\\n', '3\\n', 'None\\n']}],\n",
       "   'source': ['a = [1,1,1,1,2,2,2,4]\\n',\n",
       "    'a.append(3)\\n',\n",
       "    'print(a)\\n',\n",
       "    'print(a.count(2))\\n',\n",
       "    '\\n',\n",
       "    'b = [12,12,12]\\n',\n",
       "    'print(a.extend(b))  # 结果不是a 而是操作成功返回的None']},\n",
       "  {'cell_type': 'code',\n",
       "   'execution_count': 54,\n",
       "   'metadata': {'scrolled': True},\n",
       "   'outputs': [{'name': 'stdout',\n",
       "     'output_type': 'stream',\n",
       "     'text': ['[1, 1, 1, 1, 2, 2, 2, 4, 3, 12, 12, 12]\\n']}],\n",
       "   'source': ['print(a)']},\n",
       "  {'cell_type': 'code',\n",
       "   'execution_count': 55,\n",
       "   'metadata': {},\n",
       "   'outputs': [{'data': {'text/plain': ['12']},\n",
       "     'execution_count': 55,\n",
       "     'metadata': {},\n",
       "     'output_type': 'execute_result'}],\n",
       "   'source': ['len(a)']},\n",
       "  {'cell_type': 'code',\n",
       "   'execution_count': 59,\n",
       "   'metadata': {},\n",
       "   'outputs': [{'name': 'stdout',\n",
       "     'output_type': 'stream',\n",
       "     'text': ['[1, 2, 3, 4, 1000]\\n']}],\n",
       "   'source': ['a=[1,2,3,4]\\n', 'a.insert(6,1000)\\n', 'print(a)']},\n",
       "  {'cell_type': 'markdown', 'metadata': {}, 'source': ['查询']},\n",
       "  {'cell_type': 'code',\n",
       "   'execution_count': 61,\n",
       "   'metadata': {},\n",
       "   'outputs': [{'name': 'stdout', 'output_type': 'stream', 'text': ['4\\n']}],\n",
       "   'source': ['a = [1,1,1,1,2,2,2,4]\\n', 'print(a.index(2))']},\n",
       "  {'cell_type': 'markdown', 'metadata': {}, 'source': ['多维列表']},\n",
       "  {'cell_type': 'code',\n",
       "   'execution_count': 65,\n",
       "   'metadata': {},\n",
       "   'outputs': [{'name': 'stdout', 'output_type': 'stream', 'text': ['7\\n']}],\n",
       "   'source': ['a = [4,[5,6,[7]]]\\n', '\\n', 'print(a[1][2][0])']},\n",
       "  {'cell_type': 'code',\n",
       "   'execution_count': 72,\n",
       "   'metadata': {'collapsed': True},\n",
       "   'outputs': [],\n",
       "   'source': ['a={1.0:9,\"tom\":10}']},\n",
       "  {'cell_type': 'code',\n",
       "   'execution_count': 77,\n",
       "   'metadata': {},\n",
       "   'outputs': [{'name': 'stdout',\n",
       "     'output_type': 'stream',\n",
       "     'text': ['[1, 2, 3, 4]\\n']}],\n",
       "   'source': ['a=[1,1,1,1,2,3,4]\\n', 'a=set(a)\\n', 'a=list(a)\\n', 'print(a)']},\n",
       "  {'cell_type': 'code',\n",
       "   'execution_count': 5,\n",
       "   'metadata': {},\n",
       "   'outputs': [{'name': 'stdout',\n",
       "     'output_type': 'stream',\n",
       "     'text': ['1--2--3--4--[1, 2, 3]--else ni mei\\n']}],\n",
       "   'source': ['\\n',\n",
       "    'for i in a:\\n',\n",
       "    '    print(i,end=\"--\")\\n',\n",
       "    'else:\\n',\n",
       "    \"    print('else ni mei')\\n\",\n",
       "    '    \\n',\n",
       "    '# for(int i;i<list.length();i++){\\n',\n",
       "    '#     fprintf(list[i])\\n',\n",
       "    '# }']},\n",
       "  {'cell_type': 'code',\n",
       "   'execution_count': 2,\n",
       "   'metadata': {'collapsed': True},\n",
       "   'outputs': [],\n",
       "   'source': ['a=[1,2,3,4,[1,2,3]]']},\n",
       "  {'cell_type': 'markdown', 'metadata': {}, 'source': ['## 列表推导式']},\n",
       "  {'cell_type': 'markdown',\n",
       "   'metadata': {},\n",
       "   'source': ['想生成一个列表：一万以内3、17、27的公倍数']},\n",
       "  {'cell_type': 'code',\n",
       "   'execution_count': None,\n",
       "   'metadata': {},\n",
       "   'outputs': [],\n",
       "   'source': ['def isprime(n):\\n', '    pass']},\n",
       "  {'cell_type': 'code',\n",
       "   'execution_count': 12,\n",
       "   'metadata': {},\n",
       "   'outputs': [{'name': 'stdout',\n",
       "     'output_type': 'stream',\n",
       "     'text': ['9\\n',\n",
       "      '8\\n',\n",
       "      '7\\n',\n",
       "      '6\\n',\n",
       "      '5\\n',\n",
       "      '4\\n',\n",
       "      '3\\n',\n",
       "      '2\\n',\n",
       "      '1\\n',\n",
       "      '0\\n']}],\n",
       "   'source': ['num = 10\\n', 'while num:\\n', '    num-=1\\n', '    print(num)']},\n",
       "  {'cell_type': 'code',\n",
       "   'execution_count': 11,\n",
       "   'metadata': {},\n",
       "   'outputs': [{'name': 'stdout',\n",
       "     'output_type': 'stream',\n",
       "     'text': ['for else\\n',\n",
       "      '[459, 918, 1377, 1836, 2295, 2754, 3213, 3672, 4131, 4590, 5049, 5508, 5967, 6426, 6885, 7344, 7803, 8262, 8721, 9180, 9639]\\n']}],\n",
       "   'source': ['r = []\\n',\n",
       "    'for i in range(1,10001):\\n',\n",
       "    '    if i%3 == 0 and i%17 == 0 and i%27 == 0:\\n',\n",
       "    '        r.append(i)\\n',\n",
       "    '    else:\\n',\n",
       "    '        pass\\n',\n",
       "    'else:\\n',\n",
       "    '    print(\"for else\")\\n',\n",
       "    'print(r)']},\n",
       "  {'cell_type': 'markdown', 'metadata': {}, 'source': ['可以拍扁上面的过程 变为：']},\n",
       "  {'cell_type': 'code',\n",
       "   'execution_count': 1,\n",
       "   'metadata': {},\n",
       "   'outputs': [{'name': 'stdout',\n",
       "     'output_type': 'stream',\n",
       "     'text': ['[2, 4, 6, 8, 10]\\n']}],\n",
       "   'source': ['res = []\\n',\n",
       "    'for i in range(1,11)if i%2==0:\\n',\n",
       "    '        res.append(i)\\n',\n",
       "    'print(res)']},\n",
       "  {'cell_type': 'code',\n",
       "   'execution_count': None,\n",
       "   'metadata': {},\n",
       "   'outputs': [],\n",
       "   'source': ['[i]']},\n",
       "  {'cell_type': 'code',\n",
       "   'execution_count': 5,\n",
       "   'metadata': {},\n",
       "   'outputs': [{'data': {'text/plain': [\"['d', 'a', 'a', 's', 's', 'd', 'a']\"]},\n",
       "     'execution_count': 5,\n",
       "     'metadata': {},\n",
       "     'output_type': 'execute_result'}],\n",
       "   'source': ['\\n', \"[i for i in 'daassda']\"]},\n",
       "  {'cell_type': 'code',\n",
       "   'execution_count': None,\n",
       "   'metadata': {},\n",
       "   'outputs': [],\n",
       "   'source': ['if ']},\n",
       "  {'cell_type': 'code',\n",
       "   'execution_count': 27,\n",
       "   'metadata': {},\n",
       "   'outputs': [{'name': 'stdout',\n",
       "     'output_type': 'stream',\n",
       "     'text': ['[459, 918, 1377, 1836, 2295, 2754, 3213, 3672, 4131, 4590, 5049, 5508, 5967, 6426, 6885, 7344, 7803, 8262, 8721, 9180, 9639]\\n']}],\n",
       "   'source': ['print(     [i*2 for i in range(1,10001) if i%3 == 0 and i% 17 == 0 and i%27 == 0]      )']},\n",
       "  {'cell_type': 'markdown',\n",
       "   'metadata': {},\n",
       "   'source': ['第一种格式为：  【 输出结果（可以加函数处理）  for 迭代 if 判断选择 】\\n',\n",
       "    '\\n',\n",
       "    '生成一个列表：一百以内6的倍数的三次方']},\n",
       "  {'cell_type': 'code',\n",
       "   'execution_count': 28,\n",
       "   'metadata': {},\n",
       "   'outputs': [{'name': 'stdout',\n",
       "     'output_type': 'stream',\n",
       "     'text': ['[216, 1728, 5832, 13824, 27000, 46656, 74088, 110592, 157464, 216000, 287496, 373248, 474552, 592704, 729000, 884736]\\n']}],\n",
       "   'source': ['print([i**3 for i in range(1,101) if i%6 == 0])']},\n",
       "  {'cell_type': 'markdown', 'metadata': {}, 'source': ['生成一个列表：一百以内6的倍数开根号']},\n",
       "  {'cell_type': 'code',\n",
       "   'execution_count': 29,\n",
       "   'metadata': {},\n",
       "   'outputs': [{'name': 'stdout',\n",
       "     'output_type': 'stream',\n",
       "     'text': ['[2.449489742783178, 3.4641016151377544, 4.242640687119285, 4.898979485566356, 5.477225575051661, 6.0, 6.48074069840786, 6.928203230275509, 7.3484692283495345, 7.745966692414834, 8.12403840463596, 8.48528137423857, 8.831760866327848, 9.16515138991168, 9.486832980505138, 9.797958971132712]\\n']}],\n",
       "   'source': ['import math\\n',\n",
       "    'mysqrt = math.sqrt\\n',\n",
       "    'print([mysqrt(i) for i in range(1,101) if i%6 == 0])']},\n",
       "  {'cell_type': 'markdown',\n",
       "   'metadata': {},\n",
       "   'source': ['第二种格式为： 【 输出结果1 if XXX else 输出结果2 for 迭代 】\\n',\n",
       "    '\\n',\n",
       "    '事实上是因为python的三目运算符格式为  A if XXX else B\\n',\n",
       "    '\\n',\n",
       "    '生成一个列表：十以内偶数开根号 奇数取负值']},\n",
       "  {'cell_type': 'code',\n",
       "   'execution_count': 30,\n",
       "   'metadata': {},\n",
       "   'outputs': [{'name': 'stdout',\n",
       "     'output_type': 'stream',\n",
       "     'text': ['[-1, 1.4142135623730951, -3, 2.0, -5, 2.449489742783178, -7, 2.8284271247461903, -9, 3.1622776601683795]\\n']}],\n",
       "   'source': ['print([mysqrt(i) if i%2 == 0 else -i for i in range(1,11)])']},\n",
       "  {'cell_type': 'markdown',\n",
       "   'metadata': {},\n",
       "   'source': ['第三种格式：二重循环 【输出结果 for i in xxx for j in xxxx】']},\n",
       "  {'cell_type': 'code',\n",
       "   'execution_count': 14,\n",
       "   'metadata': {},\n",
       "   'outputs': [{'name': 'stdout',\n",
       "     'output_type': 'stream',\n",
       "     'text': ['[0, 1, 2, 3, 4, 5, 6, 7, 8, 9, 1, 2, 3, 4, 5, 6, 7, 8, 9, 10, 2, 3, 4, 5, 6, 7, 8, 9, 10, 11, 3, 4, 5, 6, 7, 8, 9, 10, 11, 12, 4, 5, 6, 7, 8, 9, 10, 11, 12, 13, 5, 6, 7, 8, 9, 10, 11, 12, 13, 14, 6, 7, 8, 9, 10, 11, 12, 13, 14, 15, 7, 8, 9, 10, 11, 12, 13, 14, 15, 16, 8, 9, 10, 11, 12, 13, 14, 15, 16, 17, 9, 10, 11, 12, 13, 14, 15, 16, 17, 18]\\n']}],\n",
       "   'source': ['print([i+j for i in range(0,10) for j in range(0,10)])']},\n",
       "  {'cell_type': 'code',\n",
       "   'execution_count': 48,\n",
       "   'metadata': {},\n",
       "   'outputs': [{'name': 'stdout',\n",
       "     'output_type': 'stream',\n",
       "     'text': ['[0, 1, 2, 3, 4, 5, 6, 7, 8, 9, 1, 2, 3, 4, 5, 6, 7, 8, 9, 10, 2, 3, 4, 5, 6, 7, 8, 9, 10, 11, 3, 4, 5, 6, 7, 8, 9, 10, 11, 12, 4, 5, 6, 7, 8, 9, 10, 11, 12, 13, 5, 6, 7, 8, 9, 10, 11, 12, 13, 14, 6, 7, 8, 9, 10, 11, 12, 13, 14, 15, 7, 8, 9, 10, 11, 12, 13, 14, 15, 16, 8, 9, 10, 11, 12, 13, 14, 15, 16, 17, 9, 10, 11, 12, 13, 14, 15, 16, 17, 18]\\n']}],\n",
       "   'source': ['r = []\\n',\n",
       "    'for i in range(0,10):\\n',\n",
       "    '    for j in range(0,10):\\n',\n",
       "    '        r.append(i+j)\\n',\n",
       "    'print(r)']},\n",
       "  {'cell_type': 'markdown', 'metadata': {}, 'source': ['## 挑战 一行代码生成99乘法表']},\n",
       "  {'cell_type': 'markdown', 'metadata': {}, 'source': ['双重循环经典款']},\n",
       "  {'cell_type': 'code',\n",
       "   'execution_count': 55,\n",
       "   'metadata': {'collapsed': True},\n",
       "   'outputs': [],\n",
       "   'source': [\"a = 'jdksjfkdsalf  {}  {}'\"]},\n",
       "  {'cell_type': 'code',\n",
       "   'execution_count': 56,\n",
       "   'metadata': {},\n",
       "   'outputs': [{'name': 'stdout',\n",
       "     'output_type': 'stream',\n",
       "     'text': ['jdksjfkdsalf  zhangyunlei  18\\n']}],\n",
       "   'source': ['print(a.format(\"zhangyunlei\",18))']},\n",
       "  {'cell_type': 'code',\n",
       "   'execution_count': 16,\n",
       "   'metadata': {},\n",
       "   'outputs': [{'data': {'text/plain': [\"'\\\\n1*1=1 \\\\n2*1=2 2*2=4 \\\\n3*1=3 3*2=6 3*3=9 \\\\n4*1=4 4*2=8 4*3=12 4*4=16 \\\\n5*1=5 5*2=10 5*3=15 5*4=20 5*5=25 \\\\n6*1=6 6*2=12 6*3=18 6*4=24 6*5=30 6*6=36 \\\\n7*1=7 7*2=14 7*3=21 7*4=28 7*5=35 7*6=42 7*7=49 \\\\n8*1=8 8*2=16 8*3=24 8*4=32 8*5=40 8*6=48 8*7=56 8*8=64 \\\\n9*1=9 9*2=18 9*3=27 9*4=36 9*5=45 9*6=54 9*7=63 9*8=72 9*9=81 '\"]},\n",
       "     'execution_count': 16,\n",
       "     'metadata': {},\n",
       "     'output_type': 'execute_result'}],\n",
       "   'source': ['result']},\n",
       "  {'cell_type': 'code',\n",
       "   'execution_count': 15,\n",
       "   'metadata': {},\n",
       "   'outputs': [{'name': 'stdout',\n",
       "     'output_type': 'stream',\n",
       "     'text': ['\\n',\n",
       "      '1*1=1 \\n',\n",
       "      '2*1=2 2*2=4 \\n',\n",
       "      '3*1=3 3*2=6 3*3=9 \\n',\n",
       "      '4*1=4 4*2=8 4*3=12 4*4=16 \\n',\n",
       "      '5*1=5 5*2=10 5*3=15 5*4=20 5*5=25 \\n',\n",
       "      '6*1=6 6*2=12 6*3=18 6*4=24 6*5=30 6*6=36 \\n',\n",
       "      '7*1=7 7*2=14 7*3=21 7*4=28 7*5=35 7*6=42 7*7=49 \\n',\n",
       "      '8*1=8 8*2=16 8*3=24 8*4=32 8*5=40 8*6=48 8*7=56 8*8=64 \\n',\n",
       "      '9*1=9 9*2=18 9*3=27 9*4=36 9*5=45 9*6=54 9*7=63 9*8=72 9*9=81 \\n']}],\n",
       "   'source': [\"result = ''\\n\",\n",
       "    'for i in range(1,10):\\n',\n",
       "    \"    result = result+'\\\\n'\\n\",\n",
       "    '    for j in range(1,10):\\n',\n",
       "    '        if j<=i:\\n',\n",
       "    '            col = \"{}*{}={} \".format(i,j,i*j)\\n',\n",
       "    '            result += col\\n',\n",
       "    'print(result)']},\n",
       "  {'cell_type': 'code',\n",
       "   'execution_count': 32,\n",
       "   'metadata': {},\n",
       "   'outputs': [{'name': 'stdout',\n",
       "     'output_type': 'stream',\n",
       "     'text': ['1*1=1 \\n',\n",
       "      '2*1=2 2*2=4 \\n',\n",
       "      '3*1=3 3*2=6 3*3=9 \\n',\n",
       "      '4*1=4 4*2=8 4*3=12 4*4=16 \\n',\n",
       "      '5*1=5 5*2=10 5*3=15 5*4=20 5*5=25 \\n',\n",
       "      '6*1=6 6*2=12 6*3=18 6*4=24 6*5=30 6*6=36 \\n',\n",
       "      '7*1=7 7*2=14 7*3=21 7*4=28 7*5=35 7*6=42 7*7=49 \\n',\n",
       "      '8*1=8 8*2=16 8*3=24 8*4=32 8*5=40 8*6=48 8*7=56 8*8=64 \\n',\n",
       "      '9*1=9 9*2=18 9*3=27 9*4=36 9*5=45 9*6=54 9*7=63 9*8=72 9*9=81 \\n',\n",
       "      '\\n']}],\n",
       "   'source': [\"r = ''\\n\",\n",
       "    'for i in range(1,10):\\n',\n",
       "    '    for j in range(1,10):\\n',\n",
       "    '        if j <=i:\\n',\n",
       "    '            col = \"{}*{}={} \".format(i,j,i*j)\\n',\n",
       "    '            r = r+col\\n',\n",
       "    \"    r = r+'\\\\n'\\n\",\n",
       "    'print(r)']},\n",
       "  {'cell_type': 'code',\n",
       "   'execution_count': 14,\n",
       "   'metadata': {},\n",
       "   'outputs': [{'name': 'stdout',\n",
       "     'output_type': 'stream',\n",
       "     'text': ['1 2 3 4 5 6 7 8 9 \\n',\n",
       "      '2 4 6 8 10 12 14 16 18 \\n',\n",
       "      '3 6 9 12 15 18 21 24 27 \\n',\n",
       "      '4 8 12 16 20 24 28 32 36 \\n',\n",
       "      '5 10 15 20 25 30 35 40 45 \\n',\n",
       "      '6 12 18 24 30 36 42 48 54 \\n',\n",
       "      '7 14 21 28 35 42 49 56 63 \\n',\n",
       "      '8 16 24 32 40 48 56 64 72 \\n',\n",
       "      '9 18 27 36 45 54 63 72 81 \\n',\n",
       "      '\\n']}],\n",
       "   'source': [\"result = ''\\n\",\n",
       "    'for i in range(1,10): \\n',\n",
       "    '    for j in range(1,10):\\n',\n",
       "    '        result += str(i*j)\\n',\n",
       "    \"        result += ' '\\n\",\n",
       "    \"    result += '\\\\n'\\n\",\n",
       "    '\\n',\n",
       "    '# [i*j for i in range(1,3) for j in range(1,4)]\\n',\n",
       "    'print(result)']},\n",
       "  {'cell_type': 'code',\n",
       "   'execution_count': 3,\n",
       "   'metadata': {},\n",
       "   'outputs': [{'name': 'stdout',\n",
       "     'output_type': 'stream',\n",
       "     'text': ['1*1=1 \\n',\n",
       "      '2*1=2 2*2=4 \\n',\n",
       "      '3*1=3 3*2=6 3*3=9 \\n',\n",
       "      '4*1=4 4*2=8 4*3=12 4*4=16 \\n',\n",
       "      '5*1=5 5*2=10 5*3=15 5*4=20 5*5=25 \\n',\n",
       "      '6*1=6 6*2=12 6*3=18 6*4=24 6*5=30 6*6=36 \\n',\n",
       "      '7*1=7 7*2=14 7*3=21 7*4=28 7*5=35 7*6=42 7*7=49 \\n',\n",
       "      '8*1=8 8*2=16 8*3=24 8*4=32 8*5=40 8*6=48 8*7=56 8*8=64 \\n',\n",
       "      '9*1=9 9*2=18 9*3=27 9*4=36 9*5=45 9*6=54 9*7=63 9*8=72 9*9=81 \\n',\n",
       "      '\\n']}],\n",
       "   'source': [\"result = ''\\n\",\n",
       "    'for i in range(1,10): \\n',\n",
       "    '    for j in range(1,i+1):\\n',\n",
       "    \"        result += '{}*{}={}'.format(i,j,i*j)\\n\",\n",
       "    \"        result += ' '\\n\",\n",
       "    \"    result += '\\\\n'\\n\",\n",
       "    'print(result)']},\n",
       "  {'cell_type': 'markdown', 'metadata': {}, 'source': ['单行推导式款']},\n",
       "  {'cell_type': 'code',\n",
       "   'execution_count': 33,\n",
       "   'metadata': {},\n",
       "   'outputs': [{'name': 'stdout',\n",
       "     'output_type': 'stream',\n",
       "     'text': ['1*1=1\\n',\n",
       "      '2*1=2 2*2=4\\n',\n",
       "      '3*1=3 3*2=6 3*3=9\\n',\n",
       "      '4*1=4 4*2=8 4*3=12 4*4=16\\n',\n",
       "      '5*1=5 5*2=10 5*3=15 5*4=20 5*5=25\\n',\n",
       "      '6*1=6 6*2=12 6*3=18 6*4=24 6*5=30 6*6=36\\n',\n",
       "      '7*1=7 7*2=14 7*3=21 7*4=28 7*5=35 7*6=42 7*7=49\\n',\n",
       "      '8*1=8 8*2=16 8*3=24 8*4=32 8*5=40 8*6=48 8*7=56 8*8=64\\n',\n",
       "      '9*1=9 9*2=18 9*3=27 9*4=36 9*5=45 9*6=54 9*7=63 9*8=72 9*9=81\\n']}],\n",
       "   'source': [\"print(     '\\\\n'.join([  ' '.join(['{}*{}={}'.format(x,y,x*y) for y in range(1,x+1)])    for x in range(1,10)])     )\"]},\n",
       "  {'cell_type': 'code',\n",
       "   'execution_count': 6,\n",
       "   'metadata': {},\n",
       "   'outputs': [{'name': 'stdout',\n",
       "     'output_type': 'stream',\n",
       "     'text': ['                                                            \\n',\n",
       "      '                                                            \\n',\n",
       "      '                                                            \\n',\n",
       "      '                000000000           000000000               \\n',\n",
       "      '            00000000000000000   00000000000000000           \\n',\n",
       "      '          00000000000000000000000000000000000000000         \\n',\n",
       "      '         0000000000000000000000000000000000000000000        \\n',\n",
       "      '        000000000000000000000000000000000000000000000       \\n',\n",
       "      '        000000000000000000000000000000000000000000000       \\n',\n",
       "      '        000000000000000000000000000000000000000000000       \\n',\n",
       "      '        000000000000000000000000000000000000000000000       \\n',\n",
       "      '        000000000000000000000000000000000000000000000       \\n',\n",
       "      '        000000000000000000000000000000000000000000000       \\n',\n",
       "      '         0000000000000000000000000000000000000000000        \\n',\n",
       "      '          00000000000000000000000000000000000000000         \\n',\n",
       "      '          00000000000000000000000000000000000000000         \\n',\n",
       "      '            0000000000000000000000000000000000000           \\n',\n",
       "      '             00000000000000000000000000000000000            \\n',\n",
       "      '              000000000000000000000000000000000             \\n',\n",
       "      '                00000000000000000000000000000               \\n',\n",
       "      '                  0000000000000000000000000                 \\n',\n",
       "      '                    000000000000000000000                   \\n',\n",
       "      '                       000000000000000                      \\n',\n",
       "      '                          000000000                         \\n',\n",
       "      '                             000                            \\n',\n",
       "      '                              0                             \\n',\n",
       "      '                                                            \\n',\n",
       "      '                                                            \\n',\n",
       "      '                                                            \\n',\n",
       "      '                                                            \\n']}],\n",
       "   'source': [\"print('\\\\n'.join([''.join([('00000000'[(x-y)%8]if((x*0.05)**2+(y*0.1)**2-1)**3-(x*0.05)**2*(y*0.1)**3<=0 else' ')for x in range(-30,30)])for y in range(15,-15,-1)]))\"]},\n",
       "  {'cell_type': 'code',\n",
       "   'execution_count': 35,\n",
       "   'metadata': {},\n",
       "   'outputs': [{'name': 'stdout',\n",
       "     'output_type': 'stream',\n",
       "     'text': ['1366\\n']}],\n",
       "   'source': ['print(sum(map(int, str(2**1000))))']},\n",
       "  {'cell_type': 'code',\n",
       "   'execution_count': 8,\n",
       "   'metadata': {},\n",
       "   'outputs': [{'name': 'stdout',\n",
       "     'output_type': 'stream',\n",
       "     'text': ['[1, 8, 27, 91125]\\n']}],\n",
       "   'source': ['def foo(x):\\n',\n",
       "    '    return x**3\\n',\n",
       "    '\\n',\n",
       "    '\\n',\n",
       "    'a=[1,2,3,45]\\n',\n",
       "    'print(list(map(foo,a)))']},\n",
       "  {'cell_type': 'code',\n",
       "   'execution_count': 17,\n",
       "   'metadata': {},\n",
       "   'outputs': [],\n",
       "   'source': ['def foo():\\n', '    return 0']},\n",
       "  {'cell_type': 'code',\n",
       "   'execution_count': 18,\n",
       "   'metadata': {},\n",
       "   'outputs': [{'data': {'text/plain': ['0']},\n",
       "     'execution_count': 18,\n",
       "     'metadata': {},\n",
       "     'output_type': 'execute_result'}],\n",
       "   'source': ['foo()']},\n",
       "  {'cell_type': 'markdown', 'metadata': {}, 'source': ['# 总结']},\n",
       "  {'cell_type': 'markdown',\n",
       "   'metadata': {},\n",
       "   'source': ['## 算法\\n',\n",
       "    '\\n',\n",
       "    '1. 控制流\\n',\n",
       "    '\\n',\n",
       "    '    if else条件分支 \\n',\n",
       "    '    \\n',\n",
       "    '    for循环 \\n',\n",
       "    '    \\n',\n",
       "    '    def函数 \\n',\n",
       "    '    \\n',\n",
       "    '    \\n',\n",
       "    '2. 变量作用域 全局局部\\n',\n",
       "    '\\n',\n",
       "    '## 数据结构\\n',\n",
       "    '\\n',\n",
       "    '1. 原子结构\\n',\n",
       "    '\\n',\n",
       "    '    数字（无限精度int float complex）\\n',\n",
       "    '\\n',\n",
       "    '    字符串（类似容器）\\n',\n",
       "    '    \\n',\n",
       "    '        格式化\\n',\n",
       "    '        \\n',\n",
       "    '        join split\\n',\n",
       "    '\\n',\n",
       "    '2. 容器\\n',\n",
       "    '\\n',\n",
       "    '    list **增**append **删**remove、pop **改**list[]索引符 **查**index、切片[start:end:step]、加法、乘法\\n',\n",
       "    '    \\n',\n",
       "    '    set 去重\\n',\n",
       "    '    \\n',\n",
       "    '    tuple 没有改\\n',\n",
       "    '    \\n',\n",
       "    '    dict  **查** dict.keys()  dict.values() \\n',\n",
       "    '    \\n',\n",
       "    '    字符串 类似list\\n',\n",
       "    '    \\n',\n",
       "    '    容器之间的强制转换  list(xxx)  set(xxx)  dict(xxx) tuple(xxx) \\n',\n",
       "    '    \\n',\n",
       "    '    \\n',\n",
       "    '3. 可变对象 不可变对象 python与其说是变量 不如说只是别名\\n',\n",
       "    '\\n',\n",
       "    '## 算法+数据结构\\n',\n",
       "    '\\n',\n",
       "    '列表推导式（其他的容器推导式类似）\\n',\n",
       "    '\\n',\n",
       "    '    三大功能：\\n',\n",
       "    '    \\n',\n",
       "    '    产生列表（由中括号完成） \\n',\n",
       "    '    \\n',\n",
       "    '    迭代容器（for in循环完成） \\n',\n",
       "    '    \\n',\n",
       "    '    简单处理（判断或其他处理语句完成）\\n',\n",
       "    '    \\n']}],\n",
       " 'metadata': {'kernelspec': {'display_name': 'Python 3',\n",
       "   'language': 'python',\n",
       "   'name': 'python3'},\n",
       "  'language_info': {'codemirror_mode': {'name': 'ipython', 'version': 3},\n",
       "   'file_extension': '.py',\n",
       "   'mimetype': 'text/x-python',\n",
       "   'name': 'python',\n",
       "   'nbconvert_exporter': 'python',\n",
       "   'pygments_lexer': 'ipython3',\n",
       "   'version': '3.8.3'},\n",
       "  'toc': {'base_numbering': 1,\n",
       "   'nav_menu': {'height': '86px', 'width': '182px'},\n",
       "   'number_sections': True,\n",
       "   'sideBar': True,\n",
       "   'skip_h1_title': False,\n",
       "   'title_cell': 'Table of Contents',\n",
       "   'title_sidebar': 'Contents',\n",
       "   'toc_cell': False,\n",
       "   'toc_position': {'height': 'calc(100% - 180px)',\n",
       "    'left': '10px',\n",
       "    'top': '150px',\n",
       "    'width': '273.188px'},\n",
       "   'toc_section_display': True,\n",
       "   'toc_window_display': True},\n",
       "  'varInspector': {'cols': {'lenName': 16, 'lenType': 16, 'lenVar': 40},\n",
       "   'kernels_config': {'python': {'delete_cmd_postfix': '',\n",
       "     'delete_cmd_prefix': 'del ',\n",
       "     'library': 'var_list.py',\n",
       "     'varRefreshCmd': 'print(var_dic_list())'},\n",
       "    'r': {'delete_cmd_postfix': ') ',\n",
       "     'delete_cmd_prefix': 'rm(',\n",
       "     'library': 'var_list.r',\n",
       "     'varRefreshCmd': 'cat(var_dic_list()) '}},\n",
       "   'position': {'height': '321.85px',\n",
       "    'left': '1002px',\n",
       "    'right': '20px',\n",
       "    'top': '120px',\n",
       "    'width': '344px'},\n",
       "   'types_to_exclude': ['module',\n",
       "    'function',\n",
       "    'builtin_function_or_method',\n",
       "    'instance',\n",
       "    '_Feature'],\n",
       "   'window_display': False}},\n",
       " 'nbformat': 4,\n",
       " 'nbformat_minor': 2}"
      ]
     },
     "execution_count": 24,
     "metadata": {},
     "output_type": "execute_result"
    }
   ],
   "source": [
    "import json\n",
    "with open('L1_python初级数据结构.ipynb',encoding='UTF-8') as fp:\n",
    "    cont = json.load(fp)\n",
    "\n",
    "cont"
   ]
  },
  {
   "cell_type": "code",
   "execution_count": 26,
   "metadata": {},
   "outputs": [
    {
     "data": {
      "text/plain": [
       "dict_keys(['cells', 'metadata', 'nbformat', 'nbformat_minor'])"
      ]
     },
     "execution_count": 26,
     "metadata": {},
     "output_type": "execute_result"
    }
   ],
   "source": [
    "cont.keys()"
   ]
  },
  {
   "cell_type": "code",
   "execution_count": 28,
   "metadata": {},
   "outputs": [
    {
     "data": {
      "text/plain": [
       "210"
      ]
     },
     "execution_count": 28,
     "metadata": {},
     "output_type": "execute_result"
    }
   ],
   "source": [
    "len(cont['cells'])"
   ]
  },
  {
   "cell_type": "code",
   "execution_count": 29,
   "metadata": {},
   "outputs": [
    {
     "data": {
      "text/plain": [
       "{'kernelspec': {'display_name': 'Python 3',\n",
       "  'language': 'python',\n",
       "  'name': 'python3'},\n",
       " 'language_info': {'codemirror_mode': {'name': 'ipython', 'version': 3},\n",
       "  'file_extension': '.py',\n",
       "  'mimetype': 'text/x-python',\n",
       "  'name': 'python',\n",
       "  'nbconvert_exporter': 'python',\n",
       "  'pygments_lexer': 'ipython3',\n",
       "  'version': '3.6.10'},\n",
       " 'toc': {'base_numbering': 1,\n",
       "  'nav_menu': {'height': '86px', 'width': '182px'},\n",
       "  'number_sections': True,\n",
       "  'sideBar': True,\n",
       "  'skip_h1_title': False,\n",
       "  'title_cell': 'Table of Contents',\n",
       "  'title_sidebar': 'Contents',\n",
       "  'toc_cell': False,\n",
       "  'toc_position': {'height': 'calc(100% - 180px)',\n",
       "   'left': '10px',\n",
       "   'top': '150px',\n",
       "   'width': '273.188px'},\n",
       "  'toc_section_display': True,\n",
       "  'toc_window_display': True},\n",
       " 'varInspector': {'cols': {'lenName': 16, 'lenType': 16, 'lenVar': 40},\n",
       "  'kernels_config': {'python': {'delete_cmd_postfix': '',\n",
       "    'delete_cmd_prefix': 'del ',\n",
       "    'library': 'var_list.py',\n",
       "    'varRefreshCmd': 'print(var_dic_list())'},\n",
       "   'r': {'delete_cmd_postfix': ') ',\n",
       "    'delete_cmd_prefix': 'rm(',\n",
       "    'library': 'var_list.r',\n",
       "    'varRefreshCmd': 'cat(var_dic_list()) '}},\n",
       "  'position': {'height': '321.85px',\n",
       "   'left': '1002px',\n",
       "   'right': '20px',\n",
       "   'top': '120px',\n",
       "   'width': '344px'},\n",
       "  'types_to_exclude': ['module',\n",
       "   'function',\n",
       "   'builtin_function_or_method',\n",
       "   'instance',\n",
       "   '_Feature'],\n",
       "  'window_display': False}}"
      ]
     },
     "execution_count": 29,
     "metadata": {},
     "output_type": "execute_result"
    }
   ],
   "source": [
    "cont['metadata']"
   ]
  },
  {
   "cell_type": "code",
   "execution_count": 30,
   "metadata": {},
   "outputs": [
    {
     "data": {
      "text/plain": [
       "4"
      ]
     },
     "execution_count": 30,
     "metadata": {},
     "output_type": "execute_result"
    }
   ],
   "source": [
    "cont['nbformat']"
   ]
  },
  {
   "cell_type": "code",
   "execution_count": null,
   "metadata": {},
   "outputs": [],
   "source": [
    "with open('L1_python初级数据结构.ipynb',encoding='UTF-8') as fp:\n",
    "    json.dump(cont)"
   ]
  },
  {
   "cell_type": "markdown",
   "metadata": {},
   "source": [
    "### contexlib和closing 装饰器"
   ]
  },
  {
   "cell_type": "markdown",
   "metadata": {},
   "source": [
    "## 7. 可哈希协议 "
   ]
  },
  {
   "cell_type": "markdown",
   "metadata": {},
   "source": [
    "__hash__ 和 __eq__"
   ]
  },
  {
   "cell_type": "code",
   "execution_count": 1,
   "metadata": {},
   "outputs": [],
   "source": [
    "class VisitRecord:\n",
    "    \"\"\"旅游记录\n",
    "    \"\"\"\n",
    "    def __init__(self, first_name, last_name, phone_number, date_visited):\n",
    "        self.first_name = first_name\n",
    "        self.last_name = last_name\n",
    "        self.phone_number = phone_number\n",
    "        self.date_visited = date_visited\n",
    "\n",
    "    def __hash__(self):\n",
    "        return hash(\n",
    "            (self.first_name, self.last_name, self.phone_number)\n",
    "        )\n",
    "    def __eq__(self, other):\n",
    "        # 当两条访问记录的名字与电话号相等时，判定二者相等。\n",
    "        if isinstance(other, VisitRecord) and hash(other) == hash(self):\n",
    "            return True\n",
    "        return False"
   ]
  },
  {
   "cell_type": "markdown",
   "metadata": {},
   "source": []
  }
 ],
 "metadata": {
  "kernelspec": {
   "display_name": "Python 3",
   "language": "python",
   "name": "python3"
  },
  "language_info": {
   "codemirror_mode": {
    "name": "ipython",
    "version": 3
   },
   "file_extension": ".py",
   "mimetype": "text/x-python",
   "name": "python",
   "nbconvert_exporter": "python",
   "pygments_lexer": "ipython3",
   "version": "3.8.3"
  },
  "toc": {
   "base_numbering": 1,
   "nav_menu": {},
   "number_sections": true,
   "sideBar": true,
   "skip_h1_title": false,
   "title_cell": "Table of Contents",
   "title_sidebar": "Contents",
   "toc_cell": false,
   "toc_position": {},
   "toc_section_display": true,
   "toc_window_display": true
  },
  "varInspector": {
   "cols": {
    "lenName": 16,
    "lenType": 16,
    "lenVar": 40
   },
   "kernels_config": {
    "python": {
     "delete_cmd_postfix": "",
     "delete_cmd_prefix": "del ",
     "library": "var_list.py",
     "varRefreshCmd": "print(var_dic_list())"
    },
    "r": {
     "delete_cmd_postfix": ") ",
     "delete_cmd_prefix": "rm(",
     "library": "var_list.r",
     "varRefreshCmd": "cat(var_dic_list()) "
    }
   },
   "types_to_exclude": [
    "module",
    "function",
    "builtin_function_or_method",
    "instance",
    "_Feature"
   ],
   "window_display": false
  }
 },
 "nbformat": 4,
 "nbformat_minor": 1
}
